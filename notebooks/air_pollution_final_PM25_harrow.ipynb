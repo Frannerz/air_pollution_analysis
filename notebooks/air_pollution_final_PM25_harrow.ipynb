{
 "cells": [
  {
   "cell_type": "code",
   "execution_count": 1,
   "id": "28bf666f-d39d-40c8-a947-e087f3255604",
   "metadata": {},
   "outputs": [],
   "source": [
    "import pandas as pd\n",
    "import numpy as np\n",
    "import matplotlib.pyplot as plt"
   ]
  },
  {
   "cell_type": "code",
   "execution_count": 2,
   "id": "777d32f0-3809-4b9a-8202-cc048c6f88e9",
   "metadata": {},
   "outputs": [
    {
     "data": {
      "text/html": [
       "<div>\n",
       "<style scoped>\n",
       "    .dataframe tbody tr th:only-of-type {\n",
       "        vertical-align: middle;\n",
       "    }\n",
       "\n",
       "    .dataframe tbody tr th {\n",
       "        vertical-align: top;\n",
       "    }\n",
       "\n",
       "    .dataframe thead th {\n",
       "        text-align: right;\n",
       "    }\n",
       "</style>\n",
       "<table border=\"1\" class=\"dataframe\">\n",
       "  <thead>\n",
       "    <tr style=\"text-align: right;\">\n",
       "      <th></th>\n",
       "      <th>Scenario</th>\n",
       "      <th>Year</th>\n",
       "      <th>Disease</th>\n",
       "      <th>AgeGroup</th>\n",
       "      <th>Hospitalisations Avoided</th>\n",
       "      <th>95% CL</th>\n",
       "    </tr>\n",
       "  </thead>\n",
       "  <tbody>\n",
       "    <tr>\n",
       "      <th>0</th>\n",
       "      <td>1</td>\n",
       "      <td>2016</td>\n",
       "      <td>childhood asthma</td>\n",
       "      <td>0-5</td>\n",
       "      <td>-0.010039</td>\n",
       "      <td>0.063490</td>\n",
       "    </tr>\n",
       "    <tr>\n",
       "      <th>1</th>\n",
       "      <td>1</td>\n",
       "      <td>2016</td>\n",
       "      <td>childhood asthma</td>\n",
       "      <td>06-17</td>\n",
       "      <td>0.080552</td>\n",
       "      <td>0.148169</td>\n",
       "    </tr>\n",
       "    <tr>\n",
       "      <th>2</th>\n",
       "      <td>1</td>\n",
       "      <td>2016</td>\n",
       "      <td>childhood asthma</td>\n",
       "      <td>18-64</td>\n",
       "      <td>0.673188</td>\n",
       "      <td>0.401905</td>\n",
       "    </tr>\n",
       "    <tr>\n",
       "      <th>3</th>\n",
       "      <td>1</td>\n",
       "      <td>2016</td>\n",
       "      <td>childhood asthma</td>\n",
       "      <td>65+</td>\n",
       "      <td>0.156875</td>\n",
       "      <td>0.159396</td>\n",
       "    </tr>\n",
       "    <tr>\n",
       "      <th>4</th>\n",
       "      <td>1</td>\n",
       "      <td>2016</td>\n",
       "      <td>childhood asthma</td>\n",
       "      <td>total</td>\n",
       "      <td>0.900577</td>\n",
       "      <td>0.461432</td>\n",
       "    </tr>\n",
       "  </tbody>\n",
       "</table>\n",
       "</div>"
      ],
      "text/plain": [
       "   Scenario  Year           Disease AgeGroup  Hospitalisations Avoided  \\\n",
       "0         1  2016  childhood asthma      0-5                 -0.010039   \n",
       "1         1  2016  childhood asthma    06-17                  0.080552   \n",
       "2         1  2016  childhood asthma    18-64                  0.673188   \n",
       "3         1  2016  childhood asthma      65+                  0.156875   \n",
       "4         1  2016  childhood asthma    total                  0.900577   \n",
       "\n",
       "     95% CL  \n",
       "0  0.063490  \n",
       "1  0.148169  \n",
       "2  0.401905  \n",
       "3  0.159396  \n",
       "4  0.461432  "
      ]
     },
     "execution_count": 2,
     "metadata": {},
     "output_type": "execute_result"
    }
   ],
   "source": [
    "air_pollution_hammer = pd.read_excel('../data_unclean/PM25/hammersmith-and-fulham-pm25-xlsm-48.xls',\n",
    "                                     sheet_name = 'Hospitalisations Avoided')\n",
    "air_pollution_hammer.head(5)"
   ]
  },
  {
   "cell_type": "markdown",
   "id": "03675e9f-af60-483e-bf34-47a930ec8137",
   "metadata": {},
   "source": [
    "# Data Cleaning for Hammersmith and Fulham"
   ]
  },
  {
   "cell_type": "code",
   "execution_count": 3,
   "id": "8c547f09-2c0a-4479-9cb7-bddc5710ca79",
   "metadata": {},
   "outputs": [
    {
     "data": {
      "text/html": [
       "<div>\n",
       "<style scoped>\n",
       "    .dataframe tbody tr th:only-of-type {\n",
       "        vertical-align: middle;\n",
       "    }\n",
       "\n",
       "    .dataframe tbody tr th {\n",
       "        vertical-align: top;\n",
       "    }\n",
       "\n",
       "    .dataframe thead th {\n",
       "        text-align: right;\n",
       "    }\n",
       "</style>\n",
       "<table border=\"1\" class=\"dataframe\">\n",
       "  <thead>\n",
       "    <tr style=\"text-align: right;\">\n",
       "      <th></th>\n",
       "      <th>Year</th>\n",
       "      <th>Disease</th>\n",
       "      <th>AgeGroup</th>\n",
       "      <th>Hospitalisations Avoided</th>\n",
       "      <th>95% CL</th>\n",
       "    </tr>\n",
       "  </thead>\n",
       "  <tbody>\n",
       "    <tr>\n",
       "      <th>0</th>\n",
       "      <td>2016</td>\n",
       "      <td>childhood asthma</td>\n",
       "      <td>0-5</td>\n",
       "      <td>-0.010039</td>\n",
       "      <td>0.063490</td>\n",
       "    </tr>\n",
       "    <tr>\n",
       "      <th>1</th>\n",
       "      <td>2016</td>\n",
       "      <td>childhood asthma</td>\n",
       "      <td>06-17</td>\n",
       "      <td>0.080552</td>\n",
       "      <td>0.148169</td>\n",
       "    </tr>\n",
       "    <tr>\n",
       "      <th>2</th>\n",
       "      <td>2016</td>\n",
       "      <td>childhood asthma</td>\n",
       "      <td>18-64</td>\n",
       "      <td>0.673188</td>\n",
       "      <td>0.401905</td>\n",
       "    </tr>\n",
       "    <tr>\n",
       "      <th>3</th>\n",
       "      <td>2016</td>\n",
       "      <td>childhood asthma</td>\n",
       "      <td>65+</td>\n",
       "      <td>0.156875</td>\n",
       "      <td>0.159396</td>\n",
       "    </tr>\n",
       "    <tr>\n",
       "      <th>4</th>\n",
       "      <td>2016</td>\n",
       "      <td>childhood asthma</td>\n",
       "      <td>total</td>\n",
       "      <td>0.900577</td>\n",
       "      <td>0.461432</td>\n",
       "    </tr>\n",
       "  </tbody>\n",
       "</table>\n",
       "</div>"
      ],
      "text/plain": [
       "   Year           Disease AgeGroup  Hospitalisations Avoided    95% CL\n",
       "0  2016  childhood asthma      0-5                 -0.010039  0.063490\n",
       "1  2016  childhood asthma    06-17                  0.080552  0.148169\n",
       "2  2016  childhood asthma    18-64                  0.673188  0.401905\n",
       "3  2016  childhood asthma      65+                  0.156875  0.159396\n",
       "4  2016  childhood asthma    total                  0.900577  0.461432"
      ]
     },
     "execution_count": 3,
     "metadata": {},
     "output_type": "execute_result"
    }
   ],
   "source": [
    "air_pollution_hammer.drop(columns=['Scenario'], inplace=True)\n",
    "air_pollution_hammer.head(5)"
   ]
  },
  {
   "cell_type": "code",
   "execution_count": 4,
   "id": "6a484f63-34d5-4e4a-a302-6b97351628df",
   "metadata": {},
   "outputs": [
    {
     "data": {
      "text/html": [
       "<div>\n",
       "<style scoped>\n",
       "    .dataframe tbody tr th:only-of-type {\n",
       "        vertical-align: middle;\n",
       "    }\n",
       "\n",
       "    .dataframe tbody tr th {\n",
       "        vertical-align: top;\n",
       "    }\n",
       "\n",
       "    .dataframe thead th {\n",
       "        text-align: right;\n",
       "    }\n",
       "</style>\n",
       "<table border=\"1\" class=\"dataframe\">\n",
       "  <thead>\n",
       "    <tr style=\"text-align: right;\">\n",
       "      <th></th>\n",
       "      <th>Year</th>\n",
       "      <th>Disease</th>\n",
       "      <th>AgeGroup</th>\n",
       "      <th>Hospitalisations Avoided</th>\n",
       "      <th>95% CL</th>\n",
       "    </tr>\n",
       "  </thead>\n",
       "  <tbody>\n",
       "    <tr>\n",
       "      <th>0</th>\n",
       "      <td>2016</td>\n",
       "      <td>childhood asthma</td>\n",
       "      <td>0-5</td>\n",
       "      <td>-0.010039</td>\n",
       "      <td>0.063490</td>\n",
       "    </tr>\n",
       "    <tr>\n",
       "      <th>1</th>\n",
       "      <td>2016</td>\n",
       "      <td>childhood asthma</td>\n",
       "      <td>06-17</td>\n",
       "      <td>0.080552</td>\n",
       "      <td>0.148169</td>\n",
       "    </tr>\n",
       "    <tr>\n",
       "      <th>2</th>\n",
       "      <td>2016</td>\n",
       "      <td>childhood asthma</td>\n",
       "      <td>18-64</td>\n",
       "      <td>0.673188</td>\n",
       "      <td>0.401905</td>\n",
       "    </tr>\n",
       "    <tr>\n",
       "      <th>3</th>\n",
       "      <td>2016</td>\n",
       "      <td>childhood asthma</td>\n",
       "      <td>65+</td>\n",
       "      <td>0.156875</td>\n",
       "      <td>0.159396</td>\n",
       "    </tr>\n",
       "    <tr>\n",
       "      <th>4</th>\n",
       "      <td>2016</td>\n",
       "      <td>childhood asthma</td>\n",
       "      <td>total</td>\n",
       "      <td>0.900577</td>\n",
       "      <td>0.461432</td>\n",
       "    </tr>\n",
       "  </tbody>\n",
       "</table>\n",
       "</div>"
      ],
      "text/plain": [
       "   Year           Disease AgeGroup  Hospitalisations Avoided    95% CL\n",
       "0  2016  childhood asthma      0-5                 -0.010039  0.063490\n",
       "1  2016  childhood asthma    06-17                  0.080552  0.148169\n",
       "2  2016  childhood asthma    18-64                  0.673188  0.401905\n",
       "3  2016  childhood asthma      65+                  0.156875  0.159396\n",
       "4  2016  childhood asthma    total                  0.900577  0.461432"
      ]
     },
     "execution_count": 4,
     "metadata": {},
     "output_type": "execute_result"
    }
   ],
   "source": [
    "air_pollution_hammer.fillna(value='???', limit=1, axis=1)\n",
    "air_pollution_hammer.head(5)"
   ]
  },
  {
   "cell_type": "code",
   "execution_count": 5,
   "id": "f10f9674-8372-44f1-98ca-024c0412ae12",
   "metadata": {},
   "outputs": [
    {
     "data": {
      "text/html": [
       "<div>\n",
       "<style scoped>\n",
       "    .dataframe tbody tr th:only-of-type {\n",
       "        vertical-align: middle;\n",
       "    }\n",
       "\n",
       "    .dataframe tbody tr th {\n",
       "        vertical-align: top;\n",
       "    }\n",
       "\n",
       "    .dataframe thead th {\n",
       "        text-align: right;\n",
       "    }\n",
       "</style>\n",
       "<table border=\"1\" class=\"dataframe\">\n",
       "  <thead>\n",
       "    <tr style=\"text-align: right;\">\n",
       "      <th></th>\n",
       "      <th>Year</th>\n",
       "      <th>Disease</th>\n",
       "      <th>AgeGroup</th>\n",
       "      <th>Hospitalisations Avoided</th>\n",
       "      <th>95% CL</th>\n",
       "    </tr>\n",
       "  </thead>\n",
       "  <tbody>\n",
       "    <tr>\n",
       "      <th>0</th>\n",
       "      <td>2016</td>\n",
       "      <td>childhood asthma</td>\n",
       "      <td>0-5</td>\n",
       "      <td>-0.010039</td>\n",
       "      <td>0.063490</td>\n",
       "    </tr>\n",
       "    <tr>\n",
       "      <th>1</th>\n",
       "      <td>2016</td>\n",
       "      <td>childhood asthma</td>\n",
       "      <td>06-17</td>\n",
       "      <td>0.080552</td>\n",
       "      <td>0.148169</td>\n",
       "    </tr>\n",
       "    <tr>\n",
       "      <th>2</th>\n",
       "      <td>2016</td>\n",
       "      <td>childhood asthma</td>\n",
       "      <td>18-64</td>\n",
       "      <td>0.673188</td>\n",
       "      <td>0.401905</td>\n",
       "    </tr>\n",
       "    <tr>\n",
       "      <th>3</th>\n",
       "      <td>2016</td>\n",
       "      <td>childhood asthma</td>\n",
       "      <td>65+</td>\n",
       "      <td>0.156875</td>\n",
       "      <td>0.159396</td>\n",
       "    </tr>\n",
       "    <tr>\n",
       "      <th>4</th>\n",
       "      <td>2016</td>\n",
       "      <td>childhood asthma</td>\n",
       "      <td>total</td>\n",
       "      <td>0.900577</td>\n",
       "      <td>0.461432</td>\n",
       "    </tr>\n",
       "  </tbody>\n",
       "</table>\n",
       "</div>"
      ],
      "text/plain": [
       "   Year           Disease AgeGroup  Hospitalisations Avoided    95% CL\n",
       "0  2016  childhood asthma      0-5                 -0.010039  0.063490\n",
       "1  2016  childhood asthma    06-17                  0.080552  0.148169\n",
       "2  2016  childhood asthma    18-64                  0.673188  0.401905\n",
       "3  2016  childhood asthma      65+                  0.156875  0.159396\n",
       "4  2016  childhood asthma    total                  0.900577  0.461432"
      ]
     },
     "execution_count": 5,
     "metadata": {},
     "output_type": "execute_result"
    }
   ],
   "source": [
    "air_pollution_hammer['Disease'].astype('str')\n",
    "air_pollution_hammer.head(5)"
   ]
  },
  {
   "cell_type": "code",
   "execution_count": 6,
   "id": "7fe6f85e-4040-4e3a-a5d1-7618d759b5b2",
   "metadata": {},
   "outputs": [
    {
     "name": "stderr",
     "output_type": "stream",
     "text": [
      "/var/folders/ww/_8wv3jzj27l9t1190v0wsbyc0000gn/T/ipykernel_51129/3219669392.py:1: FutureWarning: A value is trying to be set on a copy of a DataFrame or Series through chained assignment using an inplace method.\n",
      "The behavior will change in pandas 3.0. This inplace method will never work because the intermediate object on which we are setting values always behaves as a copy.\n",
      "\n",
      "For example, when doing 'df[col].method(value, inplace=True)', try using 'df.method({col: value}, inplace=True)' or df[col] = df[col].method(value) instead, to perform the operation inplace on the original object.\n",
      "\n",
      "\n",
      "  fill_gaps = air_pollution_hammer['Year'].fillna('Not Inclusive', inplace = True)\n"
     ]
    },
    {
     "data": {
      "text/html": [
       "<div>\n",
       "<style scoped>\n",
       "    .dataframe tbody tr th:only-of-type {\n",
       "        vertical-align: middle;\n",
       "    }\n",
       "\n",
       "    .dataframe tbody tr th {\n",
       "        vertical-align: top;\n",
       "    }\n",
       "\n",
       "    .dataframe thead th {\n",
       "        text-align: right;\n",
       "    }\n",
       "</style>\n",
       "<table border=\"1\" class=\"dataframe\">\n",
       "  <thead>\n",
       "    <tr style=\"text-align: right;\">\n",
       "      <th></th>\n",
       "      <th>Year</th>\n",
       "      <th>Disease</th>\n",
       "      <th>AgeGroup</th>\n",
       "      <th>Hospitalisations Avoided</th>\n",
       "      <th>95% CL</th>\n",
       "    </tr>\n",
       "  </thead>\n",
       "  <tbody>\n",
       "    <tr>\n",
       "      <th>0</th>\n",
       "      <td>2016</td>\n",
       "      <td>childhood asthma</td>\n",
       "      <td>0-5</td>\n",
       "      <td>-0.010039</td>\n",
       "      <td>0.063490</td>\n",
       "    </tr>\n",
       "    <tr>\n",
       "      <th>1</th>\n",
       "      <td>2016</td>\n",
       "      <td>childhood asthma</td>\n",
       "      <td>06-17</td>\n",
       "      <td>0.080552</td>\n",
       "      <td>0.148169</td>\n",
       "    </tr>\n",
       "    <tr>\n",
       "      <th>2</th>\n",
       "      <td>2016</td>\n",
       "      <td>childhood asthma</td>\n",
       "      <td>18-64</td>\n",
       "      <td>0.673188</td>\n",
       "      <td>0.401905</td>\n",
       "    </tr>\n",
       "    <tr>\n",
       "      <th>3</th>\n",
       "      <td>2016</td>\n",
       "      <td>childhood asthma</td>\n",
       "      <td>65+</td>\n",
       "      <td>0.156875</td>\n",
       "      <td>0.159396</td>\n",
       "    </tr>\n",
       "    <tr>\n",
       "      <th>4</th>\n",
       "      <td>2016</td>\n",
       "      <td>childhood asthma</td>\n",
       "      <td>total</td>\n",
       "      <td>0.900577</td>\n",
       "      <td>0.461432</td>\n",
       "    </tr>\n",
       "  </tbody>\n",
       "</table>\n",
       "</div>"
      ],
      "text/plain": [
       "   Year           Disease AgeGroup  Hospitalisations Avoided    95% CL\n",
       "0  2016  childhood asthma      0-5                 -0.010039  0.063490\n",
       "1  2016  childhood asthma    06-17                  0.080552  0.148169\n",
       "2  2016  childhood asthma    18-64                  0.673188  0.401905\n",
       "3  2016  childhood asthma      65+                  0.156875  0.159396\n",
       "4  2016  childhood asthma    total                  0.900577  0.461432"
      ]
     },
     "execution_count": 6,
     "metadata": {},
     "output_type": "execute_result"
    }
   ],
   "source": [
    "fill_gaps = air_pollution_hammer['Year'].fillna('Not Inclusive', inplace = True)\n",
    "air_pollution_hammer.head(5)"
   ]
  },
  {
   "cell_type": "code",
   "execution_count": 7,
   "id": "9233c036-b658-457f-979c-aa4346b22f82",
   "metadata": {},
   "outputs": [
    {
     "data": {
      "text/html": [
       "<div>\n",
       "<style scoped>\n",
       "    .dataframe tbody tr th:only-of-type {\n",
       "        vertical-align: middle;\n",
       "    }\n",
       "\n",
       "    .dataframe tbody tr th {\n",
       "        vertical-align: top;\n",
       "    }\n",
       "\n",
       "    .dataframe thead th {\n",
       "        text-align: right;\n",
       "    }\n",
       "</style>\n",
       "<table border=\"1\" class=\"dataframe\">\n",
       "  <thead>\n",
       "    <tr style=\"text-align: right;\">\n",
       "      <th></th>\n",
       "      <th>Year</th>\n",
       "      <th>Disease</th>\n",
       "      <th>AgeGroup</th>\n",
       "      <th>Hospitalisations Avoided</th>\n",
       "      <th>Confidence Level</th>\n",
       "    </tr>\n",
       "  </thead>\n",
       "  <tbody>\n",
       "    <tr>\n",
       "      <th>0</th>\n",
       "      <td>2016</td>\n",
       "      <td>childhood asthma</td>\n",
       "      <td>0-5</td>\n",
       "      <td>-0.010039</td>\n",
       "      <td>0.063490</td>\n",
       "    </tr>\n",
       "    <tr>\n",
       "      <th>1</th>\n",
       "      <td>2016</td>\n",
       "      <td>childhood asthma</td>\n",
       "      <td>06-17</td>\n",
       "      <td>0.080552</td>\n",
       "      <td>0.148169</td>\n",
       "    </tr>\n",
       "    <tr>\n",
       "      <th>2</th>\n",
       "      <td>2016</td>\n",
       "      <td>childhood asthma</td>\n",
       "      <td>18-64</td>\n",
       "      <td>0.673188</td>\n",
       "      <td>0.401905</td>\n",
       "    </tr>\n",
       "    <tr>\n",
       "      <th>3</th>\n",
       "      <td>2016</td>\n",
       "      <td>childhood asthma</td>\n",
       "      <td>65+</td>\n",
       "      <td>0.156875</td>\n",
       "      <td>0.159396</td>\n",
       "    </tr>\n",
       "    <tr>\n",
       "      <th>4</th>\n",
       "      <td>2016</td>\n",
       "      <td>childhood asthma</td>\n",
       "      <td>total</td>\n",
       "      <td>0.900577</td>\n",
       "      <td>0.461432</td>\n",
       "    </tr>\n",
       "  </tbody>\n",
       "</table>\n",
       "</div>"
      ],
      "text/plain": [
       "   Year           Disease AgeGroup  Hospitalisations Avoided  Confidence Level\n",
       "0  2016  childhood asthma      0-5                 -0.010039          0.063490\n",
       "1  2016  childhood asthma    06-17                  0.080552          0.148169\n",
       "2  2016  childhood asthma    18-64                  0.673188          0.401905\n",
       "3  2016  childhood asthma      65+                  0.156875          0.159396\n",
       "4  2016  childhood asthma    total                  0.900577          0.461432"
      ]
     },
     "execution_count": 7,
     "metadata": {},
     "output_type": "execute_result"
    }
   ],
   "source": [
    "air_pollution_hammer = air_pollution_hammer.rename(columns={'95% CL':'Confidence Level'})\n",
    "air_pollution_hammer.head(5)"
   ]
  },
  {
   "cell_type": "code",
   "execution_count": 8,
   "id": "28c71b98-0b8e-4be7-a289-291f8bf8b782",
   "metadata": {},
   "outputs": [
    {
     "data": {
      "text/html": [
       "<div>\n",
       "<style scoped>\n",
       "    .dataframe tbody tr th:only-of-type {\n",
       "        vertical-align: middle;\n",
       "    }\n",
       "\n",
       "    .dataframe tbody tr th {\n",
       "        vertical-align: top;\n",
       "    }\n",
       "\n",
       "    .dataframe thead th {\n",
       "        text-align: right;\n",
       "    }\n",
       "</style>\n",
       "<table border=\"1\" class=\"dataframe\">\n",
       "  <thead>\n",
       "    <tr style=\"text-align: right;\">\n",
       "      <th></th>\n",
       "      <th>Year</th>\n",
       "      <th>Condition</th>\n",
       "      <th>Age</th>\n",
       "      <th>Hospitalisations Avoided</th>\n",
       "      <th>Confidence Level</th>\n",
       "    </tr>\n",
       "  </thead>\n",
       "  <tbody>\n",
       "    <tr>\n",
       "      <th>0</th>\n",
       "      <td>2016</td>\n",
       "      <td>childhood asthma</td>\n",
       "      <td>0-5</td>\n",
       "      <td>-0.010039</td>\n",
       "      <td>0.063490</td>\n",
       "    </tr>\n",
       "    <tr>\n",
       "      <th>1</th>\n",
       "      <td>2016</td>\n",
       "      <td>childhood asthma</td>\n",
       "      <td>06-17</td>\n",
       "      <td>0.080552</td>\n",
       "      <td>0.148169</td>\n",
       "    </tr>\n",
       "    <tr>\n",
       "      <th>2</th>\n",
       "      <td>2016</td>\n",
       "      <td>childhood asthma</td>\n",
       "      <td>18-64</td>\n",
       "      <td>0.673188</td>\n",
       "      <td>0.401905</td>\n",
       "    </tr>\n",
       "    <tr>\n",
       "      <th>3</th>\n",
       "      <td>2016</td>\n",
       "      <td>childhood asthma</td>\n",
       "      <td>65+</td>\n",
       "      <td>0.156875</td>\n",
       "      <td>0.159396</td>\n",
       "    </tr>\n",
       "    <tr>\n",
       "      <th>4</th>\n",
       "      <td>2016</td>\n",
       "      <td>childhood asthma</td>\n",
       "      <td>total</td>\n",
       "      <td>0.900577</td>\n",
       "      <td>0.461432</td>\n",
       "    </tr>\n",
       "  </tbody>\n",
       "</table>\n",
       "</div>"
      ],
      "text/plain": [
       "   Year         Condition    Age  Hospitalisations Avoided  Confidence Level\n",
       "0  2016  childhood asthma    0-5                 -0.010039          0.063490\n",
       "1  2016  childhood asthma  06-17                  0.080552          0.148169\n",
       "2  2016  childhood asthma  18-64                  0.673188          0.401905\n",
       "3  2016  childhood asthma    65+                  0.156875          0.159396\n",
       "4  2016  childhood asthma  total                  0.900577          0.461432"
      ]
     },
     "execution_count": 8,
     "metadata": {},
     "output_type": "execute_result"
    }
   ],
   "source": [
    "total_hospitalisations_hammer = air_pollution_hammer.rename(columns={'Disease': 'Condition', 'AgeGroup': 'Age'})\n",
    "total_hospitalisations_hammer.head(5)"
   ]
  },
  {
   "cell_type": "code",
   "execution_count": 9,
   "id": "96c62dec-a032-431f-898a-9e6f2b157c8c",
   "metadata": {},
   "outputs": [
    {
     "data": {
      "text/plain": [
       "Year                        0\n",
       "Disease                     0\n",
       "AgeGroup                    0\n",
       "Hospitalisations Avoided    0\n",
       "Confidence Level            0\n",
       "dtype: int64"
      ]
     },
     "execution_count": 9,
     "metadata": {},
     "output_type": "execute_result"
    }
   ],
   "source": [
    "missing_values = air_pollution_hammer.isnull().sum()\n",
    "missing_values"
   ]
  },
  {
   "cell_type": "code",
   "execution_count": 10,
   "id": "b6c498e5-cd6e-492d-b3b2-f9f9650b6a34",
   "metadata": {},
   "outputs": [
    {
     "data": {
      "text/plain": [
       "351"
      ]
     },
     "execution_count": 10,
     "metadata": {},
     "output_type": "execute_result"
    }
   ],
   "source": [
    "duplicated_values = air_pollution_hammer.duplicated().sum()\n",
    "duplicated_values "
   ]
  },
  {
   "cell_type": "markdown",
   "id": "4f5865b8-7bc8-4a08-8841-931d1a391a7b",
   "metadata": {},
   "source": [
    "# Filtering and Shaping the Data for Hammersmith and Fulham"
   ]
  },
  {
   "cell_type": "code",
   "execution_count": 11,
   "id": "5db84dec-0fc4-445c-be78-cdfd6c514670",
   "metadata": {},
   "outputs": [
    {
     "data": {
      "text/html": [
       "<div>\n",
       "<style scoped>\n",
       "    .dataframe tbody tr th:only-of-type {\n",
       "        vertical-align: middle;\n",
       "    }\n",
       "\n",
       "    .dataframe tbody tr th {\n",
       "        vertical-align: top;\n",
       "    }\n",
       "\n",
       "    .dataframe thead th {\n",
       "        text-align: right;\n",
       "    }\n",
       "</style>\n",
       "<table border=\"1\" class=\"dataframe\">\n",
       "  <thead>\n",
       "    <tr style=\"text-align: right;\">\n",
       "      <th></th>\n",
       "      <th>Year</th>\n",
       "      <th>Disease</th>\n",
       "      <th>AgeGroup</th>\n",
       "      <th>Hospitalisations Avoided</th>\n",
       "      <th>Confidence Level</th>\n",
       "    </tr>\n",
       "  </thead>\n",
       "  <tbody>\n",
       "    <tr>\n",
       "      <th>0</th>\n",
       "      <td>2016</td>\n",
       "      <td>childhood asthma</td>\n",
       "      <td>0-5</td>\n",
       "      <td>-0.010039</td>\n",
       "      <td>0.063490</td>\n",
       "    </tr>\n",
       "    <tr>\n",
       "      <th>1</th>\n",
       "      <td>2016</td>\n",
       "      <td>childhood asthma</td>\n",
       "      <td>06-17</td>\n",
       "      <td>0.080552</td>\n",
       "      <td>0.148169</td>\n",
       "    </tr>\n",
       "    <tr>\n",
       "      <th>2</th>\n",
       "      <td>2016</td>\n",
       "      <td>childhood asthma</td>\n",
       "      <td>18-64</td>\n",
       "      <td>0.673188</td>\n",
       "      <td>0.401905</td>\n",
       "    </tr>\n",
       "    <tr>\n",
       "      <th>3</th>\n",
       "      <td>2016</td>\n",
       "      <td>childhood asthma</td>\n",
       "      <td>65+</td>\n",
       "      <td>0.156875</td>\n",
       "      <td>0.159396</td>\n",
       "    </tr>\n",
       "    <tr>\n",
       "      <th>4</th>\n",
       "      <td>2016</td>\n",
       "      <td>childhood asthma</td>\n",
       "      <td>total</td>\n",
       "      <td>0.900577</td>\n",
       "      <td>0.461432</td>\n",
       "    </tr>\n",
       "  </tbody>\n",
       "</table>\n",
       "</div>"
      ],
      "text/plain": [
       "   Year           Disease AgeGroup  Hospitalisations Avoided  Confidence Level\n",
       "0  2016  childhood asthma      0-5                 -0.010039          0.063490\n",
       "1  2016  childhood asthma    06-17                  0.080552          0.148169\n",
       "2  2016  childhood asthma    18-64                  0.673188          0.401905\n",
       "3  2016  childhood asthma      65+                  0.156875          0.159396\n",
       "4  2016  childhood asthma    total                  0.900577          0.461432"
      ]
     },
     "execution_count": 11,
     "metadata": {},
     "output_type": "execute_result"
    }
   ],
   "source": [
    "filtered_data_2016_ham = air_pollution_hammer[air_pollution_hammer['Year'] == 2016].iloc[:, :]\n",
    "filtered_data_2016_ham.head(5)"
   ]
  },
  {
   "cell_type": "code",
   "execution_count": 12,
   "id": "8f2d5ba7-897d-4190-bd0d-e59c0e17e046",
   "metadata": {},
   "outputs": [
    {
     "data": {
      "text/html": [
       "<div>\n",
       "<style scoped>\n",
       "    .dataframe tbody tr th:only-of-type {\n",
       "        vertical-align: middle;\n",
       "    }\n",
       "\n",
       "    .dataframe tbody tr th {\n",
       "        vertical-align: top;\n",
       "    }\n",
       "\n",
       "    .dataframe thead th {\n",
       "        text-align: right;\n",
       "    }\n",
       "</style>\n",
       "<table border=\"1\" class=\"dataframe\">\n",
       "  <thead>\n",
       "    <tr style=\"text-align: right;\">\n",
       "      <th></th>\n",
       "      <th>Year</th>\n",
       "      <th>Disease</th>\n",
       "      <th>AgeGroup</th>\n",
       "      <th>Hospitalisations Avoided</th>\n",
       "      <th>Confidence Level</th>\n",
       "    </tr>\n",
       "  </thead>\n",
       "  <tbody>\n",
       "    <tr>\n",
       "      <th>182</th>\n",
       "      <td>2023</td>\n",
       "      <td>childhood asthma</td>\n",
       "      <td>0-5</td>\n",
       "      <td>0.015340</td>\n",
       "      <td>0.062249</td>\n",
       "    </tr>\n",
       "    <tr>\n",
       "      <th>183</th>\n",
       "      <td>2023</td>\n",
       "      <td>childhood asthma</td>\n",
       "      <td>06-17</td>\n",
       "      <td>0.775904</td>\n",
       "      <td>0.142795</td>\n",
       "    </tr>\n",
       "    <tr>\n",
       "      <th>184</th>\n",
       "      <td>2023</td>\n",
       "      <td>childhood asthma</td>\n",
       "      <td>18-64</td>\n",
       "      <td>0.836026</td>\n",
       "      <td>0.380373</td>\n",
       "    </tr>\n",
       "    <tr>\n",
       "      <th>185</th>\n",
       "      <td>2023</td>\n",
       "      <td>childhood asthma</td>\n",
       "      <td>65+</td>\n",
       "      <td>0.116167</td>\n",
       "      <td>0.154984</td>\n",
       "    </tr>\n",
       "    <tr>\n",
       "      <th>186</th>\n",
       "      <td>2023</td>\n",
       "      <td>childhood asthma</td>\n",
       "      <td>total</td>\n",
       "      <td>1.743438</td>\n",
       "      <td>0.439283</td>\n",
       "    </tr>\n",
       "  </tbody>\n",
       "</table>\n",
       "</div>"
      ],
      "text/plain": [
       "     Year           Disease AgeGroup  Hospitalisations Avoided  \\\n",
       "182  2023  childhood asthma      0-5                  0.015340   \n",
       "183  2023  childhood asthma    06-17                  0.775904   \n",
       "184  2023  childhood asthma    18-64                  0.836026   \n",
       "185  2023  childhood asthma      65+                  0.116167   \n",
       "186  2023  childhood asthma    total                  1.743438   \n",
       "\n",
       "     Confidence Level  \n",
       "182          0.062249  \n",
       "183          0.142795  \n",
       "184          0.380373  \n",
       "185          0.154984  \n",
       "186          0.439283  "
      ]
     },
     "execution_count": 12,
     "metadata": {},
     "output_type": "execute_result"
    }
   ],
   "source": [
    "filtered_data_2023_ham = air_pollution_hammer[air_pollution_hammer['Year'] == 2023].iloc[:, :]\n",
    "filtered_data_2023_ham.head(5)"
   ]
  },
  {
   "cell_type": "markdown",
   "id": "2a72ab32-2bf2-44ba-ac81-07333afb02e1",
   "metadata": {},
   "source": [
    "# Descriptive Statistics Hammersmith and Fulham"
   ]
  },
  {
   "cell_type": "code",
   "execution_count": 13,
   "id": "c68b14f9-8384-4aa9-9da5-060081035eab",
   "metadata": {},
   "outputs": [
    {
     "data": {
      "text/plain": [
       "Year                          int64\n",
       "Disease                      object\n",
       "AgeGroup                     object\n",
       "Hospitalisations Avoided    float64\n",
       "Confidence Level            float64\n",
       "dtype: object"
      ]
     },
     "execution_count": 13,
     "metadata": {},
     "output_type": "execute_result"
    }
   ],
   "source": [
    "air_pollution_hammer.dtypes"
   ]
  },
  {
   "cell_type": "code",
   "execution_count": 14,
   "id": "2a0037ea-2565-4d1c-be88-448f03f0eee6",
   "metadata": {},
   "outputs": [
    {
     "data": {
      "text/plain": [
       "AgeGroup\n",
       "total    630\n",
       "0-5      525\n",
       "06-17    525\n",
       "18-64    525\n",
       "65+      525\n",
       "Name: count, dtype: int64"
      ]
     },
     "execution_count": 14,
     "metadata": {},
     "output_type": "execute_result"
    }
   ],
   "source": [
    "air_pollution_hammer.value_counts('AgeGroup')"
   ]
  },
  {
   "cell_type": "code",
   "execution_count": 15,
   "id": "7b5adf7c-6ac6-46c1-aff8-96c308b8bdc3",
   "metadata": {},
   "outputs": [
    {
     "data": {
      "text/plain": [
       "Disease\n",
       "childhood asthma                         525\n",
       "chronic obstructive pulmonary disease    525\n",
       "coronary heart disease                   525\n",
       "lung cancer                              525\n",
       "stroke                                   525\n",
       "total                                    105\n",
       "Name: count, dtype: int64"
      ]
     },
     "execution_count": 15,
     "metadata": {},
     "output_type": "execute_result"
    }
   ],
   "source": [
    "air_pollution_hammer.value_counts('Disease')"
   ]
  },
  {
   "cell_type": "code",
   "execution_count": 16,
   "id": "7bb917dc-6b73-4d1b-8199-b147d84a0a8e",
   "metadata": {},
   "outputs": [
    {
     "data": {
      "text/plain": [
       "Year                                                                  5550090\n",
       "Disease                     childhood asthmachildhood asthmachildhood asth...\n",
       "AgeGroup                    0-506-1718-6465+total0-506-1718-6465+total0-50...\n",
       "Hospitalisations Avoided                                        194802.972161\n",
       "Confidence Level                                                  5659.856297\n",
       "dtype: object"
      ]
     },
     "execution_count": 16,
     "metadata": {},
     "output_type": "execute_result"
    }
   ],
   "source": [
    "air_pollution_hammer.sum()"
   ]
  },
  {
   "cell_type": "code",
   "execution_count": 17,
   "id": "e8366f16-dbf7-483a-abca-d0f4beb58e99",
   "metadata": {},
   "outputs": [
    {
     "data": {
      "text/plain": [
       "count     78.000000\n",
       "mean       9.742850\n",
       "std       40.810683\n",
       "min       -0.550466\n",
       "25%        0.000000\n",
       "50%        0.137988\n",
       "75%        0.945271\n",
       "max      240.996839\n",
       "Name: Hospitalisations Avoided, dtype: float64"
      ]
     },
     "execution_count": 17,
     "metadata": {},
     "output_type": "execute_result"
    }
   ],
   "source": [
    "filtered_data_2016_ham['Hospitalisations Avoided'].describe()"
   ]
  },
  {
   "cell_type": "code",
   "execution_count": 18,
   "id": "e6145019-08ac-4ab5-9fb0-3fb066d24cf0",
   "metadata": {},
   "outputs": [
    {
     "data": {
      "text/plain": [
       "count      78.000000\n",
       "mean       49.870513\n",
       "std       185.917471\n",
       "min        -0.252887\n",
       "25%         0.000122\n",
       "50%         0.793658\n",
       "75%         6.215622\n",
       "max      1094.602257\n",
       "Name: Hospitalisations Avoided, dtype: float64"
      ]
     },
     "execution_count": 18,
     "metadata": {},
     "output_type": "execute_result"
    }
   ],
   "source": [
    "filtered_data_2023_ham['Hospitalisations Avoided'].describe()"
   ]
  },
  {
   "cell_type": "code",
   "execution_count": 19,
   "id": "b91b124b-ae21-4556-8bb0-4ebb2e937ef6",
   "metadata": {},
   "outputs": [
    {
     "data": {
      "text/plain": [
       "0.1379885"
      ]
     },
     "execution_count": 19,
     "metadata": {},
     "output_type": "execute_result"
    }
   ],
   "source": [
    "filtered_data_2016_ham['Hospitalisations Avoided'].median()"
   ]
  },
  {
   "cell_type": "code",
   "execution_count": 20,
   "id": "0f439211-e76c-44f6-b539-8b4fa8c10633",
   "metadata": {},
   "outputs": [
    {
     "data": {
      "text/plain": [
       "0.793658"
      ]
     },
     "execution_count": 20,
     "metadata": {},
     "output_type": "execute_result"
    }
   ],
   "source": [
    "filtered_data_2023_ham['Hospitalisations Avoided'].median()"
   ]
  },
  {
   "cell_type": "markdown",
   "id": "4527450a-1035-4890-b96b-b3182e8c2a73",
   "metadata": {},
   "source": [
    "# Exploratory Analysis Hammersmith and Fulham"
   ]
  },
  {
   "cell_type": "code",
   "execution_count": 21,
   "id": "a6b62c0d-3850-4c70-9df9-8d81d7e81425",
   "metadata": {},
   "outputs": [
    {
     "data": {
      "text/html": [
       "<div>\n",
       "<style scoped>\n",
       "    .dataframe tbody tr th:only-of-type {\n",
       "        vertical-align: middle;\n",
       "    }\n",
       "\n",
       "    .dataframe tbody tr th {\n",
       "        vertical-align: top;\n",
       "    }\n",
       "\n",
       "    .dataframe thead th {\n",
       "        text-align: right;\n",
       "    }\n",
       "</style>\n",
       "<table border=\"1\" class=\"dataframe\">\n",
       "  <thead>\n",
       "    <tr style=\"text-align: right;\">\n",
       "      <th></th>\n",
       "      <th>Year</th>\n",
       "      <th>Disease</th>\n",
       "      <th>AgeGroup</th>\n",
       "      <th>Hospitalisations Avoided</th>\n",
       "      <th>Confidence Level</th>\n",
       "    </tr>\n",
       "  </thead>\n",
       "  <tbody>\n",
       "    <tr>\n",
       "      <th>0</th>\n",
       "      <td>2016</td>\n",
       "      <td>childhood asthma</td>\n",
       "      <td>0-5</td>\n",
       "      <td>-0.010039</td>\n",
       "      <td>0.063490</td>\n",
       "    </tr>\n",
       "    <tr>\n",
       "      <th>1</th>\n",
       "      <td>2016</td>\n",
       "      <td>childhood asthma</td>\n",
       "      <td>06-17</td>\n",
       "      <td>0.080552</td>\n",
       "      <td>0.148169</td>\n",
       "    </tr>\n",
       "    <tr>\n",
       "      <th>2</th>\n",
       "      <td>2016</td>\n",
       "      <td>childhood asthma</td>\n",
       "      <td>18-64</td>\n",
       "      <td>0.673188</td>\n",
       "      <td>0.401905</td>\n",
       "    </tr>\n",
       "    <tr>\n",
       "      <th>3</th>\n",
       "      <td>2016</td>\n",
       "      <td>childhood asthma</td>\n",
       "      <td>65+</td>\n",
       "      <td>0.156875</td>\n",
       "      <td>0.159396</td>\n",
       "    </tr>\n",
       "    <tr>\n",
       "      <th>4</th>\n",
       "      <td>2016</td>\n",
       "      <td>childhood asthma</td>\n",
       "      <td>total</td>\n",
       "      <td>0.900577</td>\n",
       "      <td>0.461432</td>\n",
       "    </tr>\n",
       "  </tbody>\n",
       "</table>\n",
       "</div>"
      ],
      "text/plain": [
       "   Year           Disease AgeGroup  Hospitalisations Avoided  Confidence Level\n",
       "0  2016  childhood asthma      0-5                 -0.010039          0.063490\n",
       "1  2016  childhood asthma    06-17                  0.080552          0.148169\n",
       "2  2016  childhood asthma    18-64                  0.673188          0.401905\n",
       "3  2016  childhood asthma      65+                  0.156875          0.159396\n",
       "4  2016  childhood asthma    total                  0.900577          0.461432"
      ]
     },
     "execution_count": 21,
     "metadata": {},
     "output_type": "execute_result"
    }
   ],
   "source": [
    "air_pollution_hammer.head(5)"
   ]
  },
  {
   "cell_type": "code",
   "execution_count": 22,
   "id": "85d20355-9bad-49f5-82ad-a7ea81d39771",
   "metadata": {},
   "outputs": [
    {
     "name": "stdout",
     "output_type": "stream",
     "text": [
      "<class 'pandas.core.frame.DataFrame'>\n",
      "RangeIndex: 2730 entries, 0 to 2729\n",
      "Data columns (total 5 columns):\n",
      " #   Column                    Non-Null Count  Dtype  \n",
      "---  ------                    --------------  -----  \n",
      " 0   Year                      2730 non-null   int64  \n",
      " 1   Disease                   2730 non-null   object \n",
      " 2   AgeGroup                  2730 non-null   object \n",
      " 3   Hospitalisations Avoided  2730 non-null   float64\n",
      " 4   Confidence Level          2730 non-null   float64\n",
      "dtypes: float64(2), int64(1), object(2)\n",
      "memory usage: 106.8+ KB\n"
     ]
    }
   ],
   "source": [
    "info = air_pollution_hammer.info()\n",
    "info"
   ]
  },
  {
   "cell_type": "code",
   "execution_count": 23,
   "id": "b14cac26-fc84-46f0-881a-43090c4c7eed",
   "metadata": {},
   "outputs": [
    {
     "data": {
      "text/plain": [
       "(2730, 5)"
      ]
     },
     "execution_count": 23,
     "metadata": {},
     "output_type": "execute_result"
    }
   ],
   "source": [
    "air_pollution_hammer.shape"
   ]
  },
  {
   "cell_type": "code",
   "execution_count": 24,
   "id": "7de8a570-4569-48bc-816d-5918b7367017",
   "metadata": {},
   "outputs": [
    {
     "data": {
      "text/html": [
       "<div>\n",
       "<style scoped>\n",
       "    .dataframe tbody tr th:only-of-type {\n",
       "        vertical-align: middle;\n",
       "    }\n",
       "\n",
       "    .dataframe tbody tr th {\n",
       "        vertical-align: top;\n",
       "    }\n",
       "\n",
       "    .dataframe thead th {\n",
       "        text-align: right;\n",
       "    }\n",
       "</style>\n",
       "<table border=\"1\" class=\"dataframe\">\n",
       "  <thead>\n",
       "    <tr style=\"text-align: right;\">\n",
       "      <th></th>\n",
       "      <th>Year</th>\n",
       "      <th>Hospitalisations Avoided</th>\n",
       "      <th>Confidence Level</th>\n",
       "    </tr>\n",
       "  </thead>\n",
       "  <tbody>\n",
       "    <tr>\n",
       "      <th>count</th>\n",
       "      <td>2730.000000</td>\n",
       "      <td>2730.000000</td>\n",
       "      <td>2730.000000</td>\n",
       "    </tr>\n",
       "    <tr>\n",
       "      <th>mean</th>\n",
       "      <td>2033.000000</td>\n",
       "      <td>71.356400</td>\n",
       "      <td>2.073207</td>\n",
       "    </tr>\n",
       "    <tr>\n",
       "      <th>std</th>\n",
       "      <td>10.101355</td>\n",
       "      <td>236.810062</td>\n",
       "      <td>4.162660</td>\n",
       "    </tr>\n",
       "    <tr>\n",
       "      <th>min</th>\n",
       "      <td>2016.000000</td>\n",
       "      <td>-2.284946</td>\n",
       "      <td>0.000000</td>\n",
       "    </tr>\n",
       "    <tr>\n",
       "      <th>25%</th>\n",
       "      <td>2024.000000</td>\n",
       "      <td>0.000000</td>\n",
       "      <td>0.017163</td>\n",
       "    </tr>\n",
       "    <tr>\n",
       "      <th>50%</th>\n",
       "      <td>2033.000000</td>\n",
       "      <td>1.158821</td>\n",
       "      <td>0.227531</td>\n",
       "    </tr>\n",
       "    <tr>\n",
       "      <th>75%</th>\n",
       "      <td>2042.000000</td>\n",
       "      <td>10.838399</td>\n",
       "      <td>0.997740</td>\n",
       "    </tr>\n",
       "    <tr>\n",
       "      <th>max</th>\n",
       "      <td>2050.000000</td>\n",
       "      <td>1637.235341</td>\n",
       "      <td>14.330078</td>\n",
       "    </tr>\n",
       "  </tbody>\n",
       "</table>\n",
       "</div>"
      ],
      "text/plain": [
       "              Year  Hospitalisations Avoided  Confidence Level\n",
       "count  2730.000000               2730.000000       2730.000000\n",
       "mean   2033.000000                 71.356400          2.073207\n",
       "std      10.101355                236.810062          4.162660\n",
       "min    2016.000000                 -2.284946          0.000000\n",
       "25%    2024.000000                  0.000000          0.017163\n",
       "50%    2033.000000                  1.158821          0.227531\n",
       "75%    2042.000000                 10.838399          0.997740\n",
       "max    2050.000000               1637.235341         14.330078"
      ]
     },
     "execution_count": 24,
     "metadata": {},
     "output_type": "execute_result"
    }
   ],
   "source": [
    "air_pollution_hammer.describe()"
   ]
  },
  {
   "cell_type": "code",
   "execution_count": 25,
   "id": "03ad3365-4d1e-4674-80e5-8f5f5143750a",
   "metadata": {},
   "outputs": [
    {
     "data": {
      "text/plain": [
       "<pandas.core.groupby.generic.DataFrameGroupBy object at 0x137143410>"
      ]
     },
     "execution_count": 25,
     "metadata": {},
     "output_type": "execute_result"
    }
   ],
   "source": [
    "grouped_category = air_pollution_hammer.groupby(['Disease',])\n",
    "grouped_category"
   ]
  },
  {
   "cell_type": "code",
   "execution_count": 26,
   "id": "9a670d90-eff6-44d8-8931-339670817d03",
   "metadata": {},
   "outputs": [
    {
     "data": {
      "text/html": [
       "<div>\n",
       "<style scoped>\n",
       "    .dataframe tbody tr th:only-of-type {\n",
       "        vertical-align: middle;\n",
       "    }\n",
       "\n",
       "    .dataframe tbody tr th {\n",
       "        vertical-align: top;\n",
       "    }\n",
       "\n",
       "    .dataframe thead th {\n",
       "        text-align: right;\n",
       "    }\n",
       "</style>\n",
       "<table border=\"1\" class=\"dataframe\">\n",
       "  <thead>\n",
       "    <tr style=\"text-align: right;\">\n",
       "      <th></th>\n",
       "      <th>Year</th>\n",
       "      <th>AgeGroup</th>\n",
       "      <th>Hospitalisations Avoided</th>\n",
       "      <th>Confidence Level</th>\n",
       "    </tr>\n",
       "    <tr>\n",
       "      <th>Disease</th>\n",
       "      <th></th>\n",
       "      <th></th>\n",
       "      <th></th>\n",
       "      <th></th>\n",
       "    </tr>\n",
       "  </thead>\n",
       "  <tbody>\n",
       "    <tr>\n",
       "      <th>childhood asthma</th>\n",
       "      <td>1067325</td>\n",
       "      <td>0-506-1718-6465+total0-506-1718-6465+total0-50...</td>\n",
       "      <td>1989.327961</td>\n",
       "      <td>119.421908</td>\n",
       "    </tr>\n",
       "    <tr>\n",
       "      <th>chronic obstructive pulmonary disease</th>\n",
       "      <td>1067325</td>\n",
       "      <td>0-506-1718-6465+total0-506-1718-6465+total0-50...</td>\n",
       "      <td>119970.252623</td>\n",
       "      <td>3423.430802</td>\n",
       "    </tr>\n",
       "    <tr>\n",
       "      <th>coronary heart disease</th>\n",
       "      <td>1067325</td>\n",
       "      <td>0-506-1718-6465+total0-506-1718-6465+total0-50...</td>\n",
       "      <td>4839.689523</td>\n",
       "      <td>118.141880</td>\n",
       "    </tr>\n",
       "    <tr>\n",
       "      <th>lung cancer</th>\n",
       "      <td>1067325</td>\n",
       "      <td>0-506-1718-6465+total0-506-1718-6465+total0-50...</td>\n",
       "      <td>2309.248372</td>\n",
       "      <td>497.690453</td>\n",
       "    </tr>\n",
       "    <tr>\n",
       "      <th>stroke</th>\n",
       "      <td>1067325</td>\n",
       "      <td>0-506-1718-6465+total0-506-1718-6465+total0-50...</td>\n",
       "      <td>760.129634</td>\n",
       "      <td>65.190516</td>\n",
       "    </tr>\n",
       "    <tr>\n",
       "      <th>total</th>\n",
       "      <td>213465</td>\n",
       "      <td>totaltotaltotaltotaltotaltotaltotaltotaltotalt...</td>\n",
       "      <td>64934.324048</td>\n",
       "      <td>1435.980738</td>\n",
       "    </tr>\n",
       "  </tbody>\n",
       "</table>\n",
       "</div>"
      ],
      "text/plain": [
       "                                          Year  \\\n",
       "Disease                                          \n",
       "childhood asthma                       1067325   \n",
       "chronic obstructive pulmonary disease  1067325   \n",
       "coronary heart disease                 1067325   \n",
       "lung cancer                            1067325   \n",
       "stroke                                 1067325   \n",
       "total                                   213465   \n",
       "\n",
       "                                                                                AgeGroup  \\\n",
       "Disease                                                                                    \n",
       "childhood asthma                       0-506-1718-6465+total0-506-1718-6465+total0-50...   \n",
       "chronic obstructive pulmonary disease  0-506-1718-6465+total0-506-1718-6465+total0-50...   \n",
       "coronary heart disease                 0-506-1718-6465+total0-506-1718-6465+total0-50...   \n",
       "lung cancer                            0-506-1718-6465+total0-506-1718-6465+total0-50...   \n",
       "stroke                                 0-506-1718-6465+total0-506-1718-6465+total0-50...   \n",
       "total                                  totaltotaltotaltotaltotaltotaltotaltotaltotalt...   \n",
       "\n",
       "                                       Hospitalisations Avoided  \\\n",
       "Disease                                                           \n",
       "childhood asthma                                    1989.327961   \n",
       "chronic obstructive pulmonary disease             119970.252623   \n",
       "coronary heart disease                              4839.689523   \n",
       "lung cancer                                         2309.248372   \n",
       "stroke                                               760.129634   \n",
       "total                                              64934.324048   \n",
       "\n",
       "                                       Confidence Level  \n",
       "Disease                                                  \n",
       "childhood asthma                             119.421908  \n",
       "chronic obstructive pulmonary disease       3423.430802  \n",
       "coronary heart disease                       118.141880  \n",
       "lung cancer                                  497.690453  \n",
       "stroke                                        65.190516  \n",
       "total                                       1435.980738  "
      ]
     },
     "execution_count": 26,
     "metadata": {},
     "output_type": "execute_result"
    }
   ],
   "source": [
    "grouped_category.sum()"
   ]
  },
  {
   "cell_type": "code",
   "execution_count": 27,
   "id": "4044f3c8-b096-4fe2-a1c8-5526eda46b3e",
   "metadata": {},
   "outputs": [
    {
     "name": "stdout",
     "output_type": "stream",
     "text": [
      "6\n"
     ]
    }
   ],
   "source": [
    "print(len(grouped_category))"
   ]
  },
  {
   "cell_type": "markdown",
   "id": "b745def9-e4f3-44d3-9312-8247383219c2",
   "metadata": {},
   "source": [
    "# Data Cleaning for Tower Hamlets"
   ]
  },
  {
   "cell_type": "code",
   "execution_count": 28,
   "id": "fc72e462-2db5-4812-a6e9-dea6e4829978",
   "metadata": {},
   "outputs": [
    {
     "data": {
      "text/html": [
       "<div>\n",
       "<style scoped>\n",
       "    .dataframe tbody tr th:only-of-type {\n",
       "        vertical-align: middle;\n",
       "    }\n",
       "\n",
       "    .dataframe tbody tr th {\n",
       "        vertical-align: top;\n",
       "    }\n",
       "\n",
       "    .dataframe thead th {\n",
       "        text-align: right;\n",
       "    }\n",
       "</style>\n",
       "<table border=\"1\" class=\"dataframe\">\n",
       "  <thead>\n",
       "    <tr style=\"text-align: right;\">\n",
       "      <th></th>\n",
       "      <th>Scenario</th>\n",
       "      <th>Year</th>\n",
       "      <th>Disease</th>\n",
       "      <th>AgeGroup</th>\n",
       "      <th>Hospitalisations Avoided</th>\n",
       "      <th>95% CL</th>\n",
       "    </tr>\n",
       "  </thead>\n",
       "  <tbody>\n",
       "    <tr>\n",
       "      <th>0</th>\n",
       "      <td>1</td>\n",
       "      <td>2016</td>\n",
       "      <td>childhood asthma</td>\n",
       "      <td>0-5</td>\n",
       "      <td>0.014850</td>\n",
       "      <td>0.060362</td>\n",
       "    </tr>\n",
       "    <tr>\n",
       "      <th>1</th>\n",
       "      <td>1</td>\n",
       "      <td>2016</td>\n",
       "      <td>childhood asthma</td>\n",
       "      <td>06-17</td>\n",
       "      <td>0.020924</td>\n",
       "      <td>0.137827</td>\n",
       "    </tr>\n",
       "    <tr>\n",
       "      <th>2</th>\n",
       "      <td>1</td>\n",
       "      <td>2016</td>\n",
       "      <td>childhood asthma</td>\n",
       "      <td>18-64</td>\n",
       "      <td>0.539354</td>\n",
       "      <td>0.311021</td>\n",
       "    </tr>\n",
       "    <tr>\n",
       "      <th>3</th>\n",
       "      <td>1</td>\n",
       "      <td>2016</td>\n",
       "      <td>childhood asthma</td>\n",
       "      <td>65+</td>\n",
       "      <td>0.221781</td>\n",
       "      <td>0.155075</td>\n",
       "    </tr>\n",
       "    <tr>\n",
       "      <th>4</th>\n",
       "      <td>1</td>\n",
       "      <td>2016</td>\n",
       "      <td>childhood asthma</td>\n",
       "      <td>total</td>\n",
       "      <td>0.796909</td>\n",
       "      <td>0.378712</td>\n",
       "    </tr>\n",
       "  </tbody>\n",
       "</table>\n",
       "</div>"
      ],
      "text/plain": [
       "   Scenario  Year           Disease AgeGroup  Hospitalisations Avoided  \\\n",
       "0         1  2016  childhood asthma      0-5                  0.014850   \n",
       "1         1  2016  childhood asthma    06-17                  0.020924   \n",
       "2         1  2016  childhood asthma    18-64                  0.539354   \n",
       "3         1  2016  childhood asthma      65+                  0.221781   \n",
       "4         1  2016  childhood asthma    total                  0.796909   \n",
       "\n",
       "     95% CL  \n",
       "0  0.060362  \n",
       "1  0.137827  \n",
       "2  0.311021  \n",
       "3  0.155075  \n",
       "4  0.378712  "
      ]
     },
     "execution_count": 28,
     "metadata": {},
     "output_type": "execute_result"
    }
   ],
   "source": [
    "air_pollution_tower = pd.read_excel('../data_unclean/PM25/harrow-pm25-xlsm-53.xls', \n",
    "                                    sheet_name = 'Hospitalisations Avoided')\n",
    "air_pollution_tower.head(5)"
   ]
  },
  {
   "cell_type": "code",
   "execution_count": 29,
   "id": "5cb0e17f-c874-4776-9bc5-7d630573deca",
   "metadata": {},
   "outputs": [
    {
     "data": {
      "text/html": [
       "<div>\n",
       "<style scoped>\n",
       "    .dataframe tbody tr th:only-of-type {\n",
       "        vertical-align: middle;\n",
       "    }\n",
       "\n",
       "    .dataframe tbody tr th {\n",
       "        vertical-align: top;\n",
       "    }\n",
       "\n",
       "    .dataframe thead th {\n",
       "        text-align: right;\n",
       "    }\n",
       "</style>\n",
       "<table border=\"1\" class=\"dataframe\">\n",
       "  <thead>\n",
       "    <tr style=\"text-align: right;\">\n",
       "      <th></th>\n",
       "      <th>Year</th>\n",
       "      <th>Disease</th>\n",
       "      <th>AgeGroup</th>\n",
       "      <th>Hospitalisations Avoided</th>\n",
       "      <th>95% CL</th>\n",
       "    </tr>\n",
       "  </thead>\n",
       "  <tbody>\n",
       "    <tr>\n",
       "      <th>0</th>\n",
       "      <td>2016</td>\n",
       "      <td>childhood asthma</td>\n",
       "      <td>0-5</td>\n",
       "      <td>0.014850</td>\n",
       "      <td>0.060362</td>\n",
       "    </tr>\n",
       "    <tr>\n",
       "      <th>1</th>\n",
       "      <td>2016</td>\n",
       "      <td>childhood asthma</td>\n",
       "      <td>06-17</td>\n",
       "      <td>0.020924</td>\n",
       "      <td>0.137827</td>\n",
       "    </tr>\n",
       "    <tr>\n",
       "      <th>2</th>\n",
       "      <td>2016</td>\n",
       "      <td>childhood asthma</td>\n",
       "      <td>18-64</td>\n",
       "      <td>0.539354</td>\n",
       "      <td>0.311021</td>\n",
       "    </tr>\n",
       "    <tr>\n",
       "      <th>3</th>\n",
       "      <td>2016</td>\n",
       "      <td>childhood asthma</td>\n",
       "      <td>65+</td>\n",
       "      <td>0.221781</td>\n",
       "      <td>0.155075</td>\n",
       "    </tr>\n",
       "    <tr>\n",
       "      <th>4</th>\n",
       "      <td>2016</td>\n",
       "      <td>childhood asthma</td>\n",
       "      <td>total</td>\n",
       "      <td>0.796909</td>\n",
       "      <td>0.378712</td>\n",
       "    </tr>\n",
       "  </tbody>\n",
       "</table>\n",
       "</div>"
      ],
      "text/plain": [
       "   Year           Disease AgeGroup  Hospitalisations Avoided    95% CL\n",
       "0  2016  childhood asthma      0-5                  0.014850  0.060362\n",
       "1  2016  childhood asthma    06-17                  0.020924  0.137827\n",
       "2  2016  childhood asthma    18-64                  0.539354  0.311021\n",
       "3  2016  childhood asthma      65+                  0.221781  0.155075\n",
       "4  2016  childhood asthma    total                  0.796909  0.378712"
      ]
     },
     "execution_count": 29,
     "metadata": {},
     "output_type": "execute_result"
    }
   ],
   "source": [
    "air_pollution_tower.drop(columns=['Scenario'], inplace=True)\n",
    "air_pollution_tower.head(5)"
   ]
  },
  {
   "cell_type": "code",
   "execution_count": 30,
   "id": "77a191ed-3e10-4838-ab0b-0af6f337cffd",
   "metadata": {},
   "outputs": [
    {
     "data": {
      "text/html": [
       "<div>\n",
       "<style scoped>\n",
       "    .dataframe tbody tr th:only-of-type {\n",
       "        vertical-align: middle;\n",
       "    }\n",
       "\n",
       "    .dataframe tbody tr th {\n",
       "        vertical-align: top;\n",
       "    }\n",
       "\n",
       "    .dataframe thead th {\n",
       "        text-align: right;\n",
       "    }\n",
       "</style>\n",
       "<table border=\"1\" class=\"dataframe\">\n",
       "  <thead>\n",
       "    <tr style=\"text-align: right;\">\n",
       "      <th></th>\n",
       "      <th>Year</th>\n",
       "      <th>Disease</th>\n",
       "      <th>AgeGroup</th>\n",
       "      <th>Hospitalisations Avoided</th>\n",
       "      <th>95% CL</th>\n",
       "    </tr>\n",
       "  </thead>\n",
       "  <tbody>\n",
       "    <tr>\n",
       "      <th>0</th>\n",
       "      <td>2016</td>\n",
       "      <td>childhood asthma</td>\n",
       "      <td>0-5</td>\n",
       "      <td>0.014850</td>\n",
       "      <td>0.060362</td>\n",
       "    </tr>\n",
       "    <tr>\n",
       "      <th>1</th>\n",
       "      <td>2016</td>\n",
       "      <td>childhood asthma</td>\n",
       "      <td>06-17</td>\n",
       "      <td>0.020924</td>\n",
       "      <td>0.137827</td>\n",
       "    </tr>\n",
       "    <tr>\n",
       "      <th>2</th>\n",
       "      <td>2016</td>\n",
       "      <td>childhood asthma</td>\n",
       "      <td>18-64</td>\n",
       "      <td>0.539354</td>\n",
       "      <td>0.311021</td>\n",
       "    </tr>\n",
       "    <tr>\n",
       "      <th>3</th>\n",
       "      <td>2016</td>\n",
       "      <td>childhood asthma</td>\n",
       "      <td>65+</td>\n",
       "      <td>0.221781</td>\n",
       "      <td>0.155075</td>\n",
       "    </tr>\n",
       "    <tr>\n",
       "      <th>4</th>\n",
       "      <td>2016</td>\n",
       "      <td>childhood asthma</td>\n",
       "      <td>total</td>\n",
       "      <td>0.796909</td>\n",
       "      <td>0.378712</td>\n",
       "    </tr>\n",
       "  </tbody>\n",
       "</table>\n",
       "</div>"
      ],
      "text/plain": [
       "   Year           Disease AgeGroup  Hospitalisations Avoided    95% CL\n",
       "0  2016  childhood asthma      0-5                  0.014850  0.060362\n",
       "1  2016  childhood asthma    06-17                  0.020924  0.137827\n",
       "2  2016  childhood asthma    18-64                  0.539354  0.311021\n",
       "3  2016  childhood asthma      65+                  0.221781  0.155075\n",
       "4  2016  childhood asthma    total                  0.796909  0.378712"
      ]
     },
     "execution_count": 30,
     "metadata": {},
     "output_type": "execute_result"
    }
   ],
   "source": [
    "air_pollution_tower.fillna(value='???', limit=1, axis=1)\n",
    "air_pollution_tower.head(5)"
   ]
  },
  {
   "cell_type": "code",
   "execution_count": 31,
   "id": "2e3c48ef-2315-4cc6-ad88-350c7edb87da",
   "metadata": {},
   "outputs": [
    {
     "data": {
      "text/html": [
       "<div>\n",
       "<style scoped>\n",
       "    .dataframe tbody tr th:only-of-type {\n",
       "        vertical-align: middle;\n",
       "    }\n",
       "\n",
       "    .dataframe tbody tr th {\n",
       "        vertical-align: top;\n",
       "    }\n",
       "\n",
       "    .dataframe thead th {\n",
       "        text-align: right;\n",
       "    }\n",
       "</style>\n",
       "<table border=\"1\" class=\"dataframe\">\n",
       "  <thead>\n",
       "    <tr style=\"text-align: right;\">\n",
       "      <th></th>\n",
       "      <th>Year</th>\n",
       "      <th>Disease</th>\n",
       "      <th>AgeGroup</th>\n",
       "      <th>Hospitalisations Avoided</th>\n",
       "      <th>95% CL</th>\n",
       "    </tr>\n",
       "  </thead>\n",
       "  <tbody>\n",
       "    <tr>\n",
       "      <th>0</th>\n",
       "      <td>2016</td>\n",
       "      <td>childhood asthma</td>\n",
       "      <td>0-5</td>\n",
       "      <td>0.014850</td>\n",
       "      <td>0.060362</td>\n",
       "    </tr>\n",
       "    <tr>\n",
       "      <th>1</th>\n",
       "      <td>2016</td>\n",
       "      <td>childhood asthma</td>\n",
       "      <td>06-17</td>\n",
       "      <td>0.020924</td>\n",
       "      <td>0.137827</td>\n",
       "    </tr>\n",
       "    <tr>\n",
       "      <th>2</th>\n",
       "      <td>2016</td>\n",
       "      <td>childhood asthma</td>\n",
       "      <td>18-64</td>\n",
       "      <td>0.539354</td>\n",
       "      <td>0.311021</td>\n",
       "    </tr>\n",
       "    <tr>\n",
       "      <th>3</th>\n",
       "      <td>2016</td>\n",
       "      <td>childhood asthma</td>\n",
       "      <td>65+</td>\n",
       "      <td>0.221781</td>\n",
       "      <td>0.155075</td>\n",
       "    </tr>\n",
       "    <tr>\n",
       "      <th>4</th>\n",
       "      <td>2016</td>\n",
       "      <td>childhood asthma</td>\n",
       "      <td>total</td>\n",
       "      <td>0.796909</td>\n",
       "      <td>0.378712</td>\n",
       "    </tr>\n",
       "  </tbody>\n",
       "</table>\n",
       "</div>"
      ],
      "text/plain": [
       "   Year           Disease AgeGroup  Hospitalisations Avoided    95% CL\n",
       "0  2016  childhood asthma      0-5                  0.014850  0.060362\n",
       "1  2016  childhood asthma    06-17                  0.020924  0.137827\n",
       "2  2016  childhood asthma    18-64                  0.539354  0.311021\n",
       "3  2016  childhood asthma      65+                  0.221781  0.155075\n",
       "4  2016  childhood asthma    total                  0.796909  0.378712"
      ]
     },
     "execution_count": 31,
     "metadata": {},
     "output_type": "execute_result"
    }
   ],
   "source": [
    "air_pollution_tower['Disease'].astype('str')\n",
    "air_pollution_tower.head(5)"
   ]
  },
  {
   "cell_type": "code",
   "execution_count": 32,
   "id": "11c1dbe6-1241-4b35-af63-eacb37435024",
   "metadata": {},
   "outputs": [
    {
     "name": "stderr",
     "output_type": "stream",
     "text": [
      "/var/folders/ww/_8wv3jzj27l9t1190v0wsbyc0000gn/T/ipykernel_51129/3054388182.py:1: FutureWarning: A value is trying to be set on a copy of a DataFrame or Series through chained assignment using an inplace method.\n",
      "The behavior will change in pandas 3.0. This inplace method will never work because the intermediate object on which we are setting values always behaves as a copy.\n",
      "\n",
      "For example, when doing 'df[col].method(value, inplace=True)', try using 'df.method({col: value}, inplace=True)' or df[col] = df[col].method(value) instead, to perform the operation inplace on the original object.\n",
      "\n",
      "\n",
      "  fill_gaps = air_pollution_tower['Year'].fillna('Not Inclusive', inplace = True)\n"
     ]
    },
    {
     "data": {
      "text/html": [
       "<div>\n",
       "<style scoped>\n",
       "    .dataframe tbody tr th:only-of-type {\n",
       "        vertical-align: middle;\n",
       "    }\n",
       "\n",
       "    .dataframe tbody tr th {\n",
       "        vertical-align: top;\n",
       "    }\n",
       "\n",
       "    .dataframe thead th {\n",
       "        text-align: right;\n",
       "    }\n",
       "</style>\n",
       "<table border=\"1\" class=\"dataframe\">\n",
       "  <thead>\n",
       "    <tr style=\"text-align: right;\">\n",
       "      <th></th>\n",
       "      <th>Year</th>\n",
       "      <th>Disease</th>\n",
       "      <th>AgeGroup</th>\n",
       "      <th>Hospitalisations Avoided</th>\n",
       "      <th>95% CL</th>\n",
       "    </tr>\n",
       "  </thead>\n",
       "  <tbody>\n",
       "    <tr>\n",
       "      <th>0</th>\n",
       "      <td>2016</td>\n",
       "      <td>childhood asthma</td>\n",
       "      <td>0-5</td>\n",
       "      <td>0.014850</td>\n",
       "      <td>0.060362</td>\n",
       "    </tr>\n",
       "    <tr>\n",
       "      <th>1</th>\n",
       "      <td>2016</td>\n",
       "      <td>childhood asthma</td>\n",
       "      <td>06-17</td>\n",
       "      <td>0.020924</td>\n",
       "      <td>0.137827</td>\n",
       "    </tr>\n",
       "    <tr>\n",
       "      <th>2</th>\n",
       "      <td>2016</td>\n",
       "      <td>childhood asthma</td>\n",
       "      <td>18-64</td>\n",
       "      <td>0.539354</td>\n",
       "      <td>0.311021</td>\n",
       "    </tr>\n",
       "    <tr>\n",
       "      <th>3</th>\n",
       "      <td>2016</td>\n",
       "      <td>childhood asthma</td>\n",
       "      <td>65+</td>\n",
       "      <td>0.221781</td>\n",
       "      <td>0.155075</td>\n",
       "    </tr>\n",
       "    <tr>\n",
       "      <th>4</th>\n",
       "      <td>2016</td>\n",
       "      <td>childhood asthma</td>\n",
       "      <td>total</td>\n",
       "      <td>0.796909</td>\n",
       "      <td>0.378712</td>\n",
       "    </tr>\n",
       "  </tbody>\n",
       "</table>\n",
       "</div>"
      ],
      "text/plain": [
       "   Year           Disease AgeGroup  Hospitalisations Avoided    95% CL\n",
       "0  2016  childhood asthma      0-5                  0.014850  0.060362\n",
       "1  2016  childhood asthma    06-17                  0.020924  0.137827\n",
       "2  2016  childhood asthma    18-64                  0.539354  0.311021\n",
       "3  2016  childhood asthma      65+                  0.221781  0.155075\n",
       "4  2016  childhood asthma    total                  0.796909  0.378712"
      ]
     },
     "execution_count": 32,
     "metadata": {},
     "output_type": "execute_result"
    }
   ],
   "source": [
    "fill_gaps = air_pollution_tower['Year'].fillna('Not Inclusive', inplace = True)\n",
    "air_pollution_tower.head(5)"
   ]
  },
  {
   "cell_type": "code",
   "execution_count": 33,
   "id": "c722dd0b-db3a-4404-89c9-a250dd9b2a12",
   "metadata": {},
   "outputs": [
    {
     "data": {
      "text/html": [
       "<div>\n",
       "<style scoped>\n",
       "    .dataframe tbody tr th:only-of-type {\n",
       "        vertical-align: middle;\n",
       "    }\n",
       "\n",
       "    .dataframe tbody tr th {\n",
       "        vertical-align: top;\n",
       "    }\n",
       "\n",
       "    .dataframe thead th {\n",
       "        text-align: right;\n",
       "    }\n",
       "</style>\n",
       "<table border=\"1\" class=\"dataframe\">\n",
       "  <thead>\n",
       "    <tr style=\"text-align: right;\">\n",
       "      <th></th>\n",
       "      <th>Year</th>\n",
       "      <th>Disease</th>\n",
       "      <th>AgeGroup</th>\n",
       "      <th>Hospitalisations Avoided</th>\n",
       "      <th>Confidence Level</th>\n",
       "    </tr>\n",
       "  </thead>\n",
       "  <tbody>\n",
       "    <tr>\n",
       "      <th>0</th>\n",
       "      <td>2016</td>\n",
       "      <td>childhood asthma</td>\n",
       "      <td>0-5</td>\n",
       "      <td>0.014850</td>\n",
       "      <td>0.060362</td>\n",
       "    </tr>\n",
       "    <tr>\n",
       "      <th>1</th>\n",
       "      <td>2016</td>\n",
       "      <td>childhood asthma</td>\n",
       "      <td>06-17</td>\n",
       "      <td>0.020924</td>\n",
       "      <td>0.137827</td>\n",
       "    </tr>\n",
       "    <tr>\n",
       "      <th>2</th>\n",
       "      <td>2016</td>\n",
       "      <td>childhood asthma</td>\n",
       "      <td>18-64</td>\n",
       "      <td>0.539354</td>\n",
       "      <td>0.311021</td>\n",
       "    </tr>\n",
       "    <tr>\n",
       "      <th>3</th>\n",
       "      <td>2016</td>\n",
       "      <td>childhood asthma</td>\n",
       "      <td>65+</td>\n",
       "      <td>0.221781</td>\n",
       "      <td>0.155075</td>\n",
       "    </tr>\n",
       "    <tr>\n",
       "      <th>4</th>\n",
       "      <td>2016</td>\n",
       "      <td>childhood asthma</td>\n",
       "      <td>total</td>\n",
       "      <td>0.796909</td>\n",
       "      <td>0.378712</td>\n",
       "    </tr>\n",
       "  </tbody>\n",
       "</table>\n",
       "</div>"
      ],
      "text/plain": [
       "   Year           Disease AgeGroup  Hospitalisations Avoided  Confidence Level\n",
       "0  2016  childhood asthma      0-5                  0.014850          0.060362\n",
       "1  2016  childhood asthma    06-17                  0.020924          0.137827\n",
       "2  2016  childhood asthma    18-64                  0.539354          0.311021\n",
       "3  2016  childhood asthma      65+                  0.221781          0.155075\n",
       "4  2016  childhood asthma    total                  0.796909          0.378712"
      ]
     },
     "execution_count": 33,
     "metadata": {},
     "output_type": "execute_result"
    }
   ],
   "source": [
    "air_pollution_tower = air_pollution_tower.rename(columns={'95% CL':'Confidence Level'})\n",
    "air_pollution_tower.head(5)"
   ]
  },
  {
   "cell_type": "code",
   "execution_count": 34,
   "id": "0127ee2b-a78f-40a9-b245-e1aa327e3f4b",
   "metadata": {},
   "outputs": [
    {
     "data": {
      "text/html": [
       "<div>\n",
       "<style scoped>\n",
       "    .dataframe tbody tr th:only-of-type {\n",
       "        vertical-align: middle;\n",
       "    }\n",
       "\n",
       "    .dataframe tbody tr th {\n",
       "        vertical-align: top;\n",
       "    }\n",
       "\n",
       "    .dataframe thead th {\n",
       "        text-align: right;\n",
       "    }\n",
       "</style>\n",
       "<table border=\"1\" class=\"dataframe\">\n",
       "  <thead>\n",
       "    <tr style=\"text-align: right;\">\n",
       "      <th></th>\n",
       "      <th>Year</th>\n",
       "      <th>Condition</th>\n",
       "      <th>Age</th>\n",
       "      <th>Hospitalisations Avoided</th>\n",
       "      <th>Confidence Level</th>\n",
       "    </tr>\n",
       "  </thead>\n",
       "  <tbody>\n",
       "    <tr>\n",
       "      <th>0</th>\n",
       "      <td>2016</td>\n",
       "      <td>childhood asthma</td>\n",
       "      <td>0-5</td>\n",
       "      <td>0.014850</td>\n",
       "      <td>0.060362</td>\n",
       "    </tr>\n",
       "    <tr>\n",
       "      <th>1</th>\n",
       "      <td>2016</td>\n",
       "      <td>childhood asthma</td>\n",
       "      <td>06-17</td>\n",
       "      <td>0.020924</td>\n",
       "      <td>0.137827</td>\n",
       "    </tr>\n",
       "    <tr>\n",
       "      <th>2</th>\n",
       "      <td>2016</td>\n",
       "      <td>childhood asthma</td>\n",
       "      <td>18-64</td>\n",
       "      <td>0.539354</td>\n",
       "      <td>0.311021</td>\n",
       "    </tr>\n",
       "    <tr>\n",
       "      <th>3</th>\n",
       "      <td>2016</td>\n",
       "      <td>childhood asthma</td>\n",
       "      <td>65+</td>\n",
       "      <td>0.221781</td>\n",
       "      <td>0.155075</td>\n",
       "    </tr>\n",
       "    <tr>\n",
       "      <th>4</th>\n",
       "      <td>2016</td>\n",
       "      <td>childhood asthma</td>\n",
       "      <td>total</td>\n",
       "      <td>0.796909</td>\n",
       "      <td>0.378712</td>\n",
       "    </tr>\n",
       "  </tbody>\n",
       "</table>\n",
       "</div>"
      ],
      "text/plain": [
       "   Year         Condition    Age  Hospitalisations Avoided  Confidence Level\n",
       "0  2016  childhood asthma    0-5                  0.014850          0.060362\n",
       "1  2016  childhood asthma  06-17                  0.020924          0.137827\n",
       "2  2016  childhood asthma  18-64                  0.539354          0.311021\n",
       "3  2016  childhood asthma    65+                  0.221781          0.155075\n",
       "4  2016  childhood asthma  total                  0.796909          0.378712"
      ]
     },
     "execution_count": 34,
     "metadata": {},
     "output_type": "execute_result"
    }
   ],
   "source": [
    "total_hospitalisations_tower = air_pollution_tower.rename(columns={'Disease': 'Condition', 'AgeGroup': 'Age'})\n",
    "total_hospitalisations_tower.head(5)"
   ]
  },
  {
   "cell_type": "code",
   "execution_count": 35,
   "id": "fe3d55c6-eab0-40e9-88ec-5bb88342d63f",
   "metadata": {},
   "outputs": [
    {
     "data": {
      "text/plain": [
       "Year                        0\n",
       "Disease                     0\n",
       "AgeGroup                    0\n",
       "Hospitalisations Avoided    0\n",
       "Confidence Level            0\n",
       "dtype: int64"
      ]
     },
     "execution_count": 35,
     "metadata": {},
     "output_type": "execute_result"
    }
   ],
   "source": [
    "missing_values = air_pollution_tower.isnull().sum()\n",
    "missing_values"
   ]
  },
  {
   "cell_type": "code",
   "execution_count": 36,
   "id": "6b139a27-6f5f-43da-94e3-76b704d2d933",
   "metadata": {},
   "outputs": [
    {
     "data": {
      "text/plain": [
       "356"
      ]
     },
     "execution_count": 36,
     "metadata": {},
     "output_type": "execute_result"
    }
   ],
   "source": [
    "duplicated_values = air_pollution_tower.duplicated().sum()\n",
    "duplicated_values "
   ]
  },
  {
   "cell_type": "code",
   "execution_count": 37,
   "id": "c4f015a7-6feb-465c-bd73-d7684db5b245",
   "metadata": {},
   "outputs": [
    {
     "data": {
      "text/html": [
       "<div>\n",
       "<style scoped>\n",
       "    .dataframe tbody tr th:only-of-type {\n",
       "        vertical-align: middle;\n",
       "    }\n",
       "\n",
       "    .dataframe tbody tr th {\n",
       "        vertical-align: top;\n",
       "    }\n",
       "\n",
       "    .dataframe thead th {\n",
       "        text-align: right;\n",
       "    }\n",
       "</style>\n",
       "<table border=\"1\" class=\"dataframe\">\n",
       "  <thead>\n",
       "    <tr style=\"text-align: right;\">\n",
       "      <th></th>\n",
       "      <th>Year</th>\n",
       "      <th>Disease</th>\n",
       "      <th>AgeGroup</th>\n",
       "      <th>Hospitalisations Avoided</th>\n",
       "      <th>Confidence Level</th>\n",
       "    </tr>\n",
       "  </thead>\n",
       "  <tbody>\n",
       "    <tr>\n",
       "      <th>0</th>\n",
       "      <td>2016</td>\n",
       "      <td>childhood asthma</td>\n",
       "      <td>0-5</td>\n",
       "      <td>0.014850</td>\n",
       "      <td>0.060362</td>\n",
       "    </tr>\n",
       "    <tr>\n",
       "      <th>1</th>\n",
       "      <td>2016</td>\n",
       "      <td>childhood asthma</td>\n",
       "      <td>06-17</td>\n",
       "      <td>0.020924</td>\n",
       "      <td>0.137827</td>\n",
       "    </tr>\n",
       "    <tr>\n",
       "      <th>2</th>\n",
       "      <td>2016</td>\n",
       "      <td>childhood asthma</td>\n",
       "      <td>18-64</td>\n",
       "      <td>0.539354</td>\n",
       "      <td>0.311021</td>\n",
       "    </tr>\n",
       "    <tr>\n",
       "      <th>3</th>\n",
       "      <td>2016</td>\n",
       "      <td>childhood asthma</td>\n",
       "      <td>65+</td>\n",
       "      <td>0.221781</td>\n",
       "      <td>0.155075</td>\n",
       "    </tr>\n",
       "    <tr>\n",
       "      <th>4</th>\n",
       "      <td>2016</td>\n",
       "      <td>childhood asthma</td>\n",
       "      <td>total</td>\n",
       "      <td>0.796909</td>\n",
       "      <td>0.378712</td>\n",
       "    </tr>\n",
       "    <tr>\n",
       "      <th>...</th>\n",
       "      <td>...</td>\n",
       "      <td>...</td>\n",
       "      <td>...</td>\n",
       "      <td>...</td>\n",
       "      <td>...</td>\n",
       "    </tr>\n",
       "    <tr>\n",
       "      <th>2725</th>\n",
       "      <td>2050</td>\n",
       "      <td>stroke</td>\n",
       "      <td>06-17</td>\n",
       "      <td>0.012467</td>\n",
       "      <td>0.022669</td>\n",
       "    </tr>\n",
       "    <tr>\n",
       "      <th>2726</th>\n",
       "      <td>2050</td>\n",
       "      <td>stroke</td>\n",
       "      <td>18-64</td>\n",
       "      <td>1.227789</td>\n",
       "      <td>0.111698</td>\n",
       "    </tr>\n",
       "    <tr>\n",
       "      <th>2727</th>\n",
       "      <td>2050</td>\n",
       "      <td>stroke</td>\n",
       "      <td>65+</td>\n",
       "      <td>3.625580</td>\n",
       "      <td>0.214536</td>\n",
       "    </tr>\n",
       "    <tr>\n",
       "      <th>2728</th>\n",
       "      <td>2050</td>\n",
       "      <td>stroke</td>\n",
       "      <td>total</td>\n",
       "      <td>4.868065</td>\n",
       "      <td>0.243089</td>\n",
       "    </tr>\n",
       "    <tr>\n",
       "      <th>2729</th>\n",
       "      <td>2050</td>\n",
       "      <td>total</td>\n",
       "      <td>total</td>\n",
       "      <td>585.767337</td>\n",
       "      <td>11.143565</td>\n",
       "    </tr>\n",
       "  </tbody>\n",
       "</table>\n",
       "<p>2374 rows × 5 columns</p>\n",
       "</div>"
      ],
      "text/plain": [
       "      Year           Disease AgeGroup  Hospitalisations Avoided  \\\n",
       "0     2016  childhood asthma      0-5                  0.014850   \n",
       "1     2016  childhood asthma    06-17                  0.020924   \n",
       "2     2016  childhood asthma    18-64                  0.539354   \n",
       "3     2016  childhood asthma      65+                  0.221781   \n",
       "4     2016  childhood asthma    total                  0.796909   \n",
       "...    ...               ...      ...                       ...   \n",
       "2725  2050            stroke    06-17                  0.012467   \n",
       "2726  2050            stroke    18-64                  1.227789   \n",
       "2727  2050            stroke      65+                  3.625580   \n",
       "2728  2050            stroke    total                  4.868065   \n",
       "2729  2050             total    total                585.767337   \n",
       "\n",
       "      Confidence Level  \n",
       "0             0.060362  \n",
       "1             0.137827  \n",
       "2             0.311021  \n",
       "3             0.155075  \n",
       "4             0.378712  \n",
       "...                ...  \n",
       "2725          0.022669  \n",
       "2726          0.111698  \n",
       "2727          0.214536  \n",
       "2728          0.243089  \n",
       "2729         11.143565  \n",
       "\n",
       "[2374 rows x 5 columns]"
      ]
     },
     "execution_count": 37,
     "metadata": {},
     "output_type": "execute_result"
    }
   ],
   "source": [
    "(air_pollution_tower.drop_duplicates())"
   ]
  },
  {
   "cell_type": "markdown",
   "id": "e6b35de1-3bdb-4b80-a531-3f0d9cf4d829",
   "metadata": {},
   "source": [
    "# Filtering and Shaping the Data for Tower Hamlets"
   ]
  },
  {
   "cell_type": "code",
   "execution_count": 38,
   "id": "21cd84aa-2094-4c7c-ad58-bbdaac3f1def",
   "metadata": {},
   "outputs": [
    {
     "data": {
      "text/html": [
       "<div>\n",
       "<style scoped>\n",
       "    .dataframe tbody tr th:only-of-type {\n",
       "        vertical-align: middle;\n",
       "    }\n",
       "\n",
       "    .dataframe tbody tr th {\n",
       "        vertical-align: top;\n",
       "    }\n",
       "\n",
       "    .dataframe thead th {\n",
       "        text-align: right;\n",
       "    }\n",
       "</style>\n",
       "<table border=\"1\" class=\"dataframe\">\n",
       "  <thead>\n",
       "    <tr style=\"text-align: right;\">\n",
       "      <th></th>\n",
       "      <th>Year</th>\n",
       "      <th>Disease</th>\n",
       "      <th>AgeGroup</th>\n",
       "      <th>Hospitalisations Avoided</th>\n",
       "      <th>Confidence Level</th>\n",
       "    </tr>\n",
       "  </thead>\n",
       "  <tbody>\n",
       "    <tr>\n",
       "      <th>0</th>\n",
       "      <td>2016</td>\n",
       "      <td>childhood asthma</td>\n",
       "      <td>0-5</td>\n",
       "      <td>0.014850</td>\n",
       "      <td>0.060362</td>\n",
       "    </tr>\n",
       "    <tr>\n",
       "      <th>1</th>\n",
       "      <td>2016</td>\n",
       "      <td>childhood asthma</td>\n",
       "      <td>06-17</td>\n",
       "      <td>0.020924</td>\n",
       "      <td>0.137827</td>\n",
       "    </tr>\n",
       "    <tr>\n",
       "      <th>2</th>\n",
       "      <td>2016</td>\n",
       "      <td>childhood asthma</td>\n",
       "      <td>18-64</td>\n",
       "      <td>0.539354</td>\n",
       "      <td>0.311021</td>\n",
       "    </tr>\n",
       "    <tr>\n",
       "      <th>3</th>\n",
       "      <td>2016</td>\n",
       "      <td>childhood asthma</td>\n",
       "      <td>65+</td>\n",
       "      <td>0.221781</td>\n",
       "      <td>0.155075</td>\n",
       "    </tr>\n",
       "    <tr>\n",
       "      <th>4</th>\n",
       "      <td>2016</td>\n",
       "      <td>childhood asthma</td>\n",
       "      <td>total</td>\n",
       "      <td>0.796909</td>\n",
       "      <td>0.378712</td>\n",
       "    </tr>\n",
       "  </tbody>\n",
       "</table>\n",
       "</div>"
      ],
      "text/plain": [
       "   Year           Disease AgeGroup  Hospitalisations Avoided  Confidence Level\n",
       "0  2016  childhood asthma      0-5                  0.014850          0.060362\n",
       "1  2016  childhood asthma    06-17                  0.020924          0.137827\n",
       "2  2016  childhood asthma    18-64                  0.539354          0.311021\n",
       "3  2016  childhood asthma      65+                  0.221781          0.155075\n",
       "4  2016  childhood asthma    total                  0.796909          0.378712"
      ]
     },
     "execution_count": 38,
     "metadata": {},
     "output_type": "execute_result"
    }
   ],
   "source": [
    "filtered_data_2016_tow = air_pollution_tower[air_pollution_tower['Year'] == 2016].iloc[:, :]\n",
    "filtered_data_2016_tow.head(5)"
   ]
  },
  {
   "cell_type": "code",
   "execution_count": 39,
   "id": "76e79de2-0485-4738-942e-5873b500c662",
   "metadata": {},
   "outputs": [
    {
     "data": {
      "text/html": [
       "<div>\n",
       "<style scoped>\n",
       "    .dataframe tbody tr th:only-of-type {\n",
       "        vertical-align: middle;\n",
       "    }\n",
       "\n",
       "    .dataframe tbody tr th {\n",
       "        vertical-align: top;\n",
       "    }\n",
       "\n",
       "    .dataframe thead th {\n",
       "        text-align: right;\n",
       "    }\n",
       "</style>\n",
       "<table border=\"1\" class=\"dataframe\">\n",
       "  <thead>\n",
       "    <tr style=\"text-align: right;\">\n",
       "      <th></th>\n",
       "      <th>Year</th>\n",
       "      <th>Disease</th>\n",
       "      <th>AgeGroup</th>\n",
       "      <th>Hospitalisations Avoided</th>\n",
       "      <th>Confidence Level</th>\n",
       "    </tr>\n",
       "  </thead>\n",
       "  <tbody>\n",
       "    <tr>\n",
       "      <th>0</th>\n",
       "      <td>2016</td>\n",
       "      <td>childhood asthma</td>\n",
       "      <td>0-5</td>\n",
       "      <td>0.014850</td>\n",
       "      <td>0.060362</td>\n",
       "    </tr>\n",
       "    <tr>\n",
       "      <th>1</th>\n",
       "      <td>2016</td>\n",
       "      <td>childhood asthma</td>\n",
       "      <td>06-17</td>\n",
       "      <td>0.020924</td>\n",
       "      <td>0.137827</td>\n",
       "    </tr>\n",
       "    <tr>\n",
       "      <th>2</th>\n",
       "      <td>2016</td>\n",
       "      <td>childhood asthma</td>\n",
       "      <td>18-64</td>\n",
       "      <td>0.539354</td>\n",
       "      <td>0.311021</td>\n",
       "    </tr>\n",
       "    <tr>\n",
       "      <th>3</th>\n",
       "      <td>2016</td>\n",
       "      <td>childhood asthma</td>\n",
       "      <td>65+</td>\n",
       "      <td>0.221781</td>\n",
       "      <td>0.155075</td>\n",
       "    </tr>\n",
       "    <tr>\n",
       "      <th>4</th>\n",
       "      <td>2016</td>\n",
       "      <td>childhood asthma</td>\n",
       "      <td>total</td>\n",
       "      <td>0.796909</td>\n",
       "      <td>0.378712</td>\n",
       "    </tr>\n",
       "  </tbody>\n",
       "</table>\n",
       "</div>"
      ],
      "text/plain": [
       "   Year           Disease AgeGroup  Hospitalisations Avoided  Confidence Level\n",
       "0  2016  childhood asthma      0-5                  0.014850          0.060362\n",
       "1  2016  childhood asthma    06-17                  0.020924          0.137827\n",
       "2  2016  childhood asthma    18-64                  0.539354          0.311021\n",
       "3  2016  childhood asthma      65+                  0.221781          0.155075\n",
       "4  2016  childhood asthma    total                  0.796909          0.378712"
      ]
     },
     "execution_count": 39,
     "metadata": {},
     "output_type": "execute_result"
    }
   ],
   "source": [
    "filtered_data_2023_tow = air_pollution_tower[air_pollution_tower['Year'] == 2023].iloc[:, :]\n",
    "filtered_data_2016_tow.head(5)"
   ]
  },
  {
   "cell_type": "markdown",
   "id": "36f75e71-fb58-4924-b93c-318f407e00c8",
   "metadata": {},
   "source": [
    "# Descriptive Statistics Tower Hamlets"
   ]
  },
  {
   "cell_type": "code",
   "execution_count": 40,
   "id": "0ff9c1da-4710-40f9-8816-2222304424be",
   "metadata": {},
   "outputs": [
    {
     "data": {
      "text/plain": [
       "Year                          int64\n",
       "Disease                      object\n",
       "AgeGroup                     object\n",
       "Hospitalisations Avoided    float64\n",
       "Confidence Level            float64\n",
       "dtype: object"
      ]
     },
     "execution_count": 40,
     "metadata": {},
     "output_type": "execute_result"
    }
   ],
   "source": [
    "air_pollution_tower.dtypes"
   ]
  },
  {
   "cell_type": "code",
   "execution_count": 41,
   "id": "b57fb834-347c-4d2d-862e-5eb6ad7a91df",
   "metadata": {},
   "outputs": [
    {
     "data": {
      "text/plain": [
       "AgeGroup\n",
       "total    630\n",
       "0-5      525\n",
       "06-17    525\n",
       "18-64    525\n",
       "65+      525\n",
       "Name: count, dtype: int64"
      ]
     },
     "execution_count": 41,
     "metadata": {},
     "output_type": "execute_result"
    }
   ],
   "source": [
    "air_pollution_tower.value_counts('AgeGroup',)"
   ]
  },
  {
   "cell_type": "code",
   "execution_count": 42,
   "id": "8d64fd59-8a79-41a9-807a-38ef11f6c537",
   "metadata": {},
   "outputs": [
    {
     "data": {
      "text/plain": [
       "Disease\n",
       "childhood asthma                         525\n",
       "chronic obstructive pulmonary disease    525\n",
       "coronary heart disease                   525\n",
       "lung cancer                              525\n",
       "stroke                                   525\n",
       "total                                    105\n",
       "Name: count, dtype: int64"
      ]
     },
     "execution_count": 42,
     "metadata": {},
     "output_type": "execute_result"
    }
   ],
   "source": [
    "air_pollution_tower.value_counts('Disease')"
   ]
  },
  {
   "cell_type": "code",
   "execution_count": 43,
   "id": "a86bc320-d0e7-44fb-b185-0b0ef76ad677",
   "metadata": {},
   "outputs": [
    {
     "data": {
      "text/plain": [
       "Year                                                                  5550090\n",
       "Disease                     childhood asthmachildhood asthmachildhood asth...\n",
       "AgeGroup                    0-506-1718-6465+total0-506-1718-6465+total0-50...\n",
       "Hospitalisations Avoided                                         84307.164387\n",
       "Confidence Level                                                  4847.669965\n",
       "dtype: object"
      ]
     },
     "execution_count": 43,
     "metadata": {},
     "output_type": "execute_result"
    }
   ],
   "source": [
    "air_pollution_tower.sum()"
   ]
  },
  {
   "cell_type": "code",
   "execution_count": 44,
   "id": "9fcdb7f5-f59c-4de5-b9b4-599972672d7d",
   "metadata": {},
   "outputs": [
    {
     "data": {
      "text/plain": [
       "count    78.000000\n",
       "mean      4.550806\n",
       "std      16.737853\n",
       "min      -0.964686\n",
       "25%       0.000000\n",
       "50%       0.130630\n",
       "75%       0.791689\n",
       "max      99.578843\n",
       "Name: Hospitalisations Avoided, dtype: float64"
      ]
     },
     "execution_count": 44,
     "metadata": {},
     "output_type": "execute_result"
    }
   ],
   "source": [
    "filtered_data_2016_tow['Hospitalisations Avoided'].describe()"
   ]
  },
  {
   "cell_type": "code",
   "execution_count": 45,
   "id": "0c029972-569f-4f37-a9e8-283295ace558",
   "metadata": {},
   "outputs": [
    {
     "data": {
      "text/plain": [
       "count     78.000000\n",
       "mean      20.778909\n",
       "std       70.376114\n",
       "min       -0.087289\n",
       "25%        0.000000\n",
       "50%        0.485969\n",
       "75%        2.505346\n",
       "max      415.054618\n",
       "Name: Hospitalisations Avoided, dtype: float64"
      ]
     },
     "execution_count": 45,
     "metadata": {},
     "output_type": "execute_result"
    }
   ],
   "source": [
    "filtered_data_2023_tow['Hospitalisations Avoided'].describe()"
   ]
  },
  {
   "cell_type": "code",
   "execution_count": 46,
   "id": "bc8db50d-49ea-4ef0-a131-7c53ddf2a414",
   "metadata": {},
   "outputs": [
    {
     "data": {
      "text/plain": [
       "0.1306295"
      ]
     },
     "execution_count": 46,
     "metadata": {},
     "output_type": "execute_result"
    }
   ],
   "source": [
    "filtered_data_2016_tow['Hospitalisations Avoided'].median()"
   ]
  },
  {
   "cell_type": "code",
   "execution_count": 47,
   "id": "699b4196-70dd-4938-8cc8-f57f271e957b",
   "metadata": {},
   "outputs": [
    {
     "data": {
      "text/plain": [
       "0.485969"
      ]
     },
     "execution_count": 47,
     "metadata": {},
     "output_type": "execute_result"
    }
   ],
   "source": [
    "filtered_data_2023_tow['Hospitalisations Avoided'].median()"
   ]
  },
  {
   "cell_type": "markdown",
   "id": "1de33514-d177-4512-931b-1ece5a9ed579",
   "metadata": {},
   "source": [
    "# Exploratory Analysis Tower Hamlets"
   ]
  },
  {
   "cell_type": "code",
   "execution_count": 48,
   "id": "705ae1d8-c306-4911-a564-943f74b28ea3",
   "metadata": {},
   "outputs": [
    {
     "data": {
      "text/html": [
       "<div>\n",
       "<style scoped>\n",
       "    .dataframe tbody tr th:only-of-type {\n",
       "        vertical-align: middle;\n",
       "    }\n",
       "\n",
       "    .dataframe tbody tr th {\n",
       "        vertical-align: top;\n",
       "    }\n",
       "\n",
       "    .dataframe thead th {\n",
       "        text-align: right;\n",
       "    }\n",
       "</style>\n",
       "<table border=\"1\" class=\"dataframe\">\n",
       "  <thead>\n",
       "    <tr style=\"text-align: right;\">\n",
       "      <th></th>\n",
       "      <th>Year</th>\n",
       "      <th>Disease</th>\n",
       "      <th>AgeGroup</th>\n",
       "      <th>Hospitalisations Avoided</th>\n",
       "      <th>Confidence Level</th>\n",
       "    </tr>\n",
       "  </thead>\n",
       "  <tbody>\n",
       "    <tr>\n",
       "      <th>0</th>\n",
       "      <td>2016</td>\n",
       "      <td>childhood asthma</td>\n",
       "      <td>0-5</td>\n",
       "      <td>0.014850</td>\n",
       "      <td>0.060362</td>\n",
       "    </tr>\n",
       "    <tr>\n",
       "      <th>1</th>\n",
       "      <td>2016</td>\n",
       "      <td>childhood asthma</td>\n",
       "      <td>06-17</td>\n",
       "      <td>0.020924</td>\n",
       "      <td>0.137827</td>\n",
       "    </tr>\n",
       "    <tr>\n",
       "      <th>2</th>\n",
       "      <td>2016</td>\n",
       "      <td>childhood asthma</td>\n",
       "      <td>18-64</td>\n",
       "      <td>0.539354</td>\n",
       "      <td>0.311021</td>\n",
       "    </tr>\n",
       "    <tr>\n",
       "      <th>3</th>\n",
       "      <td>2016</td>\n",
       "      <td>childhood asthma</td>\n",
       "      <td>65+</td>\n",
       "      <td>0.221781</td>\n",
       "      <td>0.155075</td>\n",
       "    </tr>\n",
       "    <tr>\n",
       "      <th>4</th>\n",
       "      <td>2016</td>\n",
       "      <td>childhood asthma</td>\n",
       "      <td>total</td>\n",
       "      <td>0.796909</td>\n",
       "      <td>0.378712</td>\n",
       "    </tr>\n",
       "  </tbody>\n",
       "</table>\n",
       "</div>"
      ],
      "text/plain": [
       "   Year           Disease AgeGroup  Hospitalisations Avoided  Confidence Level\n",
       "0  2016  childhood asthma      0-5                  0.014850          0.060362\n",
       "1  2016  childhood asthma    06-17                  0.020924          0.137827\n",
       "2  2016  childhood asthma    18-64                  0.539354          0.311021\n",
       "3  2016  childhood asthma      65+                  0.221781          0.155075\n",
       "4  2016  childhood asthma    total                  0.796909          0.378712"
      ]
     },
     "execution_count": 48,
     "metadata": {},
     "output_type": "execute_result"
    }
   ],
   "source": [
    "air_pollution_tower.head(5)"
   ]
  },
  {
   "cell_type": "code",
   "execution_count": 49,
   "id": "76f9aef8-43c1-4fa9-8328-0f309be883af",
   "metadata": {},
   "outputs": [
    {
     "name": "stdout",
     "output_type": "stream",
     "text": [
      "<class 'pandas.core.frame.DataFrame'>\n",
      "RangeIndex: 2730 entries, 0 to 2729\n",
      "Data columns (total 5 columns):\n",
      " #   Column                    Non-Null Count  Dtype  \n",
      "---  ------                    --------------  -----  \n",
      " 0   Year                      2730 non-null   int64  \n",
      " 1   Disease                   2730 non-null   object \n",
      " 2   AgeGroup                  2730 non-null   object \n",
      " 3   Hospitalisations Avoided  2730 non-null   float64\n",
      " 4   Confidence Level          2730 non-null   float64\n",
      "dtypes: float64(2), int64(1), object(2)\n",
      "memory usage: 106.8+ KB\n"
     ]
    }
   ],
   "source": [
    "info = air_pollution_tower.info()\n",
    "info"
   ]
  },
  {
   "cell_type": "code",
   "execution_count": 50,
   "id": "4363b35b-44a3-4a06-a5d8-15bb15d54aa4",
   "metadata": {},
   "outputs": [
    {
     "data": {
      "text/plain": [
       "(2730, 5)"
      ]
     },
     "execution_count": 50,
     "metadata": {},
     "output_type": "execute_result"
    }
   ],
   "source": [
    "air_pollution_tower.shape"
   ]
  },
  {
   "cell_type": "code",
   "execution_count": 51,
   "id": "aba73398-5cf8-4164-b354-e542ea7db78e",
   "metadata": {},
   "outputs": [
    {
     "data": {
      "text/html": [
       "<div>\n",
       "<style scoped>\n",
       "    .dataframe tbody tr th:only-of-type {\n",
       "        vertical-align: middle;\n",
       "    }\n",
       "\n",
       "    .dataframe tbody tr th {\n",
       "        vertical-align: top;\n",
       "    }\n",
       "\n",
       "    .dataframe thead th {\n",
       "        text-align: right;\n",
       "    }\n",
       "</style>\n",
       "<table border=\"1\" class=\"dataframe\">\n",
       "  <thead>\n",
       "    <tr style=\"text-align: right;\">\n",
       "      <th></th>\n",
       "      <th>Year</th>\n",
       "      <th>Hospitalisations Avoided</th>\n",
       "      <th>Confidence Level</th>\n",
       "    </tr>\n",
       "  </thead>\n",
       "  <tbody>\n",
       "    <tr>\n",
       "      <th>count</th>\n",
       "      <td>2730.000000</td>\n",
       "      <td>2730.000000</td>\n",
       "      <td>2730.000000</td>\n",
       "    </tr>\n",
       "    <tr>\n",
       "      <th>mean</th>\n",
       "      <td>2033.000000</td>\n",
       "      <td>30.881745</td>\n",
       "      <td>1.775703</td>\n",
       "    </tr>\n",
       "    <tr>\n",
       "      <th>std</th>\n",
       "      <td>10.101355</td>\n",
       "      <td>91.285865</td>\n",
       "      <td>3.491989</td>\n",
       "    </tr>\n",
       "    <tr>\n",
       "      <th>min</th>\n",
       "      <td>2016.000000</td>\n",
       "      <td>-0.964686</td>\n",
       "      <td>0.000000</td>\n",
       "    </tr>\n",
       "    <tr>\n",
       "      <th>25%</th>\n",
       "      <td>2024.000000</td>\n",
       "      <td>0.000000</td>\n",
       "      <td>0.017884</td>\n",
       "    </tr>\n",
       "    <tr>\n",
       "      <th>50%</th>\n",
       "      <td>2033.000000</td>\n",
       "      <td>0.872012</td>\n",
       "      <td>0.213110</td>\n",
       "    </tr>\n",
       "    <tr>\n",
       "      <th>75%</th>\n",
       "      <td>2042.000000</td>\n",
       "      <td>5.413994</td>\n",
       "      <td>0.906307</td>\n",
       "    </tr>\n",
       "    <tr>\n",
       "      <th>max</th>\n",
       "      <td>2050.000000</td>\n",
       "      <td>586.722834</td>\n",
       "      <td>11.844601</td>\n",
       "    </tr>\n",
       "  </tbody>\n",
       "</table>\n",
       "</div>"
      ],
      "text/plain": [
       "              Year  Hospitalisations Avoided  Confidence Level\n",
       "count  2730.000000               2730.000000       2730.000000\n",
       "mean   2033.000000                 30.881745          1.775703\n",
       "std      10.101355                 91.285865          3.491989\n",
       "min    2016.000000                 -0.964686          0.000000\n",
       "25%    2024.000000                  0.000000          0.017884\n",
       "50%    2033.000000                  0.872012          0.213110\n",
       "75%    2042.000000                  5.413994          0.906307\n",
       "max    2050.000000                586.722834         11.844601"
      ]
     },
     "execution_count": 51,
     "metadata": {},
     "output_type": "execute_result"
    }
   ],
   "source": [
    "air_pollution_tower.describe()"
   ]
  },
  {
   "cell_type": "markdown",
   "id": "9ae1f5e3-48b1-4afd-9d17-063ea377f39d",
   "metadata": {},
   "source": [
    "# Combined Data Sorting, Merging, Concat"
   ]
  },
  {
   "cell_type": "code",
   "execution_count": 52,
   "id": "83c42dde-96b0-46ae-b00b-c1e08cd6de6c",
   "metadata": {},
   "outputs": [
    {
     "data": {
      "text/html": [
       "<div>\n",
       "<style scoped>\n",
       "    .dataframe tbody tr th:only-of-type {\n",
       "        vertical-align: middle;\n",
       "    }\n",
       "\n",
       "    .dataframe tbody tr th {\n",
       "        vertical-align: top;\n",
       "    }\n",
       "\n",
       "    .dataframe thead th {\n",
       "        text-align: right;\n",
       "    }\n",
       "</style>\n",
       "<table border=\"1\" class=\"dataframe\">\n",
       "  <thead>\n",
       "    <tr style=\"text-align: right;\">\n",
       "      <th></th>\n",
       "      <th>Year</th>\n",
       "      <th>Disease</th>\n",
       "      <th>AgeGroup</th>\n",
       "      <th>Hospitalisations Avoided</th>\n",
       "      <th>Confidence Level</th>\n",
       "    </tr>\n",
       "  </thead>\n",
       "  <tbody>\n",
       "    <tr>\n",
       "      <th>1248</th>\n",
       "      <td>2029</td>\n",
       "      <td>childhood asthma</td>\n",
       "      <td>0-5</td>\n",
       "      <td>-0.039336</td>\n",
       "      <td>0.058486</td>\n",
       "    </tr>\n",
       "    <tr>\n",
       "      <th>1820</th>\n",
       "      <td>2016</td>\n",
       "      <td>childhood asthma</td>\n",
       "      <td>0-5</td>\n",
       "      <td>-0.037770</td>\n",
       "      <td>0.063546</td>\n",
       "    </tr>\n",
       "    <tr>\n",
       "      <th>338</th>\n",
       "      <td>2029</td>\n",
       "      <td>childhood asthma</td>\n",
       "      <td>0-5</td>\n",
       "      <td>-0.031273</td>\n",
       "      <td>0.058471</td>\n",
       "    </tr>\n",
       "    <tr>\n",
       "      <th>442</th>\n",
       "      <td>2033</td>\n",
       "      <td>childhood asthma</td>\n",
       "      <td>0-5</td>\n",
       "      <td>-0.030374</td>\n",
       "      <td>0.056156</td>\n",
       "    </tr>\n",
       "    <tr>\n",
       "      <th>468</th>\n",
       "      <td>2034</td>\n",
       "      <td>childhood asthma</td>\n",
       "      <td>0-5</td>\n",
       "      <td>-0.030336</td>\n",
       "      <td>0.055719</td>\n",
       "    </tr>\n",
       "  </tbody>\n",
       "</table>\n",
       "</div>"
      ],
      "text/plain": [
       "      Year           Disease AgeGroup  Hospitalisations Avoided  \\\n",
       "1248  2029  childhood asthma      0-5                 -0.039336   \n",
       "1820  2016  childhood asthma      0-5                 -0.037770   \n",
       "338   2029  childhood asthma      0-5                 -0.031273   \n",
       "442   2033  childhood asthma      0-5                 -0.030374   \n",
       "468   2034  childhood asthma      0-5                 -0.030336   \n",
       "\n",
       "      Confidence Level  \n",
       "1248          0.058486  \n",
       "1820          0.063546  \n",
       "338           0.058471  \n",
       "442           0.056156  \n",
       "468           0.055719  "
      ]
     },
     "execution_count": 52,
     "metadata": {},
     "output_type": "execute_result"
    }
   ],
   "source": [
    "all_results_hammer = air_pollution_hammer.sort_values(by=['Disease','AgeGroup','Hospitalisations Avoided'],ascending=True,inplace=False)\n",
    "all_results_hammer.head(5)"
   ]
  },
  {
   "cell_type": "code",
   "execution_count": 53,
   "id": "c87e6630-ba9c-4700-8649-d7b98dfddd8d",
   "metadata": {},
   "outputs": [
    {
     "data": {
      "text/html": [
       "<div>\n",
       "<style scoped>\n",
       "    .dataframe tbody tr th:only-of-type {\n",
       "        vertical-align: middle;\n",
       "    }\n",
       "\n",
       "    .dataframe tbody tr th {\n",
       "        vertical-align: top;\n",
       "    }\n",
       "\n",
       "    .dataframe thead th {\n",
       "        text-align: right;\n",
       "    }\n",
       "</style>\n",
       "<table border=\"1\" class=\"dataframe\">\n",
       "  <thead>\n",
       "    <tr style=\"text-align: right;\">\n",
       "      <th></th>\n",
       "      <th>Year</th>\n",
       "      <th>Disease</th>\n",
       "      <th>AgeGroup</th>\n",
       "      <th>Hospitalisations Avoided</th>\n",
       "      <th>Confidence Level</th>\n",
       "    </tr>\n",
       "  </thead>\n",
       "  <tbody>\n",
       "    <tr>\n",
       "      <th>546</th>\n",
       "      <td>2037</td>\n",
       "      <td>childhood asthma</td>\n",
       "      <td>0-5</td>\n",
       "      <td>-0.046678</td>\n",
       "      <td>0.054062</td>\n",
       "    </tr>\n",
       "    <tr>\n",
       "      <th>572</th>\n",
       "      <td>2038</td>\n",
       "      <td>childhood asthma</td>\n",
       "      <td>0-5</td>\n",
       "      <td>-0.043240</td>\n",
       "      <td>0.053796</td>\n",
       "    </tr>\n",
       "    <tr>\n",
       "      <th>780</th>\n",
       "      <td>2046</td>\n",
       "      <td>childhood asthma</td>\n",
       "      <td>0-5</td>\n",
       "      <td>-0.042968</td>\n",
       "      <td>0.052507</td>\n",
       "    </tr>\n",
       "    <tr>\n",
       "      <th>1482</th>\n",
       "      <td>2038</td>\n",
       "      <td>childhood asthma</td>\n",
       "      <td>0-5</td>\n",
       "      <td>-0.040579</td>\n",
       "      <td>0.053792</td>\n",
       "    </tr>\n",
       "    <tr>\n",
       "      <th>52</th>\n",
       "      <td>2018</td>\n",
       "      <td>childhood asthma</td>\n",
       "      <td>0-5</td>\n",
       "      <td>-0.040326</td>\n",
       "      <td>0.060267</td>\n",
       "    </tr>\n",
       "  </tbody>\n",
       "</table>\n",
       "</div>"
      ],
      "text/plain": [
       "      Year           Disease AgeGroup  Hospitalisations Avoided  \\\n",
       "546   2037  childhood asthma      0-5                 -0.046678   \n",
       "572   2038  childhood asthma      0-5                 -0.043240   \n",
       "780   2046  childhood asthma      0-5                 -0.042968   \n",
       "1482  2038  childhood asthma      0-5                 -0.040579   \n",
       "52    2018  childhood asthma      0-5                 -0.040326   \n",
       "\n",
       "      Confidence Level  \n",
       "546           0.054062  \n",
       "572           0.053796  \n",
       "780           0.052507  \n",
       "1482          0.053792  \n",
       "52            0.060267  "
      ]
     },
     "execution_count": 53,
     "metadata": {},
     "output_type": "execute_result"
    }
   ],
   "source": [
    "all_results_tower = air_pollution_tower.sort_values(by=['Disease','AgeGroup','Hospitalisations Avoided'],ascending=True,inplace=False)\n",
    "all_results_tower.head(5)"
   ]
  },
  {
   "cell_type": "code",
   "execution_count": 54,
   "id": "1c38613d-730a-406b-ae51-e9dc560cbe8a",
   "metadata": {},
   "outputs": [
    {
     "data": {
      "text/html": [
       "<div>\n",
       "<style scoped>\n",
       "    .dataframe tbody tr th:only-of-type {\n",
       "        vertical-align: middle;\n",
       "    }\n",
       "\n",
       "    .dataframe tbody tr th {\n",
       "        vertical-align: top;\n",
       "    }\n",
       "\n",
       "    .dataframe thead th {\n",
       "        text-align: right;\n",
       "    }\n",
       "</style>\n",
       "<table border=\"1\" class=\"dataframe\">\n",
       "  <thead>\n",
       "    <tr style=\"text-align: right;\">\n",
       "      <th></th>\n",
       "      <th>Year</th>\n",
       "      <th>Disease</th>\n",
       "      <th>AgeGroup</th>\n",
       "      <th>Hospitalisations Avoided</th>\n",
       "      <th>Confidence Level</th>\n",
       "      <th>Year</th>\n",
       "      <th>Disease</th>\n",
       "      <th>AgeGroup</th>\n",
       "      <th>Hospitalisations Avoided</th>\n",
       "      <th>Confidence Level</th>\n",
       "    </tr>\n",
       "  </thead>\n",
       "  <tbody>\n",
       "    <tr>\n",
       "      <th>0</th>\n",
       "      <td>2016</td>\n",
       "      <td>childhood asthma</td>\n",
       "      <td>0-5</td>\n",
       "      <td>-0.010039</td>\n",
       "      <td>0.063490</td>\n",
       "      <td>2016</td>\n",
       "      <td>childhood asthma</td>\n",
       "      <td>0-5</td>\n",
       "      <td>0.014850</td>\n",
       "      <td>0.060362</td>\n",
       "    </tr>\n",
       "    <tr>\n",
       "      <th>1</th>\n",
       "      <td>2016</td>\n",
       "      <td>childhood asthma</td>\n",
       "      <td>06-17</td>\n",
       "      <td>0.080552</td>\n",
       "      <td>0.148169</td>\n",
       "      <td>2016</td>\n",
       "      <td>childhood asthma</td>\n",
       "      <td>06-17</td>\n",
       "      <td>0.020924</td>\n",
       "      <td>0.137827</td>\n",
       "    </tr>\n",
       "    <tr>\n",
       "      <th>2</th>\n",
       "      <td>2016</td>\n",
       "      <td>childhood asthma</td>\n",
       "      <td>18-64</td>\n",
       "      <td>0.673188</td>\n",
       "      <td>0.401905</td>\n",
       "      <td>2016</td>\n",
       "      <td>childhood asthma</td>\n",
       "      <td>18-64</td>\n",
       "      <td>0.539354</td>\n",
       "      <td>0.311021</td>\n",
       "    </tr>\n",
       "    <tr>\n",
       "      <th>3</th>\n",
       "      <td>2016</td>\n",
       "      <td>childhood asthma</td>\n",
       "      <td>65+</td>\n",
       "      <td>0.156875</td>\n",
       "      <td>0.159396</td>\n",
       "      <td>2016</td>\n",
       "      <td>childhood asthma</td>\n",
       "      <td>65+</td>\n",
       "      <td>0.221781</td>\n",
       "      <td>0.155075</td>\n",
       "    </tr>\n",
       "    <tr>\n",
       "      <th>4</th>\n",
       "      <td>2016</td>\n",
       "      <td>childhood asthma</td>\n",
       "      <td>total</td>\n",
       "      <td>0.900577</td>\n",
       "      <td>0.461432</td>\n",
       "      <td>2016</td>\n",
       "      <td>childhood asthma</td>\n",
       "      <td>total</td>\n",
       "      <td>0.796909</td>\n",
       "      <td>0.378712</td>\n",
       "    </tr>\n",
       "  </tbody>\n",
       "</table>\n",
       "</div>"
      ],
      "text/plain": [
       "   Year           Disease AgeGroup  Hospitalisations Avoided  \\\n",
       "0  2016  childhood asthma      0-5                 -0.010039   \n",
       "1  2016  childhood asthma    06-17                  0.080552   \n",
       "2  2016  childhood asthma    18-64                  0.673188   \n",
       "3  2016  childhood asthma      65+                  0.156875   \n",
       "4  2016  childhood asthma    total                  0.900577   \n",
       "\n",
       "   Confidence Level  Year           Disease AgeGroup  \\\n",
       "0          0.063490  2016  childhood asthma      0-5   \n",
       "1          0.148169  2016  childhood asthma    06-17   \n",
       "2          0.401905  2016  childhood asthma    18-64   \n",
       "3          0.159396  2016  childhood asthma      65+   \n",
       "4          0.461432  2016  childhood asthma    total   \n",
       "\n",
       "   Hospitalisations Avoided  Confidence Level  \n",
       "0                  0.014850          0.060362  \n",
       "1                  0.020924          0.137827  \n",
       "2                  0.539354          0.311021  \n",
       "3                  0.221781          0.155075  \n",
       "4                  0.796909          0.378712  "
      ]
     },
     "execution_count": 54,
     "metadata": {},
     "output_type": "execute_result"
    }
   ],
   "source": [
    "combined_results = pd.concat([air_pollution_hammer, air_pollution_tower], axis=1).reindex(air_pollution_hammer.index)\n",
    "combined_results.head(5)"
   ]
  },
  {
   "cell_type": "code",
   "execution_count": 55,
   "id": "78644ed8-0a21-4909-932e-52b78f33fd03",
   "metadata": {},
   "outputs": [
    {
     "data": {
      "text/html": [
       "<div>\n",
       "<style scoped>\n",
       "    .dataframe tbody tr th:only-of-type {\n",
       "        vertical-align: middle;\n",
       "    }\n",
       "\n",
       "    .dataframe tbody tr th {\n",
       "        vertical-align: top;\n",
       "    }\n",
       "\n",
       "    .dataframe thead th {\n",
       "        text-align: right;\n",
       "    }\n",
       "</style>\n",
       "<table border=\"1\" class=\"dataframe\">\n",
       "  <thead>\n",
       "    <tr style=\"text-align: right;\">\n",
       "      <th></th>\n",
       "      <th>Year</th>\n",
       "      <th>Condition</th>\n",
       "      <th>Age</th>\n",
       "      <th>Hospitalisations Avoided</th>\n",
       "      <th>Confidence Level</th>\n",
       "      <th>Year</th>\n",
       "      <th>Condition</th>\n",
       "      <th>Age</th>\n",
       "      <th>Hospitalisations Avoided</th>\n",
       "      <th>Confidence Level</th>\n",
       "    </tr>\n",
       "  </thead>\n",
       "  <tbody>\n",
       "    <tr>\n",
       "      <th>0</th>\n",
       "      <td>2016</td>\n",
       "      <td>childhood asthma</td>\n",
       "      <td>0-5</td>\n",
       "      <td>-0.010039</td>\n",
       "      <td>0.063490</td>\n",
       "      <td>2016</td>\n",
       "      <td>childhood asthma</td>\n",
       "      <td>0-5</td>\n",
       "      <td>0.014850</td>\n",
       "      <td>0.060362</td>\n",
       "    </tr>\n",
       "    <tr>\n",
       "      <th>1</th>\n",
       "      <td>2016</td>\n",
       "      <td>childhood asthma</td>\n",
       "      <td>06-17</td>\n",
       "      <td>0.080552</td>\n",
       "      <td>0.148169</td>\n",
       "      <td>2016</td>\n",
       "      <td>childhood asthma</td>\n",
       "      <td>06-17</td>\n",
       "      <td>0.020924</td>\n",
       "      <td>0.137827</td>\n",
       "    </tr>\n",
       "    <tr>\n",
       "      <th>2</th>\n",
       "      <td>2016</td>\n",
       "      <td>childhood asthma</td>\n",
       "      <td>18-64</td>\n",
       "      <td>0.673188</td>\n",
       "      <td>0.401905</td>\n",
       "      <td>2016</td>\n",
       "      <td>childhood asthma</td>\n",
       "      <td>18-64</td>\n",
       "      <td>0.539354</td>\n",
       "      <td>0.311021</td>\n",
       "    </tr>\n",
       "    <tr>\n",
       "      <th>3</th>\n",
       "      <td>2016</td>\n",
       "      <td>childhood asthma</td>\n",
       "      <td>65+</td>\n",
       "      <td>0.156875</td>\n",
       "      <td>0.159396</td>\n",
       "      <td>2016</td>\n",
       "      <td>childhood asthma</td>\n",
       "      <td>65+</td>\n",
       "      <td>0.221781</td>\n",
       "      <td>0.155075</td>\n",
       "    </tr>\n",
       "    <tr>\n",
       "      <th>4</th>\n",
       "      <td>2016</td>\n",
       "      <td>childhood asthma</td>\n",
       "      <td>total</td>\n",
       "      <td>0.900577</td>\n",
       "      <td>0.461432</td>\n",
       "      <td>2016</td>\n",
       "      <td>childhood asthma</td>\n",
       "      <td>total</td>\n",
       "      <td>0.796909</td>\n",
       "      <td>0.378712</td>\n",
       "    </tr>\n",
       "  </tbody>\n",
       "</table>\n",
       "</div>"
      ],
      "text/plain": [
       "   Year         Condition    Age  Hospitalisations Avoided  Confidence Level  \\\n",
       "0  2016  childhood asthma    0-5                 -0.010039          0.063490   \n",
       "1  2016  childhood asthma  06-17                  0.080552          0.148169   \n",
       "2  2016  childhood asthma  18-64                  0.673188          0.401905   \n",
       "3  2016  childhood asthma    65+                  0.156875          0.159396   \n",
       "4  2016  childhood asthma  total                  0.900577          0.461432   \n",
       "\n",
       "   Year         Condition    Age  Hospitalisations Avoided  Confidence Level  \n",
       "0  2016  childhood asthma    0-5                  0.014850          0.060362  \n",
       "1  2016  childhood asthma  06-17                  0.020924          0.137827  \n",
       "2  2016  childhood asthma  18-64                  0.539354          0.311021  \n",
       "3  2016  childhood asthma    65+                  0.221781          0.155075  \n",
       "4  2016  childhood asthma  total                  0.796909          0.378712  "
      ]
     },
     "execution_count": 55,
     "metadata": {},
     "output_type": "execute_result"
    }
   ],
   "source": [
    "combined_total_results = pd.concat([total_hospitalisations_hammer, total_hospitalisations_tower], axis=1).reindex(total_hospitalisations_hammer.index)\n",
    "combined_total_results.head(5)"
   ]
  },
  {
   "cell_type": "code",
   "execution_count": 56,
   "id": "7e69efb2-d344-477a-83bb-d5246444f341",
   "metadata": {},
   "outputs": [
    {
     "data": {
      "text/html": [
       "<div>\n",
       "<style scoped>\n",
       "    .dataframe tbody tr th:only-of-type {\n",
       "        vertical-align: middle;\n",
       "    }\n",
       "\n",
       "    .dataframe tbody tr th {\n",
       "        vertical-align: top;\n",
       "    }\n",
       "\n",
       "    .dataframe thead th {\n",
       "        text-align: right;\n",
       "    }\n",
       "</style>\n",
       "<table border=\"1\" class=\"dataframe\">\n",
       "  <thead>\n",
       "    <tr style=\"text-align: right;\">\n",
       "      <th></th>\n",
       "      <th>Year</th>\n",
       "      <th>Condition</th>\n",
       "      <th>Age</th>\n",
       "      <th>Hospitalisations Avoided</th>\n",
       "      <th>Confidence Level</th>\n",
       "    </tr>\n",
       "  </thead>\n",
       "  <tbody>\n",
       "    <tr>\n",
       "      <th>0</th>\n",
       "      <td>2016</td>\n",
       "      <td>childhood asthma</td>\n",
       "      <td>0-5</td>\n",
       "      <td>-0.010039</td>\n",
       "      <td>0.063490</td>\n",
       "    </tr>\n",
       "    <tr>\n",
       "      <th>1</th>\n",
       "      <td>2016</td>\n",
       "      <td>childhood asthma</td>\n",
       "      <td>06-17</td>\n",
       "      <td>0.080552</td>\n",
       "      <td>0.148169</td>\n",
       "    </tr>\n",
       "    <tr>\n",
       "      <th>2</th>\n",
       "      <td>2016</td>\n",
       "      <td>childhood asthma</td>\n",
       "      <td>18-64</td>\n",
       "      <td>0.673188</td>\n",
       "      <td>0.401905</td>\n",
       "    </tr>\n",
       "    <tr>\n",
       "      <th>3</th>\n",
       "      <td>2016</td>\n",
       "      <td>childhood asthma</td>\n",
       "      <td>65+</td>\n",
       "      <td>0.156875</td>\n",
       "      <td>0.159396</td>\n",
       "    </tr>\n",
       "  </tbody>\n",
       "</table>\n",
       "</div>"
      ],
      "text/plain": [
       "   Year         Condition    Age  Hospitalisations Avoided  Confidence Level\n",
       "0  2016  childhood asthma    0-5                 -0.010039          0.063490\n",
       "1  2016  childhood asthma  06-17                  0.080552          0.148169\n",
       "2  2016  childhood asthma  18-64                  0.673188          0.401905\n",
       "3  2016  childhood asthma    65+                  0.156875          0.159396"
      ]
     },
     "execution_count": 56,
     "metadata": {},
     "output_type": "execute_result"
    }
   ],
   "source": [
    "sliced_list_ham = (total_hospitalisations_hammer).iloc[0:4] \n",
    "sliced_list_ham"
   ]
  },
  {
   "cell_type": "code",
   "execution_count": 57,
   "id": "47a8098e-a8e6-4e0a-a204-30667ba34f5e",
   "metadata": {},
   "outputs": [
    {
     "data": {
      "text/html": [
       "<div>\n",
       "<style scoped>\n",
       "    .dataframe tbody tr th:only-of-type {\n",
       "        vertical-align: middle;\n",
       "    }\n",
       "\n",
       "    .dataframe tbody tr th {\n",
       "        vertical-align: top;\n",
       "    }\n",
       "\n",
       "    .dataframe thead th {\n",
       "        text-align: right;\n",
       "    }\n",
       "</style>\n",
       "<table border=\"1\" class=\"dataframe\">\n",
       "  <thead>\n",
       "    <tr style=\"text-align: right;\">\n",
       "      <th></th>\n",
       "      <th>Year</th>\n",
       "      <th>Condition</th>\n",
       "      <th>Age</th>\n",
       "      <th>Hospitalisations Avoided</th>\n",
       "      <th>Confidence Level</th>\n",
       "    </tr>\n",
       "  </thead>\n",
       "  <tbody>\n",
       "    <tr>\n",
       "      <th>0</th>\n",
       "      <td>2016</td>\n",
       "      <td>childhood asthma</td>\n",
       "      <td>0-5</td>\n",
       "      <td>0.014850</td>\n",
       "      <td>0.060362</td>\n",
       "    </tr>\n",
       "    <tr>\n",
       "      <th>1</th>\n",
       "      <td>2016</td>\n",
       "      <td>childhood asthma</td>\n",
       "      <td>06-17</td>\n",
       "      <td>0.020924</td>\n",
       "      <td>0.137827</td>\n",
       "    </tr>\n",
       "    <tr>\n",
       "      <th>2</th>\n",
       "      <td>2016</td>\n",
       "      <td>childhood asthma</td>\n",
       "      <td>18-64</td>\n",
       "      <td>0.539354</td>\n",
       "      <td>0.311021</td>\n",
       "    </tr>\n",
       "    <tr>\n",
       "      <th>3</th>\n",
       "      <td>2016</td>\n",
       "      <td>childhood asthma</td>\n",
       "      <td>65+</td>\n",
       "      <td>0.221781</td>\n",
       "      <td>0.155075</td>\n",
       "    </tr>\n",
       "  </tbody>\n",
       "</table>\n",
       "</div>"
      ],
      "text/plain": [
       "   Year         Condition    Age  Hospitalisations Avoided  Confidence Level\n",
       "0  2016  childhood asthma    0-5                  0.014850          0.060362\n",
       "1  2016  childhood asthma  06-17                  0.020924          0.137827\n",
       "2  2016  childhood asthma  18-64                  0.539354          0.311021\n",
       "3  2016  childhood asthma    65+                  0.221781          0.155075"
      ]
     },
     "execution_count": 57,
     "metadata": {},
     "output_type": "execute_result"
    }
   ],
   "source": [
    "sliced_list_tow = (total_hospitalisations_tower).iloc[0:4] \n",
    "sliced_list_tow"
   ]
  },
  {
   "cell_type": "markdown",
   "id": "d667ce23-48c0-46be-bca0-e419f2e918dc",
   "metadata": {},
   "source": [
    "# Total Conditions in Hammersmith and Fulham"
   ]
  },
  {
   "cell_type": "code",
   "execution_count": 58,
   "id": "84a4e182-de2e-4077-81a9-3e720cd41b6a",
   "metadata": {},
   "outputs": [
    {
     "data": {
      "text/html": [
       "<div>\n",
       "<style scoped>\n",
       "    .dataframe tbody tr th:only-of-type {\n",
       "        vertical-align: middle;\n",
       "    }\n",
       "\n",
       "    .dataframe tbody tr th {\n",
       "        vertical-align: top;\n",
       "    }\n",
       "\n",
       "    .dataframe thead th {\n",
       "        text-align: right;\n",
       "    }\n",
       "</style>\n",
       "<table border=\"1\" class=\"dataframe\">\n",
       "  <thead>\n",
       "    <tr style=\"text-align: right;\">\n",
       "      <th></th>\n",
       "      <th>Conditions</th>\n",
       "      <th>Total Hospitalisations Avoided Hammersmith 2016</th>\n",
       "    </tr>\n",
       "  </thead>\n",
       "  <tbody>\n",
       "    <tr>\n",
       "      <th>0</th>\n",
       "      <td>childhood asthma</td>\n",
       "      <td>0.461432</td>\n",
       "    </tr>\n",
       "    <tr>\n",
       "      <th>1</th>\n",
       "      <td>COPD</td>\n",
       "      <td>13.541428</td>\n",
       "    </tr>\n",
       "    <tr>\n",
       "      <th>2</th>\n",
       "      <td>heart disease</td>\n",
       "      <td>0.490831</td>\n",
       "    </tr>\n",
       "    <tr>\n",
       "      <th>3</th>\n",
       "      <td>lung cancer</td>\n",
       "      <td>1.789825</td>\n",
       "    </tr>\n",
       "    <tr>\n",
       "      <th>4</th>\n",
       "      <td>stroke</td>\n",
       "      <td>0.249925</td>\n",
       "    </tr>\n",
       "  </tbody>\n",
       "</table>\n",
       "</div>"
      ],
      "text/plain": [
       "         Conditions  Total Hospitalisations Avoided Hammersmith 2016\n",
       "0  childhood asthma                                         0.461432\n",
       "1              COPD                                        13.541428\n",
       "2     heart disease                                         0.490831\n",
       "3       lung cancer                                         1.789825\n",
       "4            stroke                                         0.249925"
      ]
     },
     "execution_count": 58,
     "metadata": {},
     "output_type": "execute_result"
    }
   ],
   "source": [
    "total_conditions_2016_ham = pd.DataFrame({'Conditions': ['childhood asthma','COPD','heart disease', 'lung cancer', 'stroke'],\n",
    "                                      'Total Hospitalisations Avoided Hammersmith 2016':[0.461432,13.541428,0.490831,1.789825,0.249925]})\n",
    "total_conditions_2016_ham"
   ]
  },
  {
   "cell_type": "code",
   "execution_count": 59,
   "id": "7843e162-2353-4ab3-9d24-4dd94a7c2d18",
   "metadata": {},
   "outputs": [
    {
     "data": {
      "text/html": [
       "<div>\n",
       "<style scoped>\n",
       "    .dataframe tbody tr th:only-of-type {\n",
       "        vertical-align: middle;\n",
       "    }\n",
       "\n",
       "    .dataframe tbody tr th {\n",
       "        vertical-align: top;\n",
       "    }\n",
       "\n",
       "    .dataframe thead th {\n",
       "        text-align: right;\n",
       "    }\n",
       "</style>\n",
       "<table border=\"1\" class=\"dataframe\">\n",
       "  <thead>\n",
       "    <tr style=\"text-align: right;\">\n",
       "      <th></th>\n",
       "      <th>Conditions</th>\n",
       "      <th>Total Hospitalisations Avoided Hammersmith 2023</th>\n",
       "    </tr>\n",
       "  </thead>\n",
       "  <tbody>\n",
       "    <tr>\n",
       "      <th>0</th>\n",
       "      <td>childhood asthma</td>\n",
       "      <td>0.439283</td>\n",
       "    </tr>\n",
       "    <tr>\n",
       "      <th>1</th>\n",
       "      <td>C.O.P.D</td>\n",
       "      <td>13.934753</td>\n",
       "    </tr>\n",
       "    <tr>\n",
       "      <th>2</th>\n",
       "      <td>heart disease</td>\n",
       "      <td>0.474597</td>\n",
       "    </tr>\n",
       "    <tr>\n",
       "      <th>3</th>\n",
       "      <td>lung cancer</td>\n",
       "      <td>1.912438</td>\n",
       "    </tr>\n",
       "    <tr>\n",
       "      <th>4</th>\n",
       "      <td>stroke</td>\n",
       "      <td>0.243043</td>\n",
       "    </tr>\n",
       "  </tbody>\n",
       "</table>\n",
       "</div>"
      ],
      "text/plain": [
       "         Conditions  Total Hospitalisations Avoided Hammersmith 2023\n",
       "0  childhood asthma                                         0.439283\n",
       "1           C.O.P.D                                        13.934753\n",
       "2     heart disease                                         0.474597\n",
       "3       lung cancer                                         1.912438\n",
       "4            stroke                                         0.243043"
      ]
     },
     "execution_count": 59,
     "metadata": {},
     "output_type": "execute_result"
    }
   ],
   "source": [
    "total_conditions_2023_ham = pd.DataFrame({'Conditions': ['childhood asthma','C.O.P.D','heart disease', 'lung cancer', 'stroke'],\n",
    "                                      'Total Hospitalisations Avoided Hammersmith 2023':[0.439283,13.934753, 0.474597, 1.912438, 0.243043]})\n",
    "total_conditions_2023_ham"
   ]
  },
  {
   "cell_type": "markdown",
   "id": "ddf0b2de-f347-4652-9523-0f48f00f6e9b",
   "metadata": {},
   "source": [
    "# Total Conditons in Tower Hamlets"
   ]
  },
  {
   "cell_type": "code",
   "execution_count": 60,
   "id": "00b609e3-aed5-4137-b0c3-616ec252c916",
   "metadata": {},
   "outputs": [
    {
     "data": {
      "text/html": [
       "<div>\n",
       "<style scoped>\n",
       "    .dataframe tbody tr th:only-of-type {\n",
       "        vertical-align: middle;\n",
       "    }\n",
       "\n",
       "    .dataframe tbody tr th {\n",
       "        vertical-align: top;\n",
       "    }\n",
       "\n",
       "    .dataframe thead th {\n",
       "        text-align: right;\n",
       "    }\n",
       "</style>\n",
       "<table border=\"1\" class=\"dataframe\">\n",
       "  <thead>\n",
       "    <tr style=\"text-align: right;\">\n",
       "      <th></th>\n",
       "      <th>Conditions</th>\n",
       "      <th>Total Hospitalisations Avoided Hammersmith 2016</th>\n",
       "    </tr>\n",
       "  </thead>\n",
       "  <tbody>\n",
       "    <tr>\n",
       "      <th>0</th>\n",
       "      <td>childhood asthma</td>\n",
       "      <td>0.466397</td>\n",
       "    </tr>\n",
       "    <tr>\n",
       "      <th>1</th>\n",
       "      <td>COPD</td>\n",
       "      <td>11.366999</td>\n",
       "    </tr>\n",
       "    <tr>\n",
       "      <th>2</th>\n",
       "      <td>heart disease</td>\n",
       "      <td>0.413478</td>\n",
       "    </tr>\n",
       "    <tr>\n",
       "      <th>3</th>\n",
       "      <td>lung cancer</td>\n",
       "      <td>1.432522</td>\n",
       "    </tr>\n",
       "    <tr>\n",
       "      <th>4</th>\n",
       "      <td>stroke</td>\n",
       "      <td>0.209381</td>\n",
       "    </tr>\n",
       "  </tbody>\n",
       "</table>\n",
       "</div>"
      ],
      "text/plain": [
       "         Conditions  Total Hospitalisations Avoided Hammersmith 2016\n",
       "0  childhood asthma                                         0.466397\n",
       "1              COPD                                        11.366999\n",
       "2     heart disease                                         0.413478\n",
       "3       lung cancer                                         1.432522\n",
       "4            stroke                                         0.209381"
      ]
     },
     "execution_count": 60,
     "metadata": {},
     "output_type": "execute_result"
    }
   ],
   "source": [
    "total_conditions_2016_tow = pd.DataFrame({'Conditions': ['childhood asthma','COPD','heart disease', 'lung cancer', 'stroke'],\n",
    "                                      'Total Hospitalisations Avoided Hammersmith 2016':[0.466397,11.366999,0.413478,1.432522,0.209381]})\n",
    "total_conditions_2016_tow"
   ]
  },
  {
   "cell_type": "code",
   "execution_count": 61,
   "id": "95448a57-a72b-48f3-9007-b84887854c1b",
   "metadata": {},
   "outputs": [
    {
     "data": {
      "text/html": [
       "<div>\n",
       "<style scoped>\n",
       "    .dataframe tbody tr th:only-of-type {\n",
       "        vertical-align: middle;\n",
       "    }\n",
       "\n",
       "    .dataframe tbody tr th {\n",
       "        vertical-align: top;\n",
       "    }\n",
       "\n",
       "    .dataframe thead th {\n",
       "        text-align: right;\n",
       "    }\n",
       "</style>\n",
       "<table border=\"1\" class=\"dataframe\">\n",
       "  <thead>\n",
       "    <tr style=\"text-align: right;\">\n",
       "      <th></th>\n",
       "      <th>Conditions</th>\n",
       "      <th>Total Hospitalisations Avoided Hammersmith 2023</th>\n",
       "    </tr>\n",
       "  </thead>\n",
       "  <tbody>\n",
       "    <tr>\n",
       "      <th>0</th>\n",
       "      <td>childhood asthma</td>\n",
       "      <td>0.435217</td>\n",
       "    </tr>\n",
       "    <tr>\n",
       "      <th>1</th>\n",
       "      <td>COPD</td>\n",
       "      <td>11.653012</td>\n",
       "    </tr>\n",
       "    <tr>\n",
       "      <th>2</th>\n",
       "      <td>heart disease</td>\n",
       "      <td>0.395478</td>\n",
       "    </tr>\n",
       "    <tr>\n",
       "      <th>3</th>\n",
       "      <td>lung cancer</td>\n",
       "      <td>1.481082</td>\n",
       "    </tr>\n",
       "    <tr>\n",
       "      <th>4</th>\n",
       "      <td>stroke</td>\n",
       "      <td>0.197260</td>\n",
       "    </tr>\n",
       "  </tbody>\n",
       "</table>\n",
       "</div>"
      ],
      "text/plain": [
       "         Conditions  Total Hospitalisations Avoided Hammersmith 2023\n",
       "0  childhood asthma                                         0.435217\n",
       "1              COPD                                        11.653012\n",
       "2     heart disease                                         0.395478\n",
       "3       lung cancer                                         1.481082\n",
       "4            stroke                                         0.197260"
      ]
     },
     "execution_count": 61,
     "metadata": {},
     "output_type": "execute_result"
    }
   ],
   "source": [
    "total_conditions_2023_tow = pd.DataFrame({'Conditions': ['childhood asthma','COPD','heart disease', 'lung cancer', 'stroke'],\n",
    "                                      'Total Hospitalisations Avoided Hammersmith 2023':[0.435217,11.653012,0.395478, 1.481082, 0.19726 ]})\n",
    "total_conditions_2023_tow"
   ]
  },
  {
   "cell_type": "markdown",
   "id": "4a20e91b-2c9a-4e0b-8f21-2f37c4d3fd8a",
   "metadata": {},
   "source": [
    "# Hospitalisations Avoided by Age Group for Hammersmith and Fulham"
   ]
  },
  {
   "cell_type": "code",
   "execution_count": 62,
   "id": "07ad9210-7940-4e7f-818b-488def7cfd8d",
   "metadata": {},
   "outputs": [
    {
     "data": {
      "text/html": [
       "<div>\n",
       "<style scoped>\n",
       "    .dataframe tbody tr th:only-of-type {\n",
       "        vertical-align: middle;\n",
       "    }\n",
       "\n",
       "    .dataframe tbody tr th {\n",
       "        vertical-align: top;\n",
       "    }\n",
       "\n",
       "    .dataframe thead th {\n",
       "        text-align: right;\n",
       "    }\n",
       "</style>\n",
       "<table border=\"1\" class=\"dataframe\">\n",
       "  <thead>\n",
       "    <tr style=\"text-align: right;\">\n",
       "      <th></th>\n",
       "      <th>AgeGroup</th>\n",
       "      <th>HospitalisationsAvoided</th>\n",
       "    </tr>\n",
       "  </thead>\n",
       "  <tbody>\n",
       "    <tr>\n",
       "      <th>0</th>\n",
       "      <td>0-5</td>\n",
       "      <td>0.074123</td>\n",
       "    </tr>\n",
       "    <tr>\n",
       "      <th>1</th>\n",
       "      <td>06-17</td>\n",
       "      <td>0.180297</td>\n",
       "    </tr>\n",
       "    <tr>\n",
       "      <th>2</th>\n",
       "      <td>18-64</td>\n",
       "      <td>11.747121</td>\n",
       "    </tr>\n",
       "    <tr>\n",
       "      <th>3</th>\n",
       "      <td>65+</td>\n",
       "      <td>11.453407</td>\n",
       "    </tr>\n",
       "  </tbody>\n",
       "</table>\n",
       "</div>"
      ],
      "text/plain": [
       "  AgeGroup  HospitalisationsAvoided\n",
       "0      0-5                 0.074123\n",
       "1    06-17                 0.180297\n",
       "2    18-64                11.747121\n",
       "3      65+                11.453407"
      ]
     },
     "execution_count": 62,
     "metadata": {},
     "output_type": "execute_result"
    }
   ],
   "source": [
    "age_group_2016_ham = pd.DataFrame({'AgeGroup': ['0-5','06-17','18-64','65+',],\n",
    "                    'HospitalisationsAvoided':[0.074123, 0.180297, 11.747121, 11.453407,]})\n",
    "age_group_2016_ham"
   ]
  },
  {
   "cell_type": "code",
   "execution_count": 63,
   "id": "bdacaa2b-9ebc-4f45-a002-62bbc5335dbe",
   "metadata": {},
   "outputs": [
    {
     "data": {
      "text/plain": [
       "AgeGroup  HospitalisationsAvoided\n",
       "0-5       0.074123                   1\n",
       "06-17     0.180297                   1\n",
       "18-64     11.747121                  1\n",
       "65+       11.453407                  1\n",
       "Name: count, dtype: int64"
      ]
     },
     "execution_count": 63,
     "metadata": {},
     "output_type": "execute_result"
    }
   ],
   "source": [
    "age_group_2016_ham.value_counts(['AgeGroup', 'HospitalisationsAvoided'])"
   ]
  },
  {
   "cell_type": "code",
   "execution_count": 64,
   "id": "bb214b3c-f6e7-4d72-9627-6c3d8c63616a",
   "metadata": {},
   "outputs": [
    {
     "data": {
      "text/plain": [
       "AgeGroup\n",
       "0-5      25.0%\n",
       "06-17    25.0%\n",
       "18-64    25.0%\n",
       "65+      25.0%\n",
       "Name: proportion, dtype: object"
      ]
     },
     "execution_count": 64,
     "metadata": {},
     "output_type": "execute_result"
    }
   ],
   "source": [
    "age_group_2016_ham.AgeGroup.value_counts(normalize=True).mul(100).round(1).astype(str) + '%'"
   ]
  },
  {
   "cell_type": "code",
   "execution_count": 65,
   "id": "819e251e-1c3e-471d-b7f5-d41d6cd17acc",
   "metadata": {},
   "outputs": [
    {
     "data": {
      "text/plain": [
       "HospitalisationsAvoided\n",
       "0.074123     25.0%\n",
       "0.180297     25.0%\n",
       "11.747121    25.0%\n",
       "11.453407    25.0%\n",
       "Name: proportion, dtype: object"
      ]
     },
     "execution_count": 65,
     "metadata": {},
     "output_type": "execute_result"
    }
   ],
   "source": [
    "age_group_2016_ham.HospitalisationsAvoided.value_counts(normalize=True).mul(100).round(1).astype(str) + '%'"
   ]
  },
  {
   "cell_type": "code",
   "execution_count": 66,
   "id": "8429a59e-fa54-4c8f-9511-fa9416217a28",
   "metadata": {},
   "outputs": [
    {
     "data": {
      "text/html": [
       "<div>\n",
       "<style scoped>\n",
       "    .dataframe tbody tr th:only-of-type {\n",
       "        vertical-align: middle;\n",
       "    }\n",
       "\n",
       "    .dataframe tbody tr th {\n",
       "        vertical-align: top;\n",
       "    }\n",
       "\n",
       "    .dataframe thead th {\n",
       "        text-align: right;\n",
       "    }\n",
       "</style>\n",
       "<table border=\"1\" class=\"dataframe\">\n",
       "  <thead>\n",
       "    <tr style=\"text-align: right;\">\n",
       "      <th></th>\n",
       "      <th>AgeGroup</th>\n",
       "      <th>HospitalisationsAvoided</th>\n",
       "    </tr>\n",
       "  </thead>\n",
       "  <tbody>\n",
       "    <tr>\n",
       "      <th>0</th>\n",
       "      <td>0-5</td>\n",
       "      <td>0.072747</td>\n",
       "    </tr>\n",
       "    <tr>\n",
       "      <th>1</th>\n",
       "      <td>06-17</td>\n",
       "      <td>0.186572</td>\n",
       "    </tr>\n",
       "    <tr>\n",
       "      <th>2</th>\n",
       "      <td>18-64</td>\n",
       "      <td>12.253070</td>\n",
       "    </tr>\n",
       "    <tr>\n",
       "      <th>3</th>\n",
       "      <td>65+</td>\n",
       "      <td>11.605793</td>\n",
       "    </tr>\n",
       "  </tbody>\n",
       "</table>\n",
       "</div>"
      ],
      "text/plain": [
       "  AgeGroup  HospitalisationsAvoided\n",
       "0      0-5                 0.072747\n",
       "1    06-17                 0.186572\n",
       "2    18-64                12.253070\n",
       "3      65+                11.605793"
      ]
     },
     "execution_count": 66,
     "metadata": {},
     "output_type": "execute_result"
    }
   ],
   "source": [
    "age_group_2023_ham = pd.DataFrame({'AgeGroup': ['0-5','06-17','18-64','65+'],\n",
    "                    'HospitalisationsAvoided':[0.072747, 0.186572, 12.25307, 11.605793]})\n",
    "age_group_2023_ham"
   ]
  },
  {
   "cell_type": "code",
   "execution_count": 67,
   "id": "4a7d2c61-9050-43dc-882a-d5f742d01b11",
   "metadata": {},
   "outputs": [
    {
     "data": {
      "text/plain": [
       "AgeGroup  HospitalisationsAvoided\n",
       "0-5       0.072747                   1\n",
       "06-17     0.186572                   1\n",
       "18-64     12.253070                  1\n",
       "65+       11.605793                  1\n",
       "Name: count, dtype: int64"
      ]
     },
     "execution_count": 67,
     "metadata": {},
     "output_type": "execute_result"
    }
   ],
   "source": [
    "age_group_2023_ham.value_counts(['AgeGroup', 'HospitalisationsAvoided'])"
   ]
  },
  {
   "cell_type": "code",
   "execution_count": 68,
   "id": "a5070e82-98ea-49ee-be98-9162a767ef4d",
   "metadata": {},
   "outputs": [
    {
     "data": {
      "text/plain": [
       "AgeGroup\n",
       "0-5      25.0%\n",
       "06-17    25.0%\n",
       "18-64    25.0%\n",
       "65+      25.0%\n",
       "Name: proportion, dtype: object"
      ]
     },
     "execution_count": 68,
     "metadata": {},
     "output_type": "execute_result"
    }
   ],
   "source": [
    "age_group_2023_ham.AgeGroup.value_counts(normalize=True).mul(100).round(1).astype(str) + '%'"
   ]
  },
  {
   "cell_type": "code",
   "execution_count": 69,
   "id": "95d526ad-3e6e-4677-96e7-e90b33d3dbc3",
   "metadata": {},
   "outputs": [
    {
     "data": {
      "text/plain": [
       "HospitalisationsAvoided\n",
       "0.072747     25.0%\n",
       "0.186572     25.0%\n",
       "12.253070    25.0%\n",
       "11.605793    25.0%\n",
       "Name: proportion, dtype: object"
      ]
     },
     "execution_count": 69,
     "metadata": {},
     "output_type": "execute_result"
    }
   ],
   "source": [
    "age_group_2023_ham.HospitalisationsAvoided.value_counts(normalize=True).mul(100).round(1).astype(str) + '%'"
   ]
  },
  {
   "cell_type": "markdown",
   "id": "49ca2ac5-8780-444f-8697-301f7f2700f5",
   "metadata": {},
   "source": [
    "# Hospitalisations Avoided by Age Group for Tower Hamlets"
   ]
  },
  {
   "cell_type": "code",
   "execution_count": 70,
   "id": "0a1f0622-1d6e-4cc1-aab5-e71adfee2d9f",
   "metadata": {},
   "outputs": [
    {
     "data": {
      "text/html": [
       "<div>\n",
       "<style scoped>\n",
       "    .dataframe tbody tr th:only-of-type {\n",
       "        vertical-align: middle;\n",
       "    }\n",
       "\n",
       "    .dataframe tbody tr th {\n",
       "        vertical-align: top;\n",
       "    }\n",
       "\n",
       "    .dataframe thead th {\n",
       "        text-align: right;\n",
       "    }\n",
       "</style>\n",
       "<table border=\"1\" class=\"dataframe\">\n",
       "  <thead>\n",
       "    <tr style=\"text-align: right;\">\n",
       "      <th></th>\n",
       "      <th>AgeGroup</th>\n",
       "      <th>HospitalisationsAvoided</th>\n",
       "    </tr>\n",
       "  </thead>\n",
       "  <tbody>\n",
       "    <tr>\n",
       "      <th>0</th>\n",
       "      <td>0-5</td>\n",
       "      <td>0.079565</td>\n",
       "    </tr>\n",
       "    <tr>\n",
       "      <th>1</th>\n",
       "      <td>06-17</td>\n",
       "      <td>0.315666</td>\n",
       "    </tr>\n",
       "    <tr>\n",
       "      <th>2</th>\n",
       "      <td>18-64</td>\n",
       "      <td>10.451175</td>\n",
       "    </tr>\n",
       "    <tr>\n",
       "      <th>3</th>\n",
       "      <td>65+</td>\n",
       "      <td>8.829993</td>\n",
       "    </tr>\n",
       "  </tbody>\n",
       "</table>\n",
       "</div>"
      ],
      "text/plain": [
       "  AgeGroup  HospitalisationsAvoided\n",
       "0      0-5                 0.079565\n",
       "1    06-17                 0.315666\n",
       "2    18-64                10.451175\n",
       "3      65+                 8.829993"
      ]
     },
     "execution_count": 70,
     "metadata": {},
     "output_type": "execute_result"
    }
   ],
   "source": [
    "age_group_2016_tow = pd.DataFrame({'AgeGroup': ['0-5','06-17','18-64','65+'],\n",
    "                    'HospitalisationsAvoided':[0.079565, 0.315666, 10.451175, 8.829993]})\n",
    "age_group_2016_tow"
   ]
  },
  {
   "cell_type": "code",
   "execution_count": 71,
   "id": "cba49218-7e39-48b0-9ad3-7ab4c33d7372",
   "metadata": {},
   "outputs": [
    {
     "data": {
      "text/plain": [
       "AgeGroup  HospitalisationsAvoided\n",
       "0-5       0.079565                   1\n",
       "06-17     0.315666                   1\n",
       "18-64     10.451175                  1\n",
       "65+       8.829993                   1\n",
       "Name: count, dtype: int64"
      ]
     },
     "execution_count": 71,
     "metadata": {},
     "output_type": "execute_result"
    }
   ],
   "source": [
    "age_group_2016_tow.value_counts(['AgeGroup', 'HospitalisationsAvoided'])"
   ]
  },
  {
   "cell_type": "code",
   "execution_count": 72,
   "id": "5f9871a4-55f6-4f20-b362-021bf1ba7d6d",
   "metadata": {},
   "outputs": [
    {
     "data": {
      "text/plain": [
       "AgeGroup\n",
       "0-5      25.0%\n",
       "06-17    25.0%\n",
       "18-64    25.0%\n",
       "65+      25.0%\n",
       "Name: proportion, dtype: object"
      ]
     },
     "execution_count": 72,
     "metadata": {},
     "output_type": "execute_result"
    }
   ],
   "source": [
    "age_group_2016_tow.AgeGroup.value_counts(normalize=True).mul(100).round(1).astype(str) + '%'"
   ]
  },
  {
   "cell_type": "code",
   "execution_count": 73,
   "id": "70bba8b9-01e7-41bf-8476-31ae79dcf2ee",
   "metadata": {},
   "outputs": [
    {
     "data": {
      "text/plain": [
       "HospitalisationsAvoided\n",
       "0.079565     25.0%\n",
       "0.315666     25.0%\n",
       "10.451175    25.0%\n",
       "8.829993     25.0%\n",
       "Name: proportion, dtype: object"
      ]
     },
     "execution_count": 73,
     "metadata": {},
     "output_type": "execute_result"
    }
   ],
   "source": [
    "age_group_2016_tow.HospitalisationsAvoided.value_counts(normalize=True).mul(100).round(1).astype(str) + '%'"
   ]
  },
  {
   "cell_type": "code",
   "execution_count": 74,
   "id": "8c28307a-b8e6-495b-9302-f2f6a805a3cc",
   "metadata": {},
   "outputs": [
    {
     "data": {
      "text/html": [
       "<div>\n",
       "<style scoped>\n",
       "    .dataframe tbody tr th:only-of-type {\n",
       "        vertical-align: middle;\n",
       "    }\n",
       "\n",
       "    .dataframe tbody tr th {\n",
       "        vertical-align: top;\n",
       "    }\n",
       "\n",
       "    .dataframe thead th {\n",
       "        text-align: right;\n",
       "    }\n",
       "</style>\n",
       "<table border=\"1\" class=\"dataframe\">\n",
       "  <thead>\n",
       "    <tr style=\"text-align: right;\">\n",
       "      <th></th>\n",
       "      <th>AgeGroup</th>\n",
       "      <th>HospitalisationsAvoided</th>\n",
       "    </tr>\n",
       "  </thead>\n",
       "  <tbody>\n",
       "    <tr>\n",
       "      <th>0</th>\n",
       "      <td>0-5</td>\n",
       "      <td>0.078050</td>\n",
       "    </tr>\n",
       "    <tr>\n",
       "      <th>1</th>\n",
       "      <td>06-17</td>\n",
       "      <td>0.199705</td>\n",
       "    </tr>\n",
       "    <tr>\n",
       "      <th>2</th>\n",
       "      <td>18-64</td>\n",
       "      <td>10.839579</td>\n",
       "    </tr>\n",
       "    <tr>\n",
       "      <th>3</th>\n",
       "      <td>65+</td>\n",
       "      <td>8.933515</td>\n",
       "    </tr>\n",
       "  </tbody>\n",
       "</table>\n",
       "</div>"
      ],
      "text/plain": [
       "  AgeGroup  HospitalisationsAvoided\n",
       "0      0-5                 0.078050\n",
       "1    06-17                 0.199705\n",
       "2    18-64                10.839579\n",
       "3      65+                 8.933515"
      ]
     },
     "execution_count": 74,
     "metadata": {},
     "output_type": "execute_result"
    }
   ],
   "source": [
    "age_group_2023_tow = pd.DataFrame({'AgeGroup': ['0-5','06-17','18-64','65+'],\n",
    "                    'HospitalisationsAvoided':[0.07805, 0.199705,10.8395795,8.933515]})\n",
    "age_group_2023_tow"
   ]
  },
  {
   "cell_type": "code",
   "execution_count": 75,
   "id": "08650e5c-755b-4569-af5d-11f16cbd00fc",
   "metadata": {},
   "outputs": [
    {
     "data": {
      "text/plain": [
       "AgeGroup  HospitalisationsAvoided\n",
       "0-5       0.078050                   1\n",
       "06-17     0.199705                   1\n",
       "18-64     10.839579                  1\n",
       "65+       8.933515                   1\n",
       "Name: count, dtype: int64"
      ]
     },
     "execution_count": 75,
     "metadata": {},
     "output_type": "execute_result"
    }
   ],
   "source": [
    "age_group_2023_tow.value_counts(['AgeGroup', 'HospitalisationsAvoided'])"
   ]
  },
  {
   "cell_type": "code",
   "execution_count": 76,
   "id": "0a893d5a-ed76-48b0-aecf-6cb7d69989fc",
   "metadata": {},
   "outputs": [
    {
     "data": {
      "text/plain": [
       "AgeGroup\n",
       "0-5      25.0%\n",
       "06-17    25.0%\n",
       "18-64    25.0%\n",
       "65+      25.0%\n",
       "Name: proportion, dtype: object"
      ]
     },
     "execution_count": 76,
     "metadata": {},
     "output_type": "execute_result"
    }
   ],
   "source": [
    "age_group_2023_tow.AgeGroup.value_counts(normalize=True).mul(100).round(1).astype(str) + '%'"
   ]
  },
  {
   "cell_type": "code",
   "execution_count": 77,
   "id": "e8bbfce3-1ac0-4f71-acca-05f41de2549b",
   "metadata": {},
   "outputs": [
    {
     "data": {
      "text/plain": [
       "HospitalisationsAvoided\n",
       "0.078050     25.0%\n",
       "0.199705     25.0%\n",
       "10.839579    25.0%\n",
       "8.933515     25.0%\n",
       "Name: proportion, dtype: object"
      ]
     },
     "execution_count": 77,
     "metadata": {},
     "output_type": "execute_result"
    }
   ],
   "source": [
    "age_group_2023_tow.HospitalisationsAvoided.value_counts(normalize=True).mul(100).round(1).astype(str) + '%'"
   ]
  },
  {
   "cell_type": "markdown",
   "id": "94944f5d-68f6-4ba2-8f47-f7e429e2019d",
   "metadata": {},
   "source": [
    "# NHS Costs Avoided in Hammersmith and Fulham"
   ]
  },
  {
   "cell_type": "code",
   "execution_count": 78,
   "id": "77bc5397-e087-4f63-9e1e-08b250864a6a",
   "metadata": {},
   "outputs": [
    {
     "data": {
      "text/html": [
       "<div>\n",
       "<style scoped>\n",
       "    .dataframe tbody tr th:only-of-type {\n",
       "        vertical-align: middle;\n",
       "    }\n",
       "\n",
       "    .dataframe tbody tr th {\n",
       "        vertical-align: top;\n",
       "    }\n",
       "\n",
       "    .dataframe thead th {\n",
       "        text-align: right;\n",
       "    }\n",
       "</style>\n",
       "<table border=\"1\" class=\"dataframe\">\n",
       "  <thead>\n",
       "    <tr style=\"text-align: right;\">\n",
       "      <th></th>\n",
       "      <th>NHS Costs Avoided in 2016 Hammersmith</th>\n",
       "      <th>£pounds</th>\n",
       "    </tr>\n",
       "  </thead>\n",
       "  <tbody>\n",
       "    <tr>\n",
       "      <th>0</th>\n",
       "      <td>childhood asthma</td>\n",
       "      <td>1512.99</td>\n",
       "    </tr>\n",
       "    <tr>\n",
       "      <th>1</th>\n",
       "      <td>COPD</td>\n",
       "      <td>7738.74</td>\n",
       "    </tr>\n",
       "    <tr>\n",
       "      <th>2</th>\n",
       "      <td>diabetes</td>\n",
       "      <td>11320.98</td>\n",
       "    </tr>\n",
       "    <tr>\n",
       "      <th>3</th>\n",
       "      <td>low birth weight</td>\n",
       "      <td>0.00</td>\n",
       "    </tr>\n",
       "    <tr>\n",
       "      <th>4</th>\n",
       "      <td>heart disease</td>\n",
       "      <td>9475.76</td>\n",
       "    </tr>\n",
       "    <tr>\n",
       "      <th>5</th>\n",
       "      <td>lung cancer</td>\n",
       "      <td>596.63</td>\n",
       "    </tr>\n",
       "    <tr>\n",
       "      <th>6</th>\n",
       "      <td>stroke</td>\n",
       "      <td>19258.20</td>\n",
       "    </tr>\n",
       "  </tbody>\n",
       "</table>\n",
       "</div>"
      ],
      "text/plain": [
       "  NHS Costs Avoided in 2016 Hammersmith   £pounds\n",
       "0                      childhood asthma   1512.99\n",
       "1                                  COPD   7738.74\n",
       "2                              diabetes  11320.98\n",
       "3                      low birth weight      0.00\n",
       "4                         heart disease   9475.76\n",
       "5                           lung cancer    596.63\n",
       "6                                stroke  19258.20"
      ]
     },
     "execution_count": 78,
     "metadata": {},
     "output_type": "execute_result"
    }
   ],
   "source": [
    "costs_avoided_2016_ham = pd.DataFrame({'NHS Costs Avoided in 2016 Hammersmith':['childhood asthma','COPD','diabetes','low birth weight','heart disease','lung cancer','stroke'],'£pounds':[1512.99, 7738.74, 11320.98, 0.00, 9475.76, 596.63, 19258.20]})\n",
    "costs_avoided_2016_ham"
   ]
  },
  {
   "cell_type": "code",
   "execution_count": 79,
   "id": "2c84490c-2547-4279-b89b-72ac9d460d26",
   "metadata": {},
   "outputs": [
    {
     "data": {
      "text/html": [
       "<div>\n",
       "<style scoped>\n",
       "    .dataframe tbody tr th:only-of-type {\n",
       "        vertical-align: middle;\n",
       "    }\n",
       "\n",
       "    .dataframe tbody tr th {\n",
       "        vertical-align: top;\n",
       "    }\n",
       "\n",
       "    .dataframe thead th {\n",
       "        text-align: right;\n",
       "    }\n",
       "</style>\n",
       "<table border=\"1\" class=\"dataframe\">\n",
       "  <thead>\n",
       "    <tr style=\"text-align: right;\">\n",
       "      <th></th>\n",
       "      <th>NHS Costs Avoided in 2016 Hammersmith</th>\n",
       "      <th>£pounds</th>\n",
       "    </tr>\n",
       "  </thead>\n",
       "  <tbody>\n",
       "    <tr>\n",
       "      <th>3</th>\n",
       "      <td>low birth weight</td>\n",
       "      <td>0.00</td>\n",
       "    </tr>\n",
       "    <tr>\n",
       "      <th>5</th>\n",
       "      <td>lung cancer</td>\n",
       "      <td>596.63</td>\n",
       "    </tr>\n",
       "    <tr>\n",
       "      <th>0</th>\n",
       "      <td>childhood asthma</td>\n",
       "      <td>1512.99</td>\n",
       "    </tr>\n",
       "    <tr>\n",
       "      <th>1</th>\n",
       "      <td>COPD</td>\n",
       "      <td>7738.74</td>\n",
       "    </tr>\n",
       "    <tr>\n",
       "      <th>4</th>\n",
       "      <td>heart disease</td>\n",
       "      <td>9475.76</td>\n",
       "    </tr>\n",
       "    <tr>\n",
       "      <th>2</th>\n",
       "      <td>diabetes</td>\n",
       "      <td>11320.98</td>\n",
       "    </tr>\n",
       "    <tr>\n",
       "      <th>6</th>\n",
       "      <td>stroke</td>\n",
       "      <td>19258.20</td>\n",
       "    </tr>\n",
       "  </tbody>\n",
       "</table>\n",
       "</div>"
      ],
      "text/plain": [
       "  NHS Costs Avoided in 2016 Hammersmith   £pounds\n",
       "3                      low birth weight      0.00\n",
       "5                           lung cancer    596.63\n",
       "0                      childhood asthma   1512.99\n",
       "1                                  COPD   7738.74\n",
       "4                         heart disease   9475.76\n",
       "2                              diabetes  11320.98\n",
       "6                                stroke  19258.20"
      ]
     },
     "execution_count": 79,
     "metadata": {},
     "output_type": "execute_result"
    }
   ],
   "source": [
    "costs_avoided_2016_ham.sort_values(by=['£pounds'],ascending=True,inplace=False)"
   ]
  },
  {
   "cell_type": "code",
   "execution_count": 80,
   "id": "78cdc2c8-6467-4d5f-afe1-7549ab2ad63f",
   "metadata": {},
   "outputs": [
    {
     "data": {
      "text/html": [
       "<div>\n",
       "<style scoped>\n",
       "    .dataframe tbody tr th:only-of-type {\n",
       "        vertical-align: middle;\n",
       "    }\n",
       "\n",
       "    .dataframe tbody tr th {\n",
       "        vertical-align: top;\n",
       "    }\n",
       "\n",
       "    .dataframe thead th {\n",
       "        text-align: right;\n",
       "    }\n",
       "</style>\n",
       "<table border=\"1\" class=\"dataframe\">\n",
       "  <thead>\n",
       "    <tr style=\"text-align: right;\">\n",
       "      <th></th>\n",
       "      <th>NHS Costs Avoided in 2023 Hammersmith</th>\n",
       "      <th>£pounds</th>\n",
       "    </tr>\n",
       "  </thead>\n",
       "  <tbody>\n",
       "    <tr>\n",
       "      <th>0</th>\n",
       "      <td>childhood asthma</td>\n",
       "      <td>1439.58</td>\n",
       "    </tr>\n",
       "    <tr>\n",
       "      <th>1</th>\n",
       "      <td>COPD</td>\n",
       "      <td>7962.33</td>\n",
       "    </tr>\n",
       "    <tr>\n",
       "      <th>2</th>\n",
       "      <td>diabetes</td>\n",
       "      <td>10938.62</td>\n",
       "    </tr>\n",
       "    <tr>\n",
       "      <th>3</th>\n",
       "      <td>low birth weight</td>\n",
       "      <td>0.00</td>\n",
       "    </tr>\n",
       "    <tr>\n",
       "      <th>4</th>\n",
       "      <td>heart disease</td>\n",
       "      <td>9161.32</td>\n",
       "    </tr>\n",
       "    <tr>\n",
       "      <th>5</th>\n",
       "      <td>lung cancer</td>\n",
       "      <td>637.47</td>\n",
       "    </tr>\n",
       "    <tr>\n",
       "      <th>6</th>\n",
       "      <td>stroke</td>\n",
       "      <td>18726.02</td>\n",
       "    </tr>\n",
       "  </tbody>\n",
       "</table>\n",
       "</div>"
      ],
      "text/plain": [
       "  NHS Costs Avoided in 2023 Hammersmith   £pounds\n",
       "0                      childhood asthma   1439.58\n",
       "1                                  COPD   7962.33\n",
       "2                              diabetes  10938.62\n",
       "3                      low birth weight      0.00\n",
       "4                         heart disease   9161.32\n",
       "5                           lung cancer    637.47\n",
       "6                                stroke  18726.02"
      ]
     },
     "execution_count": 80,
     "metadata": {},
     "output_type": "execute_result"
    }
   ],
   "source": [
    "costs_avoided_2023_ham = pd.DataFrame({'NHS Costs Avoided in 2023 Hammersmith':['childhood asthma','COPD','diabetes','low birth weight','heart disease','lung cancer','stroke'],'£pounds':[1439.58, 7962.33, 10938.62, 0.00, 9161.32, 637.47, 18726.02]})\n",
    "costs_avoided_2023_ham"
   ]
  },
  {
   "cell_type": "code",
   "execution_count": 81,
   "id": "490abc52-1fca-41cf-8cc9-5dc15f622d0e",
   "metadata": {},
   "outputs": [
    {
     "data": {
      "text/html": [
       "<div>\n",
       "<style scoped>\n",
       "    .dataframe tbody tr th:only-of-type {\n",
       "        vertical-align: middle;\n",
       "    }\n",
       "\n",
       "    .dataframe tbody tr th {\n",
       "        vertical-align: top;\n",
       "    }\n",
       "\n",
       "    .dataframe thead th {\n",
       "        text-align: right;\n",
       "    }\n",
       "</style>\n",
       "<table border=\"1\" class=\"dataframe\">\n",
       "  <thead>\n",
       "    <tr style=\"text-align: right;\">\n",
       "      <th></th>\n",
       "      <th>NHS Costs Avoided in 2023 Hammersmith</th>\n",
       "      <th>£pounds</th>\n",
       "    </tr>\n",
       "  </thead>\n",
       "  <tbody>\n",
       "    <tr>\n",
       "      <th>3</th>\n",
       "      <td>low birth weight</td>\n",
       "      <td>0.00</td>\n",
       "    </tr>\n",
       "    <tr>\n",
       "      <th>5</th>\n",
       "      <td>lung cancer</td>\n",
       "      <td>637.47</td>\n",
       "    </tr>\n",
       "    <tr>\n",
       "      <th>0</th>\n",
       "      <td>childhood asthma</td>\n",
       "      <td>1439.58</td>\n",
       "    </tr>\n",
       "    <tr>\n",
       "      <th>1</th>\n",
       "      <td>COPD</td>\n",
       "      <td>7962.33</td>\n",
       "    </tr>\n",
       "    <tr>\n",
       "      <th>4</th>\n",
       "      <td>heart disease</td>\n",
       "      <td>9161.32</td>\n",
       "    </tr>\n",
       "    <tr>\n",
       "      <th>2</th>\n",
       "      <td>diabetes</td>\n",
       "      <td>10938.62</td>\n",
       "    </tr>\n",
       "    <tr>\n",
       "      <th>6</th>\n",
       "      <td>stroke</td>\n",
       "      <td>18726.02</td>\n",
       "    </tr>\n",
       "  </tbody>\n",
       "</table>\n",
       "</div>"
      ],
      "text/plain": [
       "  NHS Costs Avoided in 2023 Hammersmith   £pounds\n",
       "3                      low birth weight      0.00\n",
       "5                           lung cancer    637.47\n",
       "0                      childhood asthma   1439.58\n",
       "1                                  COPD   7962.33\n",
       "4                         heart disease   9161.32\n",
       "2                              diabetes  10938.62\n",
       "6                                stroke  18726.02"
      ]
     },
     "execution_count": 81,
     "metadata": {},
     "output_type": "execute_result"
    }
   ],
   "source": [
    "costs_avoided_2023_ham.sort_values(by=['£pounds'],ascending=True,inplace=False)"
   ]
  },
  {
   "cell_type": "markdown",
   "id": "69f67f3e-779e-4d11-ad6a-1b79e7b7f911",
   "metadata": {},
   "source": [
    "# NHS Costs Avoided in Tower Hamlets"
   ]
  },
  {
   "cell_type": "code",
   "execution_count": 82,
   "id": "b015b19f-93a5-44d3-9d5d-def8ce9644ef",
   "metadata": {},
   "outputs": [
    {
     "data": {
      "text/html": [
       "<div>\n",
       "<style scoped>\n",
       "    .dataframe tbody tr th:only-of-type {\n",
       "        vertical-align: middle;\n",
       "    }\n",
       "\n",
       "    .dataframe tbody tr th {\n",
       "        vertical-align: top;\n",
       "    }\n",
       "\n",
       "    .dataframe thead th {\n",
       "        text-align: right;\n",
       "    }\n",
       "</style>\n",
       "<table border=\"1\" class=\"dataframe\">\n",
       "  <thead>\n",
       "    <tr style=\"text-align: right;\">\n",
       "      <th></th>\n",
       "      <th>NHS Costs Avoided in 2016 Tower Hamlets</th>\n",
       "      <th>£pounds</th>\n",
       "    </tr>\n",
       "  </thead>\n",
       "  <tbody>\n",
       "    <tr>\n",
       "      <th>0</th>\n",
       "      <td>childhood asthma</td>\n",
       "      <td>1533.23</td>\n",
       "    </tr>\n",
       "    <tr>\n",
       "      <th>1</th>\n",
       "      <td>COPD</td>\n",
       "      <td>6498.22</td>\n",
       "    </tr>\n",
       "    <tr>\n",
       "      <th>2</th>\n",
       "      <td>diabetes</td>\n",
       "      <td>9955.37</td>\n",
       "    </tr>\n",
       "    <tr>\n",
       "      <th>3</th>\n",
       "      <td>low birth weight</td>\n",
       "      <td>0.00</td>\n",
       "    </tr>\n",
       "    <tr>\n",
       "      <th>4</th>\n",
       "      <td>heart disease</td>\n",
       "      <td>7988.67</td>\n",
       "    </tr>\n",
       "    <tr>\n",
       "      <th>5</th>\n",
       "      <td>lung cancer</td>\n",
       "      <td>477.55</td>\n",
       "    </tr>\n",
       "    <tr>\n",
       "      <th>6</th>\n",
       "      <td>stroke</td>\n",
       "      <td>16142.24</td>\n",
       "    </tr>\n",
       "  </tbody>\n",
       "</table>\n",
       "</div>"
      ],
      "text/plain": [
       "  NHS Costs Avoided in 2016 Tower Hamlets   £pounds\n",
       "0                        childhood asthma   1533.23\n",
       "1                                    COPD   6498.22\n",
       "2                                diabetes   9955.37\n",
       "3                        low birth weight      0.00\n",
       "4                           heart disease   7988.67\n",
       "5                             lung cancer    477.55\n",
       "6                                  stroke  16142.24"
      ]
     },
     "execution_count": 82,
     "metadata": {},
     "output_type": "execute_result"
    }
   ],
   "source": [
    "costs_avoided_2016_tow = pd.DataFrame({'NHS Costs Avoided in 2016 Tower Hamlets':['childhood asthma','COPD','diabetes','low birth weight','heart disease','lung cancer','stroke'],'£pounds':[1533.23, 6498.22, 9955.37, 0.00, 7988.67, 477.55, 16142.24  ]})\n",
    "costs_avoided_2016_tow"
   ]
  },
  {
   "cell_type": "code",
   "execution_count": 83,
   "id": "3dc627f8-9e2b-490a-941d-3454ab13db57",
   "metadata": {},
   "outputs": [
    {
     "data": {
      "text/html": [
       "<div>\n",
       "<style scoped>\n",
       "    .dataframe tbody tr th:only-of-type {\n",
       "        vertical-align: middle;\n",
       "    }\n",
       "\n",
       "    .dataframe tbody tr th {\n",
       "        vertical-align: top;\n",
       "    }\n",
       "\n",
       "    .dataframe thead th {\n",
       "        text-align: right;\n",
       "    }\n",
       "</style>\n",
       "<table border=\"1\" class=\"dataframe\">\n",
       "  <thead>\n",
       "    <tr style=\"text-align: right;\">\n",
       "      <th></th>\n",
       "      <th>NHS Costs Avoided in 2016 Tower Hamlets</th>\n",
       "      <th>£pounds</th>\n",
       "    </tr>\n",
       "  </thead>\n",
       "  <tbody>\n",
       "    <tr>\n",
       "      <th>3</th>\n",
       "      <td>low birth weight</td>\n",
       "      <td>0.00</td>\n",
       "    </tr>\n",
       "    <tr>\n",
       "      <th>5</th>\n",
       "      <td>lung cancer</td>\n",
       "      <td>477.55</td>\n",
       "    </tr>\n",
       "    <tr>\n",
       "      <th>0</th>\n",
       "      <td>childhood asthma</td>\n",
       "      <td>1533.23</td>\n",
       "    </tr>\n",
       "    <tr>\n",
       "      <th>1</th>\n",
       "      <td>COPD</td>\n",
       "      <td>6498.22</td>\n",
       "    </tr>\n",
       "    <tr>\n",
       "      <th>4</th>\n",
       "      <td>heart disease</td>\n",
       "      <td>7988.67</td>\n",
       "    </tr>\n",
       "    <tr>\n",
       "      <th>2</th>\n",
       "      <td>diabetes</td>\n",
       "      <td>9955.37</td>\n",
       "    </tr>\n",
       "    <tr>\n",
       "      <th>6</th>\n",
       "      <td>stroke</td>\n",
       "      <td>16142.24</td>\n",
       "    </tr>\n",
       "  </tbody>\n",
       "</table>\n",
       "</div>"
      ],
      "text/plain": [
       "  NHS Costs Avoided in 2016 Tower Hamlets   £pounds\n",
       "3                        low birth weight      0.00\n",
       "5                             lung cancer    477.55\n",
       "0                        childhood asthma   1533.23\n",
       "1                                    COPD   6498.22\n",
       "4                           heart disease   7988.67\n",
       "2                                diabetes   9955.37\n",
       "6                                  stroke  16142.24"
      ]
     },
     "execution_count": 83,
     "metadata": {},
     "output_type": "execute_result"
    }
   ],
   "source": [
    "costs_avoided_2016_tow.sort_values(by=['£pounds'],ascending=True,inplace=False)"
   ]
  },
  {
   "cell_type": "code",
   "execution_count": 84,
   "id": "9aa6fe60-269b-46c7-87e3-7075d72a20d4",
   "metadata": {},
   "outputs": [
    {
     "data": {
      "text/html": [
       "<div>\n",
       "<style scoped>\n",
       "    .dataframe tbody tr th:only-of-type {\n",
       "        vertical-align: middle;\n",
       "    }\n",
       "\n",
       "    .dataframe tbody tr th {\n",
       "        vertical-align: top;\n",
       "    }\n",
       "\n",
       "    .dataframe thead th {\n",
       "        text-align: right;\n",
       "    }\n",
       "</style>\n",
       "<table border=\"1\" class=\"dataframe\">\n",
       "  <thead>\n",
       "    <tr style=\"text-align: right;\">\n",
       "      <th></th>\n",
       "      <th>NHS Costs Avoided in 2023 Hammersmith</th>\n",
       "      <th>£pounds</th>\n",
       "    </tr>\n",
       "  </thead>\n",
       "  <tbody>\n",
       "    <tr>\n",
       "      <th>0</th>\n",
       "      <td>childhood asthma</td>\n",
       "      <td>3100.69</td>\n",
       "    </tr>\n",
       "    <tr>\n",
       "      <th>1</th>\n",
       "      <td>COPD</td>\n",
       "      <td>35954.67</td>\n",
       "    </tr>\n",
       "    <tr>\n",
       "      <th>2</th>\n",
       "      <td>diabetes</td>\n",
       "      <td>18058.81</td>\n",
       "    </tr>\n",
       "    <tr>\n",
       "      <th>3</th>\n",
       "      <td>low birth weight</td>\n",
       "      <td>0.00</td>\n",
       "    </tr>\n",
       "    <tr>\n",
       "      <th>4</th>\n",
       "      <td>heart disease</td>\n",
       "      <td>33384.69</td>\n",
       "    </tr>\n",
       "    <tr>\n",
       "      <th>5</th>\n",
       "      <td>lung cancer</td>\n",
       "      <td>414.31</td>\n",
       "    </tr>\n",
       "    <tr>\n",
       "      <th>6</th>\n",
       "      <td>stroke</td>\n",
       "      <td>16367.58</td>\n",
       "    </tr>\n",
       "  </tbody>\n",
       "</table>\n",
       "</div>"
      ],
      "text/plain": [
       "  NHS Costs Avoided in 2023 Hammersmith   £pounds\n",
       "0                      childhood asthma   3100.69\n",
       "1                                  COPD  35954.67\n",
       "2                              diabetes  18058.81\n",
       "3                      low birth weight      0.00\n",
       "4                         heart disease  33384.69\n",
       "5                           lung cancer    414.31\n",
       "6                                stroke  16367.58"
      ]
     },
     "execution_count": 84,
     "metadata": {},
     "output_type": "execute_result"
    }
   ],
   "source": [
    "costs_avoided_2023_tow = pd.DataFrame({'NHS Costs Avoided in 2023 Hammersmith':['childhood asthma','COPD','diabetes','low birth weight','heart disease','lung cancer','stroke'],'£pounds':[3100.69, 35954.67, 18058.81, 0.00, 33384.69, 414.31, 16367.58]})\n",
    "costs_avoided_2023_tow"
   ]
  },
  {
   "cell_type": "code",
   "execution_count": 85,
   "id": "c472d49a-070c-47ae-8193-015842517d16",
   "metadata": {},
   "outputs": [
    {
     "data": {
      "text/html": [
       "<div>\n",
       "<style scoped>\n",
       "    .dataframe tbody tr th:only-of-type {\n",
       "        vertical-align: middle;\n",
       "    }\n",
       "\n",
       "    .dataframe tbody tr th {\n",
       "        vertical-align: top;\n",
       "    }\n",
       "\n",
       "    .dataframe thead th {\n",
       "        text-align: right;\n",
       "    }\n",
       "</style>\n",
       "<table border=\"1\" class=\"dataframe\">\n",
       "  <thead>\n",
       "    <tr style=\"text-align: right;\">\n",
       "      <th></th>\n",
       "      <th>NHS Costs Avoided in 2023 Hammersmith</th>\n",
       "      <th>£pounds</th>\n",
       "    </tr>\n",
       "  </thead>\n",
       "  <tbody>\n",
       "    <tr>\n",
       "      <th>3</th>\n",
       "      <td>low birth weight</td>\n",
       "      <td>0.00</td>\n",
       "    </tr>\n",
       "    <tr>\n",
       "      <th>5</th>\n",
       "      <td>lung cancer</td>\n",
       "      <td>414.31</td>\n",
       "    </tr>\n",
       "    <tr>\n",
       "      <th>0</th>\n",
       "      <td>childhood asthma</td>\n",
       "      <td>3100.69</td>\n",
       "    </tr>\n",
       "    <tr>\n",
       "      <th>6</th>\n",
       "      <td>stroke</td>\n",
       "      <td>16367.58</td>\n",
       "    </tr>\n",
       "    <tr>\n",
       "      <th>2</th>\n",
       "      <td>diabetes</td>\n",
       "      <td>18058.81</td>\n",
       "    </tr>\n",
       "    <tr>\n",
       "      <th>4</th>\n",
       "      <td>heart disease</td>\n",
       "      <td>33384.69</td>\n",
       "    </tr>\n",
       "    <tr>\n",
       "      <th>1</th>\n",
       "      <td>COPD</td>\n",
       "      <td>35954.67</td>\n",
       "    </tr>\n",
       "  </tbody>\n",
       "</table>\n",
       "</div>"
      ],
      "text/plain": [
       "  NHS Costs Avoided in 2023 Hammersmith   £pounds\n",
       "3                      low birth weight      0.00\n",
       "5                           lung cancer    414.31\n",
       "0                      childhood asthma   3100.69\n",
       "6                                stroke  16367.58\n",
       "2                              diabetes  18058.81\n",
       "4                         heart disease  33384.69\n",
       "1                                  COPD  35954.67"
      ]
     },
     "execution_count": 85,
     "metadata": {},
     "output_type": "execute_result"
    }
   ],
   "source": [
    "costs_avoided_2023_tow.sort_values(by=['£pounds'],ascending=True,inplace=False)"
   ]
  },
  {
   "cell_type": "markdown",
   "id": "e1adf503-8786-4a90-881c-c99aa20c89df",
   "metadata": {},
   "source": [
    "# Data Visualisations"
   ]
  },
  {
   "cell_type": "code",
   "execution_count": 86,
   "id": "d2b62829-6029-4069-9e9b-12da37482b06",
   "metadata": {},
   "outputs": [],
   "source": [
    "# 95CL used due to negatives values some areas have been rounded to X2DP. "
   ]
  },
  {
   "cell_type": "code",
   "execution_count": 87,
   "id": "ad9c46a4-5749-4326-b59c-592630b9e1ca",
   "metadata": {},
   "outputs": [
    {
     "data": {
      "text/plain": [
       "<matplotlib.legend.Legend at 0x1376b9310>"
      ]
     },
     "execution_count": 87,
     "metadata": {},
     "output_type": "execute_result"
    },
    {
     "data": {
      "image/png": "[encoded data removed]",
      "text/plain": [
       "<Figure size 640x480 with 1 Axes>"
      ]
     },
     "metadata": {},
     "output_type": "display_data"
    }
   ],
   "source": [
    "import matplotlib.pyplot as plt\n",
    "\n",
    "# Total Conditions Avoided in Hammersmith and Fulham in 2016 and 2023\n",
    "\n",
    "Total_Conditions_2016 = [13.678086]\n",
    "Total_Conditions_2023 = [14.08233]\n",
    "index = ['Total Conditons 2016', 'Total Conditons 2023']\n",
    "df = pd.DataFrame({'2016': Total_Conditions_2016,'2023': Total_Conditions_2023}, index=index)\n",
    "ax = df.plot.barh()\n",
    "\n",
    "plt.title('All Hospitalisations Avoided Hammersmith and Fulham in 2016 and 2023')\n",
    "plt.ylabel('Conditons')\n",
    "plt.xlabel('Total Costs Avoided')\n",
    "plt.legend()"
   ]
  },
  {
   "cell_type": "code",
   "execution_count": 88,
   "id": "ae6770d1-bf08-4533-a847-3c8959fce0f6",
   "metadata": {},
   "outputs": [
    {
     "data": {
      "text/plain": [
       "<matplotlib.legend.Legend at 0x1375fb9e0>"
      ]
     },
     "execution_count": 88,
     "metadata": {},
     "output_type": "execute_result"
    },
    {
     "data": {
      "image/png": "[encoded data removed]",
      "text/plain": [
       "<Figure size 640x480 with 1 Axes>"
      ]
     },
     "metadata": {},
     "output_type": "display_data"
    }
   ],
   "source": [
    "import matplotlib.pyplot as plt\n",
    "\n",
    "# Total Conditions Avoided in Tower Hamlets in 2016 and 2023\n",
    "\n",
    "Total_Conditions_2016 = [11.475763]\n",
    "Total_Conditions_2023 = [11.763121]\n",
    "index = ['Total Conditons 2016', 'Total Conditons 2023']\n",
    "df = pd.DataFrame({'2016': Total_Conditions_2016,'2023': Total_Conditions_2023}, index=index)\n",
    "ax = df.plot.barh()\n",
    "\n",
    "plt.title('All Hospitalisations Avoided Tower Hamlets in 2016 and 2023')\n",
    "plt.ylabel('Conditons')\n",
    "plt.xlabel('Total Costs Avoided')\n",
    "plt.legend()"
   ]
  },
  {
   "cell_type": "code",
   "execution_count": 89,
   "id": "6014c6a5-0069-42ed-93c7-58cd6738b808",
   "metadata": {},
   "outputs": [
    {
     "data": {
      "text/plain": [
       "<matplotlib.legend.Legend at 0x137708ec0>"
      ]
     },
     "execution_count": 89,
     "metadata": {},
     "output_type": "execute_result"
    },
    {
     "data": {
      "image/png": "[encoded data removed]",
      "text/plain": [
       "<Figure size 640x480 with 1 Axes>"
      ]
     },
     "metadata": {},
     "output_type": "display_data"
    }
   ],
   "source": [
    "import matplotlib.pyplot as plt\n",
    "\n",
    "# Total Hospitalisations Avoided in Hammersmith and Fulham in 2016 and 2023\n",
    "\n",
    "Total_Conditions_2016 = [0.490831, 13.541428, 0.249925, 1.789825, 0.461432]\n",
    "Total_Conditions_2023 = [0.474597, 13.934753, 0.243043, 1.912438, 0.439283]\n",
    "index = ['Heart Disease','COPD','Stroke','Lung Cancer', 'Childhood Asthma']\n",
    "df = pd.DataFrame({'2016': Total_Conditions_2016,'2023': Total_Conditions_2023}, index=index)\n",
    "ax = df.plot.barh()\n",
    "\n",
    "plt.title('Total Hospitalisations Avoided Hammersmith and Fulham in 2016 and 2023')\n",
    "plt.ylabel('Conditons')\n",
    "plt.xlabel('Total Costs Avoided')\n",
    "plt.legend()"
   ]
  },
  {
   "cell_type": "code",
   "execution_count": 90,
   "id": "c12d183d-5d93-4a37-a3bc-3f3c7bb43e90",
   "metadata": {},
   "outputs": [
    {
     "data": {
      "text/plain": [
       "<matplotlib.legend.Legend at 0x137797dd0>"
      ]
     },
     "execution_count": 90,
     "metadata": {},
     "output_type": "execute_result"
    },
    {
     "data": {
      "image/png": "[encoded data removed]",
      "text/plain": [
       "<Figure size 640x480 with 1 Axes>"
      ]
     },
     "metadata": {},
     "output_type": "display_data"
    }
   ],
   "source": [
    "import matplotlib.pyplot as plt\n",
    "\n",
    "# Total Hospitalisations Avoided in Tower Hamlets in 2016 and 2023\n",
    "\n",
    "Total_Conditions_2016 = [0.413478, 11.366999, 0.209381, 1.432522, 0.466397]\n",
    "Total_Conditions_2023 = [0.395478, 11.653012, 0.19726, 1.481082, 0.435217]\n",
    "index = ['Heart Disease','COPD','Stroke','Lung Cancer', 'Childhood Asthma']\n",
    "df = pd.DataFrame({'2016': Total_Conditions_2016,'2023': Total_Conditions_2023}, index=index)\n",
    "ax = df.plot.barh()\n",
    "\n",
    "plt.title('Total Hospitalisations Avoided Tower Hamlets in 2016 and 2023')\n",
    "plt.ylabel('Conditons')\n",
    "plt.xlabel('Total Costs Avoided')\n",
    "plt.legend()"
   ]
  },
  {
   "cell_type": "code",
   "execution_count": 91,
   "id": "6f430ffe-37af-48bc-a8c3-6e3c24e29245",
   "metadata": {},
   "outputs": [
    {
     "data": {
      "text/plain": [
       "<matplotlib.legend.Legend at 0x1375d0230>"
      ]
     },
     "execution_count": 91,
     "metadata": {},
     "output_type": "execute_result"
    },
    {
     "data": {
      "image/png": "[encoded data removed]",
      "text/plain": [
       "<Figure size 640x480 with 1 Axes>"
      ]
     },
     "metadata": {},
     "output_type": "display_data"
    }
   ],
   "source": [
    "import matplotlib.pyplot as plt\n",
    "\n",
    "# NHS Costs Avoided for years 2016 and 2023 against Conditions/Diseases in Hammersmith and Fulham\n",
    "\n",
    "Costs_Avoided_2016 = [0.00, 596.63, 1512.99, 7738.74, 9475.76, 11320.98, 19258.20]\n",
    "Costs_Avoided_2023 = [0.00, 637.47, 1439.58, 7962.33, 9161.32, 10938.62, 18726.02]\n",
    "index = ['Low Birth Weight','Lung Cancer','Childhood Asthma','COPD','Heart Disease', 'Diabetes','Stroke']\n",
    "df = pd.DataFrame({'2016': Costs_Avoided_2016,'2023': Costs_Avoided_2023}, index=index)\n",
    "ax = df.plot.barh()\n",
    "\n",
    "plt.title('NHS Costs Avoided Hammersmith and Fulham in 2016 and 2023')\n",
    "plt.ylabel('Conditons')\n",
    "plt.xlabel('Total Costs Avoided')\n",
    "plt.legend()"
   ]
  },
  {
   "cell_type": "code",
   "execution_count": 92,
   "id": "9772ee20-c407-4776-bb8e-1bb0a354eebd",
   "metadata": {},
   "outputs": [
    {
     "data": {
      "text/plain": [
       "<matplotlib.legend.Legend at 0x1379f98e0>"
      ]
     },
     "execution_count": 92,
     "metadata": {},
     "output_type": "execute_result"
    },
    {
     "data": {
      "image/png": "[encoded data removed]",
      "text/plain": [
       "<Figure size 640x480 with 1 Axes>"
      ]
     },
     "metadata": {},
     "output_type": "display_data"
    }
   ],
   "source": [
    "import matplotlib.pyplot as plt\n",
    "\n",
    "# NHS Costs Avoided for years 2016 and 2023 against Conditions/Diseases in Tower Hamlets\n",
    "\n",
    "Costs_Avoided_2016 = [0.00, 477.55, 1533.23, 6498.22, 7988.67, 9955.37, 16142.24]\n",
    "Costs_Avoided_2023 = [0.00, 493.73, 1429.99, 6660.94, 7640.08, 9464.17, 15207.24]\n",
    "index = ['Low Birth Weight','Lung Cancer','Childhood Asthma','COPD','Heart Disease', 'Diabetes','Stroke']\n",
    "df = pd.DataFrame({'2016': Costs_Avoided_2016,'2023': Costs_Avoided_2023}, index=index)\n",
    "ax = df.plot.barh()\n",
    "\n",
    "plt.title('NHS Costs Avoided Tower Hamlets in 2016 and 2023')\n",
    "plt.ylabel('Conditons')\n",
    "plt.xlabel('Total Costs Avoided')\n",
    "plt.legend()"
   ]
  },
  {
   "cell_type": "code",
   "execution_count": 93,
   "id": "7dc41073-a391-4d32-a4bf-5fd91dfa7751",
   "metadata": {},
   "outputs": [
    {
     "data": {
      "text/plain": [
       "Text(0.5, 1.0, 'Proportion of Hospitalisations Avoided by AgeGroup Hammersmith and Fulham in 2016')"
      ]
     },
     "execution_count": 93,
     "metadata": {},
     "output_type": "execute_result"
    },
    {
     "data": {
      "image/png": "[encoded data removed]",
      "text/plain": [
       "<Figure size 640x480 with 1 Axes>"
      ]
     },
     "metadata": {},
     "output_type": "display_data"
    }
   ],
   "source": [
    "import matplotlib.pyplot as plt\n",
    "\n",
    "# NHS Costs avoided against AgeGroups in Hammersmith and Fulham 2016\n",
    "# figures were rounded to X2DP\n",
    "\n",
    "labels = '0-5', '06-17', '18-64', '65+'\n",
    "sizes = [25, 25, 25, 25]\n",
    "\n",
    "fig, ax = plt.subplots()\n",
    "ax.pie(sizes, labels=labels, colors=(['crimson', 'lightgreen', 'yellow', 'darkcyan']), autopct='%1.1f%%')\n",
    "plt.title('Proportion of Hospitalisations Avoided by AgeGroup Hammersmith and Fulham in 2016')"
   ]
  },
  {
   "cell_type": "code",
   "execution_count": 94,
   "id": "e7e6f2ca-8739-42f2-8d4d-5d583afe99bb",
   "metadata": {},
   "outputs": [
    {
     "data": {
      "text/plain": [
       "Text(0.5, 1.0, 'Proportion of Hospitalisations Avoided by AgeGroup Hammersmith and Fulham in 2023')"
      ]
     },
     "execution_count": 94,
     "metadata": {},
     "output_type": "execute_result"
    },
    {
     "data": {
      "image/png": "[encoded data removed]",
      "text/plain": [
       "<Figure size 640x480 with 1 Axes>"
      ]
     },
     "metadata": {},
     "output_type": "display_data"
    }
   ],
   "source": [
    "import matplotlib.pyplot as plt\n",
    "\n",
    "# NHS Costs avoided against AgeGroups in Hammersmith and Fulham 2016\n",
    "# figures were rounded to X2DP\n",
    "\n",
    "labels = '0-5', '06-17', '18-64', '65+'\n",
    "sizes = [25, 25, 25, 25]\n",
    "\n",
    "fig, ax = plt.subplots()\n",
    "ax.pie(sizes, labels=labels, colors=(['crimson', 'lightgreen', 'yellow', 'darkcyan']), autopct='%1.1f%%')\n",
    "plt.title('Proportion of Hospitalisations Avoided by AgeGroup Hammersmith and Fulham in 2023')"
   ]
  },
  {
   "cell_type": "code",
   "execution_count": 95,
   "id": "211b8ab2-ce21-40c8-b8ca-520289153adb",
   "metadata": {},
   "outputs": [
    {
     "data": {
      "text/plain": [
       "Text(0.5, 1.0, 'Proportion of Hospitalisations Avoided by AgeGroup Tower Hamlets in 2016')"
      ]
     },
     "execution_count": 95,
     "metadata": {},
     "output_type": "execute_result"
    },
    {
     "data": {
      "image/png": "[encoded data removed]",
      "text/plain": [
       "<Figure size 640x480 with 1 Axes>"
      ]
     },
     "metadata": {},
     "output_type": "display_data"
    }
   ],
   "source": [
    "import matplotlib.pyplot as plt\n",
    "\n",
    "# NHS Costs avoided against AgeGroups in Hammersmith and Fulham 2016\n",
    "# figures were rounded to X2DP\n",
    "\n",
    "labels = '0-5', '06-17', '18-64', '65+'\n",
    "sizes = [25, 25, 25, 25]\n",
    "\n",
    "fig, ax = plt.subplots()\n",
    "ax.pie(sizes, labels=labels, colors=(['crimson', 'yellow', 'orange', 'darkcyan']), autopct='%1.1f%%')\n",
    "plt.title('Proportion of Hospitalisations Avoided by AgeGroup Tower Hamlets in 2016')"
   ]
  },
  {
   "cell_type": "code",
   "execution_count": 96,
   "id": "c0492cfc-207c-4f5a-a3db-b3b7b1e34941",
   "metadata": {},
   "outputs": [
    {
     "data": {
      "text/plain": [
       "Text(0.5, 1.0, 'Proportion of Hospitalisations Avoided by AgeGroup Tower Hamlets in 2023')"
      ]
     },
     "execution_count": 96,
     "metadata": {},
     "output_type": "execute_result"
    },
    {
     "data": {
      "image/png": "[encoded data removed]",
      "text/plain": [
       "<Figure size 640x480 with 1 Axes>"
      ]
     },
     "metadata": {},
     "output_type": "display_data"
    }
   ],
   "source": [
    "import matplotlib.pyplot as plt\n",
    "\n",
    "# NHS Costs avoided against AgeGroups in Hammersmith and Fulham 2016\n",
    "# figures were rounded to X2DP\n",
    "\n",
    "labels = '0-5', '06-17', '18-64', '65+'\n",
    "sizes = [25, 25,25, 25]\n",
    "\n",
    "fig, ax = plt.subplots()\n",
    "ax.pie(sizes, labels=labels, colors=(['crimson', 'yellow', 'orange', 'darkcyan']), autopct='%1.1f%%')\n",
    "plt.title('Proportion of Hospitalisations Avoided by AgeGroup Tower Hamlets in 2023')"
   ]
  },
  {
   "cell_type": "code",
   "execution_count": 97,
   "id": "d8906499-c5b3-4370-997e-a2278e4354eb",
   "metadata": {},
   "outputs": [
    {
     "data": {
      "image/png": "[encoded data removed]",
      "text/plain": [
       "<Figure size 640x480 with 1 Axes>"
      ]
     },
     "metadata": {},
     "output_type": "display_data"
    }
   ],
   "source": [
    "import matplotlib.pyplot as plt\n",
    "\n",
    "# Taken from the filtered data Mean and Median no. Hospitalisations Avoided in 2016 for both boroughs has been rounded to X2DP\n",
    "\n",
    "fig, ax = plt.subplots()\n",
    "\n",
    "boroughs = ['H-Mean', 'H-Median', 'T-Mean', 'T-Median']\n",
    "counts =   [7.00, 0.14, 7.00, 0.00]\n",
    "bar_labels = ['Ham 16', 'Ham 16','Tow 16', 'Tow 16']\n",
    "bar_colors = ['tab:red', 'tab:blue', 'tab:red', 'tab:blue']\n",
    "\n",
    "ax.bar(boroughs, counts, label=bar_labels, color=bar_colors)\n",
    "\n",
    "ax.set_ylabel('Mean and Median')\n",
    "ax.set_xlabel('Boroughs')\n",
    "ax.set_title('Mean and Median Hospitalisations in 2016')\n",
    "\n",
    "plt.show()"
   ]
  },
  {
   "cell_type": "code",
   "execution_count": 98,
   "id": "a7e47153-2bfd-4899-99ee-c8d260b7d6d6",
   "metadata": {},
   "outputs": [
    {
     "data": {
      "image/png": "[encoded data removed]",
      "text/plain": [
       "<Figure size 640x480 with 1 Axes>"
      ]
     },
     "metadata": {},
     "output_type": "display_data"
    }
   ],
   "source": [
    "import matplotlib.pyplot as plt\n",
    "\n",
    "# Taken from the filtered data Mean and Median no. Hospitalisations Avoided in 2023 has been rounded to X2DP\n",
    "\n",
    "fig, ax = plt.subplots()\n",
    "\n",
    "boroughs = ['H-Mean', 'H-Median', 'T-Mean', 'T-Median']\n",
    "counts = [49.87, 0.14, 36.51, 0.32]\n",
    "bar_labels = ['Ham 23', 'Ham 23','Tow 23', 'Tow 23']\n",
    "bar_colors = ['tab:red', 'tab:blue', 'tab:red', 'tab:blue']\n",
    "\n",
    "ax.bar(boroughs, counts, label=bar_labels, color=bar_colors)\n",
    "\n",
    "ax.set_ylabel('Mean and Median')\n",
    "ax.set_xlabel('Boroughs')\n",
    "ax.set_title('Mean and Median Hospitalisations in 2023')\n",
    "\n",
    "plt.show()"
   ]
  },
  {
   "cell_type": "code",
   "execution_count": 99,
   "id": "ccfd63c2-ae0d-42fa-8398-a4d1cd9de621",
   "metadata": {},
   "outputs": [
    {
     "data": {
      "image/png": "[encoded data removed]",
      "text/plain": [
       "<Figure size 640x480 with 1 Axes>"
      ]
     },
     "metadata": {},
     "output_type": "display_data"
    }
   ],
   "source": [
    "import matplotlib.pyplot as plt\n",
    "\n",
    "# Taken from the filtered data Standard Deviation no. Hospitalisations Avoided in 2016 has been rounded to X2DP\n",
    "\n",
    "fig, ax = plt.subplots()\n",
    "\n",
    "boroughs = ['Ham 2016', 'Ham 2023', 'Tow 2016', 'Tow 2023']\n",
    "counts = [40.81, 185.92, 31.60, 139.07]\n",
    "bar_labels = ['Ham 16', 'Ham 23','Tow 16', 'Tow 23']\n",
    "bar_colors = ['tab:red', 'tab:blue', 'tab:red', 'tab:blue']\n",
    "\n",
    "ax.bar(boroughs, counts, label=bar_labels, color=bar_colors)\n",
    "\n",
    "ax.set_ylabel('Standard Deviation')\n",
    "ax.set_xlabel('Boroughs')\n",
    "ax.set_title('Standard Deviation Hospitalisations in 2016-2023')\n",
    "\n",
    "plt.show()"
   ]
  },
  {
   "cell_type": "code",
   "execution_count": null,
   "id": "b4f43125-846a-42e3-8aef-b59ad803fcc1",
   "metadata": {},
   "outputs": [],
   "source": []
  },
  {
   "cell_type": "code",
   "execution_count": null,
   "id": "5190899a-4430-4592-b0eb-38aaf9ff3ed5",
   "metadata": {},
   "outputs": [],
   "source": []
  },
  {
   "cell_type": "code",
   "execution_count": null,
   "id": "f5dfd469-f727-4716-a70a-0ad11db3e181",
   "metadata": {},
   "outputs": [],
   "source": []
  }
 ],
 "metadata": {
  "kernelspec": {
   "display_name": "Python 3 (ipykernel)",
   "language": "python",
   "name": "python3"
  },
  "language_info": {
   "codemirror_mode": {
    "name": "ipython",
    "version": 3
   },
   "file_extension": ".py",
   "mimetype": "text/x-python",
   "name": "python",
   "nbconvert_exporter": "python",
   "pygments_lexer": "ipython3",
   "version": "3.12.0"
  }
 },
 "nbformat": 4,
 "nbformat_minor": 5
}
