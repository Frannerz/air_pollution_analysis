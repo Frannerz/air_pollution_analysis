{
 "cells": [
  {
   "cell_type": "markdown",
   "metadata": {
    "slideshow": {
     "slide_type": "slide"
    }
   },
   "source": [
    "## OBJECTIVES\n",
    "\n",
    "- Predict CVD and cancer caused mortality rates in England using air quality data available from Copernicus Atmosphere Monitoring Service\n",
    "- The goal is to predict mortality rates (number of deaths per 100,000 people) for each English region using daily average measurements of ozone (O3), nitrogen dioxide (NO2), PM10 (particulate matter with diameter less than or equal to 10 micrometers), PM2.5 (diameter 2.5 micrometers or less) and temperature, data freely available from Copernicus Atmosphere Monitoring Service.\n",
    "\n",
    "Poor air quality is a significant public health issue. The burden of particulate air pollution in the UK in 2008 was estimated to be equivalent to nearly 29,000 deaths at typical ages and an associated loss of population life of 340,000 life years lost."
   ]
  },
  {
   "cell_type": "code",
   "execution_count": 29,
   "metadata": {
    "slideshow": {
     "slide_type": "subslide"
    }
   },
   "outputs": [
    {
     "data": {
      "text/html": [
       "<div>\n",
       "<style scoped>\n",
       "    .dataframe tbody tr th:only-of-type {\n",
       "        vertical-align: middle;\n",
       "    }\n",
       "\n",
       "    .dataframe tbody tr th {\n",
       "        vertical-align: top;\n",
       "    }\n",
       "\n",
       "    .dataframe thead th {\n",
       "        text-align: right;\n",
       "    }\n",
       "</style>\n",
       "<table border=\"1\" class=\"dataframe\">\n",
       "  <thead>\n",
       "    <tr style=\"text-align: right;\">\n",
       "      <th></th>\n",
       "      <th>Id</th>\n",
       "      <th>region</th>\n",
       "      <th>date</th>\n",
       "      <th>O3</th>\n",
       "      <th>PM10</th>\n",
       "      <th>PM25</th>\n",
       "      <th>NO2</th>\n",
       "      <th>T2M</th>\n",
       "    </tr>\n",
       "  </thead>\n",
       "  <tbody>\n",
       "    <tr>\n",
       "      <th>0</th>\n",
       "      <td>18404</td>\n",
       "      <td>E12000006</td>\n",
       "      <td>2012-05-28</td>\n",
       "      <td>75.980</td>\n",
       "      <td>20.876</td>\n",
       "      <td>19.123</td>\n",
       "      <td>9.713</td>\n",
       "      <td>290.787</td>\n",
       "    </tr>\n",
       "    <tr>\n",
       "      <th>1</th>\n",
       "      <td>18405</td>\n",
       "      <td>E12000006</td>\n",
       "      <td>2012-05-29</td>\n",
       "      <td>73.084</td>\n",
       "      <td>21.660</td>\n",
       "      <td>17.794</td>\n",
       "      <td>8.417</td>\n",
       "      <td>288.474</td>\n",
       "    </tr>\n",
       "    <tr>\n",
       "      <th>2</th>\n",
       "      <td>18406</td>\n",
       "      <td>E12000006</td>\n",
       "      <td>2012-05-30</td>\n",
       "      <td>59.350</td>\n",
       "      <td>21.925</td>\n",
       "      <td>17.699</td>\n",
       "      <td>10.878</td>\n",
       "      <td>289.889</td>\n",
       "    </tr>\n",
       "    <tr>\n",
       "      <th>3</th>\n",
       "      <td>18407</td>\n",
       "      <td>E12000006</td>\n",
       "      <td>2012-05-31</td>\n",
       "      <td>45.991</td>\n",
       "      <td>14.549</td>\n",
       "      <td>11.386</td>\n",
       "      <td>10.302</td>\n",
       "      <td>287.815</td>\n",
       "    </tr>\n",
       "    <tr>\n",
       "      <th>4</th>\n",
       "      <td>18408</td>\n",
       "      <td>E12000006</td>\n",
       "      <td>2012-06-01</td>\n",
       "      <td>52.210</td>\n",
       "      <td>11.208</td>\n",
       "      <td>9.545</td>\n",
       "      <td>8.598</td>\n",
       "      <td>287.627</td>\n",
       "    </tr>\n",
       "    <tr>\n",
       "      <th>...</th>\n",
       "      <td>...</td>\n",
       "      <td>...</td>\n",
       "      <td>...</td>\n",
       "      <td>...</td>\n",
       "      <td>...</td>\n",
       "      <td>...</td>\n",
       "      <td>...</td>\n",
       "      <td>...</td>\n",
       "    </tr>\n",
       "    <tr>\n",
       "      <th>7881</th>\n",
       "      <td>26285</td>\n",
       "      <td>E12000009</td>\n",
       "      <td>2014-12-27</td>\n",
       "      <td>57.951</td>\n",
       "      <td>6.422</td>\n",
       "      <td>3.683</td>\n",
       "      <td>6.082</td>\n",
       "      <td>277.350</td>\n",
       "    </tr>\n",
       "    <tr>\n",
       "      <th>7882</th>\n",
       "      <td>26286</td>\n",
       "      <td>E12000009</td>\n",
       "      <td>2014-12-28</td>\n",
       "      <td>41.479</td>\n",
       "      <td>14.802</td>\n",
       "      <td>10.989</td>\n",
       "      <td>14.361</td>\n",
       "      <td>275.209</td>\n",
       "    </tr>\n",
       "    <tr>\n",
       "      <th>7883</th>\n",
       "      <td>26287</td>\n",
       "      <td>E12000009</td>\n",
       "      <td>2014-12-29</td>\n",
       "      <td>32.742</td>\n",
       "      <td>17.722</td>\n",
       "      <td>12.177</td>\n",
       "      <td>17.386</td>\n",
       "      <td>275.772</td>\n",
       "    </tr>\n",
       "    <tr>\n",
       "      <th>7884</th>\n",
       "      <td>26288</td>\n",
       "      <td>E12000009</td>\n",
       "      <td>2014-12-30</td>\n",
       "      <td>39.006</td>\n",
       "      <td>16.997</td>\n",
       "      <td>10.754</td>\n",
       "      <td>15.317</td>\n",
       "      <td>276.465</td>\n",
       "    </tr>\n",
       "    <tr>\n",
       "      <th>7885</th>\n",
       "      <td>26289</td>\n",
       "      <td>E12000009</td>\n",
       "      <td>2014-12-31</td>\n",
       "      <td>51.444</td>\n",
       "      <td>18.538</td>\n",
       "      <td>9.248</td>\n",
       "      <td>8.701</td>\n",
       "      <td>280.509</td>\n",
       "    </tr>\n",
       "  </tbody>\n",
       "</table>\n",
       "<p>7886 rows × 8 columns</p>\n",
       "</div>"
      ],
      "text/plain": [
       "         Id     region        date      O3    PM10    PM25     NO2      T2M\n",
       "0     18404  E12000006  2012-05-28  75.980  20.876  19.123   9.713  290.787\n",
       "1     18405  E12000006  2012-05-29  73.084  21.660  17.794   8.417  288.474\n",
       "2     18406  E12000006  2012-05-30  59.350  21.925  17.699  10.878  289.889\n",
       "3     18407  E12000006  2012-05-31  45.991  14.549  11.386  10.302  287.815\n",
       "4     18408  E12000006  2012-06-01  52.210  11.208   9.545   8.598  287.627\n",
       "...     ...        ...         ...     ...     ...     ...     ...      ...\n",
       "7881  26285  E12000009  2014-12-27  57.951   6.422   3.683   6.082  277.350\n",
       "7882  26286  E12000009  2014-12-28  41.479  14.802  10.989  14.361  275.209\n",
       "7883  26287  E12000009  2014-12-29  32.742  17.722  12.177  17.386  275.772\n",
       "7884  26288  E12000009  2014-12-30  39.006  16.997  10.754  15.317  276.465\n",
       "7885  26289  E12000009  2014-12-31  51.444  18.538   9.248   8.701  280.509\n",
       "\n",
       "[7886 rows x 8 columns]"
      ]
     },
     "execution_count": 29,
     "metadata": {},
     "output_type": "execute_result"
    }
   ],
   "source": [
    "import pandas as pd\n",
    "\n",
    "#loading data\n",
    "\n",
    "train  = pd.read_csv(\"../data_clean/health_ML/train.csv\")\n",
    "test = pd.read_csv(\"../data_clean/health_ML//test.csv\")\n",
    "test"
   ]
  },
  {
   "cell_type": "code",
   "execution_count": 30,
   "metadata": {
    "slideshow": {
     "slide_type": "subslide"
    }
   },
   "outputs": [
    {
     "name": "stdout",
     "output_type": "stream",
     "text": [
      "<class 'pandas.core.frame.DataFrame'>\n",
      "RangeIndex: 18403 entries, 0 to 18402\n",
      "Data columns (total 9 columns):\n",
      " #   Column          Non-Null Count  Dtype  \n",
      "---  ------          --------------  -----  \n",
      " 0   Id              18403 non-null  int64  \n",
      " 1   region          18403 non-null  object \n",
      " 2   date            18403 non-null  object \n",
      " 3   mortality_rate  18403 non-null  float64\n",
      " 4   O3              18394 non-null  float64\n",
      " 5   PM10            18394 non-null  float64\n",
      " 6   PM25            15127 non-null  float64\n",
      " 7   NO2             11833 non-null  float64\n",
      " 8   T2M             18403 non-null  float64\n",
      "dtypes: float64(6), int64(1), object(2)\n",
      "memory usage: 1.3+ MB\n"
     ]
    }
   ],
   "source": [
    "#let's review our main dataset\n",
    "train.info()\n",
    "\n",
    "# RESULT: the train data has 18403 rows and 9 columns. \n",
    "# Out of these 9 columns, 6 have float64 class, 1 data object, 1 integer and 1 object\n",
    "# *we can do a similar check for test data. "
   ]
  },
  {
   "cell_type": "code",
   "execution_count": 31,
   "metadata": {},
   "outputs": [
    {
     "data": {
      "text/html": [
       "<div>\n",
       "<style scoped>\n",
       "    .dataframe tbody tr th:only-of-type {\n",
       "        vertical-align: middle;\n",
       "    }\n",
       "\n",
       "    .dataframe tbody tr th {\n",
       "        vertical-align: top;\n",
       "    }\n",
       "\n",
       "    .dataframe thead th {\n",
       "        text-align: right;\n",
       "    }\n",
       "</style>\n",
       "<table border=\"1\" class=\"dataframe\">\n",
       "  <thead>\n",
       "    <tr style=\"text-align: right;\">\n",
       "      <th></th>\n",
       "      <th>Id</th>\n",
       "      <th>mortality_rate</th>\n",
       "      <th>O3</th>\n",
       "      <th>PM10</th>\n",
       "      <th>PM25</th>\n",
       "      <th>NO2</th>\n",
       "      <th>T2M</th>\n",
       "    </tr>\n",
       "  </thead>\n",
       "  <tbody>\n",
       "    <tr>\n",
       "      <th>count</th>\n",
       "      <td>18403.000000</td>\n",
       "      <td>18403.000000</td>\n",
       "      <td>18394.000000</td>\n",
       "      <td>18394.000000</td>\n",
       "      <td>15127.000000</td>\n",
       "      <td>11833.000000</td>\n",
       "      <td>18403.000000</td>\n",
       "    </tr>\n",
       "    <tr>\n",
       "      <th>mean</th>\n",
       "      <td>9202.000000</td>\n",
       "      <td>1.301737</td>\n",
       "      <td>45.325857</td>\n",
       "      <td>13.712272</td>\n",
       "      <td>7.498714</td>\n",
       "      <td>12.045813</td>\n",
       "      <td>283.002235</td>\n",
       "    </tr>\n",
       "    <tr>\n",
       "      <th>std</th>\n",
       "      <td>5312.632838</td>\n",
       "      <td>0.304161</td>\n",
       "      <td>16.221330</td>\n",
       "      <td>7.421616</td>\n",
       "      <td>5.758357</td>\n",
       "      <td>8.296675</td>\n",
       "      <td>5.182186</td>\n",
       "    </tr>\n",
       "    <tr>\n",
       "      <th>min</th>\n",
       "      <td>1.000000</td>\n",
       "      <td>0.439000</td>\n",
       "      <td>0.988000</td>\n",
       "      <td>2.020000</td>\n",
       "      <td>0.904000</td>\n",
       "      <td>1.104000</td>\n",
       "      <td>265.562000</td>\n",
       "    </tr>\n",
       "    <tr>\n",
       "      <th>25%</th>\n",
       "      <td>4601.500000</td>\n",
       "      <td>1.102000</td>\n",
       "      <td>35.074250</td>\n",
       "      <td>8.656250</td>\n",
       "      <td>3.624000</td>\n",
       "      <td>6.056000</td>\n",
       "      <td>279.321500</td>\n",
       "    </tr>\n",
       "    <tr>\n",
       "      <th>50%</th>\n",
       "      <td>9202.000000</td>\n",
       "      <td>1.281000</td>\n",
       "      <td>45.836000</td>\n",
       "      <td>11.704500</td>\n",
       "      <td>5.636000</td>\n",
       "      <td>9.769000</td>\n",
       "      <td>283.270000</td>\n",
       "    </tr>\n",
       "    <tr>\n",
       "      <th>75%</th>\n",
       "      <td>13802.500000</td>\n",
       "      <td>1.474000</td>\n",
       "      <td>55.881000</td>\n",
       "      <td>16.589000</td>\n",
       "      <td>9.326500</td>\n",
       "      <td>15.858000</td>\n",
       "      <td>287.240500</td>\n",
       "    </tr>\n",
       "    <tr>\n",
       "      <th>max</th>\n",
       "      <td>18403.000000</td>\n",
       "      <td>2.841000</td>\n",
       "      <td>105.693000</td>\n",
       "      <td>60.627000</td>\n",
       "      <td>45.846000</td>\n",
       "      <td>76.765000</td>\n",
       "      <td>297.209000</td>\n",
       "    </tr>\n",
       "  </tbody>\n",
       "</table>\n",
       "</div>"
      ],
      "text/plain": [
       "                 Id  mortality_rate            O3          PM10          PM25  \\\n",
       "count  18403.000000    18403.000000  18394.000000  18394.000000  15127.000000   \n",
       "mean    9202.000000        1.301737     45.325857     13.712272      7.498714   \n",
       "std     5312.632838        0.304161     16.221330      7.421616      5.758357   \n",
       "min        1.000000        0.439000      0.988000      2.020000      0.904000   \n",
       "25%     4601.500000        1.102000     35.074250      8.656250      3.624000   \n",
       "50%     9202.000000        1.281000     45.836000     11.704500      5.636000   \n",
       "75%    13802.500000        1.474000     55.881000     16.589000      9.326500   \n",
       "max    18403.000000        2.841000    105.693000     60.627000     45.846000   \n",
       "\n",
       "                NO2           T2M  \n",
       "count  11833.000000  18403.000000  \n",
       "mean      12.045813    283.002235  \n",
       "std        8.296675      5.182186  \n",
       "min        1.104000    265.562000  \n",
       "25%        6.056000    279.321500  \n",
       "50%        9.769000    283.270000  \n",
       "75%       15.858000    287.240500  \n",
       "max       76.765000    297.209000  "
      ]
     },
     "execution_count": 31,
     "metadata": {},
     "output_type": "execute_result"
    }
   ],
   "source": [
    "train.describe()"
   ]
  },
  {
   "cell_type": "code",
   "execution_count": 32,
   "metadata": {
    "slideshow": {
     "slide_type": "subslide"
    }
   },
   "outputs": [
    {
     "name": "stdout",
     "output_type": "stream",
     "text": [
      "The train data has (18403, 9)\n",
      "The test data has (7886, 8)\n"
     ]
    }
   ],
   "source": [
    "# alternative way of checking dataset columns\n",
    "\n",
    "print (\"The train data has\",train.shape)\n",
    "print (\"The test data has\",test.shape)\n"
   ]
  },
  {
   "cell_type": "code",
   "execution_count": 33,
   "metadata": {
    "slideshow": {
     "slide_type": "subslide"
    }
   },
   "outputs": [
    {
     "data": {
      "text/html": [
       "<div>\n",
       "<style scoped>\n",
       "    .dataframe tbody tr th:only-of-type {\n",
       "        vertical-align: middle;\n",
       "    }\n",
       "\n",
       "    .dataframe tbody tr th {\n",
       "        vertical-align: top;\n",
       "    }\n",
       "\n",
       "    .dataframe thead th {\n",
       "        text-align: right;\n",
       "    }\n",
       "</style>\n",
       "<table border=\"1\" class=\"dataframe\">\n",
       "  <thead>\n",
       "    <tr style=\"text-align: right;\">\n",
       "      <th></th>\n",
       "      <th>Id</th>\n",
       "      <th>region</th>\n",
       "      <th>date</th>\n",
       "      <th>mortality_rate</th>\n",
       "      <th>O3</th>\n",
       "      <th>PM10</th>\n",
       "      <th>PM25</th>\n",
       "      <th>NO2</th>\n",
       "      <th>T2M</th>\n",
       "    </tr>\n",
       "  </thead>\n",
       "  <tbody>\n",
       "    <tr>\n",
       "      <th>0</th>\n",
       "      <td>1</td>\n",
       "      <td>E12000001</td>\n",
       "      <td>2007-01-02</td>\n",
       "      <td>2.264</td>\n",
       "      <td>42.358</td>\n",
       "      <td>9.021</td>\n",
       "      <td>NaN</td>\n",
       "      <td>NaN</td>\n",
       "      <td>278.138</td>\n",
       "    </tr>\n",
       "    <tr>\n",
       "      <th>1</th>\n",
       "      <td>2</td>\n",
       "      <td>E12000001</td>\n",
       "      <td>2007-01-03</td>\n",
       "      <td>2.030</td>\n",
       "      <td>49.506</td>\n",
       "      <td>5.256</td>\n",
       "      <td>NaN</td>\n",
       "      <td>NaN</td>\n",
       "      <td>281.745</td>\n",
       "    </tr>\n",
       "    <tr>\n",
       "      <th>2</th>\n",
       "      <td>3</td>\n",
       "      <td>E12000001</td>\n",
       "      <td>2007-01-04</td>\n",
       "      <td>1.874</td>\n",
       "      <td>51.101</td>\n",
       "      <td>4.946</td>\n",
       "      <td>NaN</td>\n",
       "      <td>NaN</td>\n",
       "      <td>280.523</td>\n",
       "    </tr>\n",
       "    <tr>\n",
       "      <th>3</th>\n",
       "      <td>4</td>\n",
       "      <td>E12000001</td>\n",
       "      <td>2007-01-05</td>\n",
       "      <td>2.069</td>\n",
       "      <td>47.478</td>\n",
       "      <td>6.823</td>\n",
       "      <td>NaN</td>\n",
       "      <td>NaN</td>\n",
       "      <td>280.421</td>\n",
       "    </tr>\n",
       "    <tr>\n",
       "      <th>4</th>\n",
       "      <td>5</td>\n",
       "      <td>E12000001</td>\n",
       "      <td>2007-01-06</td>\n",
       "      <td>1.913</td>\n",
       "      <td>45.226</td>\n",
       "      <td>7.532</td>\n",
       "      <td>NaN</td>\n",
       "      <td>NaN</td>\n",
       "      <td>278.961</td>\n",
       "    </tr>\n",
       "    <tr>\n",
       "      <th>...</th>\n",
       "      <td>...</td>\n",
       "      <td>...</td>\n",
       "      <td>...</td>\n",
       "      <td>...</td>\n",
       "      <td>...</td>\n",
       "      <td>...</td>\n",
       "      <td>...</td>\n",
       "      <td>...</td>\n",
       "      <td>...</td>\n",
       "    </tr>\n",
       "    <tr>\n",
       "      <th>2995</th>\n",
       "      <td>2996</td>\n",
       "      <td>E12000009</td>\n",
       "      <td>2007-03-26</td>\n",
       "      <td>1.528</td>\n",
       "      <td>41.161</td>\n",
       "      <td>34.624</td>\n",
       "      <td>NaN</td>\n",
       "      <td>NaN</td>\n",
       "      <td>282.409</td>\n",
       "    </tr>\n",
       "    <tr>\n",
       "      <th>2996</th>\n",
       "      <td>2997</td>\n",
       "      <td>E12000009</td>\n",
       "      <td>2007-03-27</td>\n",
       "      <td>1.934</td>\n",
       "      <td>44.191</td>\n",
       "      <td>39.707</td>\n",
       "      <td>NaN</td>\n",
       "      <td>NaN</td>\n",
       "      <td>282.841</td>\n",
       "    </tr>\n",
       "    <tr>\n",
       "      <th>2997</th>\n",
       "      <td>2998</td>\n",
       "      <td>E12000009</td>\n",
       "      <td>2007-03-28</td>\n",
       "      <td>1.334</td>\n",
       "      <td>53.291</td>\n",
       "      <td>49.294</td>\n",
       "      <td>NaN</td>\n",
       "      <td>NaN</td>\n",
       "      <td>281.632</td>\n",
       "    </tr>\n",
       "    <tr>\n",
       "      <th>2998</th>\n",
       "      <td>2999</td>\n",
       "      <td>E12000009</td>\n",
       "      <td>2007-03-29</td>\n",
       "      <td>1.644</td>\n",
       "      <td>72.903</td>\n",
       "      <td>10.882</td>\n",
       "      <td>NaN</td>\n",
       "      <td>NaN</td>\n",
       "      <td>279.672</td>\n",
       "    </tr>\n",
       "    <tr>\n",
       "      <th>2999</th>\n",
       "      <td>3000</td>\n",
       "      <td>E12000009</td>\n",
       "      <td>2007-03-30</td>\n",
       "      <td>1.876</td>\n",
       "      <td>56.078</td>\n",
       "      <td>21.729</td>\n",
       "      <td>NaN</td>\n",
       "      <td>NaN</td>\n",
       "      <td>280.407</td>\n",
       "    </tr>\n",
       "  </tbody>\n",
       "</table>\n",
       "<p>3000 rows × 9 columns</p>\n",
       "</div>"
      ],
      "text/plain": [
       "        Id     region        date  mortality_rate      O3    PM10  PM25  NO2  \\\n",
       "0        1  E12000001  2007-01-02           2.264  42.358   9.021   NaN  NaN   \n",
       "1        2  E12000001  2007-01-03           2.030  49.506   5.256   NaN  NaN   \n",
       "2        3  E12000001  2007-01-04           1.874  51.101   4.946   NaN  NaN   \n",
       "3        4  E12000001  2007-01-05           2.069  47.478   6.823   NaN  NaN   \n",
       "4        5  E12000001  2007-01-06           1.913  45.226   7.532   NaN  NaN   \n",
       "...    ...        ...         ...             ...     ...     ...   ...  ...   \n",
       "2995  2996  E12000009  2007-03-26           1.528  41.161  34.624   NaN  NaN   \n",
       "2996  2997  E12000009  2007-03-27           1.934  44.191  39.707   NaN  NaN   \n",
       "2997  2998  E12000009  2007-03-28           1.334  53.291  49.294   NaN  NaN   \n",
       "2998  2999  E12000009  2007-03-29           1.644  72.903  10.882   NaN  NaN   \n",
       "2999  3000  E12000009  2007-03-30           1.876  56.078  21.729   NaN  NaN   \n",
       "\n",
       "          T2M  \n",
       "0     278.138  \n",
       "1     281.745  \n",
       "2     280.523  \n",
       "3     280.421  \n",
       "4     278.961  \n",
       "...       ...  \n",
       "2995  282.409  \n",
       "2996  282.841  \n",
       "2997  281.632  \n",
       "2998  279.672  \n",
       "2999  280.407  \n",
       "\n",
       "[3000 rows x 9 columns]"
      ]
     },
     "execution_count": 33,
     "metadata": {},
     "output_type": "execute_result"
    }
   ],
   "source": [
    "# see what the data looks like\n",
    "\n",
    "train.head(3000)"
   ]
  },
  {
   "cell_type": "code",
   "execution_count": 34,
   "metadata": {},
   "outputs": [
    {
     "data": {
      "text/plain": [
       "18403"
      ]
     },
     "execution_count": 34,
     "metadata": {},
     "output_type": "execute_result"
    }
   ],
   "source": [
    "train.shape[0]"
   ]
  },
  {
   "cell_type": "code",
   "execution_count": 35,
   "metadata": {
    "slideshow": {
     "slide_type": "subslide"
    }
   },
   "outputs": [
    {
     "name": "stdout",
     "output_type": "stream",
     "text": [
      "6570 rows have missing values in the train data\n",
      "0 rows have missing values in the test data\n"
     ]
    }
   ],
   "source": [
    "# check if we have missing values in our data\n",
    "\n",
    "nans = train.shape[0] - train.dropna().shape[0]\n",
    "print (\"%d rows have missing values in the train data\" %nans)\n",
    "\n",
    "nand = test.shape[0] - test.dropna().shape[0]\n",
    "print (\"%d rows have missing values in the test data\" %nand)"
   ]
  },
  {
   "cell_type": "code",
   "execution_count": 36,
   "metadata": {
    "slideshow": {
     "slide_type": "subslide"
    }
   },
   "outputs": [
    {
     "data": {
      "text/plain": [
       "Id                   0\n",
       "region               0\n",
       "date                 0\n",
       "mortality_rate       0\n",
       "O3                   9\n",
       "PM10                 9\n",
       "PM25              3276\n",
       "NO2               6570\n",
       "T2M                  0\n",
       "dtype: int64"
      ]
     },
     "execution_count": 36,
     "metadata": {},
     "output_type": "execute_result"
    }
   ],
   "source": [
    "# Now let's check which columns have missing values\n",
    "train.isnull().sum()"
   ]
  },
  {
   "cell_type": "code",
   "execution_count": 37,
   "metadata": {
    "slideshow": {
     "slide_type": "subslide"
    }
   },
   "outputs": [
    {
     "data": {
      "text/plain": [
       "region       9\n",
       "date      2191\n",
       "dtype: int64"
      ]
     },
     "execution_count": 37,
     "metadata": {},
     "output_type": "execute_result"
    }
   ],
   "source": [
    "# How many unique values does each column hold\n",
    "categories = train.select_dtypes(include=['O'])\n",
    "\n",
    "categories.apply(pd.Series.nunique)"
   ]
  },
  {
   "cell_type": "markdown",
   "metadata": {
    "slideshow": {
     "slide_type": "subslide"
    }
   },
   "source": [
    "#### Dealing with missing values\n",
    "\n",
    " - we identified that we had four columns where some values were missing\n",
    " - these columns affect our records, but we don't want to scap or lose them completely!\n",
    " - Let's impute these missing values with respective models\n",
    " - O3, PM10, NO2 - we imputed missing values using mean. \n",
    " - PM25 and NO2 have a larger number of missing values. We don't want to  remove rows with missing data because we would loose data for all 2007 and 2008 . We will calculate mean for each month in the following years\n",
    "\n"
   ]
  },
  {
   "cell_type": "code",
   "execution_count": 38,
   "metadata": {},
   "outputs": [
    {
     "name": "stdout",
     "output_type": "stream",
     "text": [
      "Missing PM25 values after imputation for 2007:\n",
      "0\n",
      "Missing NO2 values after imputation for 2007 and 2008:\n",
      "0\n",
      "Missing values after imputation:\n",
      "Id                0\n",
      "region            0\n",
      "date              0\n",
      "mortality_rate    0\n",
      "O3                9\n",
      "PM10              9\n",
      "PM25              0\n",
      "NO2               0\n",
      "T2M               0\n",
      "dtype: int64\n"
     ]
    }
   ],
   "source": [
    "#Convert date to date object\n",
    "train['date'] = pd.to_datetime(train['date'])\n",
    "test['date'] = pd.to_datetime(test['date'])\n",
    "\n",
    "#Group the data by month and calculate the average pollutant concentration for each month during 2008-2012.\n",
    "relevant_years_PM25 = train[(train['date'].dt.year >= 2008) & (train['date'].dt.year <= 2012)]\n",
    "pm25_monthly_avg = relevant_years_PM25.groupby(relevant_years_PM25['date'].dt.month)['PM25'].mean().round(3)\n",
    "# print('PM25', pm25_monthly_avg)\n",
    "\n",
    "# impute missing values accordingly to avg for each month in 2007 \n",
    "\n",
    "for index, row in train.iterrows():\n",
    "    if pd.isnull(row['PM25']) and row['date'].year == 2007:\n",
    "        month = row['date'].month\n",
    "        train.at[index, 'PM25'] = pm25_monthly_avg[month]\n",
    "\n",
    "# print(train['PM25'])\n",
    "\n",
    "relevant_years_NO2 = train[(train['date'].dt.year >= 2009) & (train['date'].dt.year <= 2012)]\n",
    "no2_monthly_avg = relevant_years_NO2.groupby(relevant_years_NO2['date'].dt.month)['NO2'].mean().round(3)\n",
    "# print('no2',no2_monthly_avg)\n",
    "\n",
    "# Check if PM25 values were imputed\n",
    "print(\"Missing PM25 values after imputation for 2007:\")\n",
    "print(train[train['date'].dt.year == 2007]['PM25'].isnull().sum())\n",
    "\n",
    "# impute missing values accordingly to avg for each month in 2007 and 2008\n",
    "\n",
    "for index, row in train.iterrows():\n",
    "    if pd.isnull(row['NO2']) and row['date'].year in [2007,2008]:\n",
    "        month = row['date'].month\n",
    "        train.at[index, 'NO2'] = no2_monthly_avg[month]\n",
    "\n",
    "# Check if NO2 values were imputed\n",
    "print(\"Missing NO2 values after imputation for 2007 and 2008:\")\n",
    "print(train[(train['date'].dt.year == 2007) | (train['date'].dt.year == 2008)]['NO2'].isnull().sum())\n",
    "\n",
    "# Final check for missing data\n",
    "print(\"Missing values after imputation:\")\n",
    "print(train.isnull().sum())"
   ]
  },
  {
   "cell_type": "code",
   "execution_count": 39,
   "metadata": {
    "slideshow": {
     "slide_type": "subslide"
    }
   },
   "outputs": [
    {
     "name": "stdout",
     "output_type": "stream",
     "text": [
      "45.325857290420785\n",
      "13.712272153963248\n",
      "Missing values after imputation:\n",
      "Id                0\n",
      "region            0\n",
      "date              0\n",
      "mortality_rate    0\n",
      "O3                0\n",
      "PM10              0\n",
      "PM25              0\n",
      "NO2               0\n",
      "T2M               0\n",
      "dtype: int64\n"
     ]
    }
   ],
   "source": [
    "# Calculate mean for O3, PM10\n",
    "\n",
    "mean_O3 = train['O3'].mean()\n",
    "\n",
    "print(mean_O3)\n",
    "\n",
    "mean_PM10 = train['PM10'].mean()\n",
    "\n",
    "print(mean_PM10)\n",
    "\n",
    "\n",
    "# Impute those values \n",
    "\n",
    "train.value_counts('O3', sort= True)\n",
    "train.fillna({'O3':mean_O3}, inplace= True)\n",
    "\n",
    "train.value_counts('PM10', sort=True)\n",
    "train.fillna({'PM10':mean_PM10}, inplace=True)\n",
    "\n",
    "# Final check for missing data\n",
    "print(\"Missing values after imputation:\")\n",
    "print(train.isnull().sum())\n"
   ]
  },
  {
   "cell_type": "code",
   "execution_count": 40,
   "metadata": {},
   "outputs": [
    {
     "data": {
      "text/plain": [
       "18403"
      ]
     },
     "execution_count": 40,
     "metadata": {},
     "output_type": "execute_result"
    }
   ],
   "source": [
    "train.shape[0]"
   ]
  },
  {
   "cell_type": "code",
   "execution_count": 43,
   "metadata": {
    "slideshow": {
     "slide_type": "subslide"
    }
   },
   "outputs": [
    {
     "ename": "AttributeError",
     "evalue": "'DataFrame' object has no attribute 'target'",
     "output_type": "error",
     "traceback": [
      "\u001b[0;31m---------------------------------------------------------------------------\u001b[0m",
      "\u001b[0;31mAttributeError\u001b[0m                            Traceback (most recent call last)",
      "\u001b[0;32m/var/folders/ww/_8wv3jzj27l9t1190v0wsbyc0000gn/T/ipykernel_10767/807444773.py\u001b[0m in \u001b[0;36m?\u001b[0;34m()\u001b[0m\n\u001b[1;32m      1\u001b[0m \u001b[0;31m# Check proportion of target variable\u001b[0m\u001b[0;34m\u001b[0m\u001b[0;34m\u001b[0m\u001b[0m\n\u001b[0;32m----> 2\u001b[0;31m \u001b[0mprint\u001b[0m\u001b[0;34m(\u001b[0m\u001b[0mtrain\u001b[0m\u001b[0;34m.\u001b[0m\u001b[0mtarget\u001b[0m\u001b[0;34m.\u001b[0m\u001b[0mvalue_counts\u001b[0m\u001b[0;34m(\u001b[0m\u001b[0;34m)\u001b[0m \u001b[0;34m/\u001b[0m \u001b[0mtrain\u001b[0m\u001b[0;34m.\u001b[0m\u001b[0mshape\u001b[0m\u001b[0;34m[\u001b[0m\u001b[0;36m0\u001b[0m\u001b[0;34m]\u001b[0m\u001b[0;34m)\u001b[0m\u001b[0;34m\u001b[0m\u001b[0;34m\u001b[0m\u001b[0m\n\u001b[0m\u001b[1;32m      3\u001b[0m \"\"\"\n\u001b[1;32m      4\u001b[0m \u001b[0mthere\u001b[0m \u001b[0;32mis\u001b[0m \u001b[0mno\u001b[0m \u001b[0mtarget\u001b[0m \u001b[0mvariable\u001b[0m\u001b[0;34m-\u001b[0m \u001b[0mshould\u001b[0m \u001b[0mit\u001b[0m \u001b[0mbe\u001b[0m\u001b[0;34m\u001b[0m\u001b[0;34m\u001b[0m\u001b[0m\n\u001b[1;32m      5\u001b[0m  \u001b[0mprint\u001b[0m\u001b[0;34m(\u001b[0m\u001b[0mtrain\u001b[0m\u001b[0;34m.\u001b[0m\u001b[0mvalue_counts\u001b[0m\u001b[0;34m(\u001b[0m\u001b[0;34m)\u001b[0m \u001b[0;34m/\u001b[0m \u001b[0mtrain\u001b[0m\u001b[0;34m.\u001b[0m\u001b[0mshape\u001b[0m\u001b[0;34m[\u001b[0m\u001b[0;36m0\u001b[0m\u001b[0;34m]\u001b[0m\u001b[0;34m)\u001b[0m\u001b[0;34m\u001b[0m\u001b[0;34m\u001b[0m\u001b[0m\n",
      "\u001b[0;32m/Library/Frameworks/Python.framework/Versions/3.12/lib/python3.12/site-packages/pandas/core/generic.py\u001b[0m in \u001b[0;36m?\u001b[0;34m(self, name)\u001b[0m\n\u001b[1;32m   6295\u001b[0m             \u001b[0;32mand\u001b[0m \u001b[0mname\u001b[0m \u001b[0;32mnot\u001b[0m \u001b[0;32min\u001b[0m \u001b[0mself\u001b[0m\u001b[0;34m.\u001b[0m\u001b[0m_accessors\u001b[0m\u001b[0;34m\u001b[0m\u001b[0;34m\u001b[0m\u001b[0m\n\u001b[1;32m   6296\u001b[0m             \u001b[0;32mand\u001b[0m \u001b[0mself\u001b[0m\u001b[0;34m.\u001b[0m\u001b[0m_info_axis\u001b[0m\u001b[0;34m.\u001b[0m\u001b[0m_can_hold_identifiers_and_holds_name\u001b[0m\u001b[0;34m(\u001b[0m\u001b[0mname\u001b[0m\u001b[0;34m)\u001b[0m\u001b[0;34m\u001b[0m\u001b[0;34m\u001b[0m\u001b[0m\n\u001b[1;32m   6297\u001b[0m         \u001b[0;34m)\u001b[0m\u001b[0;34m:\u001b[0m\u001b[0;34m\u001b[0m\u001b[0;34m\u001b[0m\u001b[0m\n\u001b[1;32m   6298\u001b[0m             \u001b[0;32mreturn\u001b[0m \u001b[0mself\u001b[0m\u001b[0;34m[\u001b[0m\u001b[0mname\u001b[0m\u001b[0;34m]\u001b[0m\u001b[0;34m\u001b[0m\u001b[0;34m\u001b[0m\u001b[0m\n\u001b[0;32m-> 6299\u001b[0;31m         \u001b[0;32mreturn\u001b[0m \u001b[0mobject\u001b[0m\u001b[0;34m.\u001b[0m\u001b[0m__getattribute__\u001b[0m\u001b[0;34m(\u001b[0m\u001b[0mself\u001b[0m\u001b[0;34m,\u001b[0m \u001b[0mname\u001b[0m\u001b[0;34m)\u001b[0m\u001b[0;34m\u001b[0m\u001b[0;34m\u001b[0m\u001b[0m\n\u001b[0m",
      "\u001b[0;31mAttributeError\u001b[0m: 'DataFrame' object has no attribute 'target'"
     ]
    }
   ],
   "source": [
    "# Check proportion of target variable\n",
    "print(train.target.value_counts() / train.shape[0])\n",
    "\"\"\"\n",
    "there is no target variable- should it be \n",
    " print(train.value_counts() / train.shape[0]) \n",
    "or is it a different column name?\n",
    "\"\"\"\n",
    "# Check for any remaining missing values in the dataset\n",
    "print(train.isnull().sum())\n"
   ]
  },
  {
   "cell_type": "code",
   "execution_count": 28,
   "metadata": {
    "slideshow": {
     "slide_type": "subslide"
    }
   },
   "outputs": [
    {
     "ename": "AttributeError",
     "evalue": "'DataFrame' object has no attribute 'target'",
     "output_type": "error",
     "traceback": [
      "\u001b[0;31m---------------------------------------------------------------------------\u001b[0m",
      "\u001b[0;31mAttributeError\u001b[0m                            Traceback (most recent call last)",
      "\u001b[0;32m/var/folders/ww/_8wv3jzj27l9t1190v0wsbyc0000gn/T/ipykernel_10767/2168723837.py\u001b[0m in \u001b[0;36m?\u001b[0;34m()\u001b[0m\n\u001b[1;32m      1\u001b[0m \u001b[0;31m# Let's check the 'target' variable (values in the 'target' column) to investigate if this data is imbalanced or not.\u001b[0m\u001b[0;34m\u001b[0m\u001b[0;34m\u001b[0m\u001b[0m\n\u001b[1;32m      2\u001b[0m \u001b[0;34m\u001b[0m\u001b[0m\n\u001b[1;32m      3\u001b[0m \u001b[0;31m# check proportions % of target variable (there are only 2 unique values,\u001b[0m\u001b[0;34m\u001b[0m\u001b[0;34m\u001b[0m\u001b[0m\n\u001b[1;32m      4\u001b[0m \u001b[0;31m# so we should get a % split of these values in our dataset)\u001b[0m\u001b[0;34m\u001b[0m\u001b[0;34m\u001b[0m\u001b[0m\n\u001b[0;32m----> 5\u001b[0;31m \u001b[0mtrain\u001b[0m\u001b[0;34m.\u001b[0m\u001b[0mtarget\u001b[0m\u001b[0;34m.\u001b[0m\u001b[0mvalue_counts\u001b[0m\u001b[0;34m(\u001b[0m\u001b[0;34m)\u001b[0m\u001b[0;34m/\u001b[0m\u001b[0mtrain\u001b[0m\u001b[0;34m.\u001b[0m\u001b[0mshape\u001b[0m\u001b[0;34m[\u001b[0m\u001b[0;36m0\u001b[0m\u001b[0;34m]\u001b[0m\u001b[0;34m\u001b[0m\u001b[0;34m\u001b[0m\u001b[0m\n\u001b[0m",
      "\u001b[0;32m/Library/Frameworks/Python.framework/Versions/3.12/lib/python3.12/site-packages/pandas/core/generic.py\u001b[0m in \u001b[0;36m?\u001b[0;34m(self, name)\u001b[0m\n\u001b[1;32m   6295\u001b[0m             \u001b[0;32mand\u001b[0m \u001b[0mname\u001b[0m \u001b[0;32mnot\u001b[0m \u001b[0;32min\u001b[0m \u001b[0mself\u001b[0m\u001b[0;34m.\u001b[0m\u001b[0m_accessors\u001b[0m\u001b[0;34m\u001b[0m\u001b[0;34m\u001b[0m\u001b[0m\n\u001b[1;32m   6296\u001b[0m             \u001b[0;32mand\u001b[0m \u001b[0mself\u001b[0m\u001b[0;34m.\u001b[0m\u001b[0m_info_axis\u001b[0m\u001b[0;34m.\u001b[0m\u001b[0m_can_hold_identifiers_and_holds_name\u001b[0m\u001b[0;34m(\u001b[0m\u001b[0mname\u001b[0m\u001b[0;34m)\u001b[0m\u001b[0;34m\u001b[0m\u001b[0;34m\u001b[0m\u001b[0m\n\u001b[1;32m   6297\u001b[0m         \u001b[0;34m)\u001b[0m\u001b[0;34m:\u001b[0m\u001b[0;34m\u001b[0m\u001b[0;34m\u001b[0m\u001b[0m\n\u001b[1;32m   6298\u001b[0m             \u001b[0;32mreturn\u001b[0m \u001b[0mself\u001b[0m\u001b[0;34m[\u001b[0m\u001b[0mname\u001b[0m\u001b[0;34m]\u001b[0m\u001b[0;34m\u001b[0m\u001b[0;34m\u001b[0m\u001b[0m\n\u001b[0;32m-> 6299\u001b[0;31m         \u001b[0;32mreturn\u001b[0m \u001b[0mobject\u001b[0m\u001b[0;34m.\u001b[0m\u001b[0m__getattribute__\u001b[0m\u001b[0;34m(\u001b[0m\u001b[0mself\u001b[0m\u001b[0;34m,\u001b[0m \u001b[0mname\u001b[0m\u001b[0;34m)\u001b[0m\u001b[0;34m\u001b[0m\u001b[0;34m\u001b[0m\u001b[0m\n\u001b[0m",
      "\u001b[0;31mAttributeError\u001b[0m: 'DataFrame' object has no attribute 'target'"
     ]
    }
   ],
   "source": [
    "# Let's check the 'target' variable (values in the 'target' column) to investigate if this data is imbalanced or not.\n",
    "\n",
    "# check proportions % of target variable (there are only 2 unique values, \n",
    "# so we should get a % split of these values in our dataset)\n",
    "train.target.value_counts()/train.shape[0]"
   ]
  },
  {
   "cell_type": "markdown",
   "metadata": {
    "slideshow": {
     "slide_type": "subslide"
    }
   },
   "source": [
    "<div class=\"alert alert-block alert-info\">\n",
    "<b>75% of the data set belongs to less than 50K class. This means that even if we take a rough guess of target prediction as less than 50K, we'll get 75% accuracy.</b>\n",
    "Let's create a cross tab of the target variable with education. With this, we'll try to understand the influence of education on the target variable.\n",
    "</div>"
   ]
  },
  {
   "cell_type": "code",
   "execution_count": 44,
   "metadata": {
    "slideshow": {
     "slide_type": "subslide"
    }
   },
   "outputs": [
    {
     "ename": "AttributeError",
     "evalue": "'DataFrame' object has no attribute 'education'",
     "output_type": "error",
     "traceback": [
      "\u001b[0;31m---------------------------------------------------------------------------\u001b[0m",
      "\u001b[0;31mAttributeError\u001b[0m                            Traceback (most recent call last)",
      "\u001b[0;32m/var/folders/ww/_8wv3jzj27l9t1190v0wsbyc0000gn/T/ipykernel_10767/3517702527.py\u001b[0m in \u001b[0;36m?\u001b[0;34m()\u001b[0m\n\u001b[0;32m----> 1\u001b[0;31m \u001b[0mpd\u001b[0m\u001b[0;34m.\u001b[0m\u001b[0mcrosstab\u001b[0m\u001b[0;34m(\u001b[0m\u001b[0mtrain\u001b[0m\u001b[0;34m.\u001b[0m\u001b[0meducation\u001b[0m\u001b[0;34m,\u001b[0m \u001b[0mtrain\u001b[0m\u001b[0;34m.\u001b[0m\u001b[0mtarget\u001b[0m\u001b[0;34m,\u001b[0m\u001b[0mmargins\u001b[0m\u001b[0;34m=\u001b[0m\u001b[0;32mTrue\u001b[0m\u001b[0;34m)\u001b[0m\u001b[0;34m/\u001b[0m\u001b[0mtrain\u001b[0m\u001b[0;34m.\u001b[0m\u001b[0mshape\u001b[0m\u001b[0;34m[\u001b[0m\u001b[0;36m0\u001b[0m\u001b[0;34m]\u001b[0m\u001b[0;34m\u001b[0m\u001b[0;34m\u001b[0m\u001b[0m\n\u001b[0m",
      "\u001b[0;32m/Library/Frameworks/Python.framework/Versions/3.12/lib/python3.12/site-packages/pandas/core/generic.py\u001b[0m in \u001b[0;36m?\u001b[0;34m(self, name)\u001b[0m\n\u001b[1;32m   6295\u001b[0m             \u001b[0;32mand\u001b[0m \u001b[0mname\u001b[0m \u001b[0;32mnot\u001b[0m \u001b[0;32min\u001b[0m \u001b[0mself\u001b[0m\u001b[0;34m.\u001b[0m\u001b[0m_accessors\u001b[0m\u001b[0;34m\u001b[0m\u001b[0;34m\u001b[0m\u001b[0m\n\u001b[1;32m   6296\u001b[0m             \u001b[0;32mand\u001b[0m \u001b[0mself\u001b[0m\u001b[0;34m.\u001b[0m\u001b[0m_info_axis\u001b[0m\u001b[0;34m.\u001b[0m\u001b[0m_can_hold_identifiers_and_holds_name\u001b[0m\u001b[0;34m(\u001b[0m\u001b[0mname\u001b[0m\u001b[0;34m)\u001b[0m\u001b[0;34m\u001b[0m\u001b[0;34m\u001b[0m\u001b[0m\n\u001b[1;32m   6297\u001b[0m         \u001b[0;34m)\u001b[0m\u001b[0;34m:\u001b[0m\u001b[0;34m\u001b[0m\u001b[0;34m\u001b[0m\u001b[0m\n\u001b[1;32m   6298\u001b[0m             \u001b[0;32mreturn\u001b[0m \u001b[0mself\u001b[0m\u001b[0;34m[\u001b[0m\u001b[0mname\u001b[0m\u001b[0;34m]\u001b[0m\u001b[0;34m\u001b[0m\u001b[0;34m\u001b[0m\u001b[0m\n\u001b[0;32m-> 6299\u001b[0;31m         \u001b[0;32mreturn\u001b[0m \u001b[0mobject\u001b[0m\u001b[0;34m.\u001b[0m\u001b[0m__getattribute__\u001b[0m\u001b[0;34m(\u001b[0m\u001b[0mself\u001b[0m\u001b[0;34m,\u001b[0m \u001b[0mname\u001b[0m\u001b[0;34m)\u001b[0m\u001b[0;34m\u001b[0m\u001b[0;34m\u001b[0m\u001b[0m\n\u001b[0m",
      "\u001b[0;31mAttributeError\u001b[0m: 'DataFrame' object has no attribute 'education'"
     ]
    }
   ],
   "source": [
    "pd.crosstab(train.education, train.target,margins=True)/train.shape[0]"
   ]
  },
  {
   "cell_type": "markdown",
   "metadata": {
    "slideshow": {
     "slide_type": "subslide"
    }
   },
   "source": [
    "\n",
    "\n",
    "### FINDINGS: \n",
    "\n",
    "__out of 75% people with <=50K salary:__ \n",
    "\n",
    "- 27% people are high school graduates, which is correct as people with lower levels of education are expected to earn less. \n",
    "\n",
    "__out of 25% people with >=50K salary:__ \n",
    "\n",
    "- 6% are bachelors and 5% are high-school grads. ==> _this pattern seems to be a matter of concern! We have to consider more variables before coming to a conclusion._\n",
    "\n",
    "\n"
   ]
  },
  {
   "cell_type": "markdown",
   "metadata": {
    "slideshow": {
     "slide_type": "subslide"
    }
   },
   "source": [
    "## SCIKIT\n",
    "\n",
    "- Let's try to utilise the mighty SciKit library for the next step. \n",
    "\n",
    "- __IMPORTANT: Scikit accepts data in numeric format! It means that we need to convert the character variables into numeric.__  \n",
    "\n",
    "\n",
    "- To do our conversion, we will use the _labelencoder_ function.\n",
    "\n",
    "- __IMPORTANT: In label encoding, each unique value of a variable gets assigned a number.__ Example: a variable fruit has four values: 'apple', 'banana', 'kiwi', 'melon'. Label encoding this variable will return output as: apple = 2 banana = 0 kiwi = 1 melon = 3"
   ]
  },
  {
   "cell_type": "code",
   "execution_count": 45,
   "metadata": {
    "slideshow": {
     "slide_type": "subslide"
    }
   },
   "outputs": [],
   "source": [
    "# let's encode all object type variables\n",
    "\n",
    "from sklearn import preprocessing\n",
    "label_encoders = {}\n",
    "\n",
    "for x in train.columns:\n",
    "    if train[x].dtype == 'object':\n",
    "        lbl = preprocessing.LabelEncoder() # encoding\n",
    "        lbl.fit(list(train[x].values)) # fitting the model\n",
    "        train[x] = lbl.transform(list(train[x].values))\n",
    "        label_encoders[x] = lbl"
   ]
  },
  {
   "cell_type": "code",
   "execution_count": 46,
   "metadata": {},
   "outputs": [
    {
     "name": "stdout",
     "output_type": "stream",
     "text": [
      "Column: region\n",
      "E12000001 -> 0\n",
      "E12000002 -> 1\n",
      "E12000003 -> 2\n",
      "E12000004 -> 3\n",
      "E12000005 -> 4\n",
      "E12000006 -> 5\n",
      "E12000007 -> 6\n",
      "E12000008 -> 7\n",
      "E12000009 -> 8\n"
     ]
    }
   ],
   "source": [
    "# mapping the values to variables from the above\n",
    "\n",
    "for col, le in label_encoders.items():\n",
    "    print(f\"Column: {col}\")\n",
    "    for idx, class_ in enumerate(le.classes_):\n",
    "        print(f\"{class_} -> {idx}\")"
   ]
  },
  {
   "cell_type": "code",
   "execution_count": 47,
   "metadata": {
    "slideshow": {
     "slide_type": "subslide"
    }
   },
   "outputs": [
    {
     "data": {
      "text/html": [
       "<div>\n",
       "<style scoped>\n",
       "    .dataframe tbody tr th:only-of-type {\n",
       "        vertical-align: middle;\n",
       "    }\n",
       "\n",
       "    .dataframe tbody tr th {\n",
       "        vertical-align: top;\n",
       "    }\n",
       "\n",
       "    .dataframe thead th {\n",
       "        text-align: right;\n",
       "    }\n",
       "</style>\n",
       "<table border=\"1\" class=\"dataframe\">\n",
       "  <thead>\n",
       "    <tr style=\"text-align: right;\">\n",
       "      <th></th>\n",
       "      <th>Id</th>\n",
       "      <th>region</th>\n",
       "      <th>date</th>\n",
       "      <th>mortality_rate</th>\n",
       "      <th>O3</th>\n",
       "      <th>PM10</th>\n",
       "      <th>PM25</th>\n",
       "      <th>NO2</th>\n",
       "      <th>T2M</th>\n",
       "    </tr>\n",
       "  </thead>\n",
       "  <tbody>\n",
       "    <tr>\n",
       "      <th>0</th>\n",
       "      <td>1</td>\n",
       "      <td>0</td>\n",
       "      <td>2007-01-02</td>\n",
       "      <td>2.264</td>\n",
       "      <td>42.358</td>\n",
       "      <td>9.021</td>\n",
       "      <td>7.487</td>\n",
       "      <td>16.119</td>\n",
       "      <td>278.138</td>\n",
       "    </tr>\n",
       "    <tr>\n",
       "      <th>1</th>\n",
       "      <td>2</td>\n",
       "      <td>0</td>\n",
       "      <td>2007-01-03</td>\n",
       "      <td>2.030</td>\n",
       "      <td>49.506</td>\n",
       "      <td>5.256</td>\n",
       "      <td>7.487</td>\n",
       "      <td>16.119</td>\n",
       "      <td>281.745</td>\n",
       "    </tr>\n",
       "    <tr>\n",
       "      <th>2</th>\n",
       "      <td>3</td>\n",
       "      <td>0</td>\n",
       "      <td>2007-01-04</td>\n",
       "      <td>1.874</td>\n",
       "      <td>51.101</td>\n",
       "      <td>4.946</td>\n",
       "      <td>7.487</td>\n",
       "      <td>16.119</td>\n",
       "      <td>280.523</td>\n",
       "    </tr>\n",
       "    <tr>\n",
       "      <th>3</th>\n",
       "      <td>4</td>\n",
       "      <td>0</td>\n",
       "      <td>2007-01-05</td>\n",
       "      <td>2.069</td>\n",
       "      <td>47.478</td>\n",
       "      <td>6.823</td>\n",
       "      <td>7.487</td>\n",
       "      <td>16.119</td>\n",
       "      <td>280.421</td>\n",
       "    </tr>\n",
       "    <tr>\n",
       "      <th>4</th>\n",
       "      <td>5</td>\n",
       "      <td>0</td>\n",
       "      <td>2007-01-06</td>\n",
       "      <td>1.913</td>\n",
       "      <td>45.226</td>\n",
       "      <td>7.532</td>\n",
       "      <td>7.487</td>\n",
       "      <td>16.119</td>\n",
       "      <td>278.961</td>\n",
       "    </tr>\n",
       "    <tr>\n",
       "      <th>5</th>\n",
       "      <td>6</td>\n",
       "      <td>0</td>\n",
       "      <td>2007-01-07</td>\n",
       "      <td>1.756</td>\n",
       "      <td>53.226</td>\n",
       "      <td>5.607</td>\n",
       "      <td>7.487</td>\n",
       "      <td>16.119</td>\n",
       "      <td>281.504</td>\n",
       "    </tr>\n",
       "    <tr>\n",
       "      <th>6</th>\n",
       "      <td>7</td>\n",
       "      <td>0</td>\n",
       "      <td>2007-01-08</td>\n",
       "      <td>1.756</td>\n",
       "      <td>48.177</td>\n",
       "      <td>4.674</td>\n",
       "      <td>7.487</td>\n",
       "      <td>16.119</td>\n",
       "      <td>279.519</td>\n",
       "    </tr>\n",
       "    <tr>\n",
       "      <th>7</th>\n",
       "      <td>8</td>\n",
       "      <td>0</td>\n",
       "      <td>2007-01-09</td>\n",
       "      <td>2.147</td>\n",
       "      <td>56.917</td>\n",
       "      <td>5.979</td>\n",
       "      <td>7.487</td>\n",
       "      <td>16.119</td>\n",
       "      <td>281.866</td>\n",
       "    </tr>\n",
       "    <tr>\n",
       "      <th>8</th>\n",
       "      <td>9</td>\n",
       "      <td>0</td>\n",
       "      <td>2007-01-10</td>\n",
       "      <td>2.186</td>\n",
       "      <td>45.757</td>\n",
       "      <td>3.433</td>\n",
       "      <td>7.487</td>\n",
       "      <td>16.119</td>\n",
       "      <td>278.044</td>\n",
       "    </tr>\n",
       "    <tr>\n",
       "      <th>9</th>\n",
       "      <td>10</td>\n",
       "      <td>0</td>\n",
       "      <td>2007-01-11</td>\n",
       "      <td>1.249</td>\n",
       "      <td>56.388</td>\n",
       "      <td>6.159</td>\n",
       "      <td>7.487</td>\n",
       "      <td>16.119</td>\n",
       "      <td>280.358</td>\n",
       "    </tr>\n",
       "    <tr>\n",
       "      <th>10</th>\n",
       "      <td>11</td>\n",
       "      <td>0</td>\n",
       "      <td>2007-01-12</td>\n",
       "      <td>2.342</td>\n",
       "      <td>56.014</td>\n",
       "      <td>5.962</td>\n",
       "      <td>7.487</td>\n",
       "      <td>16.119</td>\n",
       "      <td>282.104</td>\n",
       "    </tr>\n",
       "    <tr>\n",
       "      <th>11</th>\n",
       "      <td>12</td>\n",
       "      <td>0</td>\n",
       "      <td>2007-01-13</td>\n",
       "      <td>1.444</td>\n",
       "      <td>55.656</td>\n",
       "      <td>5.122</td>\n",
       "      <td>7.487</td>\n",
       "      <td>16.119</td>\n",
       "      <td>280.847</td>\n",
       "    </tr>\n",
       "    <tr>\n",
       "      <th>12</th>\n",
       "      <td>13</td>\n",
       "      <td>0</td>\n",
       "      <td>2007-01-14</td>\n",
       "      <td>1.678</td>\n",
       "      <td>54.312</td>\n",
       "      <td>4.990</td>\n",
       "      <td>7.487</td>\n",
       "      <td>16.119</td>\n",
       "      <td>279.163</td>\n",
       "    </tr>\n",
       "    <tr>\n",
       "      <th>13</th>\n",
       "      <td>14</td>\n",
       "      <td>0</td>\n",
       "      <td>2007-01-15</td>\n",
       "      <td>2.186</td>\n",
       "      <td>56.654</td>\n",
       "      <td>5.590</td>\n",
       "      <td>7.487</td>\n",
       "      <td>16.119</td>\n",
       "      <td>280.905</td>\n",
       "    </tr>\n",
       "    <tr>\n",
       "      <th>14</th>\n",
       "      <td>15</td>\n",
       "      <td>0</td>\n",
       "      <td>2007-01-16</td>\n",
       "      <td>1.795</td>\n",
       "      <td>33.107</td>\n",
       "      <td>7.525</td>\n",
       "      <td>7.487</td>\n",
       "      <td>16.119</td>\n",
       "      <td>276.678</td>\n",
       "    </tr>\n",
       "    <tr>\n",
       "      <th>15</th>\n",
       "      <td>16</td>\n",
       "      <td>0</td>\n",
       "      <td>2007-01-17</td>\n",
       "      <td>1.678</td>\n",
       "      <td>50.589</td>\n",
       "      <td>5.812</td>\n",
       "      <td>7.487</td>\n",
       "      <td>16.119</td>\n",
       "      <td>278.028</td>\n",
       "    </tr>\n",
       "    <tr>\n",
       "      <th>16</th>\n",
       "      <td>17</td>\n",
       "      <td>0</td>\n",
       "      <td>2007-01-18</td>\n",
       "      <td>2.576</td>\n",
       "      <td>45.819</td>\n",
       "      <td>3.722</td>\n",
       "      <td>7.487</td>\n",
       "      <td>16.119</td>\n",
       "      <td>278.681</td>\n",
       "    </tr>\n",
       "    <tr>\n",
       "      <th>17</th>\n",
       "      <td>18</td>\n",
       "      <td>0</td>\n",
       "      <td>2007-01-19</td>\n",
       "      <td>2.030</td>\n",
       "      <td>49.809</td>\n",
       "      <td>8.244</td>\n",
       "      <td>7.487</td>\n",
       "      <td>16.119</td>\n",
       "      <td>280.647</td>\n",
       "    </tr>\n",
       "    <tr>\n",
       "      <th>18</th>\n",
       "      <td>19</td>\n",
       "      <td>0</td>\n",
       "      <td>2007-01-20</td>\n",
       "      <td>1.756</td>\n",
       "      <td>49.056</td>\n",
       "      <td>6.767</td>\n",
       "      <td>7.487</td>\n",
       "      <td>16.119</td>\n",
       "      <td>278.567</td>\n",
       "    </tr>\n",
       "    <tr>\n",
       "      <th>19</th>\n",
       "      <td>20</td>\n",
       "      <td>0</td>\n",
       "      <td>2007-01-21</td>\n",
       "      <td>1.834</td>\n",
       "      <td>47.730</td>\n",
       "      <td>3.846</td>\n",
       "      <td>7.487</td>\n",
       "      <td>16.119</td>\n",
       "      <td>275.684</td>\n",
       "    </tr>\n",
       "  </tbody>\n",
       "</table>\n",
       "</div>"
      ],
      "text/plain": [
       "    Id  region       date  mortality_rate      O3   PM10   PM25     NO2  \\\n",
       "0    1       0 2007-01-02           2.264  42.358  9.021  7.487  16.119   \n",
       "1    2       0 2007-01-03           2.030  49.506  5.256  7.487  16.119   \n",
       "2    3       0 2007-01-04           1.874  51.101  4.946  7.487  16.119   \n",
       "3    4       0 2007-01-05           2.069  47.478  6.823  7.487  16.119   \n",
       "4    5       0 2007-01-06           1.913  45.226  7.532  7.487  16.119   \n",
       "5    6       0 2007-01-07           1.756  53.226  5.607  7.487  16.119   \n",
       "6    7       0 2007-01-08           1.756  48.177  4.674  7.487  16.119   \n",
       "7    8       0 2007-01-09           2.147  56.917  5.979  7.487  16.119   \n",
       "8    9       0 2007-01-10           2.186  45.757  3.433  7.487  16.119   \n",
       "9   10       0 2007-01-11           1.249  56.388  6.159  7.487  16.119   \n",
       "10  11       0 2007-01-12           2.342  56.014  5.962  7.487  16.119   \n",
       "11  12       0 2007-01-13           1.444  55.656  5.122  7.487  16.119   \n",
       "12  13       0 2007-01-14           1.678  54.312  4.990  7.487  16.119   \n",
       "13  14       0 2007-01-15           2.186  56.654  5.590  7.487  16.119   \n",
       "14  15       0 2007-01-16           1.795  33.107  7.525  7.487  16.119   \n",
       "15  16       0 2007-01-17           1.678  50.589  5.812  7.487  16.119   \n",
       "16  17       0 2007-01-18           2.576  45.819  3.722  7.487  16.119   \n",
       "17  18       0 2007-01-19           2.030  49.809  8.244  7.487  16.119   \n",
       "18  19       0 2007-01-20           1.756  49.056  6.767  7.487  16.119   \n",
       "19  20       0 2007-01-21           1.834  47.730  3.846  7.487  16.119   \n",
       "\n",
       "        T2M  \n",
       "0   278.138  \n",
       "1   281.745  \n",
       "2   280.523  \n",
       "3   280.421  \n",
       "4   278.961  \n",
       "5   281.504  \n",
       "6   279.519  \n",
       "7   281.866  \n",
       "8   278.044  \n",
       "9   280.358  \n",
       "10  282.104  \n",
       "11  280.847  \n",
       "12  279.163  \n",
       "13  280.905  \n",
       "14  276.678  \n",
       "15  278.028  \n",
       "16  278.681  \n",
       "17  280.647  \n",
       "18  278.567  \n",
       "19  275.684  "
      ]
     },
     "execution_count": 47,
     "metadata": {},
     "output_type": "execute_result"
    }
   ],
   "source": [
    "# examine the dataset again to see how our encoding changes have been applied\n",
    "\n",
    "train.head(20)"
   ]
  }
 ],
 "metadata": {
  "celltoolbar": "Slideshow",
  "kernelspec": {
   "display_name": "Python 3 (ipykernel)",
   "language": "python",
   "name": "python3"
  },
  "language_info": {
   "codemirror_mode": {
    "name": "ipython",
    "version": 3
   },
   "file_extension": ".py",
   "mimetype": "text/x-python",
   "name": "python",
   "nbconvert_exporter": "python",
   "pygments_lexer": "ipython3",
   "version": "3.12.0"
  }
 },
 "nbformat": 4,
 "nbformat_minor": 4
}
