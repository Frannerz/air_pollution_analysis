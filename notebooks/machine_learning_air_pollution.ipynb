{
 "cells": [
  {
   "cell_type": "markdown",
   "metadata": {
    "slideshow": {
     "slide_type": "slide"
    }
   },
   "source": [
    "## OBJECTIVES\n",
    "\n",
    "- Predict CVD and cancer caused mortality rates in England using air quality data available from Copernicus Atmosphere Monitoring Service\n",
    "- The goal is to predict mortality rates (number of deaths per 100,000 people) for each English region using daily average measurements of ozone (O3), nitrogen dioxide (NO2), PM10 (particulate matter with diameter less than or equal to 10 micrometers), PM2.5 (diameter 2.5 micrometers or less) and temperature, data freely available from Copernicus Atmosphere Monitoring Service.\n",
    "\n",
    "Poor air quality is a significant public health issue. The burden of particulate air pollution in the UK in 2008 was estimated to be equivalent to nearly 29,000 deaths at typical ages and an associated loss of population life of 340,000 life years lost."
   ]
  },
  {
   "cell_type": "code",
   "execution_count": 53,
   "metadata": {
    "slideshow": {
     "slide_type": "subslide"
    }
   },
   "outputs": [
    {
     "name": "stdout",
     "output_type": "stream",
     "text": [
      "         Id     region        date      O3    PM10    PM25     NO2      T2M\n",
      "0     18404  E12000006  2012-05-28  75.980  20.876  19.123   9.713  290.787\n",
      "1     18405  E12000006  2012-05-29  73.084  21.660  17.794   8.417  288.474\n",
      "2     18406  E12000006  2012-05-30  59.350  21.925  17.699  10.878  289.889\n",
      "3     18407  E12000006  2012-05-31  45.991  14.549  11.386  10.302  287.815\n",
      "4     18408  E12000006  2012-06-01  52.210  11.208   9.545   8.598  287.627\n",
      "...     ...        ...         ...     ...     ...     ...     ...      ...\n",
      "7881  26285  E12000009  2014-12-27  57.951   6.422   3.683   6.082  277.350\n",
      "7882  26286  E12000009  2014-12-28  41.479  14.802  10.989  14.361  275.209\n",
      "7883  26287  E12000009  2014-12-29  32.742  17.722  12.177  17.386  275.772\n",
      "7884  26288  E12000009  2014-12-30  39.006  16.997  10.754  15.317  276.465\n",
      "7885  26289  E12000009  2014-12-31  51.444  18.538   9.248   8.701  280.509\n",
      "\n",
      "[7886 rows x 8 columns]\n",
      "          Id     region        date  mortality_rate      O3    PM10    PM25  \\\n",
      "0          1  E12000001  2007-01-02           2.264  42.358   9.021     NaN   \n",
      "1          2  E12000001  2007-01-03           2.030  49.506   5.256     NaN   \n",
      "2          3  E12000001  2007-01-04           1.874  51.101   4.946     NaN   \n",
      "3          4  E12000001  2007-01-05           2.069  47.478   6.823     NaN   \n",
      "4          5  E12000001  2007-01-06           1.913  45.226   7.532     NaN   \n",
      "...      ...        ...         ...             ...     ...     ...     ...   \n",
      "18398  18399  E12000006  2012-05-23           0.948  75.421  32.671  26.205   \n",
      "18399  18400  E12000006  2012-05-24           0.948  76.441  36.838  33.014   \n",
      "18400  18401  E12000006  2012-05-25           1.185  84.640  21.375  16.496   \n",
      "18401  18402  E12000006  2012-05-26           0.914  93.455  20.009  15.675   \n",
      "18402  18403  E12000006  2012-05-27           0.829  86.743  18.619  15.244   \n",
      "\n",
      "          NO2      T2M  \n",
      "0         NaN  278.138  \n",
      "1         NaN  281.745  \n",
      "2         NaN  280.523  \n",
      "3         NaN  280.421  \n",
      "4         NaN  278.961  \n",
      "...       ...      ...  \n",
      "18398   7.197  289.452  \n",
      "18399   9.165  290.277  \n",
      "18400  10.170  290.576  \n",
      "18401   8.701  290.413  \n",
      "18402  11.722  290.797  \n",
      "\n",
      "[18403 rows x 9 columns]\n"
     ]
    }
   ],
   "source": [
    "import pandas as pd\n",
    "from sklearn.linear_model import LinearRegression\n",
    "import numpy as np\n",
    "from sklearn.model_selection import train_test_split\n",
    "from sklearn.metrics import mean_squared_error\n",
    "import seaborn as sns\n",
    "import matplotlib.pyplot as plt\n",
    "%matplotlib inline\n",
    "\n",
    "#loading data\n",
    "\n",
    "train  = pd.read_csv(\"../data_clean/health_ML/train.csv\")\n",
    "test = pd.read_csv(\"../data_clean/health_ML/test.csv\")\n",
    "print(test)\n",
    "print(train)"
   ]
  },
  {
   "cell_type": "code",
   "execution_count": null,
   "metadata": {},
   "outputs": [],
   "source": [
    "train  = pd.read_csv(\"../data_clean/train.csv\")\n",
    "test = pd.read_csv(\"../data_clean/test.csv\")"
   ]
  },
  {
   "cell_type": "code",
   "execution_count": 2,
   "metadata": {
    "slideshow": {
     "slide_type": "subslide"
    }
   },
   "outputs": [
    {
     "name": "stdout",
     "output_type": "stream",
     "text": [
      "<class 'pandas.core.frame.DataFrame'>\n",
      "RangeIndex: 18403 entries, 0 to 18402\n",
      "Data columns (total 9 columns):\n",
      " #   Column          Non-Null Count  Dtype  \n",
      "---  ------          --------------  -----  \n",
      " 0   Id              18403 non-null  int64  \n",
      " 1   region          18403 non-null  object \n",
      " 2   date            18403 non-null  object \n",
      " 3   mortality_rate  18403 non-null  float64\n",
      " 4   O3              18394 non-null  float64\n",
      " 5   PM10            18394 non-null  float64\n",
      " 6   PM25            15127 non-null  float64\n",
      " 7   NO2             11833 non-null  float64\n",
      " 8   T2M             18403 non-null  float64\n",
      "dtypes: float64(6), int64(1), object(2)\n",
      "memory usage: 1.3+ MB\n"
     ]
    }
   ],
   "source": [
    "#let's review our main dataset\n",
    "train.info()\n",
    "\n",
    "# RESULT: the train data has 18403 rows and 9 columns. \n",
    "# Out of these 9 columns, 6 have float64 class, 1 data object, 1 integer and 1 object\n",
    "# *we can do a similar check for test data. "
   ]
  },
  {
   "cell_type": "code",
   "execution_count": 3,
   "metadata": {},
   "outputs": [
    {
     "data": {
      "text/html": [
       "<div>\n",
       "<style scoped>\n",
       "    .dataframe tbody tr th:only-of-type {\n",
       "        vertical-align: middle;\n",
       "    }\n",
       "\n",
       "    .dataframe tbody tr th {\n",
       "        vertical-align: top;\n",
       "    }\n",
       "\n",
       "    .dataframe thead th {\n",
       "        text-align: right;\n",
       "    }\n",
       "</style>\n",
       "<table border=\"1\" class=\"dataframe\">\n",
       "  <thead>\n",
       "    <tr style=\"text-align: right;\">\n",
       "      <th></th>\n",
       "      <th>Id</th>\n",
       "      <th>mortality_rate</th>\n",
       "      <th>O3</th>\n",
       "      <th>PM10</th>\n",
       "      <th>PM25</th>\n",
       "      <th>NO2</th>\n",
       "      <th>T2M</th>\n",
       "    </tr>\n",
       "  </thead>\n",
       "  <tbody>\n",
       "    <tr>\n",
       "      <th>count</th>\n",
       "      <td>18403.000000</td>\n",
       "      <td>18403.000000</td>\n",
       "      <td>18394.000000</td>\n",
       "      <td>18394.000000</td>\n",
       "      <td>15127.000000</td>\n",
       "      <td>11833.000000</td>\n",
       "      <td>18403.000000</td>\n",
       "    </tr>\n",
       "    <tr>\n",
       "      <th>mean</th>\n",
       "      <td>9202.000000</td>\n",
       "      <td>1.301737</td>\n",
       "      <td>45.325857</td>\n",
       "      <td>13.712272</td>\n",
       "      <td>7.498714</td>\n",
       "      <td>12.045813</td>\n",
       "      <td>283.002235</td>\n",
       "    </tr>\n",
       "    <tr>\n",
       "      <th>std</th>\n",
       "      <td>5312.632838</td>\n",
       "      <td>0.304161</td>\n",
       "      <td>16.221330</td>\n",
       "      <td>7.421616</td>\n",
       "      <td>5.758357</td>\n",
       "      <td>8.296675</td>\n",
       "      <td>5.182186</td>\n",
       "    </tr>\n",
       "    <tr>\n",
       "      <th>min</th>\n",
       "      <td>1.000000</td>\n",
       "      <td>0.439000</td>\n",
       "      <td>0.988000</td>\n",
       "      <td>2.020000</td>\n",
       "      <td>0.904000</td>\n",
       "      <td>1.104000</td>\n",
       "      <td>265.562000</td>\n",
       "    </tr>\n",
       "    <tr>\n",
       "      <th>25%</th>\n",
       "      <td>4601.500000</td>\n",
       "      <td>1.102000</td>\n",
       "      <td>35.074250</td>\n",
       "      <td>8.656250</td>\n",
       "      <td>3.624000</td>\n",
       "      <td>6.056000</td>\n",
       "      <td>279.321500</td>\n",
       "    </tr>\n",
       "    <tr>\n",
       "      <th>50%</th>\n",
       "      <td>9202.000000</td>\n",
       "      <td>1.281000</td>\n",
       "      <td>45.836000</td>\n",
       "      <td>11.704500</td>\n",
       "      <td>5.636000</td>\n",
       "      <td>9.769000</td>\n",
       "      <td>283.270000</td>\n",
       "    </tr>\n",
       "    <tr>\n",
       "      <th>75%</th>\n",
       "      <td>13802.500000</td>\n",
       "      <td>1.474000</td>\n",
       "      <td>55.881000</td>\n",
       "      <td>16.589000</td>\n",
       "      <td>9.326500</td>\n",
       "      <td>15.858000</td>\n",
       "      <td>287.240500</td>\n",
       "    </tr>\n",
       "    <tr>\n",
       "      <th>max</th>\n",
       "      <td>18403.000000</td>\n",
       "      <td>2.841000</td>\n",
       "      <td>105.693000</td>\n",
       "      <td>60.627000</td>\n",
       "      <td>45.846000</td>\n",
       "      <td>76.765000</td>\n",
       "      <td>297.209000</td>\n",
       "    </tr>\n",
       "  </tbody>\n",
       "</table>\n",
       "</div>"
      ],
      "text/plain": [
       "                 Id  mortality_rate            O3          PM10          PM25  \\\n",
       "count  18403.000000    18403.000000  18394.000000  18394.000000  15127.000000   \n",
       "mean    9202.000000        1.301737     45.325857     13.712272      7.498714   \n",
       "std     5312.632838        0.304161     16.221330      7.421616      5.758357   \n",
       "min        1.000000        0.439000      0.988000      2.020000      0.904000   \n",
       "25%     4601.500000        1.102000     35.074250      8.656250      3.624000   \n",
       "50%     9202.000000        1.281000     45.836000     11.704500      5.636000   \n",
       "75%    13802.500000        1.474000     55.881000     16.589000      9.326500   \n",
       "max    18403.000000        2.841000    105.693000     60.627000     45.846000   \n",
       "\n",
       "                NO2           T2M  \n",
       "count  11833.000000  18403.000000  \n",
       "mean      12.045813    283.002235  \n",
       "std        8.296675      5.182186  \n",
       "min        1.104000    265.562000  \n",
       "25%        6.056000    279.321500  \n",
       "50%        9.769000    283.270000  \n",
       "75%       15.858000    287.240500  \n",
       "max       76.765000    297.209000  "
      ]
     },
     "execution_count": 3,
     "metadata": {},
     "output_type": "execute_result"
    }
   ],
   "source": [
    "train.describe()"
   ]
  },
  {
   "cell_type": "code",
   "execution_count": 4,
   "metadata": {
    "slideshow": {
     "slide_type": "subslide"
    }
   },
   "outputs": [
    {
     "name": "stdout",
     "output_type": "stream",
     "text": [
      "The train data has (18403, 9)\n",
      "The test data has (7886, 8)\n"
     ]
    }
   ],
   "source": [
    "# alternative way of checking dataset columns\n",
    "\n",
    "print (\"The train data has\",train.shape)\n",
    "print (\"The test data has\",test.shape)\n"
   ]
  },
  {
   "cell_type": "code",
   "execution_count": 5,
   "metadata": {
    "slideshow": {
     "slide_type": "subslide"
    }
   },
   "outputs": [
    {
     "data": {
      "text/html": [
       "<div>\n",
       "<style scoped>\n",
       "    .dataframe tbody tr th:only-of-type {\n",
       "        vertical-align: middle;\n",
       "    }\n",
       "\n",
       "    .dataframe tbody tr th {\n",
       "        vertical-align: top;\n",
       "    }\n",
       "\n",
       "    .dataframe thead th {\n",
       "        text-align: right;\n",
       "    }\n",
       "</style>\n",
       "<table border=\"1\" class=\"dataframe\">\n",
       "  <thead>\n",
       "    <tr style=\"text-align: right;\">\n",
       "      <th></th>\n",
       "      <th>Id</th>\n",
       "      <th>region</th>\n",
       "      <th>date</th>\n",
       "      <th>mortality_rate</th>\n",
       "      <th>O3</th>\n",
       "      <th>PM10</th>\n",
       "      <th>PM25</th>\n",
       "      <th>NO2</th>\n",
       "      <th>T2M</th>\n",
       "    </tr>\n",
       "  </thead>\n",
       "  <tbody>\n",
       "    <tr>\n",
       "      <th>0</th>\n",
       "      <td>1</td>\n",
       "      <td>E12000001</td>\n",
       "      <td>2007-01-02</td>\n",
       "      <td>2.264</td>\n",
       "      <td>42.358</td>\n",
       "      <td>9.021</td>\n",
       "      <td>NaN</td>\n",
       "      <td>NaN</td>\n",
       "      <td>278.138</td>\n",
       "    </tr>\n",
       "    <tr>\n",
       "      <th>1</th>\n",
       "      <td>2</td>\n",
       "      <td>E12000001</td>\n",
       "      <td>2007-01-03</td>\n",
       "      <td>2.030</td>\n",
       "      <td>49.506</td>\n",
       "      <td>5.256</td>\n",
       "      <td>NaN</td>\n",
       "      <td>NaN</td>\n",
       "      <td>281.745</td>\n",
       "    </tr>\n",
       "    <tr>\n",
       "      <th>2</th>\n",
       "      <td>3</td>\n",
       "      <td>E12000001</td>\n",
       "      <td>2007-01-04</td>\n",
       "      <td>1.874</td>\n",
       "      <td>51.101</td>\n",
       "      <td>4.946</td>\n",
       "      <td>NaN</td>\n",
       "      <td>NaN</td>\n",
       "      <td>280.523</td>\n",
       "    </tr>\n",
       "    <tr>\n",
       "      <th>3</th>\n",
       "      <td>4</td>\n",
       "      <td>E12000001</td>\n",
       "      <td>2007-01-05</td>\n",
       "      <td>2.069</td>\n",
       "      <td>47.478</td>\n",
       "      <td>6.823</td>\n",
       "      <td>NaN</td>\n",
       "      <td>NaN</td>\n",
       "      <td>280.421</td>\n",
       "    </tr>\n",
       "    <tr>\n",
       "      <th>4</th>\n",
       "      <td>5</td>\n",
       "      <td>E12000001</td>\n",
       "      <td>2007-01-06</td>\n",
       "      <td>1.913</td>\n",
       "      <td>45.226</td>\n",
       "      <td>7.532</td>\n",
       "      <td>NaN</td>\n",
       "      <td>NaN</td>\n",
       "      <td>278.961</td>\n",
       "    </tr>\n",
       "    <tr>\n",
       "      <th>...</th>\n",
       "      <td>...</td>\n",
       "      <td>...</td>\n",
       "      <td>...</td>\n",
       "      <td>...</td>\n",
       "      <td>...</td>\n",
       "      <td>...</td>\n",
       "      <td>...</td>\n",
       "      <td>...</td>\n",
       "      <td>...</td>\n",
       "    </tr>\n",
       "    <tr>\n",
       "      <th>2995</th>\n",
       "      <td>2996</td>\n",
       "      <td>E12000009</td>\n",
       "      <td>2007-03-26</td>\n",
       "      <td>1.528</td>\n",
       "      <td>41.161</td>\n",
       "      <td>34.624</td>\n",
       "      <td>NaN</td>\n",
       "      <td>NaN</td>\n",
       "      <td>282.409</td>\n",
       "    </tr>\n",
       "    <tr>\n",
       "      <th>2996</th>\n",
       "      <td>2997</td>\n",
       "      <td>E12000009</td>\n",
       "      <td>2007-03-27</td>\n",
       "      <td>1.934</td>\n",
       "      <td>44.191</td>\n",
       "      <td>39.707</td>\n",
       "      <td>NaN</td>\n",
       "      <td>NaN</td>\n",
       "      <td>282.841</td>\n",
       "    </tr>\n",
       "    <tr>\n",
       "      <th>2997</th>\n",
       "      <td>2998</td>\n",
       "      <td>E12000009</td>\n",
       "      <td>2007-03-28</td>\n",
       "      <td>1.334</td>\n",
       "      <td>53.291</td>\n",
       "      <td>49.294</td>\n",
       "      <td>NaN</td>\n",
       "      <td>NaN</td>\n",
       "      <td>281.632</td>\n",
       "    </tr>\n",
       "    <tr>\n",
       "      <th>2998</th>\n",
       "      <td>2999</td>\n",
       "      <td>E12000009</td>\n",
       "      <td>2007-03-29</td>\n",
       "      <td>1.644</td>\n",
       "      <td>72.903</td>\n",
       "      <td>10.882</td>\n",
       "      <td>NaN</td>\n",
       "      <td>NaN</td>\n",
       "      <td>279.672</td>\n",
       "    </tr>\n",
       "    <tr>\n",
       "      <th>2999</th>\n",
       "      <td>3000</td>\n",
       "      <td>E12000009</td>\n",
       "      <td>2007-03-30</td>\n",
       "      <td>1.876</td>\n",
       "      <td>56.078</td>\n",
       "      <td>21.729</td>\n",
       "      <td>NaN</td>\n",
       "      <td>NaN</td>\n",
       "      <td>280.407</td>\n",
       "    </tr>\n",
       "  </tbody>\n",
       "</table>\n",
       "<p>3000 rows × 9 columns</p>\n",
       "</div>"
      ],
      "text/plain": [
       "        Id     region        date  mortality_rate      O3    PM10  PM25  NO2  \\\n",
       "0        1  E12000001  2007-01-02           2.264  42.358   9.021   NaN  NaN   \n",
       "1        2  E12000001  2007-01-03           2.030  49.506   5.256   NaN  NaN   \n",
       "2        3  E12000001  2007-01-04           1.874  51.101   4.946   NaN  NaN   \n",
       "3        4  E12000001  2007-01-05           2.069  47.478   6.823   NaN  NaN   \n",
       "4        5  E12000001  2007-01-06           1.913  45.226   7.532   NaN  NaN   \n",
       "...    ...        ...         ...             ...     ...     ...   ...  ...   \n",
       "2995  2996  E12000009  2007-03-26           1.528  41.161  34.624   NaN  NaN   \n",
       "2996  2997  E12000009  2007-03-27           1.934  44.191  39.707   NaN  NaN   \n",
       "2997  2998  E12000009  2007-03-28           1.334  53.291  49.294   NaN  NaN   \n",
       "2998  2999  E12000009  2007-03-29           1.644  72.903  10.882   NaN  NaN   \n",
       "2999  3000  E12000009  2007-03-30           1.876  56.078  21.729   NaN  NaN   \n",
       "\n",
       "          T2M  \n",
       "0     278.138  \n",
       "1     281.745  \n",
       "2     280.523  \n",
       "3     280.421  \n",
       "4     278.961  \n",
       "...       ...  \n",
       "2995  282.409  \n",
       "2996  282.841  \n",
       "2997  281.632  \n",
       "2998  279.672  \n",
       "2999  280.407  \n",
       "\n",
       "[3000 rows x 9 columns]"
      ]
     },
     "execution_count": 5,
     "metadata": {},
     "output_type": "execute_result"
    }
   ],
   "source": [
    "# see what the data looks like\n",
    "\n",
    "train.head(3000)"
   ]
  },
  {
   "cell_type": "code",
   "execution_count": 6,
   "metadata": {},
   "outputs": [
    {
     "data": {
      "text/plain": [
       "18403"
      ]
     },
     "execution_count": 6,
     "metadata": {},
     "output_type": "execute_result"
    }
   ],
   "source": [
    "train.shape[0]"
   ]
  },
  {
   "cell_type": "code",
   "execution_count": 7,
   "metadata": {
    "slideshow": {
     "slide_type": "subslide"
    }
   },
   "outputs": [
    {
     "name": "stdout",
     "output_type": "stream",
     "text": [
      "6570 rows have missing values in the train data\n",
      "0 rows have missing values in the test data\n"
     ]
    }
   ],
   "source": [
    "# check if we have missing values in our data\n",
    "\n",
    "nans = train.shape[0] - train.dropna().shape[0]\n",
    "print (\"%d rows have missing values in the train data\" %nans)\n",
    "\n",
    "nand = test.shape[0] - test.dropna().shape[0]\n",
    "print (\"%d rows have missing values in the test data\" %nand)"
   ]
  },
  {
   "cell_type": "code",
   "execution_count": 8,
   "metadata": {
    "slideshow": {
     "slide_type": "subslide"
    }
   },
   "outputs": [
    {
     "data": {
      "text/plain": [
       "Id                   0\n",
       "region               0\n",
       "date                 0\n",
       "mortality_rate       0\n",
       "O3                   9\n",
       "PM10                 9\n",
       "PM25              3276\n",
       "NO2               6570\n",
       "T2M                  0\n",
       "dtype: int64"
      ]
     },
     "execution_count": 8,
     "metadata": {},
     "output_type": "execute_result"
    }
   ],
   "source": [
    "# Now let's check which columns have missing values\n",
    "train.isnull().sum()"
   ]
  },
  {
   "cell_type": "code",
   "execution_count": 9,
   "metadata": {
    "slideshow": {
     "slide_type": "subslide"
    }
   },
   "outputs": [
    {
     "data": {
      "text/plain": [
       "region       9\n",
       "date      2191\n",
       "dtype: int64"
      ]
     },
     "execution_count": 9,
     "metadata": {},
     "output_type": "execute_result"
    }
   ],
   "source": [
    "# How many unique values does each column hold\n",
    "categories = train.select_dtypes(include=['O'])\n",
    "\n",
    "categories.apply(pd.Series.nunique)"
   ]
  },
  {
   "cell_type": "markdown",
   "metadata": {
    "slideshow": {
     "slide_type": "subslide"
    }
   },
   "source": [
    "#### Dealing with missing values\n",
    "\n",
    " - we identified that we had four columns where some values were missing\n",
    " - these columns affect our records, but we don't want to scap or lose them completely!\n",
    " - Let's impute these missing values with respective models\n",
    " - O3, PM10 - we imputed missing values using mean. \n",
    " - PM25 and NO2 have a larger number of missing values. We don't want to  remove rows with missing data because we would loose data for all 2007 and 2008 . We will calculate mean for each month in the following years"
   ]
  },
  {
   "cell_type": "code",
   "execution_count": 7,
   "metadata": {},
   "outputs": [
    {
     "data": {
      "text/plain": [
       "0        2007-01-02\n",
       "1        2007-01-03\n",
       "2        2007-01-04\n",
       "3        2007-01-05\n",
       "4        2007-01-06\n",
       "            ...    \n",
       "18398    2012-05-23\n",
       "18399    2012-05-24\n",
       "18400    2012-05-25\n",
       "18401    2012-05-26\n",
       "18402    2012-05-27\n",
       "Name: date, Length: 18403, dtype: object"
      ]
     },
     "execution_count": 7,
     "metadata": {},
     "output_type": "execute_result"
    }
   ],
   "source": [
    "df = train['date']\n",
    "df"
   ]
  },
  {
   "cell_type": "code",
   "execution_count": 8,
   "metadata": {},
   "outputs": [
    {
     "name": "stdout",
     "output_type": "stream",
     "text": [
      "Missing PM25 values after imputation for 2007:\n",
      "0\n",
      "Missing NO2 values after imputation for 2007 and 2008:\n",
      "0\n",
      "Missing values after imputation:\n",
      "Id                0\n",
      "region            0\n",
      "date              0\n",
      "mortality_rate    0\n",
      "O3                9\n",
      "PM10              9\n",
      "PM25              0\n",
      "NO2               0\n",
      "T2M               0\n",
      "dtype: int64\n"
     ]
    }
   ],
   "source": [
    "#Convert date to date object\n",
    "train['date'] = pd.to_datetime(train['date'])\n",
    "test['date'] = pd.to_datetime(test['date'])\n",
    "\n",
    "#Group the data by month and calculate the average pollutant concentration for each month during 2008-2012.\n",
    "relevant_years_PM25 = train[(train['date'].dt.year >= 2008) & (train['date'].dt.year <= 2012)]\n",
    "pm25_monthly_avg = relevant_years_PM25.groupby(relevant_years_PM25['date'].dt.month)['PM25'].mean().round(3)\n",
    "# print('PM25', pm25_monthly_avg)\n",
    "\n",
    "# impute missing values accordingly to avg for each month in 2007 \n",
    "\n",
    "for index, row in train.iterrows():\n",
    "    if pd.isnull(row['PM25']) and row['date'].year == 2007:\n",
    "        month = row['date'].month\n",
    "        train.at[index, 'PM25'] = pm25_monthly_avg[month]\n",
    "\n",
    "# print(train['PM25'])\n",
    "\n",
    "relevant_years_NO2 = train[(train['date'].dt.year >= 2009) & (train['date'].dt.year <= 2012)]\n",
    "no2_monthly_avg = relevant_years_NO2.groupby(relevant_years_NO2['date'].dt.month)['NO2'].mean().round(3)\n",
    "# print('no2',no2_monthly_avg)\n",
    "\n",
    "# Check if PM25 values were imputed\n",
    "print(\"Missing PM25 values after imputation for 2007:\")\n",
    "print(train[train['date'].dt.year == 2007]['PM25'].isnull().sum())\n",
    "\n",
    "# impute missing values accordingly to avg for each month in 2007 and 2008\n",
    "\n",
    "for index, row in train.iterrows():\n",
    "    if pd.isnull(row['NO2']) and row['date'].year in [2007,2008]:\n",
    "        month = row['date'].month\n",
    "        train.at[index, 'NO2'] = no2_monthly_avg[month]\n",
    "\n",
    "# Check if NO2 values were imputed\n",
    "print(\"Missing NO2 values after imputation for 2007 and 2008:\")\n",
    "print(train[(train['date'].dt.year == 2007) | (train['date'].dt.year == 2008)]['NO2'].isnull().sum())\n",
    "\n",
    "# Final check for missing data\n",
    "print(\"Missing values after imputation:\")\n",
    "print(train.isnull().sum())"
   ]
  },
  {
   "cell_type": "code",
   "execution_count": 9,
   "metadata": {
    "slideshow": {
     "slide_type": "subslide"
    }
   },
   "outputs": [
    {
     "name": "stdout",
     "output_type": "stream",
     "text": [
      "45.325857290420785\n",
      "13.712272153963248\n",
      "Missing values after imputation:\n",
      "Id                0\n",
      "region            0\n",
      "date              0\n",
      "mortality_rate    0\n",
      "O3                0\n",
      "PM10              0\n",
      "PM25              0\n",
      "NO2               0\n",
      "T2M               0\n",
      "dtype: int64\n"
     ]
    }
   ],
   "source": [
    "# Calculate mean for O3, PM10\n",
    "\n",
    "mean_O3 = train['O3'].mean()\n",
    "\n",
    "print(mean_O3)\n",
    "\n",
    "mean_PM10 = train['PM10'].mean()\n",
    "\n",
    "print(mean_PM10)\n",
    "\n",
    "\n",
    "# Impute those values \n",
    "\n",
    "train.value_counts('O3', sort= True)\n",
    "train.fillna({'O3':mean_O3}, inplace= True)\n",
    "\n",
    "train.value_counts('PM10', sort=True)\n",
    "train.fillna({'PM10':mean_PM10}, inplace=True)\n",
    "\n",
    "# Final check for missing data\n",
    "print(\"Missing values after imputation:\")\n",
    "print(train.isnull().sum())\n"
   ]
  },
  {
   "cell_type": "code",
   "execution_count": 11,
   "metadata": {},
   "outputs": [
    {
     "data": {
      "text/plain": [
       "18403"
      ]
     },
     "execution_count": 11,
     "metadata": {},
     "output_type": "execute_result"
    }
   ],
   "source": [
    "train.shape[0]"
   ]
  },
  {
   "cell_type": "code",
   "execution_count": 17,
   "metadata": {},
   "outputs": [
    {
     "data": {
      "text/plain": [
       "Id                0\n",
       "region            0\n",
       "date              0\n",
       "mortality_rate    0\n",
       "O3                0\n",
       "PM10              0\n",
       "PM25              0\n",
       "NO2               0\n",
       "T2M               0\n",
       "dtype: int64"
      ]
     },
     "execution_count": 17,
     "metadata": {},
     "output_type": "execute_result"
    }
   ],
   "source": [
    "train.isnull().sum()"
   ]
  },
  {
   "cell_type": "code",
   "execution_count": 18,
   "metadata": {},
   "outputs": [
    {
     "name": "stdout",
     "output_type": "stream",
     "text": [
      "<class 'pandas.core.frame.DataFrame'>\n",
      "RangeIndex: 18403 entries, 0 to 18402\n",
      "Data columns (total 9 columns):\n",
      " #   Column          Non-Null Count  Dtype         \n",
      "---  ------          --------------  -----         \n",
      " 0   Id              18403 non-null  int64         \n",
      " 1   region          18403 non-null  object        \n",
      " 2   date            18403 non-null  datetime64[ns]\n",
      " 3   mortality_rate  18403 non-null  float64       \n",
      " 4   O3              18403 non-null  float64       \n",
      " 5   PM10            18403 non-null  float64       \n",
      " 6   PM25            18403 non-null  float64       \n",
      " 7   NO2             18403 non-null  float64       \n",
      " 8   T2M             18403 non-null  float64       \n",
      "dtypes: datetime64[ns](1), float64(6), int64(1), object(1)\n",
      "memory usage: 1.3+ MB\n"
     ]
    }
   ],
   "source": [
    "train.info()"
   ]
  },
  {
   "cell_type": "code",
   "execution_count": 23,
   "metadata": {},
   "outputs": [
    {
     "data": {
      "text/plain": [
       "array([2.264, 2.03 , 1.874, ..., 1.659, 1.591, 1.253])"
      ]
     },
     "execution_count": 23,
     "metadata": {},
     "output_type": "execute_result"
    }
   ],
   "source": [
    "train.mortality_rate.unique()"
   ]
  },
  {
   "cell_type": "code",
   "execution_count": 21,
   "metadata": {},
   "outputs": [
    {
     "data": {
      "text/plain": [
       "mortality_rate\n",
       "1.294    72\n",
       "1.154    71\n",
       "1.339    70\n",
       "1.353    69\n",
       "1.383    67\n",
       "         ..\n",
       "2.038     1\n",
       "2.220     1\n",
       "0.779     1\n",
       "1.728     1\n",
       "1.658     1\n",
       "Name: count, Length: 1418, dtype: int64"
      ]
     },
     "execution_count": 21,
     "metadata": {},
     "output_type": "execute_result"
    }
   ],
   "source": [
    "train.mortality_rate.value_counts()"
   ]
  },
  {
   "cell_type": "code",
   "execution_count": 30,
   "metadata": {},
   "outputs": [],
   "source": [
    "#convert region and date object into a number \n",
    "#I used one-hot encoding \n",
    "#transform the data into two dimensions using a sine and cosine transformation.. Map each cyclical variable onto a circle such that the lowest value for that variable appears right next to the largest value. We compute the x- and y- components of that point using sin and cos trigonometric functions.\n",
    "def encode(data, col, max_val):\n",
    "    data[col + '_sin'] = np.sin(2 * np.pi * data[col] / max_val)\n",
    "    data[col + '_cos'] = np.cos(2 * np.pi * data[col] / max_val)\n",
    "    return data\n",
    "\n",
    "def createCopy(raw):\n",
    "    df = raw.copy()\n",
    "\n",
    "    #add new column with region indicator\n",
    "    hot_region = pd.get_dummies(df['region'])\n",
    "    df = df.join(hot_region)\n",
    "    #get year, month, day, day of the week\n",
    "\n",
    "    df['month'] = df['date'].dt.month\n",
    "    df = encode(df, 'month', 12)\n",
    "    df['day'] = df['date'].dt.day\n",
    "    df = encode(df, 'day', 31)\n",
    "\n",
    "    return df.dropna()\n",
    "\n",
    "train = pd.read_csv('../data_clean/health_ML/train.csv', parse_dates=['date'], index_col='Id')\n",
    "test = pd.read_csv('../data_clean/health_ML/test.csv', parse_dates=['date'], index_col='Id')\n",
    "\n",
    "createCopy(train).to_csv('../data_clean/train_pp.csv')\n",
    "createCopy(test).to_csv('../data_clean/test_pp.csv')\n",
    "\n",
    "\n",
    "   \n",
    "    \n"
   ]
  },
  {
   "cell_type": "code",
   "execution_count": 36,
   "metadata": {},
   "outputs": [],
   "source": [
    "train_pp  = pd.read_csv(\"../data_clean/train_pp.csv\")\n",
    "test_pp = pd.read_csv(\"../data_clean/test_pp.csv\")"
   ]
  },
  {
   "cell_type": "code",
   "execution_count": 42,
   "metadata": {},
   "outputs": [
    {
     "name": "stdout",
     "output_type": "stream",
     "text": [
      "<class 'pandas.core.frame.DataFrame'>\n",
      "RangeIndex: 11833 entries, 0 to 11832\n",
      "Data columns (total 24 columns):\n",
      " #   Column          Non-Null Count  Dtype  \n",
      "---  ------          --------------  -----  \n",
      " 0   Id              11833 non-null  int64  \n",
      " 1   region          11833 non-null  object \n",
      " 2   date            11833 non-null  object \n",
      " 3   mortality_rate  11833 non-null  float64\n",
      " 4   O3              11833 non-null  float64\n",
      " 5   PM10            11833 non-null  float64\n",
      " 6   PM25            11833 non-null  float64\n",
      " 7   NO2             11833 non-null  float64\n",
      " 8   T2M             11833 non-null  float64\n",
      " 9   E12000001       11833 non-null  bool   \n",
      " 10  E12000002       11833 non-null  bool   \n",
      " 11  E12000003       11833 non-null  bool   \n",
      " 12  E12000004       11833 non-null  bool   \n",
      " 13  E12000005       11833 non-null  bool   \n",
      " 14  E12000006       11833 non-null  bool   \n",
      " 15  E12000007       11833 non-null  bool   \n",
      " 16  E12000008       11833 non-null  bool   \n",
      " 17  E12000009       11833 non-null  bool   \n",
      " 18  month           11833 non-null  int64  \n",
      " 19  month_sin       11833 non-null  float64\n",
      " 20  month_cos       11833 non-null  float64\n",
      " 21  day             11833 non-null  int64  \n",
      " 22  day_sin         11833 non-null  float64\n",
      " 23  day_cos         11833 non-null  float64\n",
      "dtypes: bool(9), float64(10), int64(3), object(2)\n",
      "memory usage: 1.5+ MB\n"
     ]
    }
   ],
   "source": [
    "train_pp.info()"
   ]
  },
  {
   "cell_type": "code",
   "execution_count": 43,
   "metadata": {},
   "outputs": [],
   "source": [
    "X = train_pp[['O3', 'PM10', 'PM25', 'NO2', 'T2M', 'month_sin', 'month_cos', 'day_sin', 'day_cos']]\n",
    "y = train_pp['mortality_rate']"
   ]
  },
  {
   "cell_type": "code",
   "execution_count": 47,
   "metadata": {},
   "outputs": [
    {
     "data": {
      "text/html": [
       "<style>#sk-container-id-1 {\n",
       "  /* Definition of color scheme common for light and dark mode */\n",
       "  --sklearn-color-text: black;\n",
       "  --sklearn-color-line: gray;\n",
       "  /* Definition of color scheme for unfitted estimators */\n",
       "  --sklearn-color-unfitted-level-0: #fff5e6;\n",
       "  --sklearn-color-unfitted-level-1: #f6e4d2;\n",
       "  --sklearn-color-unfitted-level-2: #ffe0b3;\n",
       "  --sklearn-color-unfitted-level-3: chocolate;\n",
       "  /* Definition of color scheme for fitted estimators */\n",
       "  --sklearn-color-fitted-level-0: #f0f8ff;\n",
       "  --sklearn-color-fitted-level-1: #d4ebff;\n",
       "  --sklearn-color-fitted-level-2: #b3dbfd;\n",
       "  --sklearn-color-fitted-level-3: cornflowerblue;\n",
       "\n",
       "  /* Specific color for light theme */\n",
       "  --sklearn-color-text-on-default-background: var(--sg-text-color, var(--theme-code-foreground, var(--jp-content-font-color1, black)));\n",
       "  --sklearn-color-background: var(--sg-background-color, var(--theme-background, var(--jp-layout-color0, white)));\n",
       "  --sklearn-color-border-box: var(--sg-text-color, var(--theme-code-foreground, var(--jp-content-font-color1, black)));\n",
       "  --sklearn-color-icon: #696969;\n",
       "\n",
       "  @media (prefers-color-scheme: dark) {\n",
       "    /* Redefinition of color scheme for dark theme */\n",
       "    --sklearn-color-text-on-default-background: var(--sg-text-color, var(--theme-code-foreground, var(--jp-content-font-color1, white)));\n",
       "    --sklearn-color-background: var(--sg-background-color, var(--theme-background, var(--jp-layout-color0, #111)));\n",
       "    --sklearn-color-border-box: var(--sg-text-color, var(--theme-code-foreground, var(--jp-content-font-color1, white)));\n",
       "    --sklearn-color-icon: #878787;\n",
       "  }\n",
       "}\n",
       "\n",
       "#sk-container-id-1 {\n",
       "  color: var(--sklearn-color-text);\n",
       "}\n",
       "\n",
       "#sk-container-id-1 pre {\n",
       "  padding: 0;\n",
       "}\n",
       "\n",
       "#sk-container-id-1 input.sk-hidden--visually {\n",
       "  border: 0;\n",
       "  clip: rect(1px 1px 1px 1px);\n",
       "  clip: rect(1px, 1px, 1px, 1px);\n",
       "  height: 1px;\n",
       "  margin: -1px;\n",
       "  overflow: hidden;\n",
       "  padding: 0;\n",
       "  position: absolute;\n",
       "  width: 1px;\n",
       "}\n",
       "\n",
       "#sk-container-id-1 div.sk-dashed-wrapped {\n",
       "  border: 1px dashed var(--sklearn-color-line);\n",
       "  margin: 0 0.4em 0.5em 0.4em;\n",
       "  box-sizing: border-box;\n",
       "  padding-bottom: 0.4em;\n",
       "  background-color: var(--sklearn-color-background);\n",
       "}\n",
       "\n",
       "#sk-container-id-1 div.sk-container {\n",
       "  /* jupyter's `normalize.less` sets `[hidden] { display: none; }`\n",
       "     but bootstrap.min.css set `[hidden] { display: none !important; }`\n",
       "     so we also need the `!important` here to be able to override the\n",
       "     default hidden behavior on the sphinx rendered scikit-learn.org.\n",
       "     See: https://github.com/scikit-learn/scikit-learn/issues/21755 */\n",
       "  display: inline-block !important;\n",
       "  position: relative;\n",
       "}\n",
       "\n",
       "#sk-container-id-1 div.sk-text-repr-fallback {\n",
       "  display: none;\n",
       "}\n",
       "\n",
       "div.sk-parallel-item,\n",
       "div.sk-serial,\n",
       "div.sk-item {\n",
       "  /* draw centered vertical line to link estimators */\n",
       "  background-image: linear-gradient(var(--sklearn-color-text-on-default-background), var(--sklearn-color-text-on-default-background));\n",
       "  background-size: 2px 100%;\n",
       "  background-repeat: no-repeat;\n",
       "  background-position: center center;\n",
       "}\n",
       "\n",
       "/* Parallel-specific style estimator block */\n",
       "\n",
       "#sk-container-id-1 div.sk-parallel-item::after {\n",
       "  content: \"\";\n",
       "  width: 100%;\n",
       "  border-bottom: 2px solid var(--sklearn-color-text-on-default-background);\n",
       "  flex-grow: 1;\n",
       "}\n",
       "\n",
       "#sk-container-id-1 div.sk-parallel {\n",
       "  display: flex;\n",
       "  align-items: stretch;\n",
       "  justify-content: center;\n",
       "  background-color: var(--sklearn-color-background);\n",
       "  position: relative;\n",
       "}\n",
       "\n",
       "#sk-container-id-1 div.sk-parallel-item {\n",
       "  display: flex;\n",
       "  flex-direction: column;\n",
       "}\n",
       "\n",
       "#sk-container-id-1 div.sk-parallel-item:first-child::after {\n",
       "  align-self: flex-end;\n",
       "  width: 50%;\n",
       "}\n",
       "\n",
       "#sk-container-id-1 div.sk-parallel-item:last-child::after {\n",
       "  align-self: flex-start;\n",
       "  width: 50%;\n",
       "}\n",
       "\n",
       "#sk-container-id-1 div.sk-parallel-item:only-child::after {\n",
       "  width: 0;\n",
       "}\n",
       "\n",
       "/* Serial-specific style estimator block */\n",
       "\n",
       "#sk-container-id-1 div.sk-serial {\n",
       "  display: flex;\n",
       "  flex-direction: column;\n",
       "  align-items: center;\n",
       "  background-color: var(--sklearn-color-background);\n",
       "  padding-right: 1em;\n",
       "  padding-left: 1em;\n",
       "}\n",
       "\n",
       "\n",
       "/* Toggleable style: style used for estimator/Pipeline/ColumnTransformer box that is\n",
       "clickable and can be expanded/collapsed.\n",
       "- Pipeline and ColumnTransformer use this feature and define the default style\n",
       "- Estimators will overwrite some part of the style using the `sk-estimator` class\n",
       "*/\n",
       "\n",
       "/* Pipeline and ColumnTransformer style (default) */\n",
       "\n",
       "#sk-container-id-1 div.sk-toggleable {\n",
       "  /* Default theme specific background. It is overwritten whether we have a\n",
       "  specific estimator or a Pipeline/ColumnTransformer */\n",
       "  background-color: var(--sklearn-color-background);\n",
       "}\n",
       "\n",
       "/* Toggleable label */\n",
       "#sk-container-id-1 label.sk-toggleable__label {\n",
       "  cursor: pointer;\n",
       "  display: block;\n",
       "  width: 100%;\n",
       "  margin-bottom: 0;\n",
       "  padding: 0.5em;\n",
       "  box-sizing: border-box;\n",
       "  text-align: center;\n",
       "}\n",
       "\n",
       "#sk-container-id-1 label.sk-toggleable__label-arrow:before {\n",
       "  /* Arrow on the left of the label */\n",
       "  content: \"▸\";\n",
       "  float: left;\n",
       "  margin-right: 0.25em;\n",
       "  color: var(--sklearn-color-icon);\n",
       "}\n",
       "\n",
       "#sk-container-id-1 label.sk-toggleable__label-arrow:hover:before {\n",
       "  color: var(--sklearn-color-text);\n",
       "}\n",
       "\n",
       "/* Toggleable content - dropdown */\n",
       "\n",
       "#sk-container-id-1 div.sk-toggleable__content {\n",
       "  max-height: 0;\n",
       "  max-width: 0;\n",
       "  overflow: hidden;\n",
       "  text-align: left;\n",
       "  /* unfitted */\n",
       "  background-color: var(--sklearn-color-unfitted-level-0);\n",
       "}\n",
       "\n",
       "#sk-container-id-1 div.sk-toggleable__content.fitted {\n",
       "  /* fitted */\n",
       "  background-color: var(--sklearn-color-fitted-level-0);\n",
       "}\n",
       "\n",
       "#sk-container-id-1 div.sk-toggleable__content pre {\n",
       "  margin: 0.2em;\n",
       "  border-radius: 0.25em;\n",
       "  color: var(--sklearn-color-text);\n",
       "  /* unfitted */\n",
       "  background-color: var(--sklearn-color-unfitted-level-0);\n",
       "}\n",
       "\n",
       "#sk-container-id-1 div.sk-toggleable__content.fitted pre {\n",
       "  /* unfitted */\n",
       "  background-color: var(--sklearn-color-fitted-level-0);\n",
       "}\n",
       "\n",
       "#sk-container-id-1 input.sk-toggleable__control:checked~div.sk-toggleable__content {\n",
       "  /* Expand drop-down */\n",
       "  max-height: 200px;\n",
       "  max-width: 100%;\n",
       "  overflow: auto;\n",
       "}\n",
       "\n",
       "#sk-container-id-1 input.sk-toggleable__control:checked~label.sk-toggleable__label-arrow:before {\n",
       "  content: \"▾\";\n",
       "}\n",
       "\n",
       "/* Pipeline/ColumnTransformer-specific style */\n",
       "\n",
       "#sk-container-id-1 div.sk-label input.sk-toggleable__control:checked~label.sk-toggleable__label {\n",
       "  color: var(--sklearn-color-text);\n",
       "  background-color: var(--sklearn-color-unfitted-level-2);\n",
       "}\n",
       "\n",
       "#sk-container-id-1 div.sk-label.fitted input.sk-toggleable__control:checked~label.sk-toggleable__label {\n",
       "  background-color: var(--sklearn-color-fitted-level-2);\n",
       "}\n",
       "\n",
       "/* Estimator-specific style */\n",
       "\n",
       "/* Colorize estimator box */\n",
       "#sk-container-id-1 div.sk-estimator input.sk-toggleable__control:checked~label.sk-toggleable__label {\n",
       "  /* unfitted */\n",
       "  background-color: var(--sklearn-color-unfitted-level-2);\n",
       "}\n",
       "\n",
       "#sk-container-id-1 div.sk-estimator.fitted input.sk-toggleable__control:checked~label.sk-toggleable__label {\n",
       "  /* fitted */\n",
       "  background-color: var(--sklearn-color-fitted-level-2);\n",
       "}\n",
       "\n",
       "#sk-container-id-1 div.sk-label label.sk-toggleable__label,\n",
       "#sk-container-id-1 div.sk-label label {\n",
       "  /* The background is the default theme color */\n",
       "  color: var(--sklearn-color-text-on-default-background);\n",
       "}\n",
       "\n",
       "/* On hover, darken the color of the background */\n",
       "#sk-container-id-1 div.sk-label:hover label.sk-toggleable__label {\n",
       "  color: var(--sklearn-color-text);\n",
       "  background-color: var(--sklearn-color-unfitted-level-2);\n",
       "}\n",
       "\n",
       "/* Label box, darken color on hover, fitted */\n",
       "#sk-container-id-1 div.sk-label.fitted:hover label.sk-toggleable__label.fitted {\n",
       "  color: var(--sklearn-color-text);\n",
       "  background-color: var(--sklearn-color-fitted-level-2);\n",
       "}\n",
       "\n",
       "/* Estimator label */\n",
       "\n",
       "#sk-container-id-1 div.sk-label label {\n",
       "  font-family: monospace;\n",
       "  font-weight: bold;\n",
       "  display: inline-block;\n",
       "  line-height: 1.2em;\n",
       "}\n",
       "\n",
       "#sk-container-id-1 div.sk-label-container {\n",
       "  text-align: center;\n",
       "}\n",
       "\n",
       "/* Estimator-specific */\n",
       "#sk-container-id-1 div.sk-estimator {\n",
       "  font-family: monospace;\n",
       "  border: 1px dotted var(--sklearn-color-border-box);\n",
       "  border-radius: 0.25em;\n",
       "  box-sizing: border-box;\n",
       "  margin-bottom: 0.5em;\n",
       "  /* unfitted */\n",
       "  background-color: var(--sklearn-color-unfitted-level-0);\n",
       "}\n",
       "\n",
       "#sk-container-id-1 div.sk-estimator.fitted {\n",
       "  /* fitted */\n",
       "  background-color: var(--sklearn-color-fitted-level-0);\n",
       "}\n",
       "\n",
       "/* on hover */\n",
       "#sk-container-id-1 div.sk-estimator:hover {\n",
       "  /* unfitted */\n",
       "  background-color: var(--sklearn-color-unfitted-level-2);\n",
       "}\n",
       "\n",
       "#sk-container-id-1 div.sk-estimator.fitted:hover {\n",
       "  /* fitted */\n",
       "  background-color: var(--sklearn-color-fitted-level-2);\n",
       "}\n",
       "\n",
       "/* Specification for estimator info (e.g. \"i\" and \"?\") */\n",
       "\n",
       "/* Common style for \"i\" and \"?\" */\n",
       "\n",
       ".sk-estimator-doc-link,\n",
       "a:link.sk-estimator-doc-link,\n",
       "a:visited.sk-estimator-doc-link {\n",
       "  float: right;\n",
       "  font-size: smaller;\n",
       "  line-height: 1em;\n",
       "  font-family: monospace;\n",
       "  background-color: var(--sklearn-color-background);\n",
       "  border-radius: 1em;\n",
       "  height: 1em;\n",
       "  width: 1em;\n",
       "  text-decoration: none !important;\n",
       "  margin-left: 1ex;\n",
       "  /* unfitted */\n",
       "  border: var(--sklearn-color-unfitted-level-1) 1pt solid;\n",
       "  color: var(--sklearn-color-unfitted-level-1);\n",
       "}\n",
       "\n",
       ".sk-estimator-doc-link.fitted,\n",
       "a:link.sk-estimator-doc-link.fitted,\n",
       "a:visited.sk-estimator-doc-link.fitted {\n",
       "  /* fitted */\n",
       "  border: var(--sklearn-color-fitted-level-1) 1pt solid;\n",
       "  color: var(--sklearn-color-fitted-level-1);\n",
       "}\n",
       "\n",
       "/* On hover */\n",
       "div.sk-estimator:hover .sk-estimator-doc-link:hover,\n",
       ".sk-estimator-doc-link:hover,\n",
       "div.sk-label-container:hover .sk-estimator-doc-link:hover,\n",
       ".sk-estimator-doc-link:hover {\n",
       "  /* unfitted */\n",
       "  background-color: var(--sklearn-color-unfitted-level-3);\n",
       "  color: var(--sklearn-color-background);\n",
       "  text-decoration: none;\n",
       "}\n",
       "\n",
       "div.sk-estimator.fitted:hover .sk-estimator-doc-link.fitted:hover,\n",
       ".sk-estimator-doc-link.fitted:hover,\n",
       "div.sk-label-container:hover .sk-estimator-doc-link.fitted:hover,\n",
       ".sk-estimator-doc-link.fitted:hover {\n",
       "  /* fitted */\n",
       "  background-color: var(--sklearn-color-fitted-level-3);\n",
       "  color: var(--sklearn-color-background);\n",
       "  text-decoration: none;\n",
       "}\n",
       "\n",
       "/* Span, style for the box shown on hovering the info icon */\n",
       ".sk-estimator-doc-link span {\n",
       "  display: none;\n",
       "  z-index: 9999;\n",
       "  position: relative;\n",
       "  font-weight: normal;\n",
       "  right: .2ex;\n",
       "  padding: .5ex;\n",
       "  margin: .5ex;\n",
       "  width: min-content;\n",
       "  min-width: 20ex;\n",
       "  max-width: 50ex;\n",
       "  color: var(--sklearn-color-text);\n",
       "  box-shadow: 2pt 2pt 4pt #999;\n",
       "  /* unfitted */\n",
       "  background: var(--sklearn-color-unfitted-level-0);\n",
       "  border: .5pt solid var(--sklearn-color-unfitted-level-3);\n",
       "}\n",
       "\n",
       ".sk-estimator-doc-link.fitted span {\n",
       "  /* fitted */\n",
       "  background: var(--sklearn-color-fitted-level-0);\n",
       "  border: var(--sklearn-color-fitted-level-3);\n",
       "}\n",
       "\n",
       ".sk-estimator-doc-link:hover span {\n",
       "  display: block;\n",
       "}\n",
       "\n",
       "/* \"?\"-specific style due to the `<a>` HTML tag */\n",
       "\n",
       "#sk-container-id-1 a.estimator_doc_link {\n",
       "  float: right;\n",
       "  font-size: 1rem;\n",
       "  line-height: 1em;\n",
       "  font-family: monospace;\n",
       "  background-color: var(--sklearn-color-background);\n",
       "  border-radius: 1rem;\n",
       "  height: 1rem;\n",
       "  width: 1rem;\n",
       "  text-decoration: none;\n",
       "  /* unfitted */\n",
       "  color: var(--sklearn-color-unfitted-level-1);\n",
       "  border: var(--sklearn-color-unfitted-level-1) 1pt solid;\n",
       "}\n",
       "\n",
       "#sk-container-id-1 a.estimator_doc_link.fitted {\n",
       "  /* fitted */\n",
       "  border: var(--sklearn-color-fitted-level-1) 1pt solid;\n",
       "  color: var(--sklearn-color-fitted-level-1);\n",
       "}\n",
       "\n",
       "/* On hover */\n",
       "#sk-container-id-1 a.estimator_doc_link:hover {\n",
       "  /* unfitted */\n",
       "  background-color: var(--sklearn-color-unfitted-level-3);\n",
       "  color: var(--sklearn-color-background);\n",
       "  text-decoration: none;\n",
       "}\n",
       "\n",
       "#sk-container-id-1 a.estimator_doc_link.fitted:hover {\n",
       "  /* fitted */\n",
       "  background-color: var(--sklearn-color-fitted-level-3);\n",
       "}\n",
       "</style><div id=\"sk-container-id-1\" class=\"sk-top-container\"><div class=\"sk-text-repr-fallback\"><pre>LinearRegression()</pre><b>In a Jupyter environment, please rerun this cell to show the HTML representation or trust the notebook. <br />On GitHub, the HTML representation is unable to render, please try loading this page with nbviewer.org.</b></div><div class=\"sk-container\" hidden><div class=\"sk-item\"><div class=\"sk-estimator fitted sk-toggleable\"><input class=\"sk-toggleable__control sk-hidden--visually\" id=\"sk-estimator-id-1\" type=\"checkbox\" checked><label for=\"sk-estimator-id-1\" class=\"sk-toggleable__label fitted sk-toggleable__label-arrow fitted\">&nbsp;&nbsp;LinearRegression<a class=\"sk-estimator-doc-link fitted\" rel=\"noreferrer\" target=\"_blank\" href=\"https://scikit-learn.org/1.4/modules/generated/sklearn.linear_model.LinearRegression.html\">?<span>Documentation for LinearRegression</span></a><span class=\"sk-estimator-doc-link fitted\">i<span>Fitted</span></span></label><div class=\"sk-toggleable__content fitted\"><pre>LinearRegression()</pre></div> </div></div></div></div>"
      ],
      "text/plain": [
       "LinearRegression()"
      ]
     },
     "execution_count": 47,
     "metadata": {},
     "output_type": "execute_result"
    }
   ],
   "source": [
    "X_train, X_test, y_train, y_test = train_test_split(X, y, test_size=0.2, random_state=42)\n",
    "\n",
    "model = LinearRegression()\n",
    "\n",
    "model.fit(X_train, y_train)"
   ]
  },
  {
   "cell_type": "code",
   "execution_count": 48,
   "metadata": {},
   "outputs": [
    {
     "name": "stdout",
     "output_type": "stream",
     "text": [
      "Mean Squared Error: 0.051496557508784055\n"
     ]
    }
   ],
   "source": [
    "#mortality rate on the test data\n",
    "y_pred = model.predict(X_test)\n",
    "\n",
    "# evaluate the model performance\n",
    "mse = mean_squared_error(y_test, y_pred)\n",
    "print(\"Mean Squared Error:\", mse)"
   ]
  },
  {
   "cell_type": "code",
   "execution_count": 49,
   "metadata": {},
   "outputs": [
    {
     "name": "stdout",
     "output_type": "stream",
     "text": [
      "<class 'pandas.core.frame.DataFrame'>\n",
      "RangeIndex: 11833 entries, 0 to 11832\n",
      "Data columns (total 24 columns):\n",
      " #   Column          Non-Null Count  Dtype  \n",
      "---  ------          --------------  -----  \n",
      " 0   Id              11833 non-null  int64  \n",
      " 1   region          11833 non-null  object \n",
      " 2   date            11833 non-null  object \n",
      " 3   mortality_rate  11833 non-null  float64\n",
      " 4   O3              11833 non-null  float64\n",
      " 5   PM10            11833 non-null  float64\n",
      " 6   PM25            11833 non-null  float64\n",
      " 7   NO2             11833 non-null  float64\n",
      " 8   T2M             11833 non-null  float64\n",
      " 9   E12000001       11833 non-null  bool   \n",
      " 10  E12000002       11833 non-null  bool   \n",
      " 11  E12000003       11833 non-null  bool   \n",
      " 12  E12000004       11833 non-null  bool   \n",
      " 13  E12000005       11833 non-null  bool   \n",
      " 14  E12000006       11833 non-null  bool   \n",
      " 15  E12000007       11833 non-null  bool   \n",
      " 16  E12000008       11833 non-null  bool   \n",
      " 17  E12000009       11833 non-null  bool   \n",
      " 18  month           11833 non-null  int64  \n",
      " 19  month_sin       11833 non-null  float64\n",
      " 20  month_cos       11833 non-null  float64\n",
      " 21  day             11833 non-null  int64  \n",
      " 22  day_sin         11833 non-null  float64\n",
      " 23  day_cos         11833 non-null  float64\n",
      "dtypes: bool(9), float64(10), int64(3), object(2)\n",
      "memory usage: 1.5+ MB\n"
     ]
    }
   ],
   "source": [
    "train_pp.info()"
   ]
  },
  {
   "cell_type": "code",
   "execution_count": 54,
   "metadata": {},
   "outputs": [
    {
     "data": {
      "text/plain": [
       "<Axes: >"
      ]
     },
     "execution_count": 54,
     "metadata": {},
     "output_type": "execute_result"
    },
    {
     "data": {
      "image/png": "[encoded data removed]",
      "text/plain": [
       "<Figure size 640x480 with 1 Axes>"
      ]
     },
     "metadata": {},
     "output_type": "display_data"
    }
   ],
   "source": [
    "sns.heatmap(train_pp.isnull(),cbar=False,yticklabels=False)"
   ]
  },
  {
   "cell_type": "code",
   "execution_count": 51,
   "metadata": {},
   "outputs": [
    {
     "data": {
      "text/html": [
       "<div>\n",
       "<style scoped>\n",
       "    .dataframe tbody tr th:only-of-type {\n",
       "        vertical-align: middle;\n",
       "    }\n",
       "\n",
       "    .dataframe tbody tr th {\n",
       "        vertical-align: top;\n",
       "    }\n",
       "\n",
       "    .dataframe thead th {\n",
       "        text-align: right;\n",
       "    }\n",
       "</style>\n",
       "<table border=\"1\" class=\"dataframe\">\n",
       "  <thead>\n",
       "    <tr style=\"text-align: right;\">\n",
       "      <th></th>\n",
       "      <th>mortality_rate</th>\n",
       "      <th>O3</th>\n",
       "      <th>PM10</th>\n",
       "      <th>PM25</th>\n",
       "      <th>NO2</th>\n",
       "      <th>T2M</th>\n",
       "    </tr>\n",
       "  </thead>\n",
       "  <tbody>\n",
       "    <tr>\n",
       "      <th>mortality_rate</th>\n",
       "      <td>1.000000</td>\n",
       "      <td>-0.084773</td>\n",
       "      <td>-0.057218</td>\n",
       "      <td>-0.063441</td>\n",
       "      <td>-0.074510</td>\n",
       "      <td>-0.511774</td>\n",
       "    </tr>\n",
       "    <tr>\n",
       "      <th>O3</th>\n",
       "      <td>-0.084773</td>\n",
       "      <td>1.000000</td>\n",
       "      <td>-0.226175</td>\n",
       "      <td>-0.194535</td>\n",
       "      <td>-0.680321</td>\n",
       "      <td>0.350248</td>\n",
       "    </tr>\n",
       "    <tr>\n",
       "      <th>PM10</th>\n",
       "      <td>-0.057218</td>\n",
       "      <td>-0.226175</td>\n",
       "      <td>1.000000</td>\n",
       "      <td>0.912956</td>\n",
       "      <td>0.600220</td>\n",
       "      <td>-0.075898</td>\n",
       "    </tr>\n",
       "    <tr>\n",
       "      <th>PM25</th>\n",
       "      <td>-0.063441</td>\n",
       "      <td>-0.194535</td>\n",
       "      <td>0.912956</td>\n",
       "      <td>1.000000</td>\n",
       "      <td>0.570076</td>\n",
       "      <td>-0.079449</td>\n",
       "    </tr>\n",
       "    <tr>\n",
       "      <th>NO2</th>\n",
       "      <td>-0.074510</td>\n",
       "      <td>-0.680321</td>\n",
       "      <td>0.600220</td>\n",
       "      <td>0.570076</td>\n",
       "      <td>1.000000</td>\n",
       "      <td>-0.340037</td>\n",
       "    </tr>\n",
       "    <tr>\n",
       "      <th>T2M</th>\n",
       "      <td>-0.511774</td>\n",
       "      <td>0.350248</td>\n",
       "      <td>-0.075898</td>\n",
       "      <td>-0.079449</td>\n",
       "      <td>-0.340037</td>\n",
       "      <td>1.000000</td>\n",
       "    </tr>\n",
       "  </tbody>\n",
       "</table>\n",
       "</div>"
      ],
      "text/plain": [
       "                mortality_rate        O3      PM10      PM25       NO2  \\\n",
       "mortality_rate        1.000000 -0.084773 -0.057218 -0.063441 -0.074510   \n",
       "O3                   -0.084773  1.000000 -0.226175 -0.194535 -0.680321   \n",
       "PM10                 -0.057218 -0.226175  1.000000  0.912956  0.600220   \n",
       "PM25                 -0.063441 -0.194535  0.912956  1.000000  0.570076   \n",
       "NO2                  -0.074510 -0.680321  0.600220  0.570076  1.000000   \n",
       "T2M                  -0.511774  0.350248 -0.075898 -0.079449 -0.340037   \n",
       "\n",
       "                     T2M  \n",
       "mortality_rate -0.511774  \n",
       "O3              0.350248  \n",
       "PM10           -0.075898  \n",
       "PM25           -0.079449  \n",
       "NO2            -0.340037  \n",
       "T2M             1.000000  "
      ]
     },
     "execution_count": 51,
     "metadata": {},
     "output_type": "execute_result"
    }
   ],
   "source": [
    "correlation_matrix = train_pp[['mortality_rate', 'O3', 'PM10', 'PM25', 'NO2', 'T2M']].corr()\n",
    "correlation_matrix"
   ]
  },
  {
   "cell_type": "code",
   "execution_count": 59,
   "metadata": {},
   "outputs": [
    {
     "data": {
      "text/plain": [
       "Text(0.5, 1.0, 'Correlation Matrix')"
      ]
     },
     "execution_count": 59,
     "metadata": {},
     "output_type": "execute_result"
    },
    {
     "data": {
      "image/png": "[encoded data removed]",
      "text/plain": [
       "<Figure size 600x400 with 2 Axes>"
      ]
     },
     "metadata": {},
     "output_type": "display_data"
    }
   ],
   "source": [
    "plt.figure(figsize=(6,4))\n",
    "sns.heatmap(correlation_matrix,annot=False) \n",
    "plt.title('Correlation Matrix')"
   ]
  },
  {
   "cell_type": "code",
   "execution_count": 61,
   "metadata": {},
   "outputs": [
    {
     "data": {
      "image/png": "[encoded data removed]",
      "text/plain": [
       "<Figure size 1600x600 with 2 Axes>"
      ]
     },
     "metadata": {},
     "output_type": "display_data"
    }
   ],
   "source": [
    "#Quality correlation matrix\n",
    "\n",
    "k = 12  # number of variables for heatmap\n",
    "cols = correlation_matrix.nlargest(k, 'mortality_rate')['mortality_rate'].index\n",
    "cm = train_pp[cols].corr()\n",
    "\n",
    "plt.figure(figsize=(16, 6))\n",
    "sns.heatmap(cm, annot=True)\n",
    "plt.title('Quality Correlation Matrix')\n",
    "plt.show()"
   ]
  },
  {
   "cell_type": "markdown",
   "metadata": {
    "slideshow": {
     "slide_type": "subslide"
    }
   },
   "source": [
    "\n",
    "\n",
    "### FINDINGS: \n",
    "\n",
    "Our Linear Model is making relatively accurate predictions for the mortality rates. \n",
    "\n",
    "__out of 75% people with <=50K salary:__ \n",
    "\n",
    "- 27% people are high school graduates, which is correct as people with lower levels of education are expected to earn less. \n",
    "\n",
    "__out of 25% people with >=50K salary:__ \n",
    "\n",
    "- 6% are bachelors and 5% are high-school grads. ==> _this pattern seems to be a matter of concern! We have to consider more variables before coming to a conclusion._\n",
    "\n",
    "\n"
   ]
  }
 ],
 "metadata": {
  "celltoolbar": "Slideshow",
  "kernelspec": {
   "display_name": "Python 3 (ipykernel)",
   "language": "python",
   "name": "python3"
  },
  "language_info": {
   "codemirror_mode": {
    "name": "ipython",
    "version": 3
   },
   "file_extension": ".py",
   "mimetype": "text/x-python",
   "name": "python",
   "nbconvert_exporter": "python",
   "pygments_lexer": "ipython3",
   "version": "3.12.2"
  }
 },
 "nbformat": 4,
 "nbformat_minor": 4
}
