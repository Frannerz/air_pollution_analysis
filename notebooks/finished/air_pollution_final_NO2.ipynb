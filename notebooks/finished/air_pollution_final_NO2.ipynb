{
 "cells": [
  {
   "cell_type": "code",
   "execution_count": 1,
   "id": "e3c3d3cb-8bd6-4486-9ae6-9a2e41c64393",
   "metadata": {},
   "outputs": [],
   "source": [
    "import pandas as pd\n",
    "import numpy as np\n",
    "import matplotlib.pyplot as plt"
   ]
  },
  {
   "cell_type": "code",
   "execution_count": 2,
   "id": "38c6a16f-6b33-4851-ac1b-81429bbb2677",
   "metadata": {},
   "outputs": [
    {
     "data": {
      "text/html": [
       "<div>\n",
       "<style scoped>\n",
       "    .dataframe tbody tr th:only-of-type {\n",
       "        vertical-align: middle;\n",
       "    }\n",
       "\n",
       "    .dataframe tbody tr th {\n",
       "        vertical-align: top;\n",
       "    }\n",
       "\n",
       "    .dataframe thead th {\n",
       "        text-align: right;\n",
       "    }\n",
       "</style>\n",
       "<table border=\"1\" class=\"dataframe\">\n",
       "  <thead>\n",
       "    <tr style=\"text-align: right;\">\n",
       "      <th></th>\n",
       "      <th>Scenario</th>\n",
       "      <th>Year</th>\n",
       "      <th>Disease</th>\n",
       "      <th>AgeGroup</th>\n",
       "      <th>Hospitalisations Avoided</th>\n",
       "      <th>95% CL</th>\n",
       "    </tr>\n",
       "  </thead>\n",
       "  <tbody>\n",
       "    <tr>\n",
       "      <th>0</th>\n",
       "      <td>1</td>\n",
       "      <td>2016</td>\n",
       "      <td>childhood asthma</td>\n",
       "      <td>0-5</td>\n",
       "      <td>-0.005139</td>\n",
       "      <td>0.076051</td>\n",
       "    </tr>\n",
       "    <tr>\n",
       "      <th>1</th>\n",
       "      <td>1</td>\n",
       "      <td>2016</td>\n",
       "      <td>childhood asthma</td>\n",
       "      <td>06-17</td>\n",
       "      <td>0.086805</td>\n",
       "      <td>0.148457</td>\n",
       "    </tr>\n",
       "    <tr>\n",
       "      <th>2</th>\n",
       "      <td>1</td>\n",
       "      <td>2016</td>\n",
       "      <td>childhood asthma</td>\n",
       "      <td>18-64</td>\n",
       "      <td>0.294462</td>\n",
       "      <td>0.383378</td>\n",
       "    </tr>\n",
       "    <tr>\n",
       "      <th>3</th>\n",
       "      <td>1</td>\n",
       "      <td>2016</td>\n",
       "      <td>childhood asthma</td>\n",
       "      <td>65+</td>\n",
       "      <td>0.096784</td>\n",
       "      <td>0.151127</td>\n",
       "    </tr>\n",
       "    <tr>\n",
       "      <th>4</th>\n",
       "      <td>1</td>\n",
       "      <td>2016</td>\n",
       "      <td>childhood asthma</td>\n",
       "      <td>total</td>\n",
       "      <td>0.472910</td>\n",
       "      <td>0.444569</td>\n",
       "    </tr>\n",
       "  </tbody>\n",
       "</table>\n",
       "</div>"
      ],
      "text/plain": [
       "   Scenario  Year           Disease AgeGroup  Hospitalisations Avoided  \\\n",
       "0         1  2016  childhood asthma      0-5                 -0.005139   \n",
       "1         1  2016  childhood asthma    06-17                  0.086805   \n",
       "2         1  2016  childhood asthma    18-64                  0.294462   \n",
       "3         1  2016  childhood asthma      65+                  0.096784   \n",
       "4         1  2016  childhood asthma    total                  0.472910   \n",
       "\n",
       "     95% CL  \n",
       "0  0.076051  \n",
       "1  0.148457  \n",
       "2  0.383378  \n",
       "3  0.151127  \n",
       "4  0.444569  "
      ]
     },
     "execution_count": 2,
     "metadata": {},
     "output_type": "execute_result"
    }
   ],
   "source": [
    "air_pollution_hammer = pd.read_excel('../data_clean/health_xls/hammersmith-and-fulham-no2-xlsm-63.xls',\n",
    "                                     sheet_name = 'Hospitalisations Avoided')\n",
    "air_pollution_hammer.head(5)"
   ]
  },
  {
   "cell_type": "markdown",
   "id": "54c02646-7874-4578-a70b-0c0388384b83",
   "metadata": {},
   "source": [
    "# Data Cleaning for Hammersmith and Fulham"
   ]
  },
  {
   "cell_type": "code",
   "execution_count": 3,
   "id": "74632340-4e30-40f6-9415-53d2ee650b2b",
   "metadata": {},
   "outputs": [
    {
     "ename": "KeyError",
     "evalue": "\"['Unnamed: 6'] not found in axis\"",
     "output_type": "error",
     "traceback": [
      "\u001b[0;31m---------------------------------------------------------------------------\u001b[0m",
      "\u001b[0;31mKeyError\u001b[0m                                  Traceback (most recent call last)",
      "Cell \u001b[0;32mIn[3], line 1\u001b[0m\n\u001b[0;32m----> 1\u001b[0m \u001b[43mair_pollution_hammer\u001b[49m\u001b[38;5;241;43m.\u001b[39;49m\u001b[43mdrop\u001b[49m\u001b[43m(\u001b[49m\u001b[43mcolumns\u001b[49m\u001b[38;5;241;43m=\u001b[39;49m\u001b[43m[\u001b[49m\u001b[38;5;124;43m'\u001b[39;49m\u001b[38;5;124;43mUnnamed: 6\u001b[39;49m\u001b[38;5;124;43m'\u001b[39;49m\u001b[43m]\u001b[49m\u001b[43m,\u001b[49m\u001b[43m \u001b[49m\u001b[43minplace\u001b[49m\u001b[38;5;241;43m=\u001b[39;49m\u001b[38;5;28;43;01mTrue\u001b[39;49;00m\u001b[43m)\u001b[49m\n\u001b[1;32m      2\u001b[0m air_pollution_hammer\u001b[38;5;241m.\u001b[39mhead(\u001b[38;5;241m5\u001b[39m)\n",
      "File \u001b[0;32m/Library/Frameworks/Python.framework/Versions/3.12/lib/python3.12/site-packages/pandas/core/frame.py:5581\u001b[0m, in \u001b[0;36mDataFrame.drop\u001b[0;34m(self, labels, axis, index, columns, level, inplace, errors)\u001b[0m\n\u001b[1;32m   5433\u001b[0m \u001b[38;5;28;01mdef\u001b[39;00m \u001b[38;5;21mdrop\u001b[39m(\n\u001b[1;32m   5434\u001b[0m     \u001b[38;5;28mself\u001b[39m,\n\u001b[1;32m   5435\u001b[0m     labels: IndexLabel \u001b[38;5;241m|\u001b[39m \u001b[38;5;28;01mNone\u001b[39;00m \u001b[38;5;241m=\u001b[39m \u001b[38;5;28;01mNone\u001b[39;00m,\n\u001b[0;32m   (...)\u001b[0m\n\u001b[1;32m   5442\u001b[0m     errors: IgnoreRaise \u001b[38;5;241m=\u001b[39m \u001b[38;5;124m\"\u001b[39m\u001b[38;5;124mraise\u001b[39m\u001b[38;5;124m\"\u001b[39m,\n\u001b[1;32m   5443\u001b[0m ) \u001b[38;5;241m-\u001b[39m\u001b[38;5;241m>\u001b[39m DataFrame \u001b[38;5;241m|\u001b[39m \u001b[38;5;28;01mNone\u001b[39;00m:\n\u001b[1;32m   5444\u001b[0m \u001b[38;5;250m    \u001b[39m\u001b[38;5;124;03m\"\"\"\u001b[39;00m\n\u001b[1;32m   5445\u001b[0m \u001b[38;5;124;03m    Drop specified labels from rows or columns.\u001b[39;00m\n\u001b[1;32m   5446\u001b[0m \n\u001b[0;32m   (...)\u001b[0m\n\u001b[1;32m   5579\u001b[0m \u001b[38;5;124;03m            weight  1.0     0.8\u001b[39;00m\n\u001b[1;32m   5580\u001b[0m \u001b[38;5;124;03m    \"\"\"\u001b[39;00m\n\u001b[0;32m-> 5581\u001b[0m     \u001b[38;5;28;01mreturn\u001b[39;00m \u001b[38;5;28;43msuper\u001b[39;49m\u001b[43m(\u001b[49m\u001b[43m)\u001b[49m\u001b[38;5;241;43m.\u001b[39;49m\u001b[43mdrop\u001b[49m\u001b[43m(\u001b[49m\n\u001b[1;32m   5582\u001b[0m \u001b[43m        \u001b[49m\u001b[43mlabels\u001b[49m\u001b[38;5;241;43m=\u001b[39;49m\u001b[43mlabels\u001b[49m\u001b[43m,\u001b[49m\n\u001b[1;32m   5583\u001b[0m \u001b[43m        \u001b[49m\u001b[43maxis\u001b[49m\u001b[38;5;241;43m=\u001b[39;49m\u001b[43maxis\u001b[49m\u001b[43m,\u001b[49m\n\u001b[1;32m   5584\u001b[0m \u001b[43m        \u001b[49m\u001b[43mindex\u001b[49m\u001b[38;5;241;43m=\u001b[39;49m\u001b[43mindex\u001b[49m\u001b[43m,\u001b[49m\n\u001b[1;32m   5585\u001b[0m \u001b[43m        \u001b[49m\u001b[43mcolumns\u001b[49m\u001b[38;5;241;43m=\u001b[39;49m\u001b[43mcolumns\u001b[49m\u001b[43m,\u001b[49m\n\u001b[1;32m   5586\u001b[0m \u001b[43m        \u001b[49m\u001b[43mlevel\u001b[49m\u001b[38;5;241;43m=\u001b[39;49m\u001b[43mlevel\u001b[49m\u001b[43m,\u001b[49m\n\u001b[1;32m   5587\u001b[0m \u001b[43m        \u001b[49m\u001b[43minplace\u001b[49m\u001b[38;5;241;43m=\u001b[39;49m\u001b[43minplace\u001b[49m\u001b[43m,\u001b[49m\n\u001b[1;32m   5588\u001b[0m \u001b[43m        \u001b[49m\u001b[43merrors\u001b[49m\u001b[38;5;241;43m=\u001b[39;49m\u001b[43merrors\u001b[49m\u001b[43m,\u001b[49m\n\u001b[1;32m   5589\u001b[0m \u001b[43m    \u001b[49m\u001b[43m)\u001b[49m\n",
      "File \u001b[0;32m/Library/Frameworks/Python.framework/Versions/3.12/lib/python3.12/site-packages/pandas/core/generic.py:4788\u001b[0m, in \u001b[0;36mNDFrame.drop\u001b[0;34m(self, labels, axis, index, columns, level, inplace, errors)\u001b[0m\n\u001b[1;32m   4786\u001b[0m \u001b[38;5;28;01mfor\u001b[39;00m axis, labels \u001b[38;5;129;01min\u001b[39;00m axes\u001b[38;5;241m.\u001b[39mitems():\n\u001b[1;32m   4787\u001b[0m     \u001b[38;5;28;01mif\u001b[39;00m labels \u001b[38;5;129;01mis\u001b[39;00m \u001b[38;5;129;01mnot\u001b[39;00m \u001b[38;5;28;01mNone\u001b[39;00m:\n\u001b[0;32m-> 4788\u001b[0m         obj \u001b[38;5;241m=\u001b[39m \u001b[43mobj\u001b[49m\u001b[38;5;241;43m.\u001b[39;49m\u001b[43m_drop_axis\u001b[49m\u001b[43m(\u001b[49m\u001b[43mlabels\u001b[49m\u001b[43m,\u001b[49m\u001b[43m \u001b[49m\u001b[43maxis\u001b[49m\u001b[43m,\u001b[49m\u001b[43m \u001b[49m\u001b[43mlevel\u001b[49m\u001b[38;5;241;43m=\u001b[39;49m\u001b[43mlevel\u001b[49m\u001b[43m,\u001b[49m\u001b[43m \u001b[49m\u001b[43merrors\u001b[49m\u001b[38;5;241;43m=\u001b[39;49m\u001b[43merrors\u001b[49m\u001b[43m)\u001b[49m\n\u001b[1;32m   4790\u001b[0m \u001b[38;5;28;01mif\u001b[39;00m inplace:\n\u001b[1;32m   4791\u001b[0m     \u001b[38;5;28mself\u001b[39m\u001b[38;5;241m.\u001b[39m_update_inplace(obj)\n",
      "File \u001b[0;32m/Library/Frameworks/Python.framework/Versions/3.12/lib/python3.12/site-packages/pandas/core/generic.py:4830\u001b[0m, in \u001b[0;36mNDFrame._drop_axis\u001b[0;34m(self, labels, axis, level, errors, only_slice)\u001b[0m\n\u001b[1;32m   4828\u001b[0m         new_axis \u001b[38;5;241m=\u001b[39m axis\u001b[38;5;241m.\u001b[39mdrop(labels, level\u001b[38;5;241m=\u001b[39mlevel, errors\u001b[38;5;241m=\u001b[39merrors)\n\u001b[1;32m   4829\u001b[0m     \u001b[38;5;28;01melse\u001b[39;00m:\n\u001b[0;32m-> 4830\u001b[0m         new_axis \u001b[38;5;241m=\u001b[39m \u001b[43maxis\u001b[49m\u001b[38;5;241;43m.\u001b[39;49m\u001b[43mdrop\u001b[49m\u001b[43m(\u001b[49m\u001b[43mlabels\u001b[49m\u001b[43m,\u001b[49m\u001b[43m \u001b[49m\u001b[43merrors\u001b[49m\u001b[38;5;241;43m=\u001b[39;49m\u001b[43merrors\u001b[49m\u001b[43m)\u001b[49m\n\u001b[1;32m   4831\u001b[0m     indexer \u001b[38;5;241m=\u001b[39m axis\u001b[38;5;241m.\u001b[39mget_indexer(new_axis)\n\u001b[1;32m   4833\u001b[0m \u001b[38;5;66;03m# Case for non-unique axis\u001b[39;00m\n\u001b[1;32m   4834\u001b[0m \u001b[38;5;28;01melse\u001b[39;00m:\n",
      "File \u001b[0;32m/Library/Frameworks/Python.framework/Versions/3.12/lib/python3.12/site-packages/pandas/core/indexes/base.py:7070\u001b[0m, in \u001b[0;36mIndex.drop\u001b[0;34m(self, labels, errors)\u001b[0m\n\u001b[1;32m   7068\u001b[0m \u001b[38;5;28;01mif\u001b[39;00m mask\u001b[38;5;241m.\u001b[39many():\n\u001b[1;32m   7069\u001b[0m     \u001b[38;5;28;01mif\u001b[39;00m errors \u001b[38;5;241m!=\u001b[39m \u001b[38;5;124m\"\u001b[39m\u001b[38;5;124mignore\u001b[39m\u001b[38;5;124m\"\u001b[39m:\n\u001b[0;32m-> 7070\u001b[0m         \u001b[38;5;28;01mraise\u001b[39;00m \u001b[38;5;167;01mKeyError\u001b[39;00m(\u001b[38;5;124mf\u001b[39m\u001b[38;5;124m\"\u001b[39m\u001b[38;5;132;01m{\u001b[39;00mlabels[mask]\u001b[38;5;241m.\u001b[39mtolist()\u001b[38;5;132;01m}\u001b[39;00m\u001b[38;5;124m not found in axis\u001b[39m\u001b[38;5;124m\"\u001b[39m)\n\u001b[1;32m   7071\u001b[0m     indexer \u001b[38;5;241m=\u001b[39m indexer[\u001b[38;5;241m~\u001b[39mmask]\n\u001b[1;32m   7072\u001b[0m \u001b[38;5;28;01mreturn\u001b[39;00m \u001b[38;5;28mself\u001b[39m\u001b[38;5;241m.\u001b[39mdelete(indexer)\n",
      "\u001b[0;31mKeyError\u001b[0m: \"['Unnamed: 6'] not found in axis\""
     ]
    }
   ],
   "source": [
    "air_pollution_hammer.drop(columns=['Unnamed: 6'], inplace=True)\n",
    "air_pollution_hammer.head(5)"
   ]
  },
  {
   "cell_type": "code",
   "execution_count": null,
   "id": "bad68908-63a3-4700-ae16-226deee966bb",
   "metadata": {},
   "outputs": [],
   "source": [
    "air_pollution_hammer.fillna(value='???', limit=1, axis=1)\n",
    "air_pollution_hammer.head(5)"
   ]
  },
  {
   "cell_type": "code",
   "execution_count": 4,
   "id": "66603de6-be09-48dc-a41e-2207d65e6c88",
   "metadata": {},
   "outputs": [
    {
     "data": {
      "text/html": [
       "<div>\n",
       "<style scoped>\n",
       "    .dataframe tbody tr th:only-of-type {\n",
       "        vertical-align: middle;\n",
       "    }\n",
       "\n",
       "    .dataframe tbody tr th {\n",
       "        vertical-align: top;\n",
       "    }\n",
       "\n",
       "    .dataframe thead th {\n",
       "        text-align: right;\n",
       "    }\n",
       "</style>\n",
       "<table border=\"1\" class=\"dataframe\">\n",
       "  <thead>\n",
       "    <tr style=\"text-align: right;\">\n",
       "      <th></th>\n",
       "      <th>Scenario</th>\n",
       "      <th>Year</th>\n",
       "      <th>Disease</th>\n",
       "      <th>AgeGroup</th>\n",
       "      <th>Hospitalisations Avoided</th>\n",
       "      <th>95% CL</th>\n",
       "    </tr>\n",
       "  </thead>\n",
       "  <tbody>\n",
       "    <tr>\n",
       "      <th>0</th>\n",
       "      <td>1</td>\n",
       "      <td>2016</td>\n",
       "      <td>childhood asthma</td>\n",
       "      <td>0-5</td>\n",
       "      <td>-0.005139</td>\n",
       "      <td>0.076051</td>\n",
       "    </tr>\n",
       "    <tr>\n",
       "      <th>1</th>\n",
       "      <td>1</td>\n",
       "      <td>2016</td>\n",
       "      <td>childhood asthma</td>\n",
       "      <td>06-17</td>\n",
       "      <td>0.086805</td>\n",
       "      <td>0.148457</td>\n",
       "    </tr>\n",
       "    <tr>\n",
       "      <th>2</th>\n",
       "      <td>1</td>\n",
       "      <td>2016</td>\n",
       "      <td>childhood asthma</td>\n",
       "      <td>18-64</td>\n",
       "      <td>0.294462</td>\n",
       "      <td>0.383378</td>\n",
       "    </tr>\n",
       "    <tr>\n",
       "      <th>3</th>\n",
       "      <td>1</td>\n",
       "      <td>2016</td>\n",
       "      <td>childhood asthma</td>\n",
       "      <td>65+</td>\n",
       "      <td>0.096784</td>\n",
       "      <td>0.151127</td>\n",
       "    </tr>\n",
       "    <tr>\n",
       "      <th>4</th>\n",
       "      <td>1</td>\n",
       "      <td>2016</td>\n",
       "      <td>childhood asthma</td>\n",
       "      <td>total</td>\n",
       "      <td>0.472910</td>\n",
       "      <td>0.444569</td>\n",
       "    </tr>\n",
       "  </tbody>\n",
       "</table>\n",
       "</div>"
      ],
      "text/plain": [
       "   Scenario  Year           Disease AgeGroup  Hospitalisations Avoided  \\\n",
       "0         1  2016  childhood asthma      0-5                 -0.005139   \n",
       "1         1  2016  childhood asthma    06-17                  0.086805   \n",
       "2         1  2016  childhood asthma    18-64                  0.294462   \n",
       "3         1  2016  childhood asthma      65+                  0.096784   \n",
       "4         1  2016  childhood asthma    total                  0.472910   \n",
       "\n",
       "     95% CL  \n",
       "0  0.076051  \n",
       "1  0.148457  \n",
       "2  0.383378  \n",
       "3  0.151127  \n",
       "4  0.444569  "
      ]
     },
     "execution_count": 4,
     "metadata": {},
     "output_type": "execute_result"
    }
   ],
   "source": [
    "air_pollution_hammer['Disease'].astype('str')\n",
    "air_pollution_hammer.head(5)"
   ]
  },
  {
   "cell_type": "code",
   "execution_count": 5,
   "id": "112958f3-38b2-459b-a1c4-a55cc47491d8",
   "metadata": {},
   "outputs": [
    {
     "name": "stderr",
     "output_type": "stream",
     "text": [
      "/var/folders/ww/_8wv3jzj27l9t1190v0wsbyc0000gn/T/ipykernel_16790/3219669392.py:1: FutureWarning: A value is trying to be set on a copy of a DataFrame or Series through chained assignment using an inplace method.\n",
      "The behavior will change in pandas 3.0. This inplace method will never work because the intermediate object on which we are setting values always behaves as a copy.\n",
      "\n",
      "For example, when doing 'df[col].method(value, inplace=True)', try using 'df.method({col: value}, inplace=True)' or df[col] = df[col].method(value) instead, to perform the operation inplace on the original object.\n",
      "\n",
      "\n",
      "  fill_gaps = air_pollution_hammer['Year'].fillna('Not Inclusive', inplace = True)\n"
     ]
    },
    {
     "data": {
      "text/html": [
       "<div>\n",
       "<style scoped>\n",
       "    .dataframe tbody tr th:only-of-type {\n",
       "        vertical-align: middle;\n",
       "    }\n",
       "\n",
       "    .dataframe tbody tr th {\n",
       "        vertical-align: top;\n",
       "    }\n",
       "\n",
       "    .dataframe thead th {\n",
       "        text-align: right;\n",
       "    }\n",
       "</style>\n",
       "<table border=\"1\" class=\"dataframe\">\n",
       "  <thead>\n",
       "    <tr style=\"text-align: right;\">\n",
       "      <th></th>\n",
       "      <th>Scenario</th>\n",
       "      <th>Year</th>\n",
       "      <th>Disease</th>\n",
       "      <th>AgeGroup</th>\n",
       "      <th>Hospitalisations Avoided</th>\n",
       "      <th>95% CL</th>\n",
       "    </tr>\n",
       "  </thead>\n",
       "  <tbody>\n",
       "    <tr>\n",
       "      <th>0</th>\n",
       "      <td>1</td>\n",
       "      <td>2016</td>\n",
       "      <td>childhood asthma</td>\n",
       "      <td>0-5</td>\n",
       "      <td>-0.005139</td>\n",
       "      <td>0.076051</td>\n",
       "    </tr>\n",
       "    <tr>\n",
       "      <th>1</th>\n",
       "      <td>1</td>\n",
       "      <td>2016</td>\n",
       "      <td>childhood asthma</td>\n",
       "      <td>06-17</td>\n",
       "      <td>0.086805</td>\n",
       "      <td>0.148457</td>\n",
       "    </tr>\n",
       "    <tr>\n",
       "      <th>2</th>\n",
       "      <td>1</td>\n",
       "      <td>2016</td>\n",
       "      <td>childhood asthma</td>\n",
       "      <td>18-64</td>\n",
       "      <td>0.294462</td>\n",
       "      <td>0.383378</td>\n",
       "    </tr>\n",
       "    <tr>\n",
       "      <th>3</th>\n",
       "      <td>1</td>\n",
       "      <td>2016</td>\n",
       "      <td>childhood asthma</td>\n",
       "      <td>65+</td>\n",
       "      <td>0.096784</td>\n",
       "      <td>0.151127</td>\n",
       "    </tr>\n",
       "    <tr>\n",
       "      <th>4</th>\n",
       "      <td>1</td>\n",
       "      <td>2016</td>\n",
       "      <td>childhood asthma</td>\n",
       "      <td>total</td>\n",
       "      <td>0.472910</td>\n",
       "      <td>0.444569</td>\n",
       "    </tr>\n",
       "  </tbody>\n",
       "</table>\n",
       "</div>"
      ],
      "text/plain": [
       "   Scenario  Year           Disease AgeGroup  Hospitalisations Avoided  \\\n",
       "0         1  2016  childhood asthma      0-5                 -0.005139   \n",
       "1         1  2016  childhood asthma    06-17                  0.086805   \n",
       "2         1  2016  childhood asthma    18-64                  0.294462   \n",
       "3         1  2016  childhood asthma      65+                  0.096784   \n",
       "4         1  2016  childhood asthma    total                  0.472910   \n",
       "\n",
       "     95% CL  \n",
       "0  0.076051  \n",
       "1  0.148457  \n",
       "2  0.383378  \n",
       "3  0.151127  \n",
       "4  0.444569  "
      ]
     },
     "execution_count": 5,
     "metadata": {},
     "output_type": "execute_result"
    }
   ],
   "source": [
    "fill_gaps = air_pollution_hammer['Year'].fillna('Not Inclusive', inplace = True)\n",
    "air_pollution_hammer.head(5)"
   ]
  },
  {
   "cell_type": "code",
   "execution_count": 6,
   "id": "d38edca6-0320-427d-bfc5-0a02097c82ca",
   "metadata": {},
   "outputs": [
    {
     "data": {
      "text/html": [
       "<div>\n",
       "<style scoped>\n",
       "    .dataframe tbody tr th:only-of-type {\n",
       "        vertical-align: middle;\n",
       "    }\n",
       "\n",
       "    .dataframe tbody tr th {\n",
       "        vertical-align: top;\n",
       "    }\n",
       "\n",
       "    .dataframe thead th {\n",
       "        text-align: right;\n",
       "    }\n",
       "</style>\n",
       "<table border=\"1\" class=\"dataframe\">\n",
       "  <thead>\n",
       "    <tr style=\"text-align: right;\">\n",
       "      <th></th>\n",
       "      <th>Scenario</th>\n",
       "      <th>Year</th>\n",
       "      <th>Disease</th>\n",
       "      <th>AgeGroup</th>\n",
       "      <th>Hospitalisations Avoided</th>\n",
       "      <th>Confidence Level</th>\n",
       "    </tr>\n",
       "  </thead>\n",
       "  <tbody>\n",
       "    <tr>\n",
       "      <th>0</th>\n",
       "      <td>1</td>\n",
       "      <td>2016</td>\n",
       "      <td>childhood asthma</td>\n",
       "      <td>0-5</td>\n",
       "      <td>-0.005139</td>\n",
       "      <td>0.076051</td>\n",
       "    </tr>\n",
       "    <tr>\n",
       "      <th>1</th>\n",
       "      <td>1</td>\n",
       "      <td>2016</td>\n",
       "      <td>childhood asthma</td>\n",
       "      <td>06-17</td>\n",
       "      <td>0.086805</td>\n",
       "      <td>0.148457</td>\n",
       "    </tr>\n",
       "    <tr>\n",
       "      <th>2</th>\n",
       "      <td>1</td>\n",
       "      <td>2016</td>\n",
       "      <td>childhood asthma</td>\n",
       "      <td>18-64</td>\n",
       "      <td>0.294462</td>\n",
       "      <td>0.383378</td>\n",
       "    </tr>\n",
       "    <tr>\n",
       "      <th>3</th>\n",
       "      <td>1</td>\n",
       "      <td>2016</td>\n",
       "      <td>childhood asthma</td>\n",
       "      <td>65+</td>\n",
       "      <td>0.096784</td>\n",
       "      <td>0.151127</td>\n",
       "    </tr>\n",
       "    <tr>\n",
       "      <th>4</th>\n",
       "      <td>1</td>\n",
       "      <td>2016</td>\n",
       "      <td>childhood asthma</td>\n",
       "      <td>total</td>\n",
       "      <td>0.472910</td>\n",
       "      <td>0.444569</td>\n",
       "    </tr>\n",
       "  </tbody>\n",
       "</table>\n",
       "</div>"
      ],
      "text/plain": [
       "   Scenario  Year           Disease AgeGroup  Hospitalisations Avoided  \\\n",
       "0         1  2016  childhood asthma      0-5                 -0.005139   \n",
       "1         1  2016  childhood asthma    06-17                  0.086805   \n",
       "2         1  2016  childhood asthma    18-64                  0.294462   \n",
       "3         1  2016  childhood asthma      65+                  0.096784   \n",
       "4         1  2016  childhood asthma    total                  0.472910   \n",
       "\n",
       "   Confidence Level  \n",
       "0          0.076051  \n",
       "1          0.148457  \n",
       "2          0.383378  \n",
       "3          0.151127  \n",
       "4          0.444569  "
      ]
     },
     "execution_count": 6,
     "metadata": {},
     "output_type": "execute_result"
    }
   ],
   "source": [
    "air_pollution_hammer = air_pollution_hammer.rename(columns={'95% CL':'Confidence Level'})\n",
    "air_pollution_hammer.head(5)"
   ]
  },
  {
   "cell_type": "code",
   "execution_count": 7,
   "id": "a6a972ca-37f3-4f31-be65-b710ec112802",
   "metadata": {},
   "outputs": [
    {
     "data": {
      "text/html": [
       "<div>\n",
       "<style scoped>\n",
       "    .dataframe tbody tr th:only-of-type {\n",
       "        vertical-align: middle;\n",
       "    }\n",
       "\n",
       "    .dataframe tbody tr th {\n",
       "        vertical-align: top;\n",
       "    }\n",
       "\n",
       "    .dataframe thead th {\n",
       "        text-align: right;\n",
       "    }\n",
       "</style>\n",
       "<table border=\"1\" class=\"dataframe\">\n",
       "  <thead>\n",
       "    <tr style=\"text-align: right;\">\n",
       "      <th></th>\n",
       "      <th>Scenario</th>\n",
       "      <th>Year</th>\n",
       "      <th>Condition</th>\n",
       "      <th>Age</th>\n",
       "      <th>Hospitalisations Avoided</th>\n",
       "      <th>Confidence Level</th>\n",
       "    </tr>\n",
       "  </thead>\n",
       "  <tbody>\n",
       "    <tr>\n",
       "      <th>0</th>\n",
       "      <td>1</td>\n",
       "      <td>2016</td>\n",
       "      <td>childhood asthma</td>\n",
       "      <td>0-5</td>\n",
       "      <td>-0.005139</td>\n",
       "      <td>0.076051</td>\n",
       "    </tr>\n",
       "    <tr>\n",
       "      <th>1</th>\n",
       "      <td>1</td>\n",
       "      <td>2016</td>\n",
       "      <td>childhood asthma</td>\n",
       "      <td>06-17</td>\n",
       "      <td>0.086805</td>\n",
       "      <td>0.148457</td>\n",
       "    </tr>\n",
       "    <tr>\n",
       "      <th>2</th>\n",
       "      <td>1</td>\n",
       "      <td>2016</td>\n",
       "      <td>childhood asthma</td>\n",
       "      <td>18-64</td>\n",
       "      <td>0.294462</td>\n",
       "      <td>0.383378</td>\n",
       "    </tr>\n",
       "    <tr>\n",
       "      <th>3</th>\n",
       "      <td>1</td>\n",
       "      <td>2016</td>\n",
       "      <td>childhood asthma</td>\n",
       "      <td>65+</td>\n",
       "      <td>0.096784</td>\n",
       "      <td>0.151127</td>\n",
       "    </tr>\n",
       "    <tr>\n",
       "      <th>4</th>\n",
       "      <td>1</td>\n",
       "      <td>2016</td>\n",
       "      <td>childhood asthma</td>\n",
       "      <td>total</td>\n",
       "      <td>0.472910</td>\n",
       "      <td>0.444569</td>\n",
       "    </tr>\n",
       "  </tbody>\n",
       "</table>\n",
       "</div>"
      ],
      "text/plain": [
       "   Scenario  Year         Condition    Age  Hospitalisations Avoided  \\\n",
       "0         1  2016  childhood asthma    0-5                 -0.005139   \n",
       "1         1  2016  childhood asthma  06-17                  0.086805   \n",
       "2         1  2016  childhood asthma  18-64                  0.294462   \n",
       "3         1  2016  childhood asthma    65+                  0.096784   \n",
       "4         1  2016  childhood asthma  total                  0.472910   \n",
       "\n",
       "   Confidence Level  \n",
       "0          0.076051  \n",
       "1          0.148457  \n",
       "2          0.383378  \n",
       "3          0.151127  \n",
       "4          0.444569  "
      ]
     },
     "execution_count": 7,
     "metadata": {},
     "output_type": "execute_result"
    }
   ],
   "source": [
    "total_hospitalisations_hammer = air_pollution_hammer.rename(columns={'Disease': 'Condition', 'AgeGroup': 'Age'})\n",
    "total_hospitalisations_hammer.head(5)"
   ]
  },
  {
   "cell_type": "code",
   "execution_count": 8,
   "id": "f5290ab2-4b26-45ea-9600-7d07ed766e43",
   "metadata": {},
   "outputs": [
    {
     "data": {
      "text/plain": [
       "Scenario                    0\n",
       "Year                        0\n",
       "Disease                     0\n",
       "AgeGroup                    0\n",
       "Hospitalisations Avoided    0\n",
       "Confidence Level            0\n",
       "dtype: int64"
      ]
     },
     "execution_count": 8,
     "metadata": {},
     "output_type": "execute_result"
    }
   ],
   "source": [
    "missing_values = air_pollution_hammer.isnull().sum()\n",
    "missing_values"
   ]
  },
  {
   "cell_type": "code",
   "execution_count": 9,
   "id": "7da75bab-65a9-470b-9017-e135a5b8f9a6",
   "metadata": {},
   "outputs": [
    {
     "data": {
      "text/plain": [
       "0"
      ]
     },
     "execution_count": 9,
     "metadata": {},
     "output_type": "execute_result"
    }
   ],
   "source": [
    "duplicated_values = air_pollution_hammer.duplicated().sum()\n",
    "duplicated_values "
   ]
  },
  {
   "cell_type": "markdown",
   "id": "0b63e3d2-a04e-42a1-8ee3-63e075f88367",
   "metadata": {},
   "source": [
    "# Filtering and Shaping the Data for Hammersmith and Fulham"
   ]
  },
  {
   "cell_type": "code",
   "execution_count": 10,
   "id": "dc5feb36-bc80-4b11-9e64-823cbc33771e",
   "metadata": {},
   "outputs": [
    {
     "data": {
      "text/html": [
       "<div>\n",
       "<style scoped>\n",
       "    .dataframe tbody tr th:only-of-type {\n",
       "        vertical-align: middle;\n",
       "    }\n",
       "\n",
       "    .dataframe tbody tr th {\n",
       "        vertical-align: top;\n",
       "    }\n",
       "\n",
       "    .dataframe thead th {\n",
       "        text-align: right;\n",
       "    }\n",
       "</style>\n",
       "<table border=\"1\" class=\"dataframe\">\n",
       "  <thead>\n",
       "    <tr style=\"text-align: right;\">\n",
       "      <th></th>\n",
       "      <th>Scenario</th>\n",
       "      <th>Year</th>\n",
       "      <th>Disease</th>\n",
       "      <th>AgeGroup</th>\n",
       "      <th>Hospitalisations Avoided</th>\n",
       "      <th>Confidence Level</th>\n",
       "    </tr>\n",
       "  </thead>\n",
       "  <tbody>\n",
       "    <tr>\n",
       "      <th>0</th>\n",
       "      <td>1</td>\n",
       "      <td>2016</td>\n",
       "      <td>childhood asthma</td>\n",
       "      <td>0-5</td>\n",
       "      <td>-0.005139</td>\n",
       "      <td>0.076051</td>\n",
       "    </tr>\n",
       "    <tr>\n",
       "      <th>1</th>\n",
       "      <td>1</td>\n",
       "      <td>2016</td>\n",
       "      <td>childhood asthma</td>\n",
       "      <td>06-17</td>\n",
       "      <td>0.086805</td>\n",
       "      <td>0.148457</td>\n",
       "    </tr>\n",
       "    <tr>\n",
       "      <th>2</th>\n",
       "      <td>1</td>\n",
       "      <td>2016</td>\n",
       "      <td>childhood asthma</td>\n",
       "      <td>18-64</td>\n",
       "      <td>0.294462</td>\n",
       "      <td>0.383378</td>\n",
       "    </tr>\n",
       "    <tr>\n",
       "      <th>3</th>\n",
       "      <td>1</td>\n",
       "      <td>2016</td>\n",
       "      <td>childhood asthma</td>\n",
       "      <td>65+</td>\n",
       "      <td>0.096784</td>\n",
       "      <td>0.151127</td>\n",
       "    </tr>\n",
       "    <tr>\n",
       "      <th>4</th>\n",
       "      <td>1</td>\n",
       "      <td>2016</td>\n",
       "      <td>childhood asthma</td>\n",
       "      <td>total</td>\n",
       "      <td>0.472910</td>\n",
       "      <td>0.444569</td>\n",
       "    </tr>\n",
       "  </tbody>\n",
       "</table>\n",
       "</div>"
      ],
      "text/plain": [
       "   Scenario  Year           Disease AgeGroup  Hospitalisations Avoided  \\\n",
       "0         1  2016  childhood asthma      0-5                 -0.005139   \n",
       "1         1  2016  childhood asthma    06-17                  0.086805   \n",
       "2         1  2016  childhood asthma    18-64                  0.294462   \n",
       "3         1  2016  childhood asthma      65+                  0.096784   \n",
       "4         1  2016  childhood asthma    total                  0.472910   \n",
       "\n",
       "   Confidence Level  \n",
       "0          0.076051  \n",
       "1          0.148457  \n",
       "2          0.383378  \n",
       "3          0.151127  \n",
       "4          0.444569  "
      ]
     },
     "execution_count": 10,
     "metadata": {},
     "output_type": "execute_result"
    }
   ],
   "source": [
    "filtered_data_2016_ham = air_pollution_hammer[air_pollution_hammer['Year'] == 2016].iloc[:, :]\n",
    "filtered_data_2016_ham.head(5)"
   ]
  },
  {
   "cell_type": "code",
   "execution_count": 11,
   "id": "9728cf0e-a177-4ab6-95c3-521f3eac0a34",
   "metadata": {},
   "outputs": [
    {
     "data": {
      "text/html": [
       "<div>\n",
       "<style scoped>\n",
       "    .dataframe tbody tr th:only-of-type {\n",
       "        vertical-align: middle;\n",
       "    }\n",
       "\n",
       "    .dataframe tbody tr th {\n",
       "        vertical-align: top;\n",
       "    }\n",
       "\n",
       "    .dataframe thead th {\n",
       "        text-align: right;\n",
       "    }\n",
       "</style>\n",
       "<table border=\"1\" class=\"dataframe\">\n",
       "  <thead>\n",
       "    <tr style=\"text-align: right;\">\n",
       "      <th></th>\n",
       "      <th>Scenario</th>\n",
       "      <th>Year</th>\n",
       "      <th>Disease</th>\n",
       "      <th>AgeGroup</th>\n",
       "      <th>Hospitalisations Avoided</th>\n",
       "      <th>Confidence Level</th>\n",
       "    </tr>\n",
       "  </thead>\n",
       "  <tbody>\n",
       "    <tr>\n",
       "      <th>112</th>\n",
       "      <td>1</td>\n",
       "      <td>2023</td>\n",
       "      <td>childhood asthma</td>\n",
       "      <td>0-5</td>\n",
       "      <td>0.397160</td>\n",
       "      <td>0.073957</td>\n",
       "    </tr>\n",
       "    <tr>\n",
       "      <th>113</th>\n",
       "      <td>1</td>\n",
       "      <td>2023</td>\n",
       "      <td>childhood asthma</td>\n",
       "      <td>06-17</td>\n",
       "      <td>0.563329</td>\n",
       "      <td>0.142707</td>\n",
       "    </tr>\n",
       "    <tr>\n",
       "      <th>114</th>\n",
       "      <td>1</td>\n",
       "      <td>2023</td>\n",
       "      <td>childhood asthma</td>\n",
       "      <td>18-64</td>\n",
       "      <td>0.392033</td>\n",
       "      <td>0.362966</td>\n",
       "    </tr>\n",
       "    <tr>\n",
       "      <th>115</th>\n",
       "      <td>1</td>\n",
       "      <td>2023</td>\n",
       "      <td>childhood asthma</td>\n",
       "      <td>65+</td>\n",
       "      <td>0.053680</td>\n",
       "      <td>0.146608</td>\n",
       "    </tr>\n",
       "    <tr>\n",
       "      <th>116</th>\n",
       "      <td>1</td>\n",
       "      <td>2023</td>\n",
       "      <td>childhood asthma</td>\n",
       "      <td>total</td>\n",
       "      <td>1.406201</td>\n",
       "      <td>0.423170</td>\n",
       "    </tr>\n",
       "  </tbody>\n",
       "</table>\n",
       "</div>"
      ],
      "text/plain": [
       "     Scenario  Year           Disease AgeGroup  Hospitalisations Avoided  \\\n",
       "112         1  2023  childhood asthma      0-5                  0.397160   \n",
       "113         1  2023  childhood asthma    06-17                  0.563329   \n",
       "114         1  2023  childhood asthma    18-64                  0.392033   \n",
       "115         1  2023  childhood asthma      65+                  0.053680   \n",
       "116         1  2023  childhood asthma    total                  1.406201   \n",
       "\n",
       "     Confidence Level  \n",
       "112          0.073957  \n",
       "113          0.142707  \n",
       "114          0.362966  \n",
       "115          0.146608  \n",
       "116          0.423170  "
      ]
     },
     "execution_count": 11,
     "metadata": {},
     "output_type": "execute_result"
    }
   ],
   "source": [
    "filtered_data_2023_ham = air_pollution_hammer[air_pollution_hammer['Year'] == 2023].iloc[:, :]\n",
    "filtered_data_2023_ham.head(5)"
   ]
  },
  {
   "cell_type": "markdown",
   "id": "d31ea37e-511f-4a0e-b5e1-51278375ab06",
   "metadata": {},
   "source": [
    "# Descriptive Statistics Hammersmith and Fulham"
   ]
  },
  {
   "cell_type": "code",
   "execution_count": 12,
   "id": "76843b97-aca3-42bb-bbbe-793d688889f6",
   "metadata": {},
   "outputs": [
    {
     "data": {
      "text/plain": [
       "Scenario                      int64\n",
       "Year                          int64\n",
       "Disease                      object\n",
       "AgeGroup                     object\n",
       "Hospitalisations Avoided    float64\n",
       "Confidence Level            float64\n",
       "dtype: object"
      ]
     },
     "execution_count": 12,
     "metadata": {},
     "output_type": "execute_result"
    }
   ],
   "source": [
    "air_pollution_hammer.dtypes"
   ]
  },
  {
   "cell_type": "code",
   "execution_count": 13,
   "id": "0a85b9ea-3ea6-48fb-818c-4874ac0e7121",
   "metadata": {},
   "outputs": [
    {
     "data": {
      "text/plain": [
       "AgeGroup\n",
       "total    420\n",
       "0-5      315\n",
       "06-17    315\n",
       "18-64    315\n",
       "65+      315\n",
       "Name: count, dtype: int64"
      ]
     },
     "execution_count": 13,
     "metadata": {},
     "output_type": "execute_result"
    }
   ],
   "source": [
    "air_pollution_hammer.value_counts('AgeGroup')"
   ]
  },
  {
   "cell_type": "code",
   "execution_count": 14,
   "id": "001a072b-2887-4215-81f1-50bb538f2cb5",
   "metadata": {},
   "outputs": [
    {
     "data": {
      "text/plain": [
       "Disease\n",
       "adult asthma        525\n",
       "childhood asthma    525\n",
       "lung cancer         525\n",
       "total               105\n",
       "Name: count, dtype: int64"
      ]
     },
     "execution_count": 14,
     "metadata": {},
     "output_type": "execute_result"
    }
   ],
   "source": [
    "air_pollution_hammer.value_counts('Disease')"
   ]
  },
  {
   "cell_type": "code",
   "execution_count": 15,
   "id": "2ac95dbc-3642-4a87-bd26-fcfe4483e939",
   "metadata": {},
   "outputs": [
    {
     "data": {
      "text/plain": [
       "Scenario                                                                 3360\n",
       "Year                                                                  3415440\n",
       "Disease                     childhood asthmachildhood asthmachildhood asth...\n",
       "AgeGroup                    0-506-1718-6465+total0-506-1718-6465+total0-50...\n",
       "Hospitalisations Avoided                                          6656.255194\n",
       "Confidence Level                                                   867.029592\n",
       "dtype: object"
      ]
     },
     "execution_count": 15,
     "metadata": {},
     "output_type": "execute_result"
    }
   ],
   "source": [
    "air_pollution_hammer.sum()"
   ]
  },
  {
   "cell_type": "code",
   "execution_count": 16,
   "id": "b75748fc-f572-408d-b532-a6a024bd48a2",
   "metadata": {},
   "outputs": [
    {
     "data": {
      "text/plain": [
       "count    48.000000\n",
       "mean      0.604201\n",
       "std       1.533341\n",
       "min      -0.208926\n",
       "25%       0.000000\n",
       "50%       0.091038\n",
       "75%       0.484353\n",
       "max       7.924121\n",
       "Name: Hospitalisations Avoided, dtype: float64"
      ]
     },
     "execution_count": 16,
     "metadata": {},
     "output_type": "execute_result"
    }
   ],
   "source": [
    "filtered_data_2016_ham['Hospitalisations Avoided'].describe()"
   ]
  },
  {
   "cell_type": "code",
   "execution_count": 17,
   "id": "85e3ef07-fd73-423b-96aa-62bbb8593c75",
   "metadata": {},
   "outputs": [
    {
     "data": {
      "text/plain": [
       "count    48.000000\n",
       "mean      2.366972\n",
       "std       4.995543\n",
       "min      -0.056346\n",
       "25%       0.006872\n",
       "50%       0.557896\n",
       "75%       2.383411\n",
       "max      29.004867\n",
       "Name: Hospitalisations Avoided, dtype: float64"
      ]
     },
     "execution_count": 17,
     "metadata": {},
     "output_type": "execute_result"
    }
   ],
   "source": [
    "filtered_data_2023_ham['Hospitalisations Avoided'].describe()"
   ]
  },
  {
   "cell_type": "code",
   "execution_count": 18,
   "id": "d61ef073-abdd-4002-8304-0e215afd842c",
   "metadata": {},
   "outputs": [
    {
     "data": {
      "text/plain": [
       "0.0910385"
      ]
     },
     "execution_count": 18,
     "metadata": {},
     "output_type": "execute_result"
    }
   ],
   "source": [
    "filtered_data_2016_ham['Hospitalisations Avoided'].median()"
   ]
  },
  {
   "cell_type": "code",
   "execution_count": 19,
   "id": "cffdb3f0-d351-4593-92f8-ef9e0fd5fe9d",
   "metadata": {},
   "outputs": [
    {
     "data": {
      "text/plain": [
       "0.557896"
      ]
     },
     "execution_count": 19,
     "metadata": {},
     "output_type": "execute_result"
    }
   ],
   "source": [
    "filtered_data_2023_ham['Hospitalisations Avoided'].median()"
   ]
  },
  {
   "cell_type": "markdown",
   "id": "5224dfd8-1750-49fd-8972-0cd6636bfab2",
   "metadata": {},
   "source": [
    "# Exploratory Analysis Hammersmith and Fulham"
   ]
  },
  {
   "cell_type": "code",
   "execution_count": 20,
   "id": "30419b16-8ae9-4277-889e-9311dfe35dee",
   "metadata": {},
   "outputs": [
    {
     "data": {
      "text/html": [
       "<div>\n",
       "<style scoped>\n",
       "    .dataframe tbody tr th:only-of-type {\n",
       "        vertical-align: middle;\n",
       "    }\n",
       "\n",
       "    .dataframe tbody tr th {\n",
       "        vertical-align: top;\n",
       "    }\n",
       "\n",
       "    .dataframe thead th {\n",
       "        text-align: right;\n",
       "    }\n",
       "</style>\n",
       "<table border=\"1\" class=\"dataframe\">\n",
       "  <thead>\n",
       "    <tr style=\"text-align: right;\">\n",
       "      <th></th>\n",
       "      <th>Scenario</th>\n",
       "      <th>Year</th>\n",
       "      <th>Disease</th>\n",
       "      <th>AgeGroup</th>\n",
       "      <th>Hospitalisations Avoided</th>\n",
       "      <th>Confidence Level</th>\n",
       "    </tr>\n",
       "  </thead>\n",
       "  <tbody>\n",
       "    <tr>\n",
       "      <th>0</th>\n",
       "      <td>1</td>\n",
       "      <td>2016</td>\n",
       "      <td>childhood asthma</td>\n",
       "      <td>0-5</td>\n",
       "      <td>-0.005139</td>\n",
       "      <td>0.076051</td>\n",
       "    </tr>\n",
       "    <tr>\n",
       "      <th>1</th>\n",
       "      <td>1</td>\n",
       "      <td>2016</td>\n",
       "      <td>childhood asthma</td>\n",
       "      <td>06-17</td>\n",
       "      <td>0.086805</td>\n",
       "      <td>0.148457</td>\n",
       "    </tr>\n",
       "    <tr>\n",
       "      <th>2</th>\n",
       "      <td>1</td>\n",
       "      <td>2016</td>\n",
       "      <td>childhood asthma</td>\n",
       "      <td>18-64</td>\n",
       "      <td>0.294462</td>\n",
       "      <td>0.383378</td>\n",
       "    </tr>\n",
       "    <tr>\n",
       "      <th>3</th>\n",
       "      <td>1</td>\n",
       "      <td>2016</td>\n",
       "      <td>childhood asthma</td>\n",
       "      <td>65+</td>\n",
       "      <td>0.096784</td>\n",
       "      <td>0.151127</td>\n",
       "    </tr>\n",
       "    <tr>\n",
       "      <th>4</th>\n",
       "      <td>1</td>\n",
       "      <td>2016</td>\n",
       "      <td>childhood asthma</td>\n",
       "      <td>total</td>\n",
       "      <td>0.472910</td>\n",
       "      <td>0.444569</td>\n",
       "    </tr>\n",
       "  </tbody>\n",
       "</table>\n",
       "</div>"
      ],
      "text/plain": [
       "   Scenario  Year           Disease AgeGroup  Hospitalisations Avoided  \\\n",
       "0         1  2016  childhood asthma      0-5                 -0.005139   \n",
       "1         1  2016  childhood asthma    06-17                  0.086805   \n",
       "2         1  2016  childhood asthma    18-64                  0.294462   \n",
       "3         1  2016  childhood asthma      65+                  0.096784   \n",
       "4         1  2016  childhood asthma    total                  0.472910   \n",
       "\n",
       "   Confidence Level  \n",
       "0          0.076051  \n",
       "1          0.148457  \n",
       "2          0.383378  \n",
       "3          0.151127  \n",
       "4          0.444569  "
      ]
     },
     "execution_count": 20,
     "metadata": {},
     "output_type": "execute_result"
    }
   ],
   "source": [
    "air_pollution_hammer.head(5)"
   ]
  },
  {
   "cell_type": "code",
   "execution_count": 21,
   "id": "f54760be-e4dc-4250-8d0c-70b581761d37",
   "metadata": {},
   "outputs": [
    {
     "name": "stdout",
     "output_type": "stream",
     "text": [
      "<class 'pandas.core.frame.DataFrame'>\n",
      "RangeIndex: 1680 entries, 0 to 1679\n",
      "Data columns (total 6 columns):\n",
      " #   Column                    Non-Null Count  Dtype  \n",
      "---  ------                    --------------  -----  \n",
      " 0   Scenario                  1680 non-null   int64  \n",
      " 1   Year                      1680 non-null   int64  \n",
      " 2   Disease                   1680 non-null   object \n",
      " 3   AgeGroup                  1680 non-null   object \n",
      " 4   Hospitalisations Avoided  1680 non-null   float64\n",
      " 5   Confidence Level          1680 non-null   float64\n",
      "dtypes: float64(2), int64(2), object(2)\n",
      "memory usage: 78.9+ KB\n"
     ]
    }
   ],
   "source": [
    "info = air_pollution_hammer.info()\n",
    "info"
   ]
  },
  {
   "cell_type": "code",
   "execution_count": 22,
   "id": "832805e2-80c6-4c26-855a-fa784bfa9b44",
   "metadata": {},
   "outputs": [
    {
     "data": {
      "text/plain": [
       "(1680, 6)"
      ]
     },
     "execution_count": 22,
     "metadata": {},
     "output_type": "execute_result"
    }
   ],
   "source": [
    "air_pollution_hammer.shape"
   ]
  },
  {
   "cell_type": "code",
   "execution_count": 23,
   "id": "51899e44-84fc-41f0-9c01-72903d52dbd6",
   "metadata": {},
   "outputs": [
    {
     "data": {
      "text/html": [
       "<div>\n",
       "<style scoped>\n",
       "    .dataframe tbody tr th:only-of-type {\n",
       "        vertical-align: middle;\n",
       "    }\n",
       "\n",
       "    .dataframe tbody tr th {\n",
       "        vertical-align: top;\n",
       "    }\n",
       "\n",
       "    .dataframe thead th {\n",
       "        text-align: right;\n",
       "    }\n",
       "</style>\n",
       "<table border=\"1\" class=\"dataframe\">\n",
       "  <thead>\n",
       "    <tr style=\"text-align: right;\">\n",
       "      <th></th>\n",
       "      <th>Scenario</th>\n",
       "      <th>Year</th>\n",
       "      <th>Hospitalisations Avoided</th>\n",
       "      <th>Confidence Level</th>\n",
       "    </tr>\n",
       "  </thead>\n",
       "  <tbody>\n",
       "    <tr>\n",
       "      <th>count</th>\n",
       "      <td>1680.00000</td>\n",
       "      <td>1680.000000</td>\n",
       "      <td>1680.000000</td>\n",
       "      <td>1680.000000</td>\n",
       "    </tr>\n",
       "    <tr>\n",
       "      <th>mean</th>\n",
       "      <td>2.00000</td>\n",
       "      <td>2033.000000</td>\n",
       "      <td>3.962057</td>\n",
       "      <td>0.516089</td>\n",
       "    </tr>\n",
       "    <tr>\n",
       "      <th>std</th>\n",
       "      <td>0.81674</td>\n",
       "      <td>10.102512</td>\n",
       "      <td>7.977661</td>\n",
       "      <td>0.717241</td>\n",
       "    </tr>\n",
       "    <tr>\n",
       "      <th>min</th>\n",
       "      <td>1.00000</td>\n",
       "      <td>2016.000000</td>\n",
       "      <td>-0.359293</td>\n",
       "      <td>0.000000</td>\n",
       "    </tr>\n",
       "    <tr>\n",
       "      <th>25%</th>\n",
       "      <td>1.00000</td>\n",
       "      <td>2024.000000</td>\n",
       "      <td>0.000888</td>\n",
       "      <td>0.049391</td>\n",
       "    </tr>\n",
       "    <tr>\n",
       "      <th>50%</th>\n",
       "      <td>2.00000</td>\n",
       "      <td>2033.000000</td>\n",
       "      <td>0.929066</td>\n",
       "      <td>0.146610</td>\n",
       "    </tr>\n",
       "    <tr>\n",
       "      <th>75%</th>\n",
       "      <td>3.00000</td>\n",
       "      <td>2042.000000</td>\n",
       "      <td>3.951989</td>\n",
       "      <td>0.566962</td>\n",
       "    </tr>\n",
       "    <tr>\n",
       "      <th>max</th>\n",
       "      <td>3.00000</td>\n",
       "      <td>2050.000000</td>\n",
       "      <td>64.791728</td>\n",
       "      <td>2.150169</td>\n",
       "    </tr>\n",
       "  </tbody>\n",
       "</table>\n",
       "</div>"
      ],
      "text/plain": [
       "         Scenario         Year  Hospitalisations Avoided  Confidence Level\n",
       "count  1680.00000  1680.000000               1680.000000       1680.000000\n",
       "mean      2.00000  2033.000000                  3.962057          0.516089\n",
       "std       0.81674    10.102512                  7.977661          0.717241\n",
       "min       1.00000  2016.000000                 -0.359293          0.000000\n",
       "25%       1.00000  2024.000000                  0.000888          0.049391\n",
       "50%       2.00000  2033.000000                  0.929066          0.146610\n",
       "75%       3.00000  2042.000000                  3.951989          0.566962\n",
       "max       3.00000  2050.000000                 64.791728          2.150169"
      ]
     },
     "execution_count": 23,
     "metadata": {},
     "output_type": "execute_result"
    }
   ],
   "source": [
    "air_pollution_hammer.describe()"
   ]
  },
  {
   "cell_type": "code",
   "execution_count": 24,
   "id": "fb4d273b-93ed-4f42-b28b-236980b95f6a",
   "metadata": {},
   "outputs": [
    {
     "data": {
      "text/plain": [
       "<pandas.core.groupby.generic.DataFrameGroupBy object at 0x134eb4e30>"
      ]
     },
     "execution_count": 24,
     "metadata": {},
     "output_type": "execute_result"
    }
   ],
   "source": [
    "grouped_category = air_pollution_hammer.groupby(['Disease'])\n",
    "grouped_category"
   ]
  },
  {
   "cell_type": "code",
   "execution_count": 25,
   "id": "25066dd0-6815-4068-93f5-faa4817d9492",
   "metadata": {},
   "outputs": [
    {
     "data": {
      "text/html": [
       "<div>\n",
       "<style scoped>\n",
       "    .dataframe tbody tr th:only-of-type {\n",
       "        vertical-align: middle;\n",
       "    }\n",
       "\n",
       "    .dataframe tbody tr th {\n",
       "        vertical-align: top;\n",
       "    }\n",
       "\n",
       "    .dataframe thead th {\n",
       "        text-align: right;\n",
       "    }\n",
       "</style>\n",
       "<table border=\"1\" class=\"dataframe\">\n",
       "  <thead>\n",
       "    <tr style=\"text-align: right;\">\n",
       "      <th></th>\n",
       "      <th>Scenario</th>\n",
       "      <th>Year</th>\n",
       "      <th>AgeGroup</th>\n",
       "      <th>Hospitalisations Avoided</th>\n",
       "      <th>Confidence Level</th>\n",
       "    </tr>\n",
       "    <tr>\n",
       "      <th>Disease</th>\n",
       "      <th></th>\n",
       "      <th></th>\n",
       "      <th></th>\n",
       "      <th></th>\n",
       "      <th></th>\n",
       "    </tr>\n",
       "  </thead>\n",
       "  <tbody>\n",
       "    <tr>\n",
       "      <th>adult asthma</th>\n",
       "      <td>1050</td>\n",
       "      <td>1067325</td>\n",
       "      <td>0-506-1718-6465+total0-506-1718-6465+total0-50...</td>\n",
       "      <td>836.467464</td>\n",
       "      <td>40.486841</td>\n",
       "    </tr>\n",
       "    <tr>\n",
       "      <th>childhood asthma</th>\n",
       "      <td>1050</td>\n",
       "      <td>1067325</td>\n",
       "      <td>0-506-1718-6465+total0-506-1718-6465+total0-50...</td>\n",
       "      <td>1479.808471</td>\n",
       "      <td>116.190444</td>\n",
       "    </tr>\n",
       "    <tr>\n",
       "      <th>lung cancer</th>\n",
       "      <td>1050</td>\n",
       "      <td>1067325</td>\n",
       "      <td>0-506-1718-6465+total0-506-1718-6465+total0-50...</td>\n",
       "      <td>2121.227540</td>\n",
       "      <td>496.349544</td>\n",
       "    </tr>\n",
       "    <tr>\n",
       "      <th>total</th>\n",
       "      <td>210</td>\n",
       "      <td>213465</td>\n",
       "      <td>totaltotaltotaltotaltotaltotaltotaltotaltotalt...</td>\n",
       "      <td>2218.751719</td>\n",
       "      <td>214.002763</td>\n",
       "    </tr>\n",
       "  </tbody>\n",
       "</table>\n",
       "</div>"
      ],
      "text/plain": [
       "                  Scenario     Year  \\\n",
       "Disease                               \n",
       "adult asthma          1050  1067325   \n",
       "childhood asthma      1050  1067325   \n",
       "lung cancer           1050  1067325   \n",
       "total                  210   213465   \n",
       "\n",
       "                                                           AgeGroup  \\\n",
       "Disease                                                               \n",
       "adult asthma      0-506-1718-6465+total0-506-1718-6465+total0-50...   \n",
       "childhood asthma  0-506-1718-6465+total0-506-1718-6465+total0-50...   \n",
       "lung cancer       0-506-1718-6465+total0-506-1718-6465+total0-50...   \n",
       "total             totaltotaltotaltotaltotaltotaltotaltotaltotalt...   \n",
       "\n",
       "                  Hospitalisations Avoided  Confidence Level  \n",
       "Disease                                                       \n",
       "adult asthma                    836.467464         40.486841  \n",
       "childhood asthma               1479.808471        116.190444  \n",
       "lung cancer                    2121.227540        496.349544  \n",
       "total                          2218.751719        214.002763  "
      ]
     },
     "execution_count": 25,
     "metadata": {},
     "output_type": "execute_result"
    }
   ],
   "source": [
    "grouped_category.sum()\n"
   ]
  },
  {
   "cell_type": "code",
   "execution_count": 26,
   "id": "3afdf6ea-af9d-4dad-8bd5-e88981f63bd8",
   "metadata": {},
   "outputs": [
    {
     "name": "stdout",
     "output_type": "stream",
     "text": [
      "4\n"
     ]
    }
   ],
   "source": [
    "print(len(grouped_category))"
   ]
  },
  {
   "cell_type": "markdown",
   "id": "ab5e8b16-49b0-4986-9c52-4b86b7ac90b7",
   "metadata": {},
   "source": [
    "# Data Cleaning for Tower Hamlets"
   ]
  },
  {
   "cell_type": "code",
   "execution_count": 27,
   "id": "f092af03-b3d8-4a29-bde8-36e215ce47f5",
   "metadata": {},
   "outputs": [
    {
     "data": {
      "text/html": [
       "<div>\n",
       "<style scoped>\n",
       "    .dataframe tbody tr th:only-of-type {\n",
       "        vertical-align: middle;\n",
       "    }\n",
       "\n",
       "    .dataframe tbody tr th {\n",
       "        vertical-align: top;\n",
       "    }\n",
       "\n",
       "    .dataframe thead th {\n",
       "        text-align: right;\n",
       "    }\n",
       "</style>\n",
       "<table border=\"1\" class=\"dataframe\">\n",
       "  <thead>\n",
       "    <tr style=\"text-align: right;\">\n",
       "      <th></th>\n",
       "      <th>Scenario</th>\n",
       "      <th>Year</th>\n",
       "      <th>Disease</th>\n",
       "      <th>AgeGroup</th>\n",
       "      <th>Hospitalisations Avoided</th>\n",
       "      <th>95% CL</th>\n",
       "    </tr>\n",
       "  </thead>\n",
       "  <tbody>\n",
       "    <tr>\n",
       "      <th>0</th>\n",
       "      <td>1</td>\n",
       "      <td>2016</td>\n",
       "      <td>childhood asthma</td>\n",
       "      <td>0-5</td>\n",
       "      <td>0.001871</td>\n",
       "      <td>0.081914</td>\n",
       "    </tr>\n",
       "    <tr>\n",
       "      <th>1</th>\n",
       "      <td>1</td>\n",
       "      <td>2016</td>\n",
       "      <td>childhood asthma</td>\n",
       "      <td>06-17</td>\n",
       "      <td>0.128593</td>\n",
       "      <td>0.159966</td>\n",
       "    </tr>\n",
       "    <tr>\n",
       "      <th>2</th>\n",
       "      <td>1</td>\n",
       "      <td>2016</td>\n",
       "      <td>childhood asthma</td>\n",
       "      <td>18-64</td>\n",
       "      <td>0.448432</td>\n",
       "      <td>0.393522</td>\n",
       "    </tr>\n",
       "    <tr>\n",
       "      <th>3</th>\n",
       "      <td>1</td>\n",
       "      <td>2016</td>\n",
       "      <td>childhood asthma</td>\n",
       "      <td>65+</td>\n",
       "      <td>0.026935</td>\n",
       "      <td>0.115791</td>\n",
       "    </tr>\n",
       "    <tr>\n",
       "      <th>4</th>\n",
       "      <td>1</td>\n",
       "      <td>2016</td>\n",
       "      <td>childhood asthma</td>\n",
       "      <td>total</td>\n",
       "      <td>0.605831</td>\n",
       "      <td>0.447846</td>\n",
       "    </tr>\n",
       "  </tbody>\n",
       "</table>\n",
       "</div>"
      ],
      "text/plain": [
       "   Scenario  Year           Disease AgeGroup  Hospitalisations Avoided  \\\n",
       "0         1  2016  childhood asthma      0-5                  0.001871   \n",
       "1         1  2016  childhood asthma    06-17                  0.128593   \n",
       "2         1  2016  childhood asthma    18-64                  0.448432   \n",
       "3         1  2016  childhood asthma      65+                  0.026935   \n",
       "4         1  2016  childhood asthma    total                  0.605831   \n",
       "\n",
       "     95% CL  \n",
       "0  0.081914  \n",
       "1  0.159966  \n",
       "2  0.393522  \n",
       "3  0.115791  \n",
       "4  0.447846  "
      ]
     },
     "execution_count": 27,
     "metadata": {},
     "output_type": "execute_result"
    }
   ],
   "source": [
    "air_pollution_tower = pd.read_excel('../data_clean/health_xls/tower-hamlets-no2-xlsm-43.xls', \n",
    "                                    sheet_name = 'Hospitalisations Avoided')\n",
    "air_pollution_tower.head(5)"
   ]
  },
  {
   "cell_type": "code",
   "execution_count": 28,
   "id": "b20c5ee5-3caa-4127-a451-609dca389107",
   "metadata": {},
   "outputs": [
    {
     "data": {
      "text/html": [
       "<div>\n",
       "<style scoped>\n",
       "    .dataframe tbody tr th:only-of-type {\n",
       "        vertical-align: middle;\n",
       "    }\n",
       "\n",
       "    .dataframe tbody tr th {\n",
       "        vertical-align: top;\n",
       "    }\n",
       "\n",
       "    .dataframe thead th {\n",
       "        text-align: right;\n",
       "    }\n",
       "</style>\n",
       "<table border=\"1\" class=\"dataframe\">\n",
       "  <thead>\n",
       "    <tr style=\"text-align: right;\">\n",
       "      <th></th>\n",
       "      <th>Year</th>\n",
       "      <th>Disease</th>\n",
       "      <th>AgeGroup</th>\n",
       "      <th>Hospitalisations Avoided</th>\n",
       "      <th>95% CL</th>\n",
       "    </tr>\n",
       "  </thead>\n",
       "  <tbody>\n",
       "    <tr>\n",
       "      <th>0</th>\n",
       "      <td>2016</td>\n",
       "      <td>childhood asthma</td>\n",
       "      <td>0-5</td>\n",
       "      <td>0.001871</td>\n",
       "      <td>0.081914</td>\n",
       "    </tr>\n",
       "    <tr>\n",
       "      <th>1</th>\n",
       "      <td>2016</td>\n",
       "      <td>childhood asthma</td>\n",
       "      <td>06-17</td>\n",
       "      <td>0.128593</td>\n",
       "      <td>0.159966</td>\n",
       "    </tr>\n",
       "    <tr>\n",
       "      <th>2</th>\n",
       "      <td>2016</td>\n",
       "      <td>childhood asthma</td>\n",
       "      <td>18-64</td>\n",
       "      <td>0.448432</td>\n",
       "      <td>0.393522</td>\n",
       "    </tr>\n",
       "    <tr>\n",
       "      <th>3</th>\n",
       "      <td>2016</td>\n",
       "      <td>childhood asthma</td>\n",
       "      <td>65+</td>\n",
       "      <td>0.026935</td>\n",
       "      <td>0.115791</td>\n",
       "    </tr>\n",
       "    <tr>\n",
       "      <th>4</th>\n",
       "      <td>2016</td>\n",
       "      <td>childhood asthma</td>\n",
       "      <td>total</td>\n",
       "      <td>0.605831</td>\n",
       "      <td>0.447846</td>\n",
       "    </tr>\n",
       "  </tbody>\n",
       "</table>\n",
       "</div>"
      ],
      "text/plain": [
       "   Year           Disease AgeGroup  Hospitalisations Avoided    95% CL\n",
       "0  2016  childhood asthma      0-5                  0.001871  0.081914\n",
       "1  2016  childhood asthma    06-17                  0.128593  0.159966\n",
       "2  2016  childhood asthma    18-64                  0.448432  0.393522\n",
       "3  2016  childhood asthma      65+                  0.026935  0.115791\n",
       "4  2016  childhood asthma    total                  0.605831  0.447846"
      ]
     },
     "execution_count": 28,
     "metadata": {},
     "output_type": "execute_result"
    }
   ],
   "source": [
    "air_pollution_tower.drop(columns=['Scenario'], inplace=True)\n",
    "air_pollution_tower.head(5)"
   ]
  },
  {
   "cell_type": "code",
   "execution_count": 29,
   "id": "edf490d5-dd07-4924-801b-66388f950197",
   "metadata": {},
   "outputs": [
    {
     "data": {
      "text/html": [
       "<div>\n",
       "<style scoped>\n",
       "    .dataframe tbody tr th:only-of-type {\n",
       "        vertical-align: middle;\n",
       "    }\n",
       "\n",
       "    .dataframe tbody tr th {\n",
       "        vertical-align: top;\n",
       "    }\n",
       "\n",
       "    .dataframe thead th {\n",
       "        text-align: right;\n",
       "    }\n",
       "</style>\n",
       "<table border=\"1\" class=\"dataframe\">\n",
       "  <thead>\n",
       "    <tr style=\"text-align: right;\">\n",
       "      <th></th>\n",
       "      <th>Year</th>\n",
       "      <th>Disease</th>\n",
       "      <th>AgeGroup</th>\n",
       "      <th>Hospitalisations Avoided</th>\n",
       "      <th>95% CL</th>\n",
       "    </tr>\n",
       "  </thead>\n",
       "  <tbody>\n",
       "    <tr>\n",
       "      <th>0</th>\n",
       "      <td>2016</td>\n",
       "      <td>childhood asthma</td>\n",
       "      <td>0-5</td>\n",
       "      <td>0.001871</td>\n",
       "      <td>0.081914</td>\n",
       "    </tr>\n",
       "    <tr>\n",
       "      <th>1</th>\n",
       "      <td>2016</td>\n",
       "      <td>childhood asthma</td>\n",
       "      <td>06-17</td>\n",
       "      <td>0.128593</td>\n",
       "      <td>0.159966</td>\n",
       "    </tr>\n",
       "    <tr>\n",
       "      <th>2</th>\n",
       "      <td>2016</td>\n",
       "      <td>childhood asthma</td>\n",
       "      <td>18-64</td>\n",
       "      <td>0.448432</td>\n",
       "      <td>0.393522</td>\n",
       "    </tr>\n",
       "    <tr>\n",
       "      <th>3</th>\n",
       "      <td>2016</td>\n",
       "      <td>childhood asthma</td>\n",
       "      <td>65+</td>\n",
       "      <td>0.026935</td>\n",
       "      <td>0.115791</td>\n",
       "    </tr>\n",
       "    <tr>\n",
       "      <th>4</th>\n",
       "      <td>2016</td>\n",
       "      <td>childhood asthma</td>\n",
       "      <td>total</td>\n",
       "      <td>0.605831</td>\n",
       "      <td>0.447846</td>\n",
       "    </tr>\n",
       "  </tbody>\n",
       "</table>\n",
       "</div>"
      ],
      "text/plain": [
       "   Year           Disease AgeGroup  Hospitalisations Avoided    95% CL\n",
       "0  2016  childhood asthma      0-5                  0.001871  0.081914\n",
       "1  2016  childhood asthma    06-17                  0.128593  0.159966\n",
       "2  2016  childhood asthma    18-64                  0.448432  0.393522\n",
       "3  2016  childhood asthma      65+                  0.026935  0.115791\n",
       "4  2016  childhood asthma    total                  0.605831  0.447846"
      ]
     },
     "execution_count": 29,
     "metadata": {},
     "output_type": "execute_result"
    }
   ],
   "source": [
    "air_pollution_tower.fillna(value='???', limit=1, axis=1)\n",
    "air_pollution_tower.head(5)"
   ]
  },
  {
   "cell_type": "code",
   "execution_count": 30,
   "id": "60aed869-29eb-4ce7-91b1-a262dbc79b0d",
   "metadata": {},
   "outputs": [
    {
     "data": {
      "text/html": [
       "<div>\n",
       "<style scoped>\n",
       "    .dataframe tbody tr th:only-of-type {\n",
       "        vertical-align: middle;\n",
       "    }\n",
       "\n",
       "    .dataframe tbody tr th {\n",
       "        vertical-align: top;\n",
       "    }\n",
       "\n",
       "    .dataframe thead th {\n",
       "        text-align: right;\n",
       "    }\n",
       "</style>\n",
       "<table border=\"1\" class=\"dataframe\">\n",
       "  <thead>\n",
       "    <tr style=\"text-align: right;\">\n",
       "      <th></th>\n",
       "      <th>Year</th>\n",
       "      <th>Disease</th>\n",
       "      <th>AgeGroup</th>\n",
       "      <th>Hospitalisations Avoided</th>\n",
       "      <th>95% CL</th>\n",
       "    </tr>\n",
       "  </thead>\n",
       "  <tbody>\n",
       "    <tr>\n",
       "      <th>0</th>\n",
       "      <td>2016</td>\n",
       "      <td>childhood asthma</td>\n",
       "      <td>0-5</td>\n",
       "      <td>0.001871</td>\n",
       "      <td>0.081914</td>\n",
       "    </tr>\n",
       "    <tr>\n",
       "      <th>1</th>\n",
       "      <td>2016</td>\n",
       "      <td>childhood asthma</td>\n",
       "      <td>06-17</td>\n",
       "      <td>0.128593</td>\n",
       "      <td>0.159966</td>\n",
       "    </tr>\n",
       "    <tr>\n",
       "      <th>2</th>\n",
       "      <td>2016</td>\n",
       "      <td>childhood asthma</td>\n",
       "      <td>18-64</td>\n",
       "      <td>0.448432</td>\n",
       "      <td>0.393522</td>\n",
       "    </tr>\n",
       "    <tr>\n",
       "      <th>3</th>\n",
       "      <td>2016</td>\n",
       "      <td>childhood asthma</td>\n",
       "      <td>65+</td>\n",
       "      <td>0.026935</td>\n",
       "      <td>0.115791</td>\n",
       "    </tr>\n",
       "    <tr>\n",
       "      <th>4</th>\n",
       "      <td>2016</td>\n",
       "      <td>childhood asthma</td>\n",
       "      <td>total</td>\n",
       "      <td>0.605831</td>\n",
       "      <td>0.447846</td>\n",
       "    </tr>\n",
       "  </tbody>\n",
       "</table>\n",
       "</div>"
      ],
      "text/plain": [
       "   Year           Disease AgeGroup  Hospitalisations Avoided    95% CL\n",
       "0  2016  childhood asthma      0-5                  0.001871  0.081914\n",
       "1  2016  childhood asthma    06-17                  0.128593  0.159966\n",
       "2  2016  childhood asthma    18-64                  0.448432  0.393522\n",
       "3  2016  childhood asthma      65+                  0.026935  0.115791\n",
       "4  2016  childhood asthma    total                  0.605831  0.447846"
      ]
     },
     "execution_count": 30,
     "metadata": {},
     "output_type": "execute_result"
    }
   ],
   "source": [
    "air_pollution_tower['Disease'].astype('str')\n",
    "air_pollution_tower.head(5)"
   ]
  },
  {
   "cell_type": "code",
   "execution_count": 31,
   "id": "f00a443f-f8c8-40ac-8eff-2ebf10ff6590",
   "metadata": {},
   "outputs": [
    {
     "name": "stderr",
     "output_type": "stream",
     "text": [
      "/var/folders/ww/_8wv3jzj27l9t1190v0wsbyc0000gn/T/ipykernel_16790/3054388182.py:1: FutureWarning: A value is trying to be set on a copy of a DataFrame or Series through chained assignment using an inplace method.\n",
      "The behavior will change in pandas 3.0. This inplace method will never work because the intermediate object on which we are setting values always behaves as a copy.\n",
      "\n",
      "For example, when doing 'df[col].method(value, inplace=True)', try using 'df.method({col: value}, inplace=True)' or df[col] = df[col].method(value) instead, to perform the operation inplace on the original object.\n",
      "\n",
      "\n",
      "  fill_gaps = air_pollution_tower['Year'].fillna('Not Inclusive', inplace = True)\n"
     ]
    },
    {
     "data": {
      "text/html": [
       "<div>\n",
       "<style scoped>\n",
       "    .dataframe tbody tr th:only-of-type {\n",
       "        vertical-align: middle;\n",
       "    }\n",
       "\n",
       "    .dataframe tbody tr th {\n",
       "        vertical-align: top;\n",
       "    }\n",
       "\n",
       "    .dataframe thead th {\n",
       "        text-align: right;\n",
       "    }\n",
       "</style>\n",
       "<table border=\"1\" class=\"dataframe\">\n",
       "  <thead>\n",
       "    <tr style=\"text-align: right;\">\n",
       "      <th></th>\n",
       "      <th>Year</th>\n",
       "      <th>Disease</th>\n",
       "      <th>AgeGroup</th>\n",
       "      <th>Hospitalisations Avoided</th>\n",
       "      <th>95% CL</th>\n",
       "    </tr>\n",
       "  </thead>\n",
       "  <tbody>\n",
       "    <tr>\n",
       "      <th>0</th>\n",
       "      <td>2016</td>\n",
       "      <td>childhood asthma</td>\n",
       "      <td>0-5</td>\n",
       "      <td>0.001871</td>\n",
       "      <td>0.081914</td>\n",
       "    </tr>\n",
       "    <tr>\n",
       "      <th>1</th>\n",
       "      <td>2016</td>\n",
       "      <td>childhood asthma</td>\n",
       "      <td>06-17</td>\n",
       "      <td>0.128593</td>\n",
       "      <td>0.159966</td>\n",
       "    </tr>\n",
       "    <tr>\n",
       "      <th>2</th>\n",
       "      <td>2016</td>\n",
       "      <td>childhood asthma</td>\n",
       "      <td>18-64</td>\n",
       "      <td>0.448432</td>\n",
       "      <td>0.393522</td>\n",
       "    </tr>\n",
       "    <tr>\n",
       "      <th>3</th>\n",
       "      <td>2016</td>\n",
       "      <td>childhood asthma</td>\n",
       "      <td>65+</td>\n",
       "      <td>0.026935</td>\n",
       "      <td>0.115791</td>\n",
       "    </tr>\n",
       "    <tr>\n",
       "      <th>4</th>\n",
       "      <td>2016</td>\n",
       "      <td>childhood asthma</td>\n",
       "      <td>total</td>\n",
       "      <td>0.605831</td>\n",
       "      <td>0.447846</td>\n",
       "    </tr>\n",
       "  </tbody>\n",
       "</table>\n",
       "</div>"
      ],
      "text/plain": [
       "   Year           Disease AgeGroup  Hospitalisations Avoided    95% CL\n",
       "0  2016  childhood asthma      0-5                  0.001871  0.081914\n",
       "1  2016  childhood asthma    06-17                  0.128593  0.159966\n",
       "2  2016  childhood asthma    18-64                  0.448432  0.393522\n",
       "3  2016  childhood asthma      65+                  0.026935  0.115791\n",
       "4  2016  childhood asthma    total                  0.605831  0.447846"
      ]
     },
     "execution_count": 31,
     "metadata": {},
     "output_type": "execute_result"
    }
   ],
   "source": [
    "fill_gaps = air_pollution_tower['Year'].fillna('Not Inclusive', inplace = True)\n",
    "air_pollution_tower.head(5)"
   ]
  },
  {
   "cell_type": "code",
   "execution_count": 32,
   "id": "a598d616-74a2-4c58-9b8c-cb41baff63fb",
   "metadata": {},
   "outputs": [
    {
     "data": {
      "text/html": [
       "<div>\n",
       "<style scoped>\n",
       "    .dataframe tbody tr th:only-of-type {\n",
       "        vertical-align: middle;\n",
       "    }\n",
       "\n",
       "    .dataframe tbody tr th {\n",
       "        vertical-align: top;\n",
       "    }\n",
       "\n",
       "    .dataframe thead th {\n",
       "        text-align: right;\n",
       "    }\n",
       "</style>\n",
       "<table border=\"1\" class=\"dataframe\">\n",
       "  <thead>\n",
       "    <tr style=\"text-align: right;\">\n",
       "      <th></th>\n",
       "      <th>Year</th>\n",
       "      <th>Disease</th>\n",
       "      <th>AgeGroup</th>\n",
       "      <th>Hospitalisations Avoided</th>\n",
       "      <th>Confidence Level</th>\n",
       "    </tr>\n",
       "  </thead>\n",
       "  <tbody>\n",
       "    <tr>\n",
       "      <th>0</th>\n",
       "      <td>2016</td>\n",
       "      <td>childhood asthma</td>\n",
       "      <td>0-5</td>\n",
       "      <td>0.001871</td>\n",
       "      <td>0.081914</td>\n",
       "    </tr>\n",
       "    <tr>\n",
       "      <th>1</th>\n",
       "      <td>2016</td>\n",
       "      <td>childhood asthma</td>\n",
       "      <td>06-17</td>\n",
       "      <td>0.128593</td>\n",
       "      <td>0.159966</td>\n",
       "    </tr>\n",
       "    <tr>\n",
       "      <th>2</th>\n",
       "      <td>2016</td>\n",
       "      <td>childhood asthma</td>\n",
       "      <td>18-64</td>\n",
       "      <td>0.448432</td>\n",
       "      <td>0.393522</td>\n",
       "    </tr>\n",
       "    <tr>\n",
       "      <th>3</th>\n",
       "      <td>2016</td>\n",
       "      <td>childhood asthma</td>\n",
       "      <td>65+</td>\n",
       "      <td>0.026935</td>\n",
       "      <td>0.115791</td>\n",
       "    </tr>\n",
       "    <tr>\n",
       "      <th>4</th>\n",
       "      <td>2016</td>\n",
       "      <td>childhood asthma</td>\n",
       "      <td>total</td>\n",
       "      <td>0.605831</td>\n",
       "      <td>0.447846</td>\n",
       "    </tr>\n",
       "  </tbody>\n",
       "</table>\n",
       "</div>"
      ],
      "text/plain": [
       "   Year           Disease AgeGroup  Hospitalisations Avoided  Confidence Level\n",
       "0  2016  childhood asthma      0-5                  0.001871          0.081914\n",
       "1  2016  childhood asthma    06-17                  0.128593          0.159966\n",
       "2  2016  childhood asthma    18-64                  0.448432          0.393522\n",
       "3  2016  childhood asthma      65+                  0.026935          0.115791\n",
       "4  2016  childhood asthma    total                  0.605831          0.447846"
      ]
     },
     "execution_count": 32,
     "metadata": {},
     "output_type": "execute_result"
    }
   ],
   "source": [
    "air_pollution_tower = air_pollution_tower.rename(columns={'95% CL':'Confidence Level'})\n",
    "air_pollution_tower.head(5)"
   ]
  },
  {
   "cell_type": "code",
   "execution_count": 33,
   "id": "954e8fd7-11b3-4e91-9fbb-995c57bcb492",
   "metadata": {},
   "outputs": [
    {
     "data": {
      "text/html": [
       "<div>\n",
       "<style scoped>\n",
       "    .dataframe tbody tr th:only-of-type {\n",
       "        vertical-align: middle;\n",
       "    }\n",
       "\n",
       "    .dataframe tbody tr th {\n",
       "        vertical-align: top;\n",
       "    }\n",
       "\n",
       "    .dataframe thead th {\n",
       "        text-align: right;\n",
       "    }\n",
       "</style>\n",
       "<table border=\"1\" class=\"dataframe\">\n",
       "  <thead>\n",
       "    <tr style=\"text-align: right;\">\n",
       "      <th></th>\n",
       "      <th>Year</th>\n",
       "      <th>Condition</th>\n",
       "      <th>Age</th>\n",
       "      <th>Hospitalisations Avoided</th>\n",
       "      <th>Confidence Level</th>\n",
       "    </tr>\n",
       "  </thead>\n",
       "  <tbody>\n",
       "    <tr>\n",
       "      <th>0</th>\n",
       "      <td>2016</td>\n",
       "      <td>childhood asthma</td>\n",
       "      <td>0-5</td>\n",
       "      <td>0.001871</td>\n",
       "      <td>0.081914</td>\n",
       "    </tr>\n",
       "    <tr>\n",
       "      <th>1</th>\n",
       "      <td>2016</td>\n",
       "      <td>childhood asthma</td>\n",
       "      <td>06-17</td>\n",
       "      <td>0.128593</td>\n",
       "      <td>0.159966</td>\n",
       "    </tr>\n",
       "    <tr>\n",
       "      <th>2</th>\n",
       "      <td>2016</td>\n",
       "      <td>childhood asthma</td>\n",
       "      <td>18-64</td>\n",
       "      <td>0.448432</td>\n",
       "      <td>0.393522</td>\n",
       "    </tr>\n",
       "    <tr>\n",
       "      <th>3</th>\n",
       "      <td>2016</td>\n",
       "      <td>childhood asthma</td>\n",
       "      <td>65+</td>\n",
       "      <td>0.026935</td>\n",
       "      <td>0.115791</td>\n",
       "    </tr>\n",
       "    <tr>\n",
       "      <th>4</th>\n",
       "      <td>2016</td>\n",
       "      <td>childhood asthma</td>\n",
       "      <td>total</td>\n",
       "      <td>0.605831</td>\n",
       "      <td>0.447846</td>\n",
       "    </tr>\n",
       "  </tbody>\n",
       "</table>\n",
       "</div>"
      ],
      "text/plain": [
       "   Year         Condition    Age  Hospitalisations Avoided  Confidence Level\n",
       "0  2016  childhood asthma    0-5                  0.001871          0.081914\n",
       "1  2016  childhood asthma  06-17                  0.128593          0.159966\n",
       "2  2016  childhood asthma  18-64                  0.448432          0.393522\n",
       "3  2016  childhood asthma    65+                  0.026935          0.115791\n",
       "4  2016  childhood asthma  total                  0.605831          0.447846"
      ]
     },
     "execution_count": 33,
     "metadata": {},
     "output_type": "execute_result"
    }
   ],
   "source": [
    "total_hospitalisations_tower = air_pollution_tower.rename(columns={'Disease': 'Condition', 'AgeGroup': 'Age'})\n",
    "total_hospitalisations_tower.head(5)"
   ]
  },
  {
   "cell_type": "code",
   "execution_count": 34,
   "id": "db87744c-3e67-4fe6-a004-68c51fc80ada",
   "metadata": {},
   "outputs": [
    {
     "data": {
      "text/plain": [
       "Year                        0\n",
       "Disease                     0\n",
       "AgeGroup                    0\n",
       "Hospitalisations Avoided    0\n",
       "Confidence Level            0\n",
       "dtype: int64"
      ]
     },
     "execution_count": 34,
     "metadata": {},
     "output_type": "execute_result"
    }
   ],
   "source": [
    "missing_values = air_pollution_tower.isnull().sum()\n",
    "missing_values"
   ]
  },
  {
   "cell_type": "code",
   "execution_count": 35,
   "id": "2a04a51e-1dbe-4617-951b-72e55d59ad66",
   "metadata": {},
   "outputs": [
    {
     "data": {
      "text/plain": [
       "217"
      ]
     },
     "execution_count": 35,
     "metadata": {},
     "output_type": "execute_result"
    }
   ],
   "source": [
    "duplicated_values = air_pollution_tower.duplicated().sum()\n",
    "duplicated_values "
   ]
  },
  {
   "cell_type": "code",
   "execution_count": 36,
   "id": "bb290e8b-86e9-4801-adac-85c5a734501e",
   "metadata": {},
   "outputs": [
    {
     "data": {
      "text/html": [
       "<div>\n",
       "<style scoped>\n",
       "    .dataframe tbody tr th:only-of-type {\n",
       "        vertical-align: middle;\n",
       "    }\n",
       "\n",
       "    .dataframe tbody tr th {\n",
       "        vertical-align: top;\n",
       "    }\n",
       "\n",
       "    .dataframe thead th {\n",
       "        text-align: right;\n",
       "    }\n",
       "</style>\n",
       "<table border=\"1\" class=\"dataframe\">\n",
       "  <thead>\n",
       "    <tr style=\"text-align: right;\">\n",
       "      <th></th>\n",
       "      <th>Year</th>\n",
       "      <th>Disease</th>\n",
       "      <th>AgeGroup</th>\n",
       "      <th>Hospitalisations Avoided</th>\n",
       "      <th>Confidence Level</th>\n",
       "    </tr>\n",
       "  </thead>\n",
       "  <tbody>\n",
       "    <tr>\n",
       "      <th>0</th>\n",
       "      <td>2016</td>\n",
       "      <td>childhood asthma</td>\n",
       "      <td>0-5</td>\n",
       "      <td>0.001871</td>\n",
       "      <td>0.081914</td>\n",
       "    </tr>\n",
       "    <tr>\n",
       "      <th>1</th>\n",
       "      <td>2016</td>\n",
       "      <td>childhood asthma</td>\n",
       "      <td>06-17</td>\n",
       "      <td>0.128593</td>\n",
       "      <td>0.159966</td>\n",
       "    </tr>\n",
       "    <tr>\n",
       "      <th>2</th>\n",
       "      <td>2016</td>\n",
       "      <td>childhood asthma</td>\n",
       "      <td>18-64</td>\n",
       "      <td>0.448432</td>\n",
       "      <td>0.393522</td>\n",
       "    </tr>\n",
       "    <tr>\n",
       "      <th>3</th>\n",
       "      <td>2016</td>\n",
       "      <td>childhood asthma</td>\n",
       "      <td>65+</td>\n",
       "      <td>0.026935</td>\n",
       "      <td>0.115791</td>\n",
       "    </tr>\n",
       "    <tr>\n",
       "      <th>4</th>\n",
       "      <td>2016</td>\n",
       "      <td>childhood asthma</td>\n",
       "      <td>total</td>\n",
       "      <td>0.605831</td>\n",
       "      <td>0.447846</td>\n",
       "    </tr>\n",
       "    <tr>\n",
       "      <th>...</th>\n",
       "      <td>...</td>\n",
       "      <td>...</td>\n",
       "      <td>...</td>\n",
       "      <td>...</td>\n",
       "      <td>...</td>\n",
       "    </tr>\n",
       "    <tr>\n",
       "      <th>1675</th>\n",
       "      <td>2050</td>\n",
       "      <td>lung cancer</td>\n",
       "      <td>06-17</td>\n",
       "      <td>-0.007621</td>\n",
       "      <td>0.018315</td>\n",
       "    </tr>\n",
       "    <tr>\n",
       "      <th>1676</th>\n",
       "      <td>2050</td>\n",
       "      <td>lung cancer</td>\n",
       "      <td>18-64</td>\n",
       "      <td>4.976468</td>\n",
       "      <td>0.848647</td>\n",
       "    </tr>\n",
       "    <tr>\n",
       "      <th>1677</th>\n",
       "      <td>2050</td>\n",
       "      <td>lung cancer</td>\n",
       "      <td>65+</td>\n",
       "      <td>10.574992</td>\n",
       "      <td>1.397158</td>\n",
       "    </tr>\n",
       "    <tr>\n",
       "      <th>1678</th>\n",
       "      <td>2050</td>\n",
       "      <td>lung cancer</td>\n",
       "      <td>total</td>\n",
       "      <td>15.543840</td>\n",
       "      <td>1.634804</td>\n",
       "    </tr>\n",
       "    <tr>\n",
       "      <th>1679</th>\n",
       "      <td>2050</td>\n",
       "      <td>total</td>\n",
       "      <td>total</td>\n",
       "      <td>62.941512</td>\n",
       "      <td>1.679849</td>\n",
       "    </tr>\n",
       "  </tbody>\n",
       "</table>\n",
       "<p>1463 rows × 5 columns</p>\n",
       "</div>"
      ],
      "text/plain": [
       "      Year           Disease AgeGroup  Hospitalisations Avoided  \\\n",
       "0     2016  childhood asthma      0-5                  0.001871   \n",
       "1     2016  childhood asthma    06-17                  0.128593   \n",
       "2     2016  childhood asthma    18-64                  0.448432   \n",
       "3     2016  childhood asthma      65+                  0.026935   \n",
       "4     2016  childhood asthma    total                  0.605831   \n",
       "...    ...               ...      ...                       ...   \n",
       "1675  2050       lung cancer    06-17                 -0.007621   \n",
       "1676  2050       lung cancer    18-64                  4.976468   \n",
       "1677  2050       lung cancer      65+                 10.574992   \n",
       "1678  2050       lung cancer    total                 15.543840   \n",
       "1679  2050             total    total                 62.941512   \n",
       "\n",
       "      Confidence Level  \n",
       "0             0.081914  \n",
       "1             0.159966  \n",
       "2             0.393522  \n",
       "3             0.115791  \n",
       "4             0.447846  \n",
       "...                ...  \n",
       "1675          0.018315  \n",
       "1676          0.848647  \n",
       "1677          1.397158  \n",
       "1678          1.634804  \n",
       "1679          1.679849  \n",
       "\n",
       "[1463 rows x 5 columns]"
      ]
     },
     "execution_count": 36,
     "metadata": {},
     "output_type": "execute_result"
    }
   ],
   "source": [
    "(air_pollution_tower.drop_duplicates())"
   ]
  },
  {
   "cell_type": "markdown",
   "id": "ef2e9d47-bc7d-47ec-947f-6c02c842671e",
   "metadata": {},
   "source": [
    "# Filtering and Shaping the Data for Tower Hamlets"
   ]
  },
  {
   "cell_type": "code",
   "execution_count": 37,
   "id": "43958f7c-3b6e-4fe4-a021-24c6ca8885b6",
   "metadata": {},
   "outputs": [
    {
     "data": {
      "text/html": [
       "<div>\n",
       "<style scoped>\n",
       "    .dataframe tbody tr th:only-of-type {\n",
       "        vertical-align: middle;\n",
       "    }\n",
       "\n",
       "    .dataframe tbody tr th {\n",
       "        vertical-align: top;\n",
       "    }\n",
       "\n",
       "    .dataframe thead th {\n",
       "        text-align: right;\n",
       "    }\n",
       "</style>\n",
       "<table border=\"1\" class=\"dataframe\">\n",
       "  <thead>\n",
       "    <tr style=\"text-align: right;\">\n",
       "      <th></th>\n",
       "      <th>Year</th>\n",
       "      <th>Disease</th>\n",
       "      <th>AgeGroup</th>\n",
       "      <th>Hospitalisations Avoided</th>\n",
       "      <th>Confidence Level</th>\n",
       "    </tr>\n",
       "  </thead>\n",
       "  <tbody>\n",
       "    <tr>\n",
       "      <th>0</th>\n",
       "      <td>2016</td>\n",
       "      <td>childhood asthma</td>\n",
       "      <td>0-5</td>\n",
       "      <td>0.001871</td>\n",
       "      <td>0.081914</td>\n",
       "    </tr>\n",
       "    <tr>\n",
       "      <th>1</th>\n",
       "      <td>2016</td>\n",
       "      <td>childhood asthma</td>\n",
       "      <td>06-17</td>\n",
       "      <td>0.128593</td>\n",
       "      <td>0.159966</td>\n",
       "    </tr>\n",
       "    <tr>\n",
       "      <th>2</th>\n",
       "      <td>2016</td>\n",
       "      <td>childhood asthma</td>\n",
       "      <td>18-64</td>\n",
       "      <td>0.448432</td>\n",
       "      <td>0.393522</td>\n",
       "    </tr>\n",
       "    <tr>\n",
       "      <th>3</th>\n",
       "      <td>2016</td>\n",
       "      <td>childhood asthma</td>\n",
       "      <td>65+</td>\n",
       "      <td>0.026935</td>\n",
       "      <td>0.115791</td>\n",
       "    </tr>\n",
       "    <tr>\n",
       "      <th>4</th>\n",
       "      <td>2016</td>\n",
       "      <td>childhood asthma</td>\n",
       "      <td>total</td>\n",
       "      <td>0.605831</td>\n",
       "      <td>0.447846</td>\n",
       "    </tr>\n",
       "  </tbody>\n",
       "</table>\n",
       "</div>"
      ],
      "text/plain": [
       "   Year           Disease AgeGroup  Hospitalisations Avoided  Confidence Level\n",
       "0  2016  childhood asthma      0-5                  0.001871          0.081914\n",
       "1  2016  childhood asthma    06-17                  0.128593          0.159966\n",
       "2  2016  childhood asthma    18-64                  0.448432          0.393522\n",
       "3  2016  childhood asthma      65+                  0.026935          0.115791\n",
       "4  2016  childhood asthma    total                  0.605831          0.447846"
      ]
     },
     "execution_count": 37,
     "metadata": {},
     "output_type": "execute_result"
    }
   ],
   "source": [
    "filtered_data_2016_tow = air_pollution_tower[air_pollution_tower['Year'] == 2016].iloc[:, :]\n",
    "filtered_data_2016_tow.head(5)"
   ]
  },
  {
   "cell_type": "code",
   "execution_count": 38,
   "id": "96b6fad4-35f6-4701-ae74-d39fe7aab928",
   "metadata": {},
   "outputs": [
    {
     "data": {
      "text/html": [
       "<div>\n",
       "<style scoped>\n",
       "    .dataframe tbody tr th:only-of-type {\n",
       "        vertical-align: middle;\n",
       "    }\n",
       "\n",
       "    .dataframe tbody tr th {\n",
       "        vertical-align: top;\n",
       "    }\n",
       "\n",
       "    .dataframe thead th {\n",
       "        text-align: right;\n",
       "    }\n",
       "</style>\n",
       "<table border=\"1\" class=\"dataframe\">\n",
       "  <thead>\n",
       "    <tr style=\"text-align: right;\">\n",
       "      <th></th>\n",
       "      <th>Year</th>\n",
       "      <th>Disease</th>\n",
       "      <th>AgeGroup</th>\n",
       "      <th>Hospitalisations Avoided</th>\n",
       "      <th>Confidence Level</th>\n",
       "    </tr>\n",
       "  </thead>\n",
       "  <tbody>\n",
       "    <tr>\n",
       "      <th>0</th>\n",
       "      <td>2016</td>\n",
       "      <td>childhood asthma</td>\n",
       "      <td>0-5</td>\n",
       "      <td>0.001871</td>\n",
       "      <td>0.081914</td>\n",
       "    </tr>\n",
       "    <tr>\n",
       "      <th>1</th>\n",
       "      <td>2016</td>\n",
       "      <td>childhood asthma</td>\n",
       "      <td>06-17</td>\n",
       "      <td>0.128593</td>\n",
       "      <td>0.159966</td>\n",
       "    </tr>\n",
       "    <tr>\n",
       "      <th>2</th>\n",
       "      <td>2016</td>\n",
       "      <td>childhood asthma</td>\n",
       "      <td>18-64</td>\n",
       "      <td>0.448432</td>\n",
       "      <td>0.393522</td>\n",
       "    </tr>\n",
       "    <tr>\n",
       "      <th>3</th>\n",
       "      <td>2016</td>\n",
       "      <td>childhood asthma</td>\n",
       "      <td>65+</td>\n",
       "      <td>0.026935</td>\n",
       "      <td>0.115791</td>\n",
       "    </tr>\n",
       "    <tr>\n",
       "      <th>4</th>\n",
       "      <td>2016</td>\n",
       "      <td>childhood asthma</td>\n",
       "      <td>total</td>\n",
       "      <td>0.605831</td>\n",
       "      <td>0.447846</td>\n",
       "    </tr>\n",
       "  </tbody>\n",
       "</table>\n",
       "</div>"
      ],
      "text/plain": [
       "   Year           Disease AgeGroup  Hospitalisations Avoided  Confidence Level\n",
       "0  2016  childhood asthma      0-5                  0.001871          0.081914\n",
       "1  2016  childhood asthma    06-17                  0.128593          0.159966\n",
       "2  2016  childhood asthma    18-64                  0.448432          0.393522\n",
       "3  2016  childhood asthma      65+                  0.026935          0.115791\n",
       "4  2016  childhood asthma    total                  0.605831          0.447846"
      ]
     },
     "execution_count": 38,
     "metadata": {},
     "output_type": "execute_result"
    }
   ],
   "source": [
    "filtered_data_2023_tow = air_pollution_tower[air_pollution_tower['Year'] == 2023].iloc[:, :]\n",
    "filtered_data_2016_tow.head(5)"
   ]
  },
  {
   "cell_type": "markdown",
   "id": "16866ba3-7c80-4cac-9999-2d6e9d7dffaa",
   "metadata": {},
   "source": [
    "# Descriptive Statistics Tower Hamlets"
   ]
  },
  {
   "cell_type": "code",
   "execution_count": 39,
   "id": "ef989fdb-9894-4372-8270-6bd99954bf9e",
   "metadata": {},
   "outputs": [
    {
     "data": {
      "text/plain": [
       "Year                          int64\n",
       "Disease                      object\n",
       "AgeGroup                     object\n",
       "Hospitalisations Avoided    float64\n",
       "Confidence Level            float64\n",
       "dtype: object"
      ]
     },
     "execution_count": 39,
     "metadata": {},
     "output_type": "execute_result"
    }
   ],
   "source": [
    "air_pollution_tower.dtypes"
   ]
  },
  {
   "cell_type": "code",
   "execution_count": 40,
   "id": "476e0375-38cf-4191-bb57-47e046402b5b",
   "metadata": {},
   "outputs": [
    {
     "data": {
      "text/plain": [
       "AgeGroup\n",
       "total    420\n",
       "0-5      315\n",
       "06-17    315\n",
       "18-64    315\n",
       "65+      315\n",
       "Name: count, dtype: int64"
      ]
     },
     "execution_count": 40,
     "metadata": {},
     "output_type": "execute_result"
    }
   ],
   "source": [
    "air_pollution_tower.value_counts('AgeGroup')"
   ]
  },
  {
   "cell_type": "code",
   "execution_count": 41,
   "id": "95ac1b61-48b9-401f-aa03-c5e682ebf3de",
   "metadata": {},
   "outputs": [
    {
     "data": {
      "text/plain": [
       "Disease\n",
       "adult asthma        525\n",
       "childhood asthma    525\n",
       "lung cancer         525\n",
       "total               105\n",
       "Name: count, dtype: int64"
      ]
     },
     "execution_count": 41,
     "metadata": {},
     "output_type": "execute_result"
    }
   ],
   "source": [
    "air_pollution_tower.value_counts('Disease')"
   ]
  },
  {
   "cell_type": "code",
   "execution_count": 42,
   "id": "7602d254-e1f1-449c-85b4-32870fce8f7d",
   "metadata": {},
   "outputs": [
    {
     "data": {
      "text/plain": [
       "Year                                                                  3415440\n",
       "Disease                     childhood asthmachildhood asthmachildhood asth...\n",
       "AgeGroup                    0-506-1718-6465+total0-506-1718-6465+total0-50...\n",
       "Hospitalisations Avoided                                          5773.717214\n",
       "Confidence Level                                                   703.105574\n",
       "dtype: object"
      ]
     },
     "execution_count": 42,
     "metadata": {},
     "output_type": "execute_result"
    }
   ],
   "source": [
    "air_pollution_tower.sum()"
   ]
  },
  {
   "cell_type": "code",
   "execution_count": 43,
   "id": "48b24ec7-f5c0-40fe-b8d5-792ba5427257",
   "metadata": {},
   "outputs": [
    {
     "data": {
      "text/plain": [
       "count    48.000000\n",
       "mean      0.457826\n",
       "std       1.066516\n",
       "min      -0.258759\n",
       "25%       0.000000\n",
       "50%       0.039968\n",
       "75%       0.516243\n",
       "max       5.864837\n",
       "Name: Hospitalisations Avoided, dtype: float64"
      ]
     },
     "execution_count": 43,
     "metadata": {},
     "output_type": "execute_result"
    }
   ],
   "source": [
    "filtered_data_2016_tow['Hospitalisations Avoided'].describe()"
   ]
  },
  {
   "cell_type": "code",
   "execution_count": 44,
   "id": "74e8b6a7-a988-46d2-b3cb-40d317466e0f",
   "metadata": {},
   "outputs": [
    {
     "data": {
      "text/plain": [
       "count    48.000000\n",
       "mean      1.822664\n",
       "std       3.867050\n",
       "min      -0.145409\n",
       "25%       0.001856\n",
       "50%       0.474135\n",
       "75%       1.595604\n",
       "max      23.035246\n",
       "Name: Hospitalisations Avoided, dtype: float64"
      ]
     },
     "execution_count": 44,
     "metadata": {},
     "output_type": "execute_result"
    }
   ],
   "source": [
    "filtered_data_2023_tow['Hospitalisations Avoided'].describe()"
   ]
  },
  {
   "cell_type": "code",
   "execution_count": 45,
   "id": "cbee681d-639e-4e2b-8dbc-acc892553c5d",
   "metadata": {},
   "outputs": [
    {
     "data": {
      "text/plain": [
       "0.0399675"
      ]
     },
     "execution_count": 45,
     "metadata": {},
     "output_type": "execute_result"
    }
   ],
   "source": [
    "filtered_data_2016_tow['Hospitalisations Avoided'].median()"
   ]
  },
  {
   "cell_type": "code",
   "execution_count": 46,
   "id": "bee68f87-a303-4a45-b91b-77680ac5fb04",
   "metadata": {},
   "outputs": [
    {
     "data": {
      "text/plain": [
       "0.4741345"
      ]
     },
     "execution_count": 46,
     "metadata": {},
     "output_type": "execute_result"
    }
   ],
   "source": [
    "filtered_data_2023_tow['Hospitalisations Avoided'].median()"
   ]
  },
  {
   "cell_type": "markdown",
   "id": "b473a713-3b52-4fca-9091-8be7c65fc0bb",
   "metadata": {},
   "source": [
    "# Exploratory Analysis Tower Hamlets "
   ]
  },
  {
   "cell_type": "code",
   "execution_count": 47,
   "id": "457d036f-f693-4217-81d6-08f7e0d2f934",
   "metadata": {},
   "outputs": [
    {
     "data": {
      "text/html": [
       "<div>\n",
       "<style scoped>\n",
       "    .dataframe tbody tr th:only-of-type {\n",
       "        vertical-align: middle;\n",
       "    }\n",
       "\n",
       "    .dataframe tbody tr th {\n",
       "        vertical-align: top;\n",
       "    }\n",
       "\n",
       "    .dataframe thead th {\n",
       "        text-align: right;\n",
       "    }\n",
       "</style>\n",
       "<table border=\"1\" class=\"dataframe\">\n",
       "  <thead>\n",
       "    <tr style=\"text-align: right;\">\n",
       "      <th></th>\n",
       "      <th>Year</th>\n",
       "      <th>Disease</th>\n",
       "      <th>AgeGroup</th>\n",
       "      <th>Hospitalisations Avoided</th>\n",
       "      <th>Confidence Level</th>\n",
       "    </tr>\n",
       "  </thead>\n",
       "  <tbody>\n",
       "    <tr>\n",
       "      <th>0</th>\n",
       "      <td>2016</td>\n",
       "      <td>childhood asthma</td>\n",
       "      <td>0-5</td>\n",
       "      <td>0.001871</td>\n",
       "      <td>0.081914</td>\n",
       "    </tr>\n",
       "    <tr>\n",
       "      <th>1</th>\n",
       "      <td>2016</td>\n",
       "      <td>childhood asthma</td>\n",
       "      <td>06-17</td>\n",
       "      <td>0.128593</td>\n",
       "      <td>0.159966</td>\n",
       "    </tr>\n",
       "    <tr>\n",
       "      <th>2</th>\n",
       "      <td>2016</td>\n",
       "      <td>childhood asthma</td>\n",
       "      <td>18-64</td>\n",
       "      <td>0.448432</td>\n",
       "      <td>0.393522</td>\n",
       "    </tr>\n",
       "    <tr>\n",
       "      <th>3</th>\n",
       "      <td>2016</td>\n",
       "      <td>childhood asthma</td>\n",
       "      <td>65+</td>\n",
       "      <td>0.026935</td>\n",
       "      <td>0.115791</td>\n",
       "    </tr>\n",
       "    <tr>\n",
       "      <th>4</th>\n",
       "      <td>2016</td>\n",
       "      <td>childhood asthma</td>\n",
       "      <td>total</td>\n",
       "      <td>0.605831</td>\n",
       "      <td>0.447846</td>\n",
       "    </tr>\n",
       "  </tbody>\n",
       "</table>\n",
       "</div>"
      ],
      "text/plain": [
       "   Year           Disease AgeGroup  Hospitalisations Avoided  Confidence Level\n",
       "0  2016  childhood asthma      0-5                  0.001871          0.081914\n",
       "1  2016  childhood asthma    06-17                  0.128593          0.159966\n",
       "2  2016  childhood asthma    18-64                  0.448432          0.393522\n",
       "3  2016  childhood asthma      65+                  0.026935          0.115791\n",
       "4  2016  childhood asthma    total                  0.605831          0.447846"
      ]
     },
     "execution_count": 47,
     "metadata": {},
     "output_type": "execute_result"
    }
   ],
   "source": [
    "air_pollution_tower.head(5)"
   ]
  },
  {
   "cell_type": "code",
   "execution_count": 48,
   "id": "4798cdfe-a0d5-4086-9f1d-034d6e177918",
   "metadata": {},
   "outputs": [
    {
     "name": "stdout",
     "output_type": "stream",
     "text": [
      "<class 'pandas.core.frame.DataFrame'>\n",
      "RangeIndex: 1680 entries, 0 to 1679\n",
      "Data columns (total 5 columns):\n",
      " #   Column                    Non-Null Count  Dtype  \n",
      "---  ------                    --------------  -----  \n",
      " 0   Year                      1680 non-null   int64  \n",
      " 1   Disease                   1680 non-null   object \n",
      " 2   AgeGroup                  1680 non-null   object \n",
      " 3   Hospitalisations Avoided  1680 non-null   float64\n",
      " 4   Confidence Level          1680 non-null   float64\n",
      "dtypes: float64(2), int64(1), object(2)\n",
      "memory usage: 65.8+ KB\n"
     ]
    }
   ],
   "source": [
    "info = air_pollution_tower.info()\n",
    "info"
   ]
  },
  {
   "cell_type": "code",
   "execution_count": 49,
   "id": "8fd6f791-5044-4bad-8446-472c8d09058c",
   "metadata": {},
   "outputs": [
    {
     "data": {
      "text/plain": [
       "(1680, 5)"
      ]
     },
     "execution_count": 49,
     "metadata": {},
     "output_type": "execute_result"
    }
   ],
   "source": [
    "air_pollution_tower.shape"
   ]
  },
  {
   "cell_type": "code",
   "execution_count": 50,
   "id": "83ec5fdc-f50a-4ebc-80c2-1011fb92e037",
   "metadata": {},
   "outputs": [
    {
     "data": {
      "text/html": [
       "<div>\n",
       "<style scoped>\n",
       "    .dataframe tbody tr th:only-of-type {\n",
       "        vertical-align: middle;\n",
       "    }\n",
       "\n",
       "    .dataframe tbody tr th {\n",
       "        vertical-align: top;\n",
       "    }\n",
       "\n",
       "    .dataframe thead th {\n",
       "        text-align: right;\n",
       "    }\n",
       "</style>\n",
       "<table border=\"1\" class=\"dataframe\">\n",
       "  <thead>\n",
       "    <tr style=\"text-align: right;\">\n",
       "      <th></th>\n",
       "      <th>Year</th>\n",
       "      <th>Hospitalisations Avoided</th>\n",
       "      <th>Confidence Level</th>\n",
       "    </tr>\n",
       "  </thead>\n",
       "  <tbody>\n",
       "    <tr>\n",
       "      <th>count</th>\n",
       "      <td>1680.000000</td>\n",
       "      <td>1.680000e+03</td>\n",
       "      <td>1680.000000</td>\n",
       "    </tr>\n",
       "    <tr>\n",
       "      <th>mean</th>\n",
       "      <td>2033.000000</td>\n",
       "      <td>3.436736e+00</td>\n",
       "      <td>0.418515</td>\n",
       "    </tr>\n",
       "    <tr>\n",
       "      <th>std</th>\n",
       "      <td>10.102512</td>\n",
       "      <td>7.327952e+00</td>\n",
       "      <td>0.549777</td>\n",
       "    </tr>\n",
       "    <tr>\n",
       "      <th>min</th>\n",
       "      <td>2016.000000</td>\n",
       "      <td>-2.587590e-01</td>\n",
       "      <td>0.000000</td>\n",
       "    </tr>\n",
       "    <tr>\n",
       "      <th>25%</th>\n",
       "      <td>2024.000000</td>\n",
       "      <td>7.500000e-07</td>\n",
       "      <td>0.050445</td>\n",
       "    </tr>\n",
       "    <tr>\n",
       "      <th>50%</th>\n",
       "      <td>2033.000000</td>\n",
       "      <td>7.374260e-01</td>\n",
       "      <td>0.133578</td>\n",
       "    </tr>\n",
       "    <tr>\n",
       "      <th>75%</th>\n",
       "      <td>2042.000000</td>\n",
       "      <td>3.552594e+00</td>\n",
       "      <td>0.543688</td>\n",
       "    </tr>\n",
       "    <tr>\n",
       "      <th>max</th>\n",
       "      <td>2050.000000</td>\n",
       "      <td>6.294151e+01</td>\n",
       "      <td>1.702029</td>\n",
       "    </tr>\n",
       "  </tbody>\n",
       "</table>\n",
       "</div>"
      ],
      "text/plain": [
       "              Year  Hospitalisations Avoided  Confidence Level\n",
       "count  1680.000000              1.680000e+03       1680.000000\n",
       "mean   2033.000000              3.436736e+00          0.418515\n",
       "std      10.102512              7.327952e+00          0.549777\n",
       "min    2016.000000             -2.587590e-01          0.000000\n",
       "25%    2024.000000              7.500000e-07          0.050445\n",
       "50%    2033.000000              7.374260e-01          0.133578\n",
       "75%    2042.000000              3.552594e+00          0.543688\n",
       "max    2050.000000              6.294151e+01          1.702029"
      ]
     },
     "execution_count": 50,
     "metadata": {},
     "output_type": "execute_result"
    }
   ],
   "source": [
    "air_pollution_tower.describe()"
   ]
  },
  {
   "cell_type": "markdown",
   "id": "7cba18e6-58f1-4d86-8691-d56b0c66f142",
   "metadata": {},
   "source": [
    "# Combined Data Sorting, Merging, Concat"
   ]
  },
  {
   "cell_type": "code",
   "execution_count": 51,
   "id": "c1da3298-5a42-43c8-a997-c5179c705c8d",
   "metadata": {},
   "outputs": [
    {
     "data": {
      "text/html": [
       "<div>\n",
       "<style scoped>\n",
       "    .dataframe tbody tr th:only-of-type {\n",
       "        vertical-align: middle;\n",
       "    }\n",
       "\n",
       "    .dataframe tbody tr th {\n",
       "        vertical-align: top;\n",
       "    }\n",
       "\n",
       "    .dataframe thead th {\n",
       "        text-align: right;\n",
       "    }\n",
       "</style>\n",
       "<table border=\"1\" class=\"dataframe\">\n",
       "  <thead>\n",
       "    <tr style=\"text-align: right;\">\n",
       "      <th></th>\n",
       "      <th>Year</th>\n",
       "      <th>Disease</th>\n",
       "      <th>AgeGroup</th>\n",
       "      <th>Hospitalisations Avoided</th>\n",
       "      <th>Confidence Level</th>\n",
       "    </tr>\n",
       "  </thead>\n",
       "  <tbody>\n",
       "    <tr>\n",
       "      <th>5</th>\n",
       "      <td>2016</td>\n",
       "      <td>adult asthma</td>\n",
       "      <td>0-5</td>\n",
       "      <td>0.0</td>\n",
       "      <td>0.0</td>\n",
       "    </tr>\n",
       "    <tr>\n",
       "      <th>21</th>\n",
       "      <td>2017</td>\n",
       "      <td>adult asthma</td>\n",
       "      <td>0-5</td>\n",
       "      <td>0.0</td>\n",
       "      <td>0.0</td>\n",
       "    </tr>\n",
       "    <tr>\n",
       "      <th>37</th>\n",
       "      <td>2018</td>\n",
       "      <td>adult asthma</td>\n",
       "      <td>0-5</td>\n",
       "      <td>0.0</td>\n",
       "      <td>0.0</td>\n",
       "    </tr>\n",
       "    <tr>\n",
       "      <th>53</th>\n",
       "      <td>2019</td>\n",
       "      <td>adult asthma</td>\n",
       "      <td>0-5</td>\n",
       "      <td>0.0</td>\n",
       "      <td>0.0</td>\n",
       "    </tr>\n",
       "    <tr>\n",
       "      <th>69</th>\n",
       "      <td>2020</td>\n",
       "      <td>adult asthma</td>\n",
       "      <td>0-5</td>\n",
       "      <td>0.0</td>\n",
       "      <td>0.0</td>\n",
       "    </tr>\n",
       "  </tbody>\n",
       "</table>\n",
       "</div>"
      ],
      "text/plain": [
       "    Year       Disease AgeGroup  Hospitalisations Avoided  Confidence Level\n",
       "5   2016  adult asthma      0-5                       0.0               0.0\n",
       "21  2017  adult asthma      0-5                       0.0               0.0\n",
       "37  2018  adult asthma      0-5                       0.0               0.0\n",
       "53  2019  adult asthma      0-5                       0.0               0.0\n",
       "69  2020  adult asthma      0-5                       0.0               0.0"
      ]
     },
     "execution_count": 51,
     "metadata": {},
     "output_type": "execute_result"
    }
   ],
   "source": [
    "all_results_hammer = air_pollution_tower.sort_values(by=['Disease','AgeGroup','Hospitalisations Avoided'],ascending=True,inplace=False)\n",
    "all_results_hammer.head(5)"
   ]
  },
  {
   "cell_type": "code",
   "execution_count": 52,
   "id": "65206dd2-59f5-40d1-a930-5485085b5df6",
   "metadata": {},
   "outputs": [
    {
     "data": {
      "text/html": [
       "<div>\n",
       "<style scoped>\n",
       "    .dataframe tbody tr th:only-of-type {\n",
       "        vertical-align: middle;\n",
       "    }\n",
       "\n",
       "    .dataframe tbody tr th {\n",
       "        vertical-align: top;\n",
       "    }\n",
       "\n",
       "    .dataframe thead th {\n",
       "        text-align: right;\n",
       "    }\n",
       "</style>\n",
       "<table border=\"1\" class=\"dataframe\">\n",
       "  <thead>\n",
       "    <tr style=\"text-align: right;\">\n",
       "      <th></th>\n",
       "      <th>Year</th>\n",
       "      <th>Disease</th>\n",
       "      <th>AgeGroup</th>\n",
       "      <th>Hospitalisations Avoided</th>\n",
       "      <th>Confidence Level</th>\n",
       "    </tr>\n",
       "  </thead>\n",
       "  <tbody>\n",
       "    <tr>\n",
       "      <th>5</th>\n",
       "      <td>2016</td>\n",
       "      <td>adult asthma</td>\n",
       "      <td>0-5</td>\n",
       "      <td>0.0</td>\n",
       "      <td>0.0</td>\n",
       "    </tr>\n",
       "    <tr>\n",
       "      <th>21</th>\n",
       "      <td>2017</td>\n",
       "      <td>adult asthma</td>\n",
       "      <td>0-5</td>\n",
       "      <td>0.0</td>\n",
       "      <td>0.0</td>\n",
       "    </tr>\n",
       "    <tr>\n",
       "      <th>37</th>\n",
       "      <td>2018</td>\n",
       "      <td>adult asthma</td>\n",
       "      <td>0-5</td>\n",
       "      <td>0.0</td>\n",
       "      <td>0.0</td>\n",
       "    </tr>\n",
       "    <tr>\n",
       "      <th>53</th>\n",
       "      <td>2019</td>\n",
       "      <td>adult asthma</td>\n",
       "      <td>0-5</td>\n",
       "      <td>0.0</td>\n",
       "      <td>0.0</td>\n",
       "    </tr>\n",
       "    <tr>\n",
       "      <th>69</th>\n",
       "      <td>2020</td>\n",
       "      <td>adult asthma</td>\n",
       "      <td>0-5</td>\n",
       "      <td>0.0</td>\n",
       "      <td>0.0</td>\n",
       "    </tr>\n",
       "  </tbody>\n",
       "</table>\n",
       "</div>"
      ],
      "text/plain": [
       "    Year       Disease AgeGroup  Hospitalisations Avoided  Confidence Level\n",
       "5   2016  adult asthma      0-5                       0.0               0.0\n",
       "21  2017  adult asthma      0-5                       0.0               0.0\n",
       "37  2018  adult asthma      0-5                       0.0               0.0\n",
       "53  2019  adult asthma      0-5                       0.0               0.0\n",
       "69  2020  adult asthma      0-5                       0.0               0.0"
      ]
     },
     "execution_count": 52,
     "metadata": {},
     "output_type": "execute_result"
    }
   ],
   "source": [
    "all_results_tower = air_pollution_tower.sort_values(by=['Disease','AgeGroup','Hospitalisations Avoided'],ascending=True,inplace=False)\n",
    "all_results_tower.head(5)"
   ]
  },
  {
   "cell_type": "code",
   "execution_count": 53,
   "id": "a5d66f7c-c54d-48b7-b445-359b99e3af1d",
   "metadata": {},
   "outputs": [
    {
     "data": {
      "text/html": [
       "<div>\n",
       "<style scoped>\n",
       "    .dataframe tbody tr th:only-of-type {\n",
       "        vertical-align: middle;\n",
       "    }\n",
       "\n",
       "    .dataframe tbody tr th {\n",
       "        vertical-align: top;\n",
       "    }\n",
       "\n",
       "    .dataframe thead th {\n",
       "        text-align: right;\n",
       "    }\n",
       "</style>\n",
       "<table border=\"1\" class=\"dataframe\">\n",
       "  <thead>\n",
       "    <tr style=\"text-align: right;\">\n",
       "      <th></th>\n",
       "      <th>Scenario</th>\n",
       "      <th>Year</th>\n",
       "      <th>Disease</th>\n",
       "      <th>AgeGroup</th>\n",
       "      <th>Hospitalisations Avoided</th>\n",
       "      <th>Confidence Level</th>\n",
       "      <th>Year</th>\n",
       "      <th>Disease</th>\n",
       "      <th>AgeGroup</th>\n",
       "      <th>Hospitalisations Avoided</th>\n",
       "      <th>Confidence Level</th>\n",
       "    </tr>\n",
       "  </thead>\n",
       "  <tbody>\n",
       "    <tr>\n",
       "      <th>0</th>\n",
       "      <td>1</td>\n",
       "      <td>2016</td>\n",
       "      <td>childhood asthma</td>\n",
       "      <td>0-5</td>\n",
       "      <td>-0.005139</td>\n",
       "      <td>0.076051</td>\n",
       "      <td>2016</td>\n",
       "      <td>childhood asthma</td>\n",
       "      <td>0-5</td>\n",
       "      <td>0.001871</td>\n",
       "      <td>0.081914</td>\n",
       "    </tr>\n",
       "    <tr>\n",
       "      <th>1</th>\n",
       "      <td>1</td>\n",
       "      <td>2016</td>\n",
       "      <td>childhood asthma</td>\n",
       "      <td>06-17</td>\n",
       "      <td>0.086805</td>\n",
       "      <td>0.148457</td>\n",
       "      <td>2016</td>\n",
       "      <td>childhood asthma</td>\n",
       "      <td>06-17</td>\n",
       "      <td>0.128593</td>\n",
       "      <td>0.159966</td>\n",
       "    </tr>\n",
       "    <tr>\n",
       "      <th>2</th>\n",
       "      <td>1</td>\n",
       "      <td>2016</td>\n",
       "      <td>childhood asthma</td>\n",
       "      <td>18-64</td>\n",
       "      <td>0.294462</td>\n",
       "      <td>0.383378</td>\n",
       "      <td>2016</td>\n",
       "      <td>childhood asthma</td>\n",
       "      <td>18-64</td>\n",
       "      <td>0.448432</td>\n",
       "      <td>0.393522</td>\n",
       "    </tr>\n",
       "    <tr>\n",
       "      <th>3</th>\n",
       "      <td>1</td>\n",
       "      <td>2016</td>\n",
       "      <td>childhood asthma</td>\n",
       "      <td>65+</td>\n",
       "      <td>0.096784</td>\n",
       "      <td>0.151127</td>\n",
       "      <td>2016</td>\n",
       "      <td>childhood asthma</td>\n",
       "      <td>65+</td>\n",
       "      <td>0.026935</td>\n",
       "      <td>0.115791</td>\n",
       "    </tr>\n",
       "    <tr>\n",
       "      <th>4</th>\n",
       "      <td>1</td>\n",
       "      <td>2016</td>\n",
       "      <td>childhood asthma</td>\n",
       "      <td>total</td>\n",
       "      <td>0.472910</td>\n",
       "      <td>0.444569</td>\n",
       "      <td>2016</td>\n",
       "      <td>childhood asthma</td>\n",
       "      <td>total</td>\n",
       "      <td>0.605831</td>\n",
       "      <td>0.447846</td>\n",
       "    </tr>\n",
       "  </tbody>\n",
       "</table>\n",
       "</div>"
      ],
      "text/plain": [
       "   Scenario  Year           Disease AgeGroup  Hospitalisations Avoided  \\\n",
       "0         1  2016  childhood asthma      0-5                 -0.005139   \n",
       "1         1  2016  childhood asthma    06-17                  0.086805   \n",
       "2         1  2016  childhood asthma    18-64                  0.294462   \n",
       "3         1  2016  childhood asthma      65+                  0.096784   \n",
       "4         1  2016  childhood asthma    total                  0.472910   \n",
       "\n",
       "   Confidence Level  Year           Disease AgeGroup  \\\n",
       "0          0.076051  2016  childhood asthma      0-5   \n",
       "1          0.148457  2016  childhood asthma    06-17   \n",
       "2          0.383378  2016  childhood asthma    18-64   \n",
       "3          0.151127  2016  childhood asthma      65+   \n",
       "4          0.444569  2016  childhood asthma    total   \n",
       "\n",
       "   Hospitalisations Avoided  Confidence Level  \n",
       "0                  0.001871          0.081914  \n",
       "1                  0.128593          0.159966  \n",
       "2                  0.448432          0.393522  \n",
       "3                  0.026935          0.115791  \n",
       "4                  0.605831          0.447846  "
      ]
     },
     "execution_count": 53,
     "metadata": {},
     "output_type": "execute_result"
    }
   ],
   "source": [
    "combined_results = pd.concat([air_pollution_hammer, air_pollution_tower], axis=1).reindex(air_pollution_hammer.index)\n",
    "combined_results.head(5)"
   ]
  },
  {
   "cell_type": "code",
   "execution_count": 54,
   "id": "f3df208b-67cc-4cae-83c3-489a39520fb1",
   "metadata": {},
   "outputs": [
    {
     "data": {
      "text/html": [
       "<div>\n",
       "<style scoped>\n",
       "    .dataframe tbody tr th:only-of-type {\n",
       "        vertical-align: middle;\n",
       "    }\n",
       "\n",
       "    .dataframe tbody tr th {\n",
       "        vertical-align: top;\n",
       "    }\n",
       "\n",
       "    .dataframe thead th {\n",
       "        text-align: right;\n",
       "    }\n",
       "</style>\n",
       "<table border=\"1\" class=\"dataframe\">\n",
       "  <thead>\n",
       "    <tr style=\"text-align: right;\">\n",
       "      <th></th>\n",
       "      <th>Scenario</th>\n",
       "      <th>Year</th>\n",
       "      <th>Condition</th>\n",
       "      <th>Age</th>\n",
       "      <th>Hospitalisations Avoided</th>\n",
       "      <th>Confidence Level</th>\n",
       "      <th>Year</th>\n",
       "      <th>Condition</th>\n",
       "      <th>Age</th>\n",
       "      <th>Hospitalisations Avoided</th>\n",
       "      <th>Confidence Level</th>\n",
       "    </tr>\n",
       "  </thead>\n",
       "  <tbody>\n",
       "    <tr>\n",
       "      <th>0</th>\n",
       "      <td>1</td>\n",
       "      <td>2016</td>\n",
       "      <td>childhood asthma</td>\n",
       "      <td>0-5</td>\n",
       "      <td>-0.005139</td>\n",
       "      <td>0.076051</td>\n",
       "      <td>2016</td>\n",
       "      <td>childhood asthma</td>\n",
       "      <td>0-5</td>\n",
       "      <td>0.001871</td>\n",
       "      <td>0.081914</td>\n",
       "    </tr>\n",
       "    <tr>\n",
       "      <th>1</th>\n",
       "      <td>1</td>\n",
       "      <td>2016</td>\n",
       "      <td>childhood asthma</td>\n",
       "      <td>06-17</td>\n",
       "      <td>0.086805</td>\n",
       "      <td>0.148457</td>\n",
       "      <td>2016</td>\n",
       "      <td>childhood asthma</td>\n",
       "      <td>06-17</td>\n",
       "      <td>0.128593</td>\n",
       "      <td>0.159966</td>\n",
       "    </tr>\n",
       "    <tr>\n",
       "      <th>2</th>\n",
       "      <td>1</td>\n",
       "      <td>2016</td>\n",
       "      <td>childhood asthma</td>\n",
       "      <td>18-64</td>\n",
       "      <td>0.294462</td>\n",
       "      <td>0.383378</td>\n",
       "      <td>2016</td>\n",
       "      <td>childhood asthma</td>\n",
       "      <td>18-64</td>\n",
       "      <td>0.448432</td>\n",
       "      <td>0.393522</td>\n",
       "    </tr>\n",
       "    <tr>\n",
       "      <th>3</th>\n",
       "      <td>1</td>\n",
       "      <td>2016</td>\n",
       "      <td>childhood asthma</td>\n",
       "      <td>65+</td>\n",
       "      <td>0.096784</td>\n",
       "      <td>0.151127</td>\n",
       "      <td>2016</td>\n",
       "      <td>childhood asthma</td>\n",
       "      <td>65+</td>\n",
       "      <td>0.026935</td>\n",
       "      <td>0.115791</td>\n",
       "    </tr>\n",
       "    <tr>\n",
       "      <th>4</th>\n",
       "      <td>1</td>\n",
       "      <td>2016</td>\n",
       "      <td>childhood asthma</td>\n",
       "      <td>total</td>\n",
       "      <td>0.472910</td>\n",
       "      <td>0.444569</td>\n",
       "      <td>2016</td>\n",
       "      <td>childhood asthma</td>\n",
       "      <td>total</td>\n",
       "      <td>0.605831</td>\n",
       "      <td>0.447846</td>\n",
       "    </tr>\n",
       "  </tbody>\n",
       "</table>\n",
       "</div>"
      ],
      "text/plain": [
       "   Scenario  Year         Condition    Age  Hospitalisations Avoided  \\\n",
       "0         1  2016  childhood asthma    0-5                 -0.005139   \n",
       "1         1  2016  childhood asthma  06-17                  0.086805   \n",
       "2         1  2016  childhood asthma  18-64                  0.294462   \n",
       "3         1  2016  childhood asthma    65+                  0.096784   \n",
       "4         1  2016  childhood asthma  total                  0.472910   \n",
       "\n",
       "   Confidence Level  Year         Condition    Age  Hospitalisations Avoided  \\\n",
       "0          0.076051  2016  childhood asthma    0-5                  0.001871   \n",
       "1          0.148457  2016  childhood asthma  06-17                  0.128593   \n",
       "2          0.383378  2016  childhood asthma  18-64                  0.448432   \n",
       "3          0.151127  2016  childhood asthma    65+                  0.026935   \n",
       "4          0.444569  2016  childhood asthma  total                  0.605831   \n",
       "\n",
       "   Confidence Level  \n",
       "0          0.081914  \n",
       "1          0.159966  \n",
       "2          0.393522  \n",
       "3          0.115791  \n",
       "4          0.447846  "
      ]
     },
     "execution_count": 54,
     "metadata": {},
     "output_type": "execute_result"
    }
   ],
   "source": [
    "combined_total_results = pd.concat([total_hospitalisations_hammer, total_hospitalisations_tower], axis=1).reindex(total_hospitalisations_hammer.index)\n",
    "combined_total_results.head(5)"
   ]
  },
  {
   "cell_type": "code",
   "execution_count": 55,
   "id": "74480d0b-4232-46ec-947a-5c29951b0169",
   "metadata": {},
   "outputs": [
    {
     "data": {
      "text/html": [
       "<div>\n",
       "<style scoped>\n",
       "    .dataframe tbody tr th:only-of-type {\n",
       "        vertical-align: middle;\n",
       "    }\n",
       "\n",
       "    .dataframe tbody tr th {\n",
       "        vertical-align: top;\n",
       "    }\n",
       "\n",
       "    .dataframe thead th {\n",
       "        text-align: right;\n",
       "    }\n",
       "</style>\n",
       "<table border=\"1\" class=\"dataframe\">\n",
       "  <thead>\n",
       "    <tr style=\"text-align: right;\">\n",
       "      <th></th>\n",
       "      <th>Scenario</th>\n",
       "      <th>Year</th>\n",
       "      <th>Condition</th>\n",
       "      <th>Age</th>\n",
       "      <th>Hospitalisations Avoided</th>\n",
       "      <th>Confidence Level</th>\n",
       "    </tr>\n",
       "  </thead>\n",
       "  <tbody>\n",
       "    <tr>\n",
       "      <th>0</th>\n",
       "      <td>1</td>\n",
       "      <td>2016</td>\n",
       "      <td>childhood asthma</td>\n",
       "      <td>0-5</td>\n",
       "      <td>-0.005139</td>\n",
       "      <td>0.076051</td>\n",
       "    </tr>\n",
       "    <tr>\n",
       "      <th>1</th>\n",
       "      <td>1</td>\n",
       "      <td>2016</td>\n",
       "      <td>childhood asthma</td>\n",
       "      <td>06-17</td>\n",
       "      <td>0.086805</td>\n",
       "      <td>0.148457</td>\n",
       "    </tr>\n",
       "    <tr>\n",
       "      <th>2</th>\n",
       "      <td>1</td>\n",
       "      <td>2016</td>\n",
       "      <td>childhood asthma</td>\n",
       "      <td>18-64</td>\n",
       "      <td>0.294462</td>\n",
       "      <td>0.383378</td>\n",
       "    </tr>\n",
       "    <tr>\n",
       "      <th>3</th>\n",
       "      <td>1</td>\n",
       "      <td>2016</td>\n",
       "      <td>childhood asthma</td>\n",
       "      <td>65+</td>\n",
       "      <td>0.096784</td>\n",
       "      <td>0.151127</td>\n",
       "    </tr>\n",
       "  </tbody>\n",
       "</table>\n",
       "</div>"
      ],
      "text/plain": [
       "   Scenario  Year         Condition    Age  Hospitalisations Avoided  \\\n",
       "0         1  2016  childhood asthma    0-5                 -0.005139   \n",
       "1         1  2016  childhood asthma  06-17                  0.086805   \n",
       "2         1  2016  childhood asthma  18-64                  0.294462   \n",
       "3         1  2016  childhood asthma    65+                  0.096784   \n",
       "\n",
       "   Confidence Level  \n",
       "0          0.076051  \n",
       "1          0.148457  \n",
       "2          0.383378  \n",
       "3          0.151127  "
      ]
     },
     "execution_count": 55,
     "metadata": {},
     "output_type": "execute_result"
    }
   ],
   "source": [
    "sliced_list_ham = (total_hospitalisations_hammer).iloc[0:4] \n",
    "sliced_list_ham"
   ]
  },
  {
   "cell_type": "code",
   "execution_count": 56,
   "id": "5fd11543-37a5-451f-967d-f1872f32769d",
   "metadata": {},
   "outputs": [
    {
     "data": {
      "text/html": [
       "<div>\n",
       "<style scoped>\n",
       "    .dataframe tbody tr th:only-of-type {\n",
       "        vertical-align: middle;\n",
       "    }\n",
       "\n",
       "    .dataframe tbody tr th {\n",
       "        vertical-align: top;\n",
       "    }\n",
       "\n",
       "    .dataframe thead th {\n",
       "        text-align: right;\n",
       "    }\n",
       "</style>\n",
       "<table border=\"1\" class=\"dataframe\">\n",
       "  <thead>\n",
       "    <tr style=\"text-align: right;\">\n",
       "      <th></th>\n",
       "      <th>Year</th>\n",
       "      <th>Condition</th>\n",
       "      <th>Age</th>\n",
       "      <th>Hospitalisations Avoided</th>\n",
       "      <th>Confidence Level</th>\n",
       "    </tr>\n",
       "  </thead>\n",
       "  <tbody>\n",
       "    <tr>\n",
       "      <th>0</th>\n",
       "      <td>2016</td>\n",
       "      <td>childhood asthma</td>\n",
       "      <td>0-5</td>\n",
       "      <td>0.001871</td>\n",
       "      <td>0.081914</td>\n",
       "    </tr>\n",
       "    <tr>\n",
       "      <th>1</th>\n",
       "      <td>2016</td>\n",
       "      <td>childhood asthma</td>\n",
       "      <td>06-17</td>\n",
       "      <td>0.128593</td>\n",
       "      <td>0.159966</td>\n",
       "    </tr>\n",
       "    <tr>\n",
       "      <th>2</th>\n",
       "      <td>2016</td>\n",
       "      <td>childhood asthma</td>\n",
       "      <td>18-64</td>\n",
       "      <td>0.448432</td>\n",
       "      <td>0.393522</td>\n",
       "    </tr>\n",
       "    <tr>\n",
       "      <th>3</th>\n",
       "      <td>2016</td>\n",
       "      <td>childhood asthma</td>\n",
       "      <td>65+</td>\n",
       "      <td>0.026935</td>\n",
       "      <td>0.115791</td>\n",
       "    </tr>\n",
       "  </tbody>\n",
       "</table>\n",
       "</div>"
      ],
      "text/plain": [
       "   Year         Condition    Age  Hospitalisations Avoided  Confidence Level\n",
       "0  2016  childhood asthma    0-5                  0.001871          0.081914\n",
       "1  2016  childhood asthma  06-17                  0.128593          0.159966\n",
       "2  2016  childhood asthma  18-64                  0.448432          0.393522\n",
       "3  2016  childhood asthma    65+                  0.026935          0.115791"
      ]
     },
     "execution_count": 56,
     "metadata": {},
     "output_type": "execute_result"
    }
   ],
   "source": [
    "sliced_list_tow = (total_hospitalisations_tower).iloc[0:4] \n",
    "sliced_list_tow"
   ]
  },
  {
   "cell_type": "markdown",
   "id": "0867a599-145f-40bc-8e1f-36820b74f15a",
   "metadata": {},
   "source": [
    "# Total Conditons in Hammersmith and Fulham"
   ]
  },
  {
   "cell_type": "code",
   "execution_count": 57,
   "id": "bebc13b7-6db9-4033-9aee-78eb3ff71932",
   "metadata": {},
   "outputs": [
    {
     "data": {
      "text/html": [
       "<div>\n",
       "<style scoped>\n",
       "    .dataframe tbody tr th:only-of-type {\n",
       "        vertical-align: middle;\n",
       "    }\n",
       "\n",
       "    .dataframe tbody tr th {\n",
       "        vertical-align: top;\n",
       "    }\n",
       "\n",
       "    .dataframe thead th {\n",
       "        text-align: right;\n",
       "    }\n",
       "</style>\n",
       "<table border=\"1\" class=\"dataframe\">\n",
       "  <thead>\n",
       "    <tr style=\"text-align: right;\">\n",
       "      <th></th>\n",
       "      <th>Conditions</th>\n",
       "      <th>Total Hospitalisations Avoided Hammersmith 2016</th>\n",
       "    </tr>\n",
       "  </thead>\n",
       "  <tbody>\n",
       "    <tr>\n",
       "      <th>0</th>\n",
       "      <td>childhood asthma</td>\n",
       "      <td>0.444569</td>\n",
       "    </tr>\n",
       "    <tr>\n",
       "      <th>1</th>\n",
       "      <td>adult asthma</td>\n",
       "      <td>0.171604</td>\n",
       "    </tr>\n",
       "    <tr>\n",
       "      <th>2</th>\n",
       "      <td>lung cancer</td>\n",
       "      <td>1.788922</td>\n",
       "    </tr>\n",
       "  </tbody>\n",
       "</table>\n",
       "</div>"
      ],
      "text/plain": [
       "         Conditions  Total Hospitalisations Avoided Hammersmith 2016\n",
       "0  childhood asthma                                         0.444569\n",
       "1      adult asthma                                         0.171604\n",
       "2       lung cancer                                         1.788922"
      ]
     },
     "execution_count": 57,
     "metadata": {},
     "output_type": "execute_result"
    }
   ],
   "source": [
    "total_conditions_2016_ham = pd.DataFrame({'Conditions': ['childhood asthma','adult asthma','lung cancer'],\n",
    "                                      'Total Hospitalisations Avoided Hammersmith 2016':[0.444569,0.171604,1.788922]})\n",
    "total_conditions_2016_ham"
   ]
  },
  {
   "cell_type": "code",
   "execution_count": 58,
   "id": "b8b1c96d-505b-46ca-9585-13bf60235de5",
   "metadata": {},
   "outputs": [
    {
     "data": {
      "text/html": [
       "<div>\n",
       "<style scoped>\n",
       "    .dataframe tbody tr th:only-of-type {\n",
       "        vertical-align: middle;\n",
       "    }\n",
       "\n",
       "    .dataframe tbody tr th {\n",
       "        vertical-align: top;\n",
       "    }\n",
       "\n",
       "    .dataframe thead th {\n",
       "        text-align: right;\n",
       "    }\n",
       "</style>\n",
       "<table border=\"1\" class=\"dataframe\">\n",
       "  <thead>\n",
       "    <tr style=\"text-align: right;\">\n",
       "      <th></th>\n",
       "      <th>Conditions</th>\n",
       "      <th>Total Hospitalisations Avoided Hammersmith 2023</th>\n",
       "    </tr>\n",
       "  </thead>\n",
       "  <tbody>\n",
       "    <tr>\n",
       "      <th>0</th>\n",
       "      <td>childhood asthma</td>\n",
       "      <td>0.42317</td>\n",
       "    </tr>\n",
       "    <tr>\n",
       "      <th>1</th>\n",
       "      <td>adult asthma</td>\n",
       "      <td>0.16485</td>\n",
       "    </tr>\n",
       "    <tr>\n",
       "      <th>2</th>\n",
       "      <td>lung cancer</td>\n",
       "      <td>1.89977</td>\n",
       "    </tr>\n",
       "  </tbody>\n",
       "</table>\n",
       "</div>"
      ],
      "text/plain": [
       "         Conditions  Total Hospitalisations Avoided Hammersmith 2023\n",
       "0  childhood asthma                                          0.42317\n",
       "1      adult asthma                                          0.16485\n",
       "2       lung cancer                                          1.89977"
      ]
     },
     "execution_count": 58,
     "metadata": {},
     "output_type": "execute_result"
    }
   ],
   "source": [
    "total_conditions_2023_ham = pd.DataFrame({'Conditions': ['childhood asthma','adult asthma','lung cancer'],\n",
    "                                      'Total Hospitalisations Avoided Hammersmith 2023':[0.42317,0.16485,1.89977]})\n",
    "total_conditions_2023_ham"
   ]
  },
  {
   "cell_type": "markdown",
   "id": "9ab36257-8934-483e-a157-afcdeb341050",
   "metadata": {},
   "source": [
    "# Total Conditons in Tower Hamlets¶"
   ]
  },
  {
   "cell_type": "code",
   "execution_count": 59,
   "id": "cb1725ca-3a5b-4116-a7ff-2f3bb0639a2c",
   "metadata": {},
   "outputs": [
    {
     "data": {
      "text/html": [
       "<div>\n",
       "<style scoped>\n",
       "    .dataframe tbody tr th:only-of-type {\n",
       "        vertical-align: middle;\n",
       "    }\n",
       "\n",
       "    .dataframe tbody tr th {\n",
       "        vertical-align: top;\n",
       "    }\n",
       "\n",
       "    .dataframe thead th {\n",
       "        text-align: right;\n",
       "    }\n",
       "</style>\n",
       "<table border=\"1\" class=\"dataframe\">\n",
       "  <thead>\n",
       "    <tr style=\"text-align: right;\">\n",
       "      <th></th>\n",
       "      <th>Conditions</th>\n",
       "      <th>Total Hospitalisations Avoided Tower Ham 2016</th>\n",
       "    </tr>\n",
       "  </thead>\n",
       "  <tbody>\n",
       "    <tr>\n",
       "      <th>0</th>\n",
       "      <td>childhood asthma</td>\n",
       "      <td>0.447846</td>\n",
       "    </tr>\n",
       "    <tr>\n",
       "      <th>1</th>\n",
       "      <td>adult asthma</td>\n",
       "      <td>0.155088</td>\n",
       "    </tr>\n",
       "    <tr>\n",
       "      <th>2</th>\n",
       "      <td>lung cancer</td>\n",
       "      <td>1.421717</td>\n",
       "    </tr>\n",
       "  </tbody>\n",
       "</table>\n",
       "</div>"
      ],
      "text/plain": [
       "         Conditions  Total Hospitalisations Avoided Tower Ham 2016\n",
       "0  childhood asthma                                       0.447846\n",
       "1      adult asthma                                       0.155088\n",
       "2       lung cancer                                       1.421717"
      ]
     },
     "execution_count": 59,
     "metadata": {},
     "output_type": "execute_result"
    }
   ],
   "source": [
    "total_conditions_2016_tow = pd.DataFrame({'Conditions': ['childhood asthma','adult asthma','lung cancer'],\n",
    "                                      'Total Hospitalisations Avoided Tower Ham 2016':[0.447846,0.155088,1.421717]})\n",
    "total_conditions_2016_tow"
   ]
  },
  {
   "cell_type": "code",
   "execution_count": 60,
   "id": "faa75726-59cf-485f-954d-aa6e17192e23",
   "metadata": {},
   "outputs": [
    {
     "data": {
      "text/html": [
       "<div>\n",
       "<style scoped>\n",
       "    .dataframe tbody tr th:only-of-type {\n",
       "        vertical-align: middle;\n",
       "    }\n",
       "\n",
       "    .dataframe tbody tr th {\n",
       "        vertical-align: top;\n",
       "    }\n",
       "\n",
       "    .dataframe thead th {\n",
       "        text-align: right;\n",
       "    }\n",
       "</style>\n",
       "<table border=\"1\" class=\"dataframe\">\n",
       "  <thead>\n",
       "    <tr style=\"text-align: right;\">\n",
       "      <th></th>\n",
       "      <th>Conditions</th>\n",
       "      <th>Total Hospitalisations Avoided Tower Ham 2023</th>\n",
       "    </tr>\n",
       "  </thead>\n",
       "  <tbody>\n",
       "    <tr>\n",
       "      <th>0</th>\n",
       "      <td>childhood asthma</td>\n",
       "      <td>0.418027</td>\n",
       "    </tr>\n",
       "    <tr>\n",
       "      <th>1</th>\n",
       "      <td>adult asthma</td>\n",
       "      <td>0.147502</td>\n",
       "    </tr>\n",
       "    <tr>\n",
       "      <th>2</th>\n",
       "      <td>lung cancer</td>\n",
       "      <td>1.472277</td>\n",
       "    </tr>\n",
       "  </tbody>\n",
       "</table>\n",
       "</div>"
      ],
      "text/plain": [
       "         Conditions  Total Hospitalisations Avoided Tower Ham 2023\n",
       "0  childhood asthma                                       0.418027\n",
       "1      adult asthma                                       0.147502\n",
       "2       lung cancer                                       1.472277"
      ]
     },
     "execution_count": 60,
     "metadata": {},
     "output_type": "execute_result"
    }
   ],
   "source": [
    "total_conditions_2023_tow = pd.DataFrame({'Conditions': ['childhood asthma','adult asthma','lung cancer'],\n",
    "                                      'Total Hospitalisations Avoided Tower Ham 2023':[0.418027,0.147502,1.472277]})\n",
    "total_conditions_2023_tow"
   ]
  },
  {
   "cell_type": "markdown",
   "id": "47167b42-28ed-451c-94e7-fd65b36281e6",
   "metadata": {},
   "source": [
    "# Hospitalisations Avoided by Age Group for Hammersmith and Fulham"
   ]
  },
  {
   "cell_type": "code",
   "execution_count": 61,
   "id": "b941b237-dd5a-443d-bc4e-a4a144512f4b",
   "metadata": {},
   "outputs": [
    {
     "data": {
      "text/html": [
       "<div>\n",
       "<style scoped>\n",
       "    .dataframe tbody tr th:only-of-type {\n",
       "        vertical-align: middle;\n",
       "    }\n",
       "\n",
       "    .dataframe tbody tr th {\n",
       "        vertical-align: top;\n",
       "    }\n",
       "\n",
       "    .dataframe thead th {\n",
       "        text-align: right;\n",
       "    }\n",
       "</style>\n",
       "<table border=\"1\" class=\"dataframe\">\n",
       "  <thead>\n",
       "    <tr style=\"text-align: right;\">\n",
       "      <th></th>\n",
       "      <th>AgeGroup</th>\n",
       "      <th>HospitalisationsAvoided</th>\n",
       "    </tr>\n",
       "  </thead>\n",
       "  <tbody>\n",
       "    <tr>\n",
       "      <th>0</th>\n",
       "      <td>0-5</td>\n",
       "      <td>0.076051</td>\n",
       "    </tr>\n",
       "    <tr>\n",
       "      <th>1</th>\n",
       "      <td>06-17</td>\n",
       "      <td>0.171923</td>\n",
       "    </tr>\n",
       "    <tr>\n",
       "      <th>2</th>\n",
       "      <td>18-64</td>\n",
       "      <td>1.488367</td>\n",
       "    </tr>\n",
       "    <tr>\n",
       "      <th>3</th>\n",
       "      <td>65+</td>\n",
       "      <td>1.753668</td>\n",
       "    </tr>\n",
       "  </tbody>\n",
       "</table>\n",
       "</div>"
      ],
      "text/plain": [
       "  AgeGroup  HospitalisationsAvoided\n",
       "0      0-5                 0.076051\n",
       "1    06-17                 0.171923\n",
       "2    18-64                 1.488367\n",
       "3      65+                 1.753668"
      ]
     },
     "execution_count": 61,
     "metadata": {},
     "output_type": "execute_result"
    }
   ],
   "source": [
    "age_group_2016_ham = pd.DataFrame({'AgeGroup': ['0-5','06-17','18-64','65+'],\n",
    "                    'HospitalisationsAvoided':[0.076051, 0.171923, 1.488367, 1.753668]})\n",
    "age_group_2016_ham"
   ]
  },
  {
   "cell_type": "code",
   "execution_count": 62,
   "id": "194c37e8-57d5-44ea-b164-15bed78d7d04",
   "metadata": {},
   "outputs": [
    {
     "data": {
      "text/plain": [
       "AgeGroup  HospitalisationsAvoided\n",
       "0-5       0.076051                   1\n",
       "06-17     0.171923                   1\n",
       "18-64     1.488367                   1\n",
       "65+       1.753668                   1\n",
       "Name: count, dtype: int64"
      ]
     },
     "execution_count": 62,
     "metadata": {},
     "output_type": "execute_result"
    }
   ],
   "source": [
    "age_group_2016_ham.value_counts(['AgeGroup', 'HospitalisationsAvoided'])"
   ]
  },
  {
   "cell_type": "code",
   "execution_count": 63,
   "id": "3732ac81-4d9c-44cf-ae4e-ea0e3a7e47cc",
   "metadata": {},
   "outputs": [
    {
     "data": {
      "text/plain": [
       "AgeGroup\n",
       "0-5      25.0%\n",
       "06-17    25.0%\n",
       "18-64    25.0%\n",
       "65+      25.0%\n",
       "Name: proportion, dtype: object"
      ]
     },
     "execution_count": 63,
     "metadata": {},
     "output_type": "execute_result"
    }
   ],
   "source": [
    "age_group_2016_ham.AgeGroup.value_counts(normalize=True).mul(100).round(1).astype(str) + '%'"
   ]
  },
  {
   "cell_type": "code",
   "execution_count": 64,
   "id": "3faafe35-3e1e-4c59-b68d-be39a2202fd8",
   "metadata": {},
   "outputs": [
    {
     "data": {
      "text/plain": [
       "HospitalisationsAvoided\n",
       "0.076051    25.0%\n",
       "0.171923    25.0%\n",
       "1.488367    25.0%\n",
       "1.753668    25.0%\n",
       "Name: proportion, dtype: object"
      ]
     },
     "execution_count": 64,
     "metadata": {},
     "output_type": "execute_result"
    }
   ],
   "source": [
    "age_group_2016_ham.HospitalisationsAvoided.value_counts(normalize=True).mul(100).round(1).astype(str) + '%'"
   ]
  },
  {
   "cell_type": "code",
   "execution_count": 65,
   "id": "4c4e3064-47b3-4bcb-9006-edb393d81a87",
   "metadata": {},
   "outputs": [
    {
     "data": {
      "text/html": [
       "<div>\n",
       "<style scoped>\n",
       "    .dataframe tbody tr th:only-of-type {\n",
       "        vertical-align: middle;\n",
       "    }\n",
       "\n",
       "    .dataframe tbody tr th {\n",
       "        vertical-align: top;\n",
       "    }\n",
       "\n",
       "    .dataframe thead th {\n",
       "        text-align: right;\n",
       "    }\n",
       "</style>\n",
       "<table border=\"1\" class=\"dataframe\">\n",
       "  <thead>\n",
       "    <tr style=\"text-align: right;\">\n",
       "      <th></th>\n",
       "      <th>AgeGroup</th>\n",
       "      <th>HospitalisationsAvoided</th>\n",
       "    </tr>\n",
       "  </thead>\n",
       "  <tbody>\n",
       "    <tr>\n",
       "      <th>0</th>\n",
       "      <td>0-5</td>\n",
       "      <td>0.073957</td>\n",
       "    </tr>\n",
       "    <tr>\n",
       "      <th>1</th>\n",
       "      <td>06-17</td>\n",
       "      <td>0.162289</td>\n",
       "    </tr>\n",
       "    <tr>\n",
       "      <th>2</th>\n",
       "      <td>18-64</td>\n",
       "      <td>1.543517</td>\n",
       "    </tr>\n",
       "    <tr>\n",
       "      <th>3</th>\n",
       "      <td>65+</td>\n",
       "      <td>1.825265</td>\n",
       "    </tr>\n",
       "  </tbody>\n",
       "</table>\n",
       "</div>"
      ],
      "text/plain": [
       "  AgeGroup  HospitalisationsAvoided\n",
       "0      0-5                 0.073957\n",
       "1    06-17                 0.162289\n",
       "2    18-64                 1.543517\n",
       "3      65+                 1.825265"
      ]
     },
     "execution_count": 65,
     "metadata": {},
     "output_type": "execute_result"
    }
   ],
   "source": [
    "age_group_2023_ham = pd.DataFrame({'AgeGroup': ['0-5','06-17','18-64','65+'],\n",
    "                    'HospitalisationsAvoided':[0.073957,0.162289,1.543517,1.825265]})\n",
    "age_group_2023_ham"
   ]
  },
  {
   "cell_type": "code",
   "execution_count": 66,
   "id": "ea8ac380-a93e-473d-9f71-74b17f50a42c",
   "metadata": {},
   "outputs": [
    {
     "data": {
      "text/plain": [
       "AgeGroup  HospitalisationsAvoided\n",
       "0-5       0.073957                   1\n",
       "06-17     0.162289                   1\n",
       "18-64     1.543517                   1\n",
       "65+       1.825265                   1\n",
       "Name: count, dtype: int64"
      ]
     },
     "execution_count": 66,
     "metadata": {},
     "output_type": "execute_result"
    }
   ],
   "source": [
    "age_group_2023_ham.value_counts(['AgeGroup', 'HospitalisationsAvoided'])"
   ]
  },
  {
   "cell_type": "code",
   "execution_count": 67,
   "id": "fafe524b-da80-4832-a728-7dd5a9b08c5f",
   "metadata": {},
   "outputs": [
    {
     "data": {
      "text/plain": [
       "AgeGroup\n",
       "0-5      25.0%\n",
       "06-17    25.0%\n",
       "18-64    25.0%\n",
       "65+      25.0%\n",
       "Name: proportion, dtype: object"
      ]
     },
     "execution_count": 67,
     "metadata": {},
     "output_type": "execute_result"
    }
   ],
   "source": [
    "age_group_2023_ham.AgeGroup.value_counts(normalize=True).mul(100).round(1).astype(str) + '%'"
   ]
  },
  {
   "cell_type": "code",
   "execution_count": 68,
   "id": "e89851a3-9a89-4500-b3cc-f772235b5f45",
   "metadata": {},
   "outputs": [
    {
     "data": {
      "text/plain": [
       "HospitalisationsAvoided\n",
       "0.073957    25.0%\n",
       "0.162289    25.0%\n",
       "1.543517    25.0%\n",
       "1.825265    25.0%\n",
       "Name: proportion, dtype: object"
      ]
     },
     "execution_count": 68,
     "metadata": {},
     "output_type": "execute_result"
    }
   ],
   "source": [
    "age_group_2023_ham.HospitalisationsAvoided.value_counts(normalize=True).mul(100).round(1).astype(str) + '%'"
   ]
  },
  {
   "cell_type": "markdown",
   "id": "1272a2a9-2640-4bf6-adaa-6bbc28d6ada1",
   "metadata": {},
   "source": [
    "# Hospitalisations Avoided by Age Group for Tower Hamlets"
   ]
  },
  {
   "cell_type": "code",
   "execution_count": 69,
   "id": "a99e24d3-2c99-4c5d-9c4d-4655525d3244",
   "metadata": {},
   "outputs": [
    {
     "data": {
      "text/html": [
       "<div>\n",
       "<style scoped>\n",
       "    .dataframe tbody tr th:only-of-type {\n",
       "        vertical-align: middle;\n",
       "    }\n",
       "\n",
       "    .dataframe tbody tr th {\n",
       "        vertical-align: top;\n",
       "    }\n",
       "\n",
       "    .dataframe thead th {\n",
       "        text-align: right;\n",
       "    }\n",
       "</style>\n",
       "<table border=\"1\" class=\"dataframe\">\n",
       "  <thead>\n",
       "    <tr style=\"text-align: right;\">\n",
       "      <th></th>\n",
       "      <th>AgeGroup</th>\n",
       "      <th>HospitalisationsAvoided</th>\n",
       "    </tr>\n",
       "  </thead>\n",
       "  <tbody>\n",
       "    <tr>\n",
       "      <th>0</th>\n",
       "      <td>0-5</td>\n",
       "      <td>0.001871</td>\n",
       "    </tr>\n",
       "    <tr>\n",
       "      <th>1</th>\n",
       "      <td>06-17</td>\n",
       "      <td>0.171025</td>\n",
       "    </tr>\n",
       "    <tr>\n",
       "      <th>2</th>\n",
       "      <td>18-64</td>\n",
       "      <td>1.371843</td>\n",
       "    </tr>\n",
       "    <tr>\n",
       "      <th>3</th>\n",
       "      <td>65+</td>\n",
       "      <td>1.334176</td>\n",
       "    </tr>\n",
       "  </tbody>\n",
       "</table>\n",
       "</div>"
      ],
      "text/plain": [
       "  AgeGroup  HospitalisationsAvoided\n",
       "0      0-5                 0.001871\n",
       "1    06-17                 0.171025\n",
       "2    18-64                 1.371843\n",
       "3      65+                 1.334176"
      ]
     },
     "execution_count": 69,
     "metadata": {},
     "output_type": "execute_result"
    }
   ],
   "source": [
    "age_group_2016_tow = pd.DataFrame({'AgeGroup': ['0-5','06-17','18-64','65+'],\n",
    "                    'HospitalisationsAvoided':[0.001871,0.171025,1.371843,1.334176]})\n",
    "age_group_2016_tow"
   ]
  },
  {
   "cell_type": "code",
   "execution_count": 70,
   "id": "4f8026e5-f960-420a-9c67-90fdf7fd5ad0",
   "metadata": {},
   "outputs": [
    {
     "data": {
      "text/plain": [
       "AgeGroup  HospitalisationsAvoided\n",
       "0-5       0.001871                   1\n",
       "06-17     0.171025                   1\n",
       "18-64     1.371843                   1\n",
       "65+       1.334176                   1\n",
       "Name: count, dtype: int64"
      ]
     },
     "execution_count": 70,
     "metadata": {},
     "output_type": "execute_result"
    }
   ],
   "source": [
    "age_group_2016_tow.value_counts(['AgeGroup', 'HospitalisationsAvoided'])"
   ]
  },
  {
   "cell_type": "code",
   "execution_count": 71,
   "id": "548a33d8-7e41-46b7-b3f4-8f692d137a43",
   "metadata": {},
   "outputs": [
    {
     "data": {
      "text/plain": [
       "AgeGroup\n",
       "0-5      25.0%\n",
       "06-17    25.0%\n",
       "18-64    25.0%\n",
       "65+      25.0%\n",
       "Name: proportion, dtype: object"
      ]
     },
     "execution_count": 71,
     "metadata": {},
     "output_type": "execute_result"
    }
   ],
   "source": [
    "age_group_2016_tow.AgeGroup.value_counts(normalize=True).mul(100).round(1).astype(str) + '%'"
   ]
  },
  {
   "cell_type": "code",
   "execution_count": 72,
   "id": "4ee22a97-3def-407d-937a-73d599d052cf",
   "metadata": {},
   "outputs": [
    {
     "data": {
      "text/plain": [
       "HospitalisationsAvoided\n",
       "0.001871    25.0%\n",
       "0.171025    25.0%\n",
       "1.371843    25.0%\n",
       "1.334176    25.0%\n",
       "Name: proportion, dtype: object"
      ]
     },
     "execution_count": 72,
     "metadata": {},
     "output_type": "execute_result"
    }
   ],
   "source": [
    "age_group_2016_tow.HospitalisationsAvoided.value_counts(normalize=True).mul(100).round(1).astype(str) + '%'"
   ]
  },
  {
   "cell_type": "code",
   "execution_count": 73,
   "id": "7b6567c2-a389-4b52-8992-d4e8c540ac81",
   "metadata": {},
   "outputs": [
    {
     "data": {
      "text/plain": [
       "HospitalisationsAvoided\n",
       "0.001871    25.0%\n",
       "0.171025    25.0%\n",
       "1.371843    25.0%\n",
       "1.334176    25.0%\n",
       "Name: proportion, dtype: object"
      ]
     },
     "execution_count": 73,
     "metadata": {},
     "output_type": "execute_result"
    }
   ],
   "source": [
    "age_group_2016_tow.HospitalisationsAvoided.value_counts(normalize=True).mul(100).round(1).astype(str) + '%'"
   ]
  },
  {
   "cell_type": "code",
   "execution_count": 74,
   "id": "29b0e68a-53d8-49e9-a3ea-4f50c559dcac",
   "metadata": {},
   "outputs": [
    {
     "data": {
      "text/html": [
       "<div>\n",
       "<style scoped>\n",
       "    .dataframe tbody tr th:only-of-type {\n",
       "        vertical-align: middle;\n",
       "    }\n",
       "\n",
       "    .dataframe tbody tr th {\n",
       "        vertical-align: top;\n",
       "    }\n",
       "\n",
       "    .dataframe thead th {\n",
       "        text-align: right;\n",
       "    }\n",
       "</style>\n",
       "<table border=\"1\" class=\"dataframe\">\n",
       "  <thead>\n",
       "    <tr style=\"text-align: right;\">\n",
       "      <th></th>\n",
       "      <th>AgeGroup</th>\n",
       "      <th>HospitalisationsAvoided</th>\n",
       "    </tr>\n",
       "  </thead>\n",
       "  <tbody>\n",
       "    <tr>\n",
       "      <th>0</th>\n",
       "      <td>0-5</td>\n",
       "      <td>0.079479</td>\n",
       "    </tr>\n",
       "    <tr>\n",
       "      <th>1</th>\n",
       "      <td>06-17</td>\n",
       "      <td>0.173250</td>\n",
       "    </tr>\n",
       "    <tr>\n",
       "      <th>2</th>\n",
       "      <td>18-64</td>\n",
       "      <td>1.381785</td>\n",
       "    </tr>\n",
       "    <tr>\n",
       "      <th>3</th>\n",
       "      <td>65+</td>\n",
       "      <td>1.354161</td>\n",
       "    </tr>\n",
       "  </tbody>\n",
       "</table>\n",
       "</div>"
      ],
      "text/plain": [
       "  AgeGroup  HospitalisationsAvoided\n",
       "0      0-5                 0.079479\n",
       "1    06-17                 0.173250\n",
       "2    18-64                 1.381785\n",
       "3      65+                 1.354161"
      ]
     },
     "execution_count": 74,
     "metadata": {},
     "output_type": "execute_result"
    }
   ],
   "source": [
    "age_group_2023_tow = pd.DataFrame({'AgeGroup': ['0-5','06-17','18-64','65+'],\n",
    "                    'HospitalisationsAvoided':[0.079479,0.17325,1.381785,1.354161]})\n",
    "age_group_2023_tow"
   ]
  },
  {
   "cell_type": "code",
   "execution_count": 75,
   "id": "cfdb7876-58bc-410f-a54d-27edf3aeeac1",
   "metadata": {},
   "outputs": [
    {
     "data": {
      "text/plain": [
       "AgeGroup  HospitalisationsAvoided\n",
       "0-5       0.079479                   1\n",
       "06-17     0.173250                   1\n",
       "18-64     1.381785                   1\n",
       "65+       1.354161                   1\n",
       "Name: count, dtype: int64"
      ]
     },
     "execution_count": 75,
     "metadata": {},
     "output_type": "execute_result"
    }
   ],
   "source": [
    "age_group_2023_tow.value_counts(['AgeGroup', 'HospitalisationsAvoided'])"
   ]
  },
  {
   "cell_type": "code",
   "execution_count": 76,
   "id": "69713d18-3ee2-4c25-b6f4-b0020e3c1bd0",
   "metadata": {},
   "outputs": [
    {
     "data": {
      "text/plain": [
       "AgeGroup\n",
       "0-5      25.0%\n",
       "06-17    25.0%\n",
       "18-64    25.0%\n",
       "65+      25.0%\n",
       "Name: proportion, dtype: object"
      ]
     },
     "execution_count": 76,
     "metadata": {},
     "output_type": "execute_result"
    }
   ],
   "source": [
    "age_group_2023_tow.AgeGroup.value_counts(normalize=True).mul(100).round(1).astype(str) + '%'"
   ]
  },
  {
   "cell_type": "code",
   "execution_count": 77,
   "id": "68dabd92-9007-4610-a740-c3905d3fe117",
   "metadata": {},
   "outputs": [
    {
     "data": {
      "text/plain": [
       "HospitalisationsAvoided\n",
       "0.079479    25.0%\n",
       "0.173250    25.0%\n",
       "1.381785    25.0%\n",
       "1.354161    25.0%\n",
       "Name: proportion, dtype: object"
      ]
     },
     "execution_count": 77,
     "metadata": {},
     "output_type": "execute_result"
    }
   ],
   "source": [
    "age_group_2023_tow.HospitalisationsAvoided.value_counts(normalize=True).mul(100).round(1).astype(str) + '%'"
   ]
  },
  {
   "cell_type": "markdown",
   "id": "683c31e6-989e-4d50-bccb-be383a7d24ba",
   "metadata": {},
   "source": [
    "# NHS Costs Avoided in Hammersmith and Fulham"
   ]
  },
  {
   "cell_type": "code",
   "execution_count": 78,
   "id": "cf481d86-0836-4513-b47c-3e92c016ea39",
   "metadata": {},
   "outputs": [
    {
     "data": {
      "text/html": [
       "<div>\n",
       "<style scoped>\n",
       "    .dataframe tbody tr th:only-of-type {\n",
       "        vertical-align: middle;\n",
       "    }\n",
       "\n",
       "    .dataframe tbody tr th {\n",
       "        vertical-align: top;\n",
       "    }\n",
       "\n",
       "    .dataframe thead th {\n",
       "        text-align: right;\n",
       "    }\n",
       "</style>\n",
       "<table border=\"1\" class=\"dataframe\">\n",
       "  <thead>\n",
       "    <tr style=\"text-align: right;\">\n",
       "      <th></th>\n",
       "      <th>NHS Costs Avoided in 2016 Hammersmith</th>\n",
       "      <th>£pounds</th>\n",
       "    </tr>\n",
       "  </thead>\n",
       "  <tbody>\n",
       "    <tr>\n",
       "      <th>0</th>\n",
       "      <td>childhood asthma</td>\n",
       "      <td>1458.81</td>\n",
       "    </tr>\n",
       "    <tr>\n",
       "      <th>1</th>\n",
       "      <td>adult asthma</td>\n",
       "      <td>914.26</td>\n",
       "    </tr>\n",
       "    <tr>\n",
       "      <th>2</th>\n",
       "      <td>dementia</td>\n",
       "      <td>3269.29</td>\n",
       "    </tr>\n",
       "    <tr>\n",
       "      <th>3</th>\n",
       "      <td>diabetes</td>\n",
       "      <td>11503.77</td>\n",
       "    </tr>\n",
       "    <tr>\n",
       "      <th>4</th>\n",
       "      <td>low birth weight</td>\n",
       "      <td>0.00</td>\n",
       "    </tr>\n",
       "    <tr>\n",
       "      <th>5</th>\n",
       "      <td>lung cancer</td>\n",
       "      <td>596.33</td>\n",
       "    </tr>\n",
       "  </tbody>\n",
       "</table>\n",
       "</div>"
      ],
      "text/plain": [
       "  NHS Costs Avoided in 2016 Hammersmith   £pounds\n",
       "0                      childhood asthma   1458.81\n",
       "1                          adult asthma    914.26\n",
       "2                              dementia   3269.29\n",
       "3                              diabetes  11503.77\n",
       "4                      low birth weight      0.00\n",
       "5                           lung cancer    596.33"
      ]
     },
     "execution_count": 78,
     "metadata": {},
     "output_type": "execute_result"
    }
   ],
   "source": [
    "costs_avoided_2016_ham = pd.DataFrame({'NHS Costs Avoided in 2016 Hammersmith':['childhood asthma', 'adult asthma', 'dementia', 'diabetes','low birth weight','lung cancer'],'£pounds':[1458.81, 914.26, 3269.29, 11503.77, 0.00, 596.33]})\n",
    "costs_avoided_2016_ham"
   ]
  },
  {
   "cell_type": "code",
   "execution_count": 79,
   "id": "e8e7dd0b-2fff-40d4-a66d-0ba2a4f24f0f",
   "metadata": {},
   "outputs": [
    {
     "data": {
      "text/html": [
       "<div>\n",
       "<style scoped>\n",
       "    .dataframe tbody tr th:only-of-type {\n",
       "        vertical-align: middle;\n",
       "    }\n",
       "\n",
       "    .dataframe tbody tr th {\n",
       "        vertical-align: top;\n",
       "    }\n",
       "\n",
       "    .dataframe thead th {\n",
       "        text-align: right;\n",
       "    }\n",
       "</style>\n",
       "<table border=\"1\" class=\"dataframe\">\n",
       "  <thead>\n",
       "    <tr style=\"text-align: right;\">\n",
       "      <th></th>\n",
       "      <th>NHS Costs Avoided in 2016 Hammersmith</th>\n",
       "      <th>£pounds</th>\n",
       "    </tr>\n",
       "  </thead>\n",
       "  <tbody>\n",
       "    <tr>\n",
       "      <th>4</th>\n",
       "      <td>low birth weight</td>\n",
       "      <td>0.00</td>\n",
       "    </tr>\n",
       "    <tr>\n",
       "      <th>5</th>\n",
       "      <td>lung cancer</td>\n",
       "      <td>596.33</td>\n",
       "    </tr>\n",
       "    <tr>\n",
       "      <th>1</th>\n",
       "      <td>adult asthma</td>\n",
       "      <td>914.26</td>\n",
       "    </tr>\n",
       "    <tr>\n",
       "      <th>0</th>\n",
       "      <td>childhood asthma</td>\n",
       "      <td>1458.81</td>\n",
       "    </tr>\n",
       "    <tr>\n",
       "      <th>2</th>\n",
       "      <td>dementia</td>\n",
       "      <td>3269.29</td>\n",
       "    </tr>\n",
       "    <tr>\n",
       "      <th>3</th>\n",
       "      <td>diabetes</td>\n",
       "      <td>11503.77</td>\n",
       "    </tr>\n",
       "  </tbody>\n",
       "</table>\n",
       "</div>"
      ],
      "text/plain": [
       "  NHS Costs Avoided in 2016 Hammersmith   £pounds\n",
       "4                      low birth weight      0.00\n",
       "5                           lung cancer    596.33\n",
       "1                          adult asthma    914.26\n",
       "0                      childhood asthma   1458.81\n",
       "2                              dementia   3269.29\n",
       "3                              diabetes  11503.77"
      ]
     },
     "execution_count": 79,
     "metadata": {},
     "output_type": "execute_result"
    }
   ],
   "source": [
    "costs_avoided_2016_ham.sort_values(by=['£pounds'],ascending=True,inplace=False)"
   ]
  },
  {
   "cell_type": "code",
   "execution_count": 80,
   "id": "8372c1a5-e2ab-4c2b-9856-53e022132884",
   "metadata": {},
   "outputs": [
    {
     "data": {
      "text/html": [
       "<div>\n",
       "<style scoped>\n",
       "    .dataframe tbody tr th:only-of-type {\n",
       "        vertical-align: middle;\n",
       "    }\n",
       "\n",
       "    .dataframe tbody tr th {\n",
       "        vertical-align: top;\n",
       "    }\n",
       "\n",
       "    .dataframe thead th {\n",
       "        text-align: right;\n",
       "    }\n",
       "</style>\n",
       "<table border=\"1\" class=\"dataframe\">\n",
       "  <thead>\n",
       "    <tr style=\"text-align: right;\">\n",
       "      <th></th>\n",
       "      <th>NHS Costs Avoided in 2023 Hammersmith</th>\n",
       "      <th>£pounds</th>\n",
       "    </tr>\n",
       "  </thead>\n",
       "  <tbody>\n",
       "    <tr>\n",
       "      <th>0</th>\n",
       "      <td>childhood asthma</td>\n",
       "      <td>1387.98</td>\n",
       "    </tr>\n",
       "    <tr>\n",
       "      <th>1</th>\n",
       "      <td>adult asthma</td>\n",
       "      <td>878.12</td>\n",
       "    </tr>\n",
       "    <tr>\n",
       "      <th>2</th>\n",
       "      <td>dementia</td>\n",
       "      <td>3072.12</td>\n",
       "    </tr>\n",
       "    <tr>\n",
       "      <th>3</th>\n",
       "      <td>diabetes</td>\n",
       "      <td>11087.60</td>\n",
       "    </tr>\n",
       "    <tr>\n",
       "      <th>4</th>\n",
       "      <td>low birth weight</td>\n",
       "      <td>0.00</td>\n",
       "    </tr>\n",
       "    <tr>\n",
       "      <th>5</th>\n",
       "      <td>lung cancer</td>\n",
       "      <td>633.25</td>\n",
       "    </tr>\n",
       "  </tbody>\n",
       "</table>\n",
       "</div>"
      ],
      "text/plain": [
       "  NHS Costs Avoided in 2023 Hammersmith   £pounds\n",
       "0                      childhood asthma   1387.98\n",
       "1                          adult asthma    878.12\n",
       "2                              dementia   3072.12\n",
       "3                              diabetes  11087.60\n",
       "4                      low birth weight      0.00\n",
       "5                           lung cancer    633.25"
      ]
     },
     "execution_count": 80,
     "metadata": {},
     "output_type": "execute_result"
    }
   ],
   "source": [
    "costs_avoided_2023_ham = pd.DataFrame({'NHS Costs Avoided in 2023 Hammersmith':['childhood asthma', 'adult asthma', 'dementia', 'diabetes','low birth weight','lung cancer'],'£pounds':[1387.98, 878.12, 3072.12, 11087.60, 0.00, 633.25]})\n",
    "costs_avoided_2023_ham"
   ]
  },
  {
   "cell_type": "code",
   "execution_count": 81,
   "id": "08c3a66e-1e81-42fb-a5f2-c062c558ef44",
   "metadata": {},
   "outputs": [
    {
     "data": {
      "text/html": [
       "<div>\n",
       "<style scoped>\n",
       "    .dataframe tbody tr th:only-of-type {\n",
       "        vertical-align: middle;\n",
       "    }\n",
       "\n",
       "    .dataframe tbody tr th {\n",
       "        vertical-align: top;\n",
       "    }\n",
       "\n",
       "    .dataframe thead th {\n",
       "        text-align: right;\n",
       "    }\n",
       "</style>\n",
       "<table border=\"1\" class=\"dataframe\">\n",
       "  <thead>\n",
       "    <tr style=\"text-align: right;\">\n",
       "      <th></th>\n",
       "      <th>NHS Costs Avoided in 2023 Hammersmith</th>\n",
       "      <th>£pounds</th>\n",
       "    </tr>\n",
       "  </thead>\n",
       "  <tbody>\n",
       "    <tr>\n",
       "      <th>4</th>\n",
       "      <td>low birth weight</td>\n",
       "      <td>0.00</td>\n",
       "    </tr>\n",
       "    <tr>\n",
       "      <th>5</th>\n",
       "      <td>lung cancer</td>\n",
       "      <td>633.25</td>\n",
       "    </tr>\n",
       "    <tr>\n",
       "      <th>1</th>\n",
       "      <td>adult asthma</td>\n",
       "      <td>878.12</td>\n",
       "    </tr>\n",
       "    <tr>\n",
       "      <th>0</th>\n",
       "      <td>childhood asthma</td>\n",
       "      <td>1387.98</td>\n",
       "    </tr>\n",
       "    <tr>\n",
       "      <th>2</th>\n",
       "      <td>dementia</td>\n",
       "      <td>3072.12</td>\n",
       "    </tr>\n",
       "    <tr>\n",
       "      <th>3</th>\n",
       "      <td>diabetes</td>\n",
       "      <td>11087.60</td>\n",
       "    </tr>\n",
       "  </tbody>\n",
       "</table>\n",
       "</div>"
      ],
      "text/plain": [
       "  NHS Costs Avoided in 2023 Hammersmith   £pounds\n",
       "4                      low birth weight      0.00\n",
       "5                           lung cancer    633.25\n",
       "1                          adult asthma    878.12\n",
       "0                      childhood asthma   1387.98\n",
       "2                              dementia   3072.12\n",
       "3                              diabetes  11087.60"
      ]
     },
     "execution_count": 81,
     "metadata": {},
     "output_type": "execute_result"
    }
   ],
   "source": [
    "costs_avoided_2023_ham.sort_values(by=['£pounds'],ascending=True,inplace=False)"
   ]
  },
  {
   "cell_type": "markdown",
   "id": "f61ef10a-8762-44c4-9604-08e1676288e2",
   "metadata": {},
   "source": [
    "# NHS Costs Avoided in Tower Hamlets"
   ]
  },
  {
   "cell_type": "code",
   "execution_count": 82,
   "id": "20951f12-063d-4fe1-ab1e-2fbd65e56913",
   "metadata": {},
   "outputs": [
    {
     "data": {
      "text/html": [
       "<div>\n",
       "<style scoped>\n",
       "    .dataframe tbody tr th:only-of-type {\n",
       "        vertical-align: middle;\n",
       "    }\n",
       "\n",
       "    .dataframe tbody tr th {\n",
       "        vertical-align: top;\n",
       "    }\n",
       "\n",
       "    .dataframe thead th {\n",
       "        text-align: right;\n",
       "    }\n",
       "</style>\n",
       "<table border=\"1\" class=\"dataframe\">\n",
       "  <thead>\n",
       "    <tr style=\"text-align: right;\">\n",
       "      <th></th>\n",
       "      <th>NHS Costs Avoided in 2016 Tower Ham</th>\n",
       "      <th>£pounds</th>\n",
       "    </tr>\n",
       "  </thead>\n",
       "  <tbody>\n",
       "    <tr>\n",
       "      <th>0</th>\n",
       "      <td>childhood asthma</td>\n",
       "      <td>1472.89</td>\n",
       "    </tr>\n",
       "    <tr>\n",
       "      <th>1</th>\n",
       "      <td>adult asthma</td>\n",
       "      <td>828.68</td>\n",
       "    </tr>\n",
       "    <tr>\n",
       "      <th>2</th>\n",
       "      <td>dementia</td>\n",
       "      <td>2540.35</td>\n",
       "    </tr>\n",
       "    <tr>\n",
       "      <th>3</th>\n",
       "      <td>diabetes</td>\n",
       "      <td>10103.83</td>\n",
       "    </tr>\n",
       "    <tr>\n",
       "      <th>4</th>\n",
       "      <td>low birth weight</td>\n",
       "      <td>0.00</td>\n",
       "    </tr>\n",
       "    <tr>\n",
       "      <th>5</th>\n",
       "      <td>lung cancer</td>\n",
       "      <td>473.95</td>\n",
       "    </tr>\n",
       "  </tbody>\n",
       "</table>\n",
       "</div>"
      ],
      "text/plain": [
       "  NHS Costs Avoided in 2016 Tower Ham   £pounds\n",
       "0                    childhood asthma   1472.89\n",
       "1                        adult asthma    828.68\n",
       "2                            dementia   2540.35\n",
       "3                            diabetes  10103.83\n",
       "4                    low birth weight      0.00\n",
       "5                         lung cancer    473.95"
      ]
     },
     "execution_count": 82,
     "metadata": {},
     "output_type": "execute_result"
    }
   ],
   "source": [
    "costs_avoided_2016_tow = pd.DataFrame({'NHS Costs Avoided in 2016 Tower Ham':['childhood asthma', 'adult asthma', 'dementia', 'diabetes','low birth weight','lung cancer'],'£pounds':[1472.89, 828.68, 2540.35, 10103.83, 0.00, 473.95]})\n",
    "costs_avoided_2016_tow"
   ]
  },
  {
   "cell_type": "code",
   "execution_count": 83,
   "id": "c8b0614d-c0f8-4bf1-8435-eb5688f83a02",
   "metadata": {},
   "outputs": [
    {
     "data": {
      "text/html": [
       "<div>\n",
       "<style scoped>\n",
       "    .dataframe tbody tr th:only-of-type {\n",
       "        vertical-align: middle;\n",
       "    }\n",
       "\n",
       "    .dataframe tbody tr th {\n",
       "        vertical-align: top;\n",
       "    }\n",
       "\n",
       "    .dataframe thead th {\n",
       "        text-align: right;\n",
       "    }\n",
       "</style>\n",
       "<table border=\"1\" class=\"dataframe\">\n",
       "  <thead>\n",
       "    <tr style=\"text-align: right;\">\n",
       "      <th></th>\n",
       "      <th>NHS Costs Avoided in 2016 Tower Ham</th>\n",
       "      <th>£pounds</th>\n",
       "    </tr>\n",
       "  </thead>\n",
       "  <tbody>\n",
       "    <tr>\n",
       "      <th>4</th>\n",
       "      <td>low birth weight</td>\n",
       "      <td>0.00</td>\n",
       "    </tr>\n",
       "    <tr>\n",
       "      <th>5</th>\n",
       "      <td>lung cancer</td>\n",
       "      <td>473.95</td>\n",
       "    </tr>\n",
       "    <tr>\n",
       "      <th>1</th>\n",
       "      <td>adult asthma</td>\n",
       "      <td>828.68</td>\n",
       "    </tr>\n",
       "    <tr>\n",
       "      <th>0</th>\n",
       "      <td>childhood asthma</td>\n",
       "      <td>1472.89</td>\n",
       "    </tr>\n",
       "    <tr>\n",
       "      <th>2</th>\n",
       "      <td>dementia</td>\n",
       "      <td>2540.35</td>\n",
       "    </tr>\n",
       "    <tr>\n",
       "      <th>3</th>\n",
       "      <td>diabetes</td>\n",
       "      <td>10103.83</td>\n",
       "    </tr>\n",
       "  </tbody>\n",
       "</table>\n",
       "</div>"
      ],
      "text/plain": [
       "  NHS Costs Avoided in 2016 Tower Ham   £pounds\n",
       "4                    low birth weight      0.00\n",
       "5                         lung cancer    473.95\n",
       "1                        adult asthma    828.68\n",
       "0                    childhood asthma   1472.89\n",
       "2                            dementia   2540.35\n",
       "3                            diabetes  10103.83"
      ]
     },
     "execution_count": 83,
     "metadata": {},
     "output_type": "execute_result"
    }
   ],
   "source": [
    "costs_avoided_2016_tow.sort_values(by=['£pounds'],ascending=True,inplace=False)"
   ]
  },
  {
   "cell_type": "code",
   "execution_count": 84,
   "id": "b66fac0d-5c5a-46c6-b4b5-2cb423736a6d",
   "metadata": {},
   "outputs": [
    {
     "data": {
      "text/html": [
       "<div>\n",
       "<style scoped>\n",
       "    .dataframe tbody tr th:only-of-type {\n",
       "        vertical-align: middle;\n",
       "    }\n",
       "\n",
       "    .dataframe tbody tr th {\n",
       "        vertical-align: top;\n",
       "    }\n",
       "\n",
       "    .dataframe thead th {\n",
       "        text-align: right;\n",
       "    }\n",
       "</style>\n",
       "<table border=\"1\" class=\"dataframe\">\n",
       "  <thead>\n",
       "    <tr style=\"text-align: right;\">\n",
       "      <th></th>\n",
       "      <th>NHS Costs Avoided in 2023 Tower Ham</th>\n",
       "      <th>£pounds</th>\n",
       "    </tr>\n",
       "  </thead>\n",
       "  <tbody>\n",
       "    <tr>\n",
       "      <th>0</th>\n",
       "      <td>childhood asthma</td>\n",
       "      <td>1374.11</td>\n",
       "    </tr>\n",
       "    <tr>\n",
       "      <th>1</th>\n",
       "      <td>adult asthma</td>\n",
       "      <td>788.06</td>\n",
       "    </tr>\n",
       "    <tr>\n",
       "      <th>2</th>\n",
       "      <td>dementia</td>\n",
       "      <td>2232.62</td>\n",
       "    </tr>\n",
       "    <tr>\n",
       "      <th>3</th>\n",
       "      <td>diabetes</td>\n",
       "      <td>9580.45</td>\n",
       "    </tr>\n",
       "    <tr>\n",
       "      <th>4</th>\n",
       "      <td>low birth weight</td>\n",
       "      <td>0.00</td>\n",
       "    </tr>\n",
       "    <tr>\n",
       "      <th>5</th>\n",
       "      <td>lung cancer</td>\n",
       "      <td>490.79</td>\n",
       "    </tr>\n",
       "  </tbody>\n",
       "</table>\n",
       "</div>"
      ],
      "text/plain": [
       "  NHS Costs Avoided in 2023 Tower Ham  £pounds\n",
       "0                    childhood asthma  1374.11\n",
       "1                        adult asthma   788.06\n",
       "2                            dementia  2232.62\n",
       "3                            diabetes  9580.45\n",
       "4                    low birth weight     0.00\n",
       "5                         lung cancer   490.79"
      ]
     },
     "execution_count": 84,
     "metadata": {},
     "output_type": "execute_result"
    }
   ],
   "source": [
    "costs_avoided_2023_tow = pd.DataFrame({'NHS Costs Avoided in 2023 Tower Ham':['childhood asthma', 'adult asthma', 'dementia', 'diabetes','low birth weight','lung cancer'],'£pounds':[1374.11, 788.06, 2232.62, 9580.45, 0.00, 490.79]})\n",
    "costs_avoided_2023_tow"
   ]
  },
  {
   "cell_type": "code",
   "execution_count": 85,
   "id": "f7ae3299-73fc-4f27-a843-d8fb53169494",
   "metadata": {},
   "outputs": [
    {
     "data": {
      "text/html": [
       "<div>\n",
       "<style scoped>\n",
       "    .dataframe tbody tr th:only-of-type {\n",
       "        vertical-align: middle;\n",
       "    }\n",
       "\n",
       "    .dataframe tbody tr th {\n",
       "        vertical-align: top;\n",
       "    }\n",
       "\n",
       "    .dataframe thead th {\n",
       "        text-align: right;\n",
       "    }\n",
       "</style>\n",
       "<table border=\"1\" class=\"dataframe\">\n",
       "  <thead>\n",
       "    <tr style=\"text-align: right;\">\n",
       "      <th></th>\n",
       "      <th>NHS Costs Avoided in 2023 Tower Ham</th>\n",
       "      <th>£pounds</th>\n",
       "    </tr>\n",
       "  </thead>\n",
       "  <tbody>\n",
       "    <tr>\n",
       "      <th>4</th>\n",
       "      <td>low birth weight</td>\n",
       "      <td>0.00</td>\n",
       "    </tr>\n",
       "    <tr>\n",
       "      <th>5</th>\n",
       "      <td>lung cancer</td>\n",
       "      <td>490.79</td>\n",
       "    </tr>\n",
       "    <tr>\n",
       "      <th>1</th>\n",
       "      <td>adult asthma</td>\n",
       "      <td>788.06</td>\n",
       "    </tr>\n",
       "    <tr>\n",
       "      <th>0</th>\n",
       "      <td>childhood asthma</td>\n",
       "      <td>1374.11</td>\n",
       "    </tr>\n",
       "    <tr>\n",
       "      <th>2</th>\n",
       "      <td>dementia</td>\n",
       "      <td>2232.62</td>\n",
       "    </tr>\n",
       "    <tr>\n",
       "      <th>3</th>\n",
       "      <td>diabetes</td>\n",
       "      <td>9580.45</td>\n",
       "    </tr>\n",
       "  </tbody>\n",
       "</table>\n",
       "</div>"
      ],
      "text/plain": [
       "  NHS Costs Avoided in 2023 Tower Ham  £pounds\n",
       "4                    low birth weight     0.00\n",
       "5                         lung cancer   490.79\n",
       "1                        adult asthma   788.06\n",
       "0                    childhood asthma  1374.11\n",
       "2                            dementia  2232.62\n",
       "3                            diabetes  9580.45"
      ]
     },
     "execution_count": 85,
     "metadata": {},
     "output_type": "execute_result"
    }
   ],
   "source": [
    "costs_avoided_2023_tow.sort_values(by=['£pounds'],ascending=True,inplace=False)"
   ]
  },
  {
   "cell_type": "markdown",
   "id": "c8d42157-cefe-4caf-9fc7-649f58257853",
   "metadata": {},
   "source": [
    "# Data Visualisations "
   ]
  },
  {
   "cell_type": "code",
   "execution_count": 86,
   "id": "788132f2-f0d0-45b8-9821-382674380bcc",
   "metadata": {},
   "outputs": [],
   "source": [
    "# 95CL used due to negatives values some areas have been rounded to X2DP. "
   ]
  },
  {
   "cell_type": "code",
   "execution_count": 87,
   "id": "196c3a44-7b39-4141-9ca1-14ea92ded089",
   "metadata": {},
   "outputs": [
    {
     "data": {
      "text/plain": [
       "<matplotlib.legend.Legend at 0x134eb8ad0>"
      ]
     },
     "execution_count": 87,
     "metadata": {},
     "output_type": "execute_result"
    },
    {
     "data": {
      "image/png": "[encoded data removed]",
      "text/plain": [
       "<Figure size 640x480 with 1 Axes>"
      ]
     },
     "metadata": {},
     "output_type": "display_data"
    }
   ],
   "source": [
    "import matplotlib.pyplot as plt\n",
    "\n",
    "# Total Hospitalisations Avoided in Hammersmith and Fulham in 2016 and 2023\n",
    "\n",
    "Total_Conditions_2016 = [0.171604, 0.444569, 1.788922]\n",
    "Total_Conditions_2023 = [0.16485, 0.42317, 1.89977]\n",
    "index = ['Adult Asthma','Childhood Asthma', 'Lung Cancer']\n",
    "df = pd.DataFrame({'2016': Total_Conditions_2016,'2023': Total_Conditions_2023}, index=index)\n",
    "ax = df.plot.barh()\n",
    "\n",
    "plt.title('Total Hospitalisations Avoided Hammersmith and Fulham in 2016 and 2023')\n",
    "plt.ylabel('Conditons')\n",
    "plt.xlabel('Total Costs Avoided')\n",
    "plt.legend()"
   ]
  },
  {
   "cell_type": "code",
   "execution_count": 88,
   "id": "934293d6-7229-4510-8359-3b8802de50de",
   "metadata": {},
   "outputs": [
    {
     "data": {
      "text/plain": [
       "<matplotlib.legend.Legend at 0x135106e70>"
      ]
     },
     "execution_count": 88,
     "metadata": {},
     "output_type": "execute_result"
    },
    {
     "data": {
      "image/png": "[encoded data removed]",
      "text/plain": [
       "<Figure size 640x480 with 1 Axes>"
      ]
     },
     "metadata": {},
     "output_type": "display_data"
    }
   ],
   "source": [
    "import matplotlib.pyplot as plt\n",
    "\n",
    "# Total Hospitalisations Avoided in Tower Hamlets in 2016 and 2023\n",
    "\n",
    "Total_Conditions_2016 = [1.421717, 0.447846, 0.155088]\n",
    "Total_Conditions_2023 = [1.472277, 0.418027, 0.147502]\n",
    "index = ['Lung Cancer','Childhood Asthma', 'Adult Asthma']\n",
    "df = pd.DataFrame({'2016': Total_Conditions_2016,'2023': Total_Conditions_2023}, index=index)\n",
    "ax = df.plot.barh()\n",
    "\n",
    "plt.title('Total Hospitalisations Avoided Tower Hamlets in 2016 and 2023')\n",
    "plt.ylabel('Conditons')\n",
    "plt.xlabel('Total Costs Avoided')\n",
    "plt.legend()"
   ]
  },
  {
   "cell_type": "code",
   "execution_count": 89,
   "id": "0950fb89-703d-47e1-ac33-2f5dd25dc31b",
   "metadata": {},
   "outputs": [
    {
     "data": {
      "text/plain": [
       "<matplotlib.legend.Legend at 0x134ede810>"
      ]
     },
     "execution_count": 89,
     "metadata": {},
     "output_type": "execute_result"
    },
    {
     "data": {
      "image/png": "[encoded data removed]",
      "text/plain": [
       "<Figure size 640x480 with 1 Axes>"
      ]
     },
     "metadata": {},
     "output_type": "display_data"
    }
   ],
   "source": [
    "import matplotlib.pyplot as plt\n",
    "\n",
    "# NHS Costs Avoided for years 2016 and 2023 against Conditions/Diseases in Hammersmith and Fulham\n",
    "\n",
    "Costs_Avoided_2016 = [0.00,596.33, 914.26, 3269.29, 1458.81, 11503.77]\n",
    "Costs_Avoided_2023 = [0.00, 633.25, 878.12, 3072.12, 1387.98, 11087.60]\n",
    "index = ['Low Birth Weight','Lung Cancer','Adult Asthma','Dementia','Childhood Asthma', 'Diabetes' ]\n",
    "df = pd.DataFrame({'2016': Costs_Avoided_2016,'2023': Costs_Avoided_2023}, index=index)\n",
    "ax = df.plot.barh()\n",
    "\n",
    "plt.title('NHS Costs Avoided Hammersmith and Fulham in 2016 and 2023')\n",
    "plt.ylabel('Conditons')\n",
    "plt.xlabel('Total Costs Avoided')\n",
    "plt.legend()"
   ]
  },
  {
   "cell_type": "code",
   "execution_count": 90,
   "id": "cd457949-3e7d-487d-a841-e23779b60bec",
   "metadata": {},
   "outputs": [
    {
     "data": {
      "text/plain": [
       "<matplotlib.legend.Legend at 0x1351007a0>"
      ]
     },
     "execution_count": 90,
     "metadata": {},
     "output_type": "execute_result"
    },
    {
     "data": {
      "image/png": "[encoded data removed]",
      "text/plain": [
       "<Figure size 640x480 with 1 Axes>"
      ]
     },
     "metadata": {},
     "output_type": "display_data"
    }
   ],
   "source": [
    "import matplotlib.pyplot as plt\n",
    "\n",
    "# NHS Costs Avoided for years 2016 and 2023 avoided against Conditions/Diseases in Tower Hamlets\n",
    "\n",
    "NHS_Costs_Avoided_2016 = [0.00, 473.95, 2540.35,828.68, 1472.89, 10103.83]\n",
    "NHS_Costs_Avoided_2023 = [0.00, 490.79, 2232.62, 788.06,1374.11, 9580.45]\n",
    "index = ['Low Birth Weight','Lung Cancer', 'Dementia','Adult Asthma', 'Childhood Asthma', 'Diabetes' ]\n",
    "df = pd.DataFrame({'2016': NHS_Costs_Avoided_2016,'2023': NHS_Costs_Avoided_2023}, index=index)\n",
    "ax = df.plot.barh()\n",
    "\n",
    "plt.title('Total NHS Costs Avoided Tower Hamlets in 2016 and 2023')\n",
    "plt.ylabel('Conditons')\n",
    "plt.xlabel('Total NHS Costs Avoided')\n",
    "plt.legend()"
   ]
  },
  {
   "cell_type": "code",
   "execution_count": 91,
   "id": "2c51586e-0482-49f5-a804-17e5c2af0c98",
   "metadata": {},
   "outputs": [
    {
     "data": {
      "text/plain": [
       "Text(0.5, 1.0, 'Hospitalisations Avoided by AgeGroup Hammersmith and Fulham in 2016')"
      ]
     },
     "execution_count": 91,
     "metadata": {},
     "output_type": "execute_result"
    },
    {
     "data": {
      "image/png": "[encoded data removed]",
      "text/plain": [
       "<Figure size 640x480 with 1 Axes>"
      ]
     },
     "metadata": {},
     "output_type": "display_data"
    }
   ],
   "source": [
    "import matplotlib.pyplot as plt\n",
    "\n",
    "# NHS Costs avoided against AgeGroups in Hammersmith and Fulham 2016\n",
    "# figures were converted from decimal to % then rounded to X1DP\n",
    "\n",
    "labels = '0-5', '06-17', '18-64', '65+'\n",
    "sizes = [7.4, 16.23, 154.4, 183.5]\n",
    "\n",
    "fig, ax = plt.subplots()\n",
    "ax.pie(sizes, labels=labels, colors=(['crimson', 'lightgreen', 'yellow', 'darkcyan']))\n",
    "plt.title('Hospitalisations Avoided by AgeGroup Hammersmith and Fulham in 2016')"
   ]
  },
  {
   "cell_type": "code",
   "execution_count": 92,
   "id": "d4f79989-87d4-44cb-a4a7-5cd294b47b07",
   "metadata": {},
   "outputs": [
    {
     "data": {
      "text/plain": [
       "Text(0.5, 1.0, 'Hospitalisations Avoided by AgeGroup Hammersmith and Fulham in 2023')"
      ]
     },
     "execution_count": 92,
     "metadata": {},
     "output_type": "execute_result"
    },
    {
     "data": {
      "image/png": "[encoded data removed]",
      "text/plain": [
       "<Figure size 640x480 with 1 Axes>"
      ]
     },
     "metadata": {},
     "output_type": "display_data"
    }
   ],
   "source": [
    "import matplotlib.pyplot as plt\n",
    "\n",
    "# NHS Costs avoided against AgeGroups in Hammersmith and Fulham 2023\n",
    "# figures were converted from decimal to % then rounded to X1DP\n",
    "\n",
    "labels = '0-5', '06-17', '18-64', '65+'\n",
    "sizes = [39.7, 56.8, 164.4, 181.4]\n",
    "\n",
    "fig, ax = plt.subplots()\n",
    "ax.pie(sizes, labels=labels, colors=(['crimson', 'lightgreen', 'yellow', 'darkcyan']))\n",
    "plt.title('Hospitalisations Avoided by AgeGroup Hammersmith and Fulham in 2023')"
   ]
  },
  {
   "cell_type": "code",
   "execution_count": 93,
   "id": "0a26664b-9992-4d58-acb9-6f0af523c032",
   "metadata": {},
   "outputs": [
    {
     "data": {
      "text/plain": [
       "Text(0.5, 1.0, 'Hospitalisations Avoided by AgeGroup Tower Hamlets in 2016')"
      ]
     },
     "execution_count": 93,
     "metadata": {},
     "output_type": "execute_result"
    },
    {
     "data": {
      "image/png": "[encoded data removed]",
      "text/plain": [
       "<Figure size 640x480 with 1 Axes>"
      ]
     },
     "metadata": {},
     "output_type": "display_data"
    }
   ],
   "source": [
    "import matplotlib.pyplot as plt\n",
    "\n",
    "# NHS Costs avoided against AgeGroups in Tower Hamlets 2016\n",
    "# figures were converted from decimal to % then rounded to X1DP\n",
    "\n",
    "labels = '0-5', '06-17', '18-64', '65+'\n",
    "sizes = [0.2, 17.1, 137.2, 133.4]\n",
    "\n",
    "fig, ax = plt.subplots()\n",
    "ax.pie(sizes, labels=labels, colors=(['crimson', 'lightgreen', 'orange', 'darkcyan']))\n",
    "plt.title('Hospitalisations Avoided by AgeGroup Tower Hamlets in 2016')"
   ]
  },
  {
   "cell_type": "code",
   "execution_count": 94,
   "id": "04a68c2e-e14d-4716-81d7-22f92e763fcc",
   "metadata": {},
   "outputs": [
    {
     "data": {
      "text/plain": [
       "Text(0.5, 1.0, 'Hospitalisations Avoided by AgeGroup Tower Hamlets in 2023')"
      ]
     },
     "execution_count": 94,
     "metadata": {},
     "output_type": "execute_result"
    },
    {
     "data": {
      "image/png": "[encoded data removed]",
      "text/plain": [
       "<Figure size 640x480 with 1 Axes>"
      ]
     },
     "metadata": {},
     "output_type": "display_data"
    }
   ],
   "source": [
    "import matplotlib.pyplot as plt\n",
    "\n",
    "# NHS Costs avoided against AgeGroups in Tower Hamlets 2023\n",
    "# figures were converted from decimal to % then rounded to X1DP\n",
    "\n",
    "labels = '0-5', '06-17', '18-64', '65+'\n",
    "sizes = [38.3, 12.9, 135.8, 53.6]\n",
    "\n",
    "fig, ax = plt.subplots()\n",
    "ax.pie(sizes, labels=labels, colors=(['crimson', 'lightgreen', 'orange', 'darkcyan']))\n",
    "plt.title('Hospitalisations Avoided by AgeGroup Tower Hamlets in 2023')"
   ]
  },
  {
   "cell_type": "code",
   "execution_count": 95,
   "id": "d21ac0ae-62e2-4f1b-9361-f43f51f98a61",
   "metadata": {},
   "outputs": [
    {
     "data": {
      "image/png": "[encoded data removed]",
      "text/plain": [
       "<Figure size 640x480 with 1 Axes>"
      ]
     },
     "metadata": {},
     "output_type": "display_data"
    }
   ],
   "source": [
    "import matplotlib.pyplot as plt\n",
    "\n",
    "# Taken from the filtered data Mean and Median no. Hospitalisations Avoided in 2016 for both boroughs has been rounded to X2DP\n",
    "\n",
    "fig, ax = plt.subplots()\n",
    "\n",
    "boroughs = ['H-Mean', 'H-Median', 'T-Mean', 'T-Median']\n",
    "counts =   [0.64, 0.09, 0.46, 0.04]\n",
    "bar_labels = ['Ham 16', 'Ham 16','Tow 16', 'Tow 16']\n",
    "bar_colors = ['tab:red', 'tab:blue', 'tab:red', 'tab:blue']\n",
    "\n",
    "ax.bar(boroughs, counts, label=bar_labels, color=bar_colors)\n",
    "\n",
    "ax.set_ylabel('Mean and Median')\n",
    "ax.set_xlabel('Boroughs')\n",
    "ax.set_title('Mean and Median Hospitalisations in 2016')\n",
    "\n",
    "plt.show()"
   ]
  },
  {
   "cell_type": "code",
   "execution_count": 96,
   "id": "e27abb53-718d-4820-9abb-d82783d5cd11",
   "metadata": {},
   "outputs": [
    {
     "data": {
      "image/png": "[encoded data removed]",
      "text/plain": [
       "<Figure size 640x480 with 1 Axes>"
      ]
     },
     "metadata": {},
     "output_type": "display_data"
    }
   ],
   "source": [
    "import matplotlib.pyplot as plt\n",
    "\n",
    "# Taken from the filtered data Mean and Median no. Hospitalisations Avoided in 2023 has been rounded to X2DP\n",
    "\n",
    "fig, ax = plt.subplots()\n",
    "\n",
    "boroughs = ['H-Mean', 'H-Median', 'T-Mean', 'T-Median']\n",
    "counts = [2.37, 0.56, 1.82, 0.47]\n",
    "bar_labels = ['Ham 23', 'Ham 23','Tow 23', 'Tow 23']\n",
    "bar_colors = ['tab:red', 'tab:blue', 'tab:red', 'tab:blue']\n",
    "\n",
    "ax.bar(boroughs, counts, label=bar_labels, color=bar_colors)\n",
    "\n",
    "ax.set_ylabel('Mean and Median')\n",
    "ax.set_xlabel('Boroughs')\n",
    "ax.set_title('Mean and Median Hospitalisations in 2023')\n",
    "\n",
    "plt.show()"
   ]
  },
  {
   "cell_type": "code",
   "execution_count": 97,
   "id": "e9af2131-0ab5-410d-ad5b-da4926aa396c",
   "metadata": {},
   "outputs": [
    {
     "data": {
      "image/png": "[encoded data removed]",
      "text/plain": [
       "<Figure size 640x480 with 1 Axes>"
      ]
     },
     "metadata": {},
     "output_type": "display_data"
    }
   ],
   "source": [
    "import matplotlib.pyplot as plt\n",
    "\n",
    "# Taken from the filtered data Standard Deviation no. Hospitalisations Avoided in 2016 has been rounded to X2DP\n",
    "\n",
    "fig, ax = plt.subplots()\n",
    "\n",
    "boroughs = ['Ham 2016', 'Ham 2023', 'Tow 2016', 'Tow 2023']\n",
    "counts = [1.53, 5.00, 1.07, 3.87]\n",
    "bar_labels = ['Ham 16', 'Ham 23','Tow 16', 'Tow 23']\n",
    "bar_colors = ['tab:red', 'tab:blue', 'tab:red', 'tab:blue']\n",
    "\n",
    "ax.bar(boroughs, counts, label=bar_labels, color=bar_colors)\n",
    "\n",
    "ax.set_ylabel('Standard Deviation')\n",
    "ax.set_xlabel('Boroughs')\n",
    "ax.set_title('Standard Deviation Hospitalisations in 2016-2023')\n",
    "\n",
    "plt.show()"
   ]
  },
  {
   "cell_type": "code",
   "execution_count": null,
   "id": "b2a69643-e66a-4ad0-a6b3-30d0dfa25946",
   "metadata": {},
   "outputs": [],
   "source": []
  }
 ],
 "metadata": {
  "kernelspec": {
   "display_name": "Python 3 (ipykernel)",
   "language": "python",
   "name": "python3"
  },
  "language_info": {
   "codemirror_mode": {
    "name": "ipython",
    "version": 3
   },
   "file_extension": ".py",
   "mimetype": "text/x-python",
   "name": "python",
   "nbconvert_exporter": "python",
   "pygments_lexer": "ipython3",
   "version": "3.12.0"
  }
 },
 "nbformat": 4,
 "nbformat_minor": 5
}
